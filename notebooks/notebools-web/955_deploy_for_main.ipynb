{
 "cells": [
  {
   "cell_type": "markdown",
   "metadata": {},
   "source": [
    "# template から HTML と JS を生成する\n"
   ]
  },
  {
   "cell_type": "code",
   "execution_count": 1,
   "metadata": {},
   "outputs": [],
   "source": [
    "import os\n",
    "from pathlib import Path\n",
    "import json\n",
    "import gzip\n",
    "from collections import defaultdict\n",
    "\n",
    "import numpy as np\n",
    "import pandas as pd"
   ]
  },
  {
   "cell_type": "code",
   "execution_count": 2,
   "metadata": {},
   "outputs": [
    {
     "name": "stdout",
     "output_type": "stream",
     "text": [
      "/mnt/c/Users/akihi/Documents/GitHub/TSUMUGI-dev/notebooks/notebools-web\n",
      "/mnt/c/Users/akihi/Documents/GitHub/TSUMUGI-dev\n"
     ]
    }
   ],
   "source": [
    "# Move up to top directory\n",
    "\n",
    "print(os.getcwd())\n",
    "\n",
    "while not Path(\"LICENSE\").exists():\n",
    "    os.chdir(\"../\")\n",
    "\n",
    "print(os.getcwd())"
   ]
  },
  {
   "cell_type": "markdown",
   "metadata": {},
   "source": [
    "# 古いファイルの消去\n"
   ]
  },
  {
   "cell_type": "code",
   "execution_count": 3,
   "metadata": {},
   "outputs": [],
   "source": [
    "%%bash\n",
    "\n",
    "rm -rf TSUMUGI/data\n",
    "rm -rf TSUMUGI/app\n",
    "# 10 sec"
   ]
  },
  {
   "cell_type": "code",
   "execution_count": 4,
   "metadata": {},
   "outputs": [],
   "source": [
    "%%bash\n",
    "\n",
    "mkdir -p TSUMUGI/data/phenotype\n",
    "mkdir -p TSUMUGI/data/genesymbol\n",
    "mkdir -p TSUMUGI/app/phenotype\n",
    "mkdir -p TSUMUGI/app/genesymbol\n",
    "mkdir -p TSUMUGI/app/genelist/\n",
    "\n",
    "cp -r TSUMUGI/template/css TSUMUGI/app/ # copy app's CSS\n",
    "cp -r TSUMUGI/template/js TSUMUGI/app/ # copy app's JS\n"
   ]
  },
  {
   "cell_type": "markdown",
   "metadata": {},
   "source": [
    "## index.html の描画に必要なファイルを生成する\n"
   ]
  },
  {
   "cell_type": "code",
   "execution_count": 3,
   "metadata": {},
   "outputs": [],
   "source": [
    "mp_terms = {}\n",
    "for path_mp_term in Path(\"data\", \"mp_term_name\").glob(\"*.csv\"):\n",
    "    mp_term = path_mp_term.stem\n",
    "    if not Path(\"data\", \"network\", \"mp_term_name\", f\"{mp_term}.json.gz\").exists():\n",
    "        continue\n",
    "    mp_term_name_space = mp_term.replace(\"_\", \" \")\n",
    "    mp_terms[mp_term_name_space] = mp_term"
   ]
  },
  {
   "cell_type": "code",
   "execution_count": 4,
   "metadata": {},
   "outputs": [
    {
     "name": "stdout",
     "output_type": "stream",
     "text": [
      "[]\n",
      "0\n"
     ]
    }
   ],
   "source": [
    "print(list(mp_terms)[:3])\n",
    "print(len(mp_terms))  # 515"
   ]
  },
  {
   "cell_type": "code",
   "execution_count": null,
   "metadata": {},
   "outputs": [],
   "source": [
    "json.dump(mp_terms, open(\"data/overlap/available_mp_terms.json\", \"w\"), indent=2)\n",
    "pd.DataFrame(mp_terms.keys()).to_csv(\n",
    "    \"data/overlap/available_mp_terms.txt\", index=False, header=False\n",
    ")"
   ]
  },
  {
   "cell_type": "code",
   "execution_count": null,
   "metadata": {},
   "outputs": [],
   "source": []
  },
  {
   "cell_type": "code",
   "execution_count": null,
   "metadata": {},
   "outputs": [],
   "source": [
    "%%bash\n",
    "\n",
    "cp data/overlap/available_mp_terms.json TSUMUGI/data/available_mp_terms.json\n",
    "cp data/overlap/available_mp_terms.txt TSUMUGI/data/available_mp_terms.txt\n",
    "cp data/overlap/available_gene_symbols.txt TSUMUGI/data/available_gene_symbols.txt\n",
    "cp data/annotation/symbol_mgiid.json TSUMUGI/data/marker_symbol_accession_id.json\n"
   ]
  },
  {
   "cell_type": "markdown",
   "metadata": {},
   "source": [
    "## index.html を生成\n"
   ]
  },
  {
   "cell_type": "code",
   "execution_count": 9,
   "metadata": {},
   "outputs": [],
   "source": [
    "%%bash\n",
    "\n",
    "grep -v \"REMOVE_THIS_LINE\" TSUMUGI/template/template_index.html > TSUMUGI/index.html"
   ]
  },
  {
   "cell_type": "markdown",
   "metadata": {},
   "source": [
    "# JSON のコピー\n"
   ]
  },
  {
   "cell_type": "code",
   "execution_count": 10,
   "metadata": {},
   "outputs": [],
   "source": [
    "%%bash\n",
    "\n",
    "cp -r data/network/mp_term_name/* TSUMUGI/data/phenotype\n",
    "cp -r data/network/gene_symbol/* TSUMUGI/data/genesymbol\n",
    "\n",
    "# 1m30s"
   ]
  },
  {
   "cell_type": "code",
   "execution_count": 11,
   "metadata": {},
   "outputs": [
    {
     "name": "stdout",
     "output_type": "stream",
     "text": [
      "517\n",
      "4139\n"
     ]
    }
   ],
   "source": [
    "%%bash\n",
    "\n",
    "ls TSUMUGI/data/phenotype | wc -l\n",
    "ls TSUMUGI/data/genesymbol | wc -l\n",
    "# TSUMUGI v0.1.3 (IMPC Release 22.0) 517, 4139\n",
    "# TSUMUGI v0.2.1 (IMPC Release 22.1) 517, 4139"
   ]
  },
  {
   "cell_type": "markdown",
   "metadata": {},
   "source": [
    "# Template から HTML と JS を生成\n"
   ]
  },
  {
   "cell_type": "code",
   "execution_count": null,
   "metadata": {},
   "outputs": [
    {
     "name": "stdout",
     "output_type": "stream",
     "text": [
      "154\n",
      "['abnormal_abdominal_wall_morphology ', 'abnormal_adrenal_gland_morphology ', 'abnormal_allantois_morphology ']\n"
     ]
    },
    {
     "data": {
      "text/plain": [
       "3761"
      ]
     },
     "execution_count": 12,
     "metadata": {},
     "output_type": "execute_result"
    }
   ],
   "source": [
    "path_files = Path(\"TSUMUGI\", \"data\", \"phenotype\").glob(\"*.json.gz\")\n",
    "binary_phenotypes = []\n",
    "for path_file in path_files:\n",
    "    mp_term_name = path_file.name.replace(\".json.gz\", \" \")\n",
    "    with gzip.open(path_file, \"rt\") as f:\n",
    "        json_data: list[dict] = json.load(f)\n",
    "\n",
    "    count_node_color = defaultdict(int)\n",
    "    for data in json_data:\n",
    "        if \"node_color\" not in data[\"data\"]:\n",
    "            continue\n",
    "        count_node_color[data[\"data\"][\"node_color\"]] += 1\n",
    "    if len(count_node_color) == 1 and 1 in count_node_color:\n",
    "        binary_phenotypes.append(mp_term_name)\n",
    "\n",
    "print(len(binary_phenotypes))\n",
    "print(binary_phenotypes[:3])\n",
    "Path(\"data\", \"annotation\", \"binary_phenotypes.txt\").write_text(\n",
    "    \"\\n\".join(binary_phenotypes)\n",
    ")"
   ]
  },
  {
   "cell_type": "code",
   "execution_count": 13,
   "metadata": {},
   "outputs": [],
   "source": [
    "%%bash\n",
    "\n",
    "########################################\n",
    "# Phenotype\n",
    "########################################\n",
    "\n",
    "\n",
    "find data/mp_term_name -type f |\n",
    "    sed \"s|data/mp_term_name/||\" |\n",
    "    sed \"s|.csv$||\" |\n",
    "    while read -r mp_term_name_underscore; do\n",
    "        mp_term_name_space=$(echo \"$mp_term_name_underscore\" | sed \"s|_| |g\")\n",
    "\n",
    "        # もしTSUMUGI/data/phenotype/にファイルがない場合はスキップ\n",
    "        if [ ! -e TSUMUGI/data/phenotype/\"$mp_term_name_underscore\".json.gz ]; then\n",
    "            continue\n",
    "        fi\n",
    "\n",
    "        impc_url=$(awk -F \"\\t\" -v mp=\"$mp_term_name_space\" '$1 == mp {print $2}' data/annotation/mptermname_phenotypeurl.tsv)\n",
    "        escaped_url=$(echo \"$impc_url\" | sed 's/\\//\\\\\\//g')\n",
    "        # --------------------------\n",
    "        # HTML\n",
    "        # --------------------------\n",
    "        # すべての効果量が１の場合、表現型の重症度でのフィルターを削除\n",
    "        if grep -q \"^$mp_term_name_underscore\" data/annotation/binary_phenotypes.txt; then\n",
    "            cat TSUMUGI/template/phenotype/template_network_phenotype.html |\n",
    "                sed '/REMOVE_FROM_THIS_LINE/,/REMOVE_TO_THIS_LINE/d' |\n",
    "                grep -v \"REMOVE_THIS_LINE\" |\n",
    "                sed \"s|XXX_impc_url|${escaped_url}|g\" |\n",
    "                sed \"s|XXX_mp_term_name_space|${mp_term_name_space}|g\" |\n",
    "                sed \"s|XXX_mp_term_name_underscore|${mp_term_name_underscore}|g\" > TSUMUGI/app/phenotype/\"$mp_term_name_underscore\".html\n",
    "        else\n",
    "            cat TSUMUGI/template/phenotype/template_network_phenotype.html |\n",
    "                grep -v \"REMOVE_THIS_LINE\" |\n",
    "                sed \"s|XXX_impc_url|${escaped_url}|g\" |\n",
    "                sed \"s|XXX_mp_term_name_space|${mp_term_name_space}|g\" |\n",
    "                sed \"s|XXX_mp_term_name_underscore|${mp_term_name_underscore}|g\" > TSUMUGI/app/phenotype/\"$mp_term_name_underscore\".html\n",
    "        fi\n",
    "\n",
    "        # --------------------------\n",
    "        # Javascript\n",
    "        # --------------------------\n",
    "        # すべての効果量が１の場合、表現型の重症度でのスライダーを削除\n",
    "        if grep -q \"^$mp_term_name_underscore\" data/annotation/binary_phenotypes.txt; then\n",
    "            cat TSUMUGI/template/phenotype/template_network_phenotype.js |\n",
    "                sed '/REMOVE_FROM_THIS_LINE/,/REMOVE_TO_THIS_LINE/d' |\n",
    "                grep -v \"REMOVE_THIS_LINE\" |\n",
    "                sed \"s|XXX_mp_term_name_underscore|${mp_term_name_underscore}|g\" > TSUMUGI/app/phenotype/\"$mp_term_name_underscore\".js\n",
    "        else\n",
    "            cat TSUMUGI/template/phenotype/template_network_phenotype.js |\n",
    "                grep -v \"REMOVE_THIS_LINE\" |\n",
    "                sed \"s|XXX_mp_term_name_underscore|${mp_term_name_underscore}|g\" > TSUMUGI/app/phenotype/\"$mp_term_name_underscore\".js\n",
    "        fi\n",
    "\n",
    "    done\n",
    "# 24.4s"
   ]
  },
  {
   "cell_type": "code",
   "execution_count": 14,
   "metadata": {},
   "outputs": [],
   "source": [
    "%%bash\n",
    "\n",
    "########################################\n",
    "# Gene Symbol\n",
    "########################################\n",
    "\n",
    "cat data/overlap/available_gene_symbols.txt |\n",
    "    while read gene_symbol; do\n",
    "        mgi_id=$(awk -F \"\\t\" -v key=\"$gene_symbol\" '$1 == key {print $2}' data/annotation/symbol_mgiid.tsv)\n",
    "        impc_url=\"https://www.mousephenotype.org/data/genes/\"${mgi_id}\n",
    "        escaped_url=$(echo \"$impc_url\" | sed 's/\\//\\\\\\//g')\n",
    "\n",
    "        # HTML\n",
    "        cat TSUMUGI/template/genesymbol/template_network_genesymbol.html |\n",
    "            grep -v \"REMOVE_THIS_LINE\" |\n",
    "            sed \"s|XXX_impc_url|${escaped_url}|g\" |\n",
    "            sed \"s|XXX_genesymbol|${gene_symbol}|g\" > TSUMUGI/app/genesymbol/\"$gene_symbol\".html\n",
    "\n",
    "        # Javascript\n",
    "        cat TSUMUGI/template/genesymbol/template_network_genesymbol.js |\n",
    "            sed '/REMOVE_FROM_THIS_LINE/,/REMOVE_TO_THIS_LINE/d' |\n",
    "            grep -v \"REMOVE_THIS_LINE\" |\n",
    "            sed \"s|XXX_genesymbol|${gene_symbol}|g\" > TSUMUGI/app/genesymbol/\"$gene_symbol\".js\n",
    "    done\n",
    "\n",
    "# 5 min"
   ]
  },
  {
   "cell_type": "code",
   "execution_count": 15,
   "metadata": {},
   "outputs": [],
   "source": [
    "%%bash\n",
    "\n",
    "########################################\n",
    "# Gene List\n",
    "########################################\n",
    "\n",
    "# HTML\n",
    "cat TSUMUGI/template/genelist/template_network_genelist.html |\n",
    "    sed '/REMOVE_FROM_THIS_LINE/,/REMOVE_TO_THIS_LINE/d' |\n",
    "    grep -v \"REMOVE_THIS_LINE\" > TSUMUGI/app/genelist/network_genelist.html\n",
    "\n",
    "# Javascript\n",
    "cat TSUMUGI/template/genelist/template_network_genelist.js |\n",
    "    sed '/REMOVE_FROM_THIS_LINE/,/REMOVE_TO_THIS_LINE/d' |\n",
    "    grep -v \"REMOVE_THIS_LINE\" > TSUMUGI/app/genelist/network_genelist.js\n"
   ]
  },
  {
   "cell_type": "code",
   "execution_count": 16,
   "metadata": {},
   "outputs": [
    {
     "name": "stdout",
     "output_type": "stream",
     "text": [
      "Linux Sycom-2021 5.15.167.4-microsoft-standard-WSL2 #1 SMP Tue Nov 5 00:21:55 UTC 2024 x86_64 x86_64 x86_64 GNU/Linux\n",
      "2025/03/26 16:58:13\n"
     ]
    }
   ],
   "source": [
    "%%bash\n",
    "\n",
    "uname -a # OS name\n",
    "date +\"%Y/%m/%d %H:%M:%S\" # Last update"
   ]
  },
  {
   "cell_type": "code",
   "execution_count": null,
   "metadata": {},
   "outputs": [],
   "source": []
  },
  {
   "cell_type": "code",
   "execution_count": null,
   "metadata": {},
   "outputs": [],
   "source": []
  }
 ],
 "metadata": {
  "kernelspec": {
   "display_name": "env-tsumugi",
   "language": "python",
   "name": "python3"
  },
  "language_info": {
   "codemirror_mode": {
    "name": "ipython",
    "version": 3
   },
   "file_extension": ".py",
   "mimetype": "text/x-python",
   "name": "python",
   "nbconvert_exporter": "python",
   "pygments_lexer": "ipython3",
   "version": "3.12.9"
  }
 },
 "nbformat": 4,
 "nbformat_minor": 2
}

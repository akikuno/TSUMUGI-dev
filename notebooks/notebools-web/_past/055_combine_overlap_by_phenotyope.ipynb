{
 "cells": [
  {
   "cell_type": "markdown",
   "metadata": {},
   "source": [
    "# Overlap と mp_term_name の統合\n",
    "\n",
    "-   例：abnormal_circulating_glucose_level（連続値）\n",
    "-   例：male_infertility（カテゴリ値）\n"
   ]
  },
  {
   "cell_type": "code",
   "execution_count": null,
   "metadata": {},
   "outputs": [],
   "source": [
    "# Move up to top directory\n",
    "import os\n",
    "from pathlib import Path\n",
    "\n",
    "print(os.getcwd())\n",
    "\n",
    "while not Path(\"LICENSE\").exists():\n",
    "    os.chdir(\"../\")\n",
    "\n",
    "print(os.getcwd())"
   ]
  },
  {
   "cell_type": "code",
   "execution_count": null,
   "metadata": {},
   "outputs": [],
   "source": [
    "P = print\n",
    "from pathlib import Path\n",
    "import json\n",
    "import pickle\n",
    "import gzip\n",
    "import shutil\n",
    "\n",
    "import pandas as pd"
   ]
  },
  {
   "cell_type": "code",
   "execution_count": null,
   "metadata": {},
   "outputs": [],
   "source": []
  },
  {
   "cell_type": "markdown",
   "metadata": {},
   "source": [
    "# 一括処理\n"
   ]
  },
  {
   "cell_type": "code",
   "execution_count": null,
   "metadata": {},
   "outputs": [],
   "source": [
    "overlap = pickle.load(open(\"data/overlap/overlapped_ratios_filtered.pkl\", \"rb\"))\n",
    "df_overlap = pd.DataFrame(\n",
    "    overlap,\n",
    "    columns=[\n",
    "        \"marker1\",\n",
    "        \"marker2\",\n",
    "        \"overlap_ratio\",\n",
    "        \"overlapped_mp_number\",\n",
    "        \"overlapped_mp\",\n",
    "    ],\n",
    ")\n",
    "df_overlap  # 133281  rows × 5 columns"
   ]
  },
  {
   "cell_type": "code",
   "execution_count": null,
   "metadata": {},
   "outputs": [],
   "source": [
    "marker_mp = json.load(open(\"data/annotation/symbol_mptermname.json\"))\n",
    "marker_mp = pd.DataFrame(marker_mp.items(), columns=[\"marker_symbol\", \"mp_term_name\"])\n",
    "marker_mp  # 7626 rows × 2 columns"
   ]
  },
  {
   "cell_type": "code",
   "execution_count": null,
   "metadata": {},
   "outputs": [],
   "source": [
    "print(len(df_overlap))  # 184250 → 134880\n",
    "print(len(marker_mp))  # 7626"
   ]
  },
  {
   "cell_type": "code",
   "execution_count": null,
   "metadata": {},
   "outputs": [],
   "source": [
    "output_dir = Path(\"data/network/mp_term_name\")\n",
    "# remove network directory\n",
    "if output_dir.exists():\n",
    "    shutil.rmtree(output_dir)\n",
    "\n",
    "output_dir.mkdir(exist_ok=True, parents=True)"
   ]
  },
  {
   "cell_type": "code",
   "execution_count": null,
   "metadata": {},
   "outputs": [],
   "source": [
    "path_mp_terms = list(Path(\"data\", \"mp_term_name\").glob(\"*.csv\"))\n",
    "# print(path_mp_terms[:3])\n",
    "# print(len(path_mp_terms))\n",
    "# path_mp_term = Path(\"data\", \"mp_term_name\", \"decreased_circulating_glucose_level.csv\")\n",
    "\n",
    "\"\"\"\n",
    "ノードが多すぎるとWebページが描画できない問題を回避するため、\n",
    "ノード数を200以下にするために最適なoverlap_ratioを求める\n",
    "\"\"\"\n",
    "number_of_nodes = 200\n",
    "\n",
    "for path_mp_term in path_mp_terms:\n",
    "    mp_term = path_mp_term.stem\n",
    "    # print(mp_term)\n",
    "\n",
    "    df_marker_effect = pd.read_csv(path_mp_term)\n",
    "    df_marker_effect = df_marker_effect[\n",
    "        [\"marker_symbol\", \"effect_size\"]\n",
    "    ].drop_duplicates()\n",
    "    df_marker_effect = df_marker_effect.dropna(subset=[\"effect_size\"])\n",
    "\n",
    "    # Absolute value of effect size\n",
    "    df_marker_effect.loc[:, \"effect_size\"] = df_marker_effect[\"effect_size\"].abs()\n",
    "\n",
    "    df_filtered = df_overlap[\n",
    "        (df_overlap[\"marker1\"].isin(df_marker_effect[\"marker_symbol\"]))\n",
    "        & (df_overlap[\"marker2\"].isin(df_marker_effect[\"marker_symbol\"]))\n",
    "    ]\n",
    "    # 二分探索の範囲\n",
    "    low, high = df_filtered[\"overlap_ratio\"].min(), df_filtered[\"overlap_ratio\"].max()\n",
    "    best_overlap_ratio = None\n",
    "\n",
    "    while low <= high:\n",
    "        mid = (low + high) / 2\n",
    "\n",
    "        # overlap_ratio >= mid のデータをフィルタリング\n",
    "        df_mid = df_filtered[df_filtered[\"overlap_ratio\"] >= mid]\n",
    "\n",
    "        ## 出力\n",
    "        ### Nodeを作成する\n",
    "        df_marker1 = df_mid[[\"marker1\"]]\n",
    "        df_marker2 = df_mid[[\"marker2\"]]\n",
    "        df_node_marker1 = pd.merge(\n",
    "            df_marker1,\n",
    "            df_marker_effect,\n",
    "            left_on=\"marker1\",\n",
    "            right_on=\"marker_symbol\",\n",
    "            how=\"inner\",\n",
    "        )[[\"marker_symbol\"]]\n",
    "        df_node_marker2 = pd.merge(\n",
    "            df_marker2,\n",
    "            df_marker_effect,\n",
    "            left_on=\"marker2\",\n",
    "            right_on=\"marker_symbol\",\n",
    "            how=\"inner\",\n",
    "        )[[\"marker_symbol\"]]\n",
    "        df_node = pd.concat(\n",
    "            [df_node_marker1, df_node_marker2], axis=0\n",
    "        ).drop_duplicates()\n",
    "        df_node = pd.merge(df_node, marker_mp, how=\"inner\", on=\"marker_symbol\")\n",
    "        df_node = pd.merge(df_node, df_marker_effect, how=\"inner\", on=\"marker_symbol\")\n",
    "\n",
    "        node_count = len(df_node)\n",
    "        # ターゲット列数に近い場合、結果を保存\n",
    "        if number_of_nodes - 25 < node_count < number_of_nodes + 25:\n",
    "            best_overlap_ratio = mid\n",
    "            break\n",
    "        elif node_count > number_of_nodes:\n",
    "            # 列数が多い場合、範囲を上げる\n",
    "            best_overlap_ratio = mid\n",
    "            low = mid + 1e-6\n",
    "        else:\n",
    "            # 列数が少ない場合、範囲を下げる\n",
    "            best_overlap_ratio = mid\n",
    "            high = mid - 1e-6\n",
    "\n",
    "    df_filtered = df_filtered[df_filtered[\"overlap_ratio\"] >= best_overlap_ratio]\n",
    "\n",
    "    ## 出力\n",
    "    ### Nodeを作成する\n",
    "    df_marker1 = df_filtered[[\"marker1\"]]\n",
    "    df_marker2 = df_filtered[[\"marker2\"]]\n",
    "    df_node_marker1 = pd.merge(\n",
    "        df_marker1,\n",
    "        df_marker_effect,\n",
    "        left_on=\"marker1\",\n",
    "        right_on=\"marker_symbol\",\n",
    "        how=\"inner\",\n",
    "    )[[\"marker_symbol\"]]\n",
    "    df_node_marker2 = pd.merge(\n",
    "        df_marker2,\n",
    "        df_marker_effect,\n",
    "        left_on=\"marker2\",\n",
    "        right_on=\"marker_symbol\",\n",
    "        how=\"inner\",\n",
    "    )[[\"marker_symbol\"]]\n",
    "\n",
    "    df_node = pd.concat([df_node_marker1, df_node_marker2], axis=0).drop_duplicates()\n",
    "    df_node = pd.merge(df_node, marker_mp, how=\"inner\", on=\"marker_symbol\")\n",
    "    df_node = pd.merge(df_node, df_marker_effect, how=\"inner\", on=\"marker_symbol\")\n",
    "\n",
    "    if len(df_node) == 0:\n",
    "        continue\n",
    "\n",
    "    # print(mp_term, len(df_node))\n",
    "\n",
    "    # NodeをJSON形式に変換\n",
    "    node_json = []\n",
    "    for _, row in df_node.iterrows():\n",
    "        node_json.append(\n",
    "            {\n",
    "                \"data\": {\n",
    "                    \"id\": row[\"marker_symbol\"],\n",
    "                    \"label\": row[\"marker_symbol\"],\n",
    "                    \"annotation\": row[\"mp_term_name\"],\n",
    "                    \"node_color\": row[\"effect_size\"],\n",
    "                }\n",
    "            }\n",
    "        )\n",
    "    ### Edgeを作成する\n",
    "    df_edge = df_filtered[[\"marker1\", \"marker2\", \"overlap_ratio\", \"overlapped_mp\"]]\n",
    "    # EdgeをJSON形式に変換\n",
    "    edge_json = []\n",
    "    for _, row in df_edge.iterrows():\n",
    "        edge_json.append(\n",
    "            {\n",
    "                \"data\": {\n",
    "                    \"source\": row[\"marker1\"],\n",
    "                    \"target\": row[\"marker2\"],\n",
    "                    \"annotation\": row[\"overlapped_mp\"],\n",
    "                    \"edge_size\": row[\"overlap_ratio\"],\n",
    "                }\n",
    "            }\n",
    "        )\n",
    "\n",
    "    ### EdgeとNodeを統合して、出力\n",
    "    # Combine node and edge\n",
    "\n",
    "    network_json = node_json + edge_json\n",
    "\n",
    "    # Output as JSON\n",
    "    if network_json:\n",
    "        output_json = output_dir / f\"{mp_term}.json.gz\"\n",
    "        with gzip.open(output_json, \"wt\", encoding=\"utf-8\") as f:\n",
    "            json.dump(network_json, f, indent=4)\n",
    "\n",
    "# 1m30s"
   ]
  },
  {
   "cell_type": "code",
   "execution_count": null,
   "metadata": {},
   "outputs": [],
   "source": [
    "%%bash\n",
    "\n",
    "ls -lhS data/network/mp_term_name/ | head -n 5\n",
    "\n",
    "# total 5.3M\n",
    "# -rwxrwxrwx 1 aki aki  73K Feb 22 12:02 edema.json.gz\n",
    "# -rwxrwxrwx 1 aki aki  63K Feb 22 12:02 enlarged_kidney.json.gz\n",
    "# -rwxrwxrwx 1 aki aki  63K Feb 22 12:02 abnormal_lymph_node_morphology.json.gz\n",
    "# -rwxrwxrwx 1 aki aki  58K Feb 22 12:02 small_kidney.json.gz"
   ]
  },
  {
   "cell_type": "code",
   "execution_count": null,
   "metadata": {},
   "outputs": [],
   "source": [
    "%%bash\n",
    "\n",
    "date +\"%Y/%m/%d %H:%M:%S\" # Last update"
   ]
  },
  {
   "cell_type": "markdown",
   "metadata": {},
   "source": [
    "# Debug\n"
   ]
  },
  {
   "cell_type": "markdown",
   "metadata": {},
   "source": [
    "## 個別のMP term に対する処理"
   ]
  },
  {
   "cell_type": "code",
   "execution_count": null,
   "metadata": {},
   "outputs": [],
   "source": [
    "path_mp_term = Path(\n",
    "    \"data\", \"mp_term_name\", \"preweaning_lethality,_complete_penetrance.csv\"\n",
    ")\n",
    "path_mp_term = Path(\"data\", \"mp_term_name\", \"male_infertility.csv\")\n",
    "path_mp_term = Path(\"data\", \"mp_term_name\", \"abnormal_anxiety-related_response.csv\")"
   ]
  },
  {
   "cell_type": "code",
   "execution_count": null,
   "metadata": {},
   "outputs": [],
   "source": [
    "mp_term = path_mp_term.stem\n",
    "# print(mp_term)\n",
    "\n",
    "df_marker_effect = pd.read_csv(path_mp_term)\n",
    "df_marker_effect = df_marker_effect[[\"marker_symbol\", \"effect_size\"]].drop_duplicates()\n",
    "df_marker_effect = df_marker_effect.dropna(subset=[\"effect_size\"])\n",
    "P(len(df_marker_effect))\n",
    "# Absolute value of effect size\n",
    "df_marker_effect.loc[:, \"effect_size\"] = df_marker_effect[\"effect_size\"].abs()\n",
    "\n",
    "df_filtered = df_overlap[\n",
    "    (df_overlap[\"marker1\"].isin(df_marker_effect[\"marker_symbol\"]))\n",
    "    & (df_overlap[\"marker2\"].isin(df_marker_effect[\"marker_symbol\"]))\n",
    "]\n",
    "\n",
    "df_filtered"
   ]
  },
  {
   "cell_type": "code",
   "execution_count": null,
   "metadata": {},
   "outputs": [],
   "source": [
    "mp_term = path_mp_term.stem\n",
    "# print(mp_term)\n",
    "\n",
    "df_marker_effect = pd.read_csv(path_mp_term)\n",
    "df_marker_effect = df_marker_effect[[\"marker_symbol\", \"effect_size\"]].drop_duplicates()\n",
    "df_marker_effect = df_marker_effect.dropna(subset=[\"effect_size\"])\n",
    "\n",
    "# Absolute value of effect size\n",
    "df_marker_effect.loc[:, \"effect_size\"] = df_marker_effect[\"effect_size\"].abs()\n",
    "\n",
    "df_filtered = df_overlap[\n",
    "    (df_overlap[\"marker1\"].isin(df_marker_effect[\"marker_symbol\"]))\n",
    "    & (df_overlap[\"marker2\"].isin(df_marker_effect[\"marker_symbol\"]))\n",
    "]\n",
    "\n",
    "\"\"\"\n",
    "ノードが多すぎるとWebページが描画できない問題を回避するため、\n",
    "ノード数を500以下にするために最適なoverlap_ratioを求める\n",
    "\"\"\"\n",
    "target_columns = 500\n",
    "# 二分探索の範囲\n",
    "low, high = df_filtered[\"overlap_ratio\"].min(), df_filtered[\"overlap_ratio\"].max()\n",
    "best_overlap_ratio = None\n",
    "\n",
    "while low <= high:\n",
    "    mid = (low + high) / 2\n",
    "\n",
    "    # overlap_ratio >= mid のデータをフィルタリング\n",
    "    df_mid = df_filtered[df_filtered[\"overlap_ratio\"] >= mid]\n",
    "\n",
    "    ## 出力\n",
    "    ### Nodeを作成する\n",
    "    df_marker1 = df_mid[[\"marker1\"]]\n",
    "    df_marker2 = df_mid[[\"marker2\"]]\n",
    "    df_node_marker1 = pd.merge(\n",
    "        df_marker1,\n",
    "        df_marker_effect,\n",
    "        left_on=\"marker1\",\n",
    "        right_on=\"marker_symbol\",\n",
    "        how=\"inner\",\n",
    "    )[[\"marker_symbol\"]]\n",
    "    df_node_marker2 = pd.merge(\n",
    "        df_marker2,\n",
    "        df_marker_effect,\n",
    "        left_on=\"marker2\",\n",
    "        right_on=\"marker_symbol\",\n",
    "        how=\"inner\",\n",
    "    )[[\"marker_symbol\"]]\n",
    "    df_node = pd.concat([df_node_marker1, df_node_marker2], axis=0).drop_duplicates()\n",
    "    df_node = pd.merge(df_node, marker_mp, how=\"inner\", on=\"marker_symbol\")\n",
    "    df_node = pd.merge(df_node, df_marker_effect, how=\"inner\", on=\"marker_symbol\")\n",
    "\n",
    "    row_count = len(df_node)\n",
    "    # ターゲット列数に近い場合、結果を保存\n",
    "    if row_count == target_columns:\n",
    "        best_overlap_ratio = mid\n",
    "        break\n",
    "    elif row_count > target_columns:\n",
    "        # 列数が多い場合、範囲を上げる\n",
    "        best_overlap_ratio = mid\n",
    "        low = mid + 1e-6\n",
    "    else:\n",
    "        # 列数が少ない場合、範囲を下げる\n",
    "        best_overlap_ratio = mid\n",
    "        high = mid - 1e-6\n",
    "\n",
    "df_filtered = df_filtered[df_filtered[\"overlap_ratio\"] >= best_overlap_ratio]\n",
    "\n",
    "## 出力\n",
    "### Nodeを作成する\n",
    "df_marker1 = df_filtered[[\"marker1\"]]\n",
    "df_marker2 = df_filtered[[\"marker2\"]]\n",
    "df_node_marker1 = pd.merge(\n",
    "    df_marker1,\n",
    "    df_marker_effect,\n",
    "    left_on=\"marker1\",\n",
    "    right_on=\"marker_symbol\",\n",
    "    how=\"inner\",\n",
    ")[[\"marker_symbol\"]]\n",
    "df_node_marker2 = pd.merge(\n",
    "    df_marker2,\n",
    "    df_marker_effect,\n",
    "    left_on=\"marker2\",\n",
    "    right_on=\"marker_symbol\",\n",
    "    how=\"inner\",\n",
    ")[[\"marker_symbol\"]]\n",
    "\n",
    "df_node = pd.concat([df_node_marker1, df_node_marker2], axis=0).drop_duplicates()\n",
    "\n",
    "\n",
    "df_node = pd.merge(df_node, marker_mp, how=\"inner\", on=\"marker_symbol\")\n",
    "df_node = pd.merge(df_node, df_marker_effect, how=\"inner\", on=\"marker_symbol\")\n",
    "\n",
    "\n",
    "# NodeをJSON形式に変換\n",
    "node_json = []\n",
    "for _, row in df_node.iterrows():\n",
    "    node_json.append(\n",
    "        {\n",
    "            \"data\": {\n",
    "                \"id\": row[\"marker_symbol\"],\n",
    "                \"label\": row[\"marker_symbol\"],\n",
    "                \"annotation\": row[\"mp_term_name\"],\n",
    "                \"node_color\": row[\"effect_size\"],\n",
    "            }\n",
    "        }\n",
    "    )\n",
    "\n",
    "### Edgeを作成する\n",
    "df_edge = df_filtered[[\"marker1\", \"marker2\", \"overlap_ratio\", \"overlapped_mp\"]]\n",
    "# EdgeをJSON形式に変換\n",
    "edge_json = []\n",
    "for _, row in df_edge.iterrows():\n",
    "    edge_json.append(\n",
    "        {\n",
    "            \"data\": {\n",
    "                \"source\": row[\"marker1\"],\n",
    "                \"target\": row[\"marker2\"],\n",
    "                \"annotation\": row[\"overlapped_mp\"],\n",
    "                \"edge_size\": row[\"overlap_ratio\"],\n",
    "            }\n",
    "        }\n",
    "    )\n",
    "\n",
    "### EdgeとNodeを統合して、出力\n",
    "# Combine node and edge\n",
    "\n",
    "network_json = node_json + edge_json"
   ]
  },
  {
   "cell_type": "code",
   "execution_count": null,
   "metadata": {},
   "outputs": [],
   "source": [
    "P(len(df_node), best_overlap_ratio, low, high)\n",
    "df_node"
   ]
  },
  {
   "cell_type": "code",
   "execution_count": null,
   "metadata": {},
   "outputs": [],
   "source": []
  },
  {
   "cell_type": "code",
   "execution_count": null,
   "metadata": {},
   "outputs": [],
   "source": [
    "# path_overlap = Path(\"data\", \"overlap_ratios_filtered.csv\")\n",
    "# df_overlap = pd.read_csv(path_overlap)\n",
    "\n",
    "overlap = pickle.load(open(\"data/overlapped_ratios_filtered.pkl\", \"rb\"))\n",
    "df_overlap = pd.DataFrame(\n",
    "    overlap,\n",
    "    columns=[\n",
    "        \"marker1\",\n",
    "        \"marker2\",\n",
    "        \"overlap_ratio\",\n",
    "        \"overlapped_mp_number\",\n",
    "        \"overlapped_mp\",\n",
    "    ],\n",
    ")\n",
    "P(len(df_overlap))  # 184250\n",
    "df_overlap.head(3)"
   ]
  },
  {
   "cell_type": "code",
   "execution_count": null,
   "metadata": {},
   "outputs": [],
   "source": [
    "path_mp_terms = list(Path(\"data\", \"mp_term_name\").glob(\"*.csv\"))\n",
    "print(path_mp_terms[:3])\n",
    "print(len(path_mp_terms))  # 670"
   ]
  },
  {
   "cell_type": "code",
   "execution_count": null,
   "metadata": {},
   "outputs": [],
   "source": [
    "# path_mp_term = Path(\"data\", \"mp_term_name\", \"decreased_circulating_glucose_level.csv\")\n",
    "path_mp_term = Path(\"data\", \"mp_term_name\", \"increased_circulating_glucose_level.csv\")\n",
    "mp_term = path_mp_term.stem\n",
    "print(mp_term)"
   ]
  },
  {
   "cell_type": "code",
   "execution_count": null,
   "metadata": {},
   "outputs": [],
   "source": [
    "df_marker_effect = pd.read_csv(path_mp_term)\n",
    "df_marker_effect = df_marker_effect[[\"marker_symbol\", \"effect_size\"]].drop_duplicates()\n",
    "\n",
    "# effect_sizeがNanの行を削除\n",
    "df_marker_effect = df_marker_effect.dropna(subset=[\"effect_size\"])\n",
    "\n",
    "print(len(df_marker_effect))\n",
    "\n",
    "df_marker_effect.head(3)"
   ]
  },
  {
   "cell_type": "code",
   "execution_count": null,
   "metadata": {},
   "outputs": [],
   "source": [
    "# print(df_mp[\"effect_size\"].describe())"
   ]
  },
  {
   "cell_type": "code",
   "execution_count": null,
   "metadata": {},
   "outputs": [],
   "source": [
    "# Absolute value of effect size\n",
    "\n",
    "df_marker_effect.loc[:, \"effect_size\"] = df_marker_effect[\"effect_size\"].abs()"
   ]
  },
  {
   "cell_type": "code",
   "execution_count": null,
   "metadata": {},
   "outputs": [],
   "source": [
    "# print(df_overlap[df_overlap[\"intersect_count\"] > 5 & df_overlap[\"overlap_ratio\"] > 0.5])"
   ]
  },
  {
   "cell_type": "code",
   "execution_count": null,
   "metadata": {},
   "outputs": [],
   "source": [
    "# df_overlap_filterd = df_overlap[df_overlap[\"overlapped_mp_number\"] > 0]\n",
    "# df_overlap_filterd = df_overlap[(df_overlap[\"overlap_ratio\"] > 0.25)]\n",
    "df_overlap_filterd = df_overlap"
   ]
  },
  {
   "cell_type": "code",
   "execution_count": null,
   "metadata": {},
   "outputs": [],
   "source": [
    "df_filtered = df_overlap_filterd[\n",
    "    (df_overlap_filterd[\"marker1\"].isin(df_marker_effect[\"marker_symbol\"]))\n",
    "    & (df_overlap_filterd[\"marker2\"].isin(df_marker_effect[\"marker_symbol\"]))\n",
    "]"
   ]
  },
  {
   "cell_type": "code",
   "execution_count": null,
   "metadata": {},
   "outputs": [],
   "source": [
    "print(len(df_filtered))\n",
    "\n",
    "df_filtered.head(3)"
   ]
  },
  {
   "cell_type": "markdown",
   "metadata": {},
   "source": [
    "## 出力\n"
   ]
  },
  {
   "cell_type": "markdown",
   "metadata": {},
   "source": [
    "### Node を作成する\n"
   ]
  },
  {
   "cell_type": "code",
   "execution_count": null,
   "metadata": {},
   "outputs": [],
   "source": [
    "# merge mp term\n",
    "df_marker1 = df_filtered[[\"marker1\"]]\n",
    "df_marker2 = df_filtered[[\"marker2\"]]\n",
    "df_node_marker1 = pd.merge(\n",
    "    df_marker1,\n",
    "    df_marker_effect,\n",
    "    left_on=\"marker1\",\n",
    "    right_on=\"marker_symbol\",\n",
    "    how=\"inner\",\n",
    ")[[\"marker_symbol\"]]\n",
    "df_node_marker2 = pd.merge(\n",
    "    df_marker2,\n",
    "    df_marker_effect,\n",
    "    left_on=\"marker2\",\n",
    "    right_on=\"marker_symbol\",\n",
    "    how=\"inner\",\n",
    ")[[\"marker_symbol\"]]\n",
    "\n",
    "df_node = pd.concat([df_node_marker1, df_node_marker2], axis=0).drop_duplicates()\n",
    "\n",
    "import pickle\n",
    "\n",
    "marker_mp = pickle.load(open(\"data/marker_mp.pkl\", \"rb\"))\n",
    "marker_mp = pd.DataFrame(marker_mp.items(), columns=[\"marker_symbol\", \"mp_term\"])\n",
    "\n",
    "df_node = pd.merge(df_node, marker_mp, how=\"inner\", on=\"marker_symbol\")\n",
    "df_node = pd.merge(df_node, df_marker_effect, how=\"inner\", on=\"marker_symbol\")\n",
    "\n",
    "df_node[:3]"
   ]
  },
  {
   "cell_type": "code",
   "execution_count": null,
   "metadata": {},
   "outputs": [],
   "source": [
    "# JSON形式に変換\n",
    "node_json = []\n",
    "for _, row in df_node.iterrows():\n",
    "    node_json.append(\n",
    "        {\n",
    "            \"data\": {\n",
    "                \"id\": row[\"marker_symbol\"],\n",
    "                \"label\": row[\"marker_symbol\"],\n",
    "                \"annotation\": row[\"mp_term\"],\n",
    "                \"node_color\": row[\"effect_size\"],\n",
    "            }\n",
    "        }\n",
    "    )\n",
    "\n",
    "print(node_json[:3])"
   ]
  },
  {
   "cell_type": "markdown",
   "metadata": {},
   "source": [
    "### Edge を作成する\n"
   ]
  },
  {
   "cell_type": "code",
   "execution_count": null,
   "metadata": {},
   "outputs": [],
   "source": [
    "df_edge = df_filtered[[\"marker1\", \"marker2\", \"overlap_ratio\", \"overlapped_mp\"]]\n",
    "print(len(df_edge))\n",
    "df_edge.head(3)"
   ]
  },
  {
   "cell_type": "code",
   "execution_count": null,
   "metadata": {},
   "outputs": [],
   "source": [
    "# JSON形式に変換\n",
    "edge_json = []\n",
    "for _, row in df_edge.iterrows():\n",
    "    edge_json.append(\n",
    "        {\n",
    "            \"data\": {\n",
    "                \"source\": row[\"marker1\"],\n",
    "                \"target\": row[\"marker2\"],\n",
    "                \"annotation\": row[\"overlapped_mp\"],\n",
    "                \"edge_size\": row[\"overlap_ratio\"],\n",
    "            }\n",
    "        }\n",
    "    )\n",
    "\n",
    "print(edge_json[:3])"
   ]
  },
  {
   "cell_type": "markdown",
   "metadata": {},
   "source": [
    "### Edge と Node を統合して、出力\n"
   ]
  },
  {
   "cell_type": "code",
   "execution_count": null,
   "metadata": {},
   "outputs": [],
   "source": [
    "# Combine node and edge\n",
    "\n",
    "network_json = node_json + edge_json"
   ]
  },
  {
   "cell_type": "code",
   "execution_count": null,
   "metadata": {},
   "outputs": [],
   "source": [
    "print(len(network_json))\n",
    "print(network_json[:3])\n",
    "print(network_json[-3:])"
   ]
  },
  {
   "cell_type": "code",
   "execution_count": null,
   "metadata": {},
   "outputs": [],
   "source": [
    "# Output as JSON file\n",
    "Path(\"data/network\").mkdir(exist_ok=True, parents=True)\n",
    "with open(f\"data/network/{mp_term}.json\", \"w\") as f:\n",
    "    json.dump(network_json, f, indent=2)"
   ]
  },
  {
   "cell_type": "code",
   "execution_count": null,
   "metadata": {},
   "outputs": [],
   "source": [
    "marker_mp"
   ]
  },
  {
   "cell_type": "code",
   "execution_count": null,
   "metadata": {},
   "outputs": [],
   "source": [
    "for data in node_json:\n",
    "    if \"Lepr\" == data[\"data\"][\"id\"]:\n",
    "        print(data)"
   ]
  },
  {
   "cell_type": "code",
   "execution_count": null,
   "metadata": {},
   "outputs": [],
   "source": [
    "for data in edge_json:\n",
    "    if \"Herc1\" == data[\"data\"][\"source\"]:\n",
    "        print(data)\n",
    "    if \"Herc1\" == data[\"data\"][\"target\"]:\n",
    "        print(data)"
   ]
  },
  {
   "cell_type": "code",
   "execution_count": null,
   "metadata": {},
   "outputs": [],
   "source": [
    "for data in edge_json:\n",
    "    if \"Stoml2\" == data[\"data\"][\"source\"]:\n",
    "        print(data)\n",
    "    if \"Stoml2\" == data[\"data\"][\"target\"]:\n",
    "        print(data)"
   ]
  },
  {
   "cell_type": "code",
   "execution_count": null,
   "metadata": {},
   "outputs": [],
   "source": []
  }
 ],
 "metadata": {
  "kernelspec": {
   "display_name": "Python 3",
   "language": "python",
   "name": "python3"
  },
  "language_info": {
   "codemirror_mode": {
    "name": "ipython",
    "version": 3
   },
   "file_extension": ".py",
   "mimetype": "text/x-python",
   "name": "python",
   "nbconvert_exporter": "python",
   "pygments_lexer": "ipython3",
   "version": "3.10.15"
  }
 },
 "nbformat": 4,
 "nbformat_minor": 2
}

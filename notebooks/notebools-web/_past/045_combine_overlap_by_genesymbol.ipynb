{
 "cells": [
  {
   "cell_type": "markdown",
   "metadata": {},
   "source": [
    "# ネットワークを遺伝子単位で出力する\n"
   ]
  },
  {
   "cell_type": "code",
   "execution_count": null,
   "metadata": {},
   "outputs": [],
   "source": [
    "# Move up to top directory\n",
    "import os\n",
    "from pathlib import Path\n",
    "\n",
    "print(os.getcwd())\n",
    "\n",
    "while not Path(\"LICENSE\").exists():\n",
    "    os.chdir(\"../\")\n",
    "\n",
    "print(os.getcwd())"
   ]
  },
  {
   "cell_type": "code",
   "execution_count": null,
   "metadata": {},
   "outputs": [],
   "source": [
    "P = print\n",
    "from pprint import pprint as PP\n",
    "from pathlib import Path\n",
    "import json\n",
    "import pickle\n",
    "import networkx as nx\n",
    "import shutil\n",
    "import gzip\n",
    "\n",
    "import pandas as pd"
   ]
  },
  {
   "cell_type": "code",
   "execution_count": null,
   "metadata": {},
   "outputs": [],
   "source": []
  },
  {
   "cell_type": "code",
   "execution_count": null,
   "metadata": {},
   "outputs": [],
   "source": [
    "overlap = pickle.load(open(\"data/overlap/overlapped_ratios_filtered.pkl\", \"rb\"))\n",
    "df_overlap = pd.DataFrame(\n",
    "    overlap,\n",
    "    columns=[\n",
    "        \"marker1\",\n",
    "        \"marker2\",\n",
    "        \"overlap_ratio\",\n",
    "        \"overlapped_mp_number\",\n",
    "        \"overlapped_mp\",\n",
    "    ],\n",
    ")\n",
    "df_overlap  # 133281 rows × 5 columns"
   ]
  },
  {
   "cell_type": "code",
   "execution_count": null,
   "metadata": {},
   "outputs": [],
   "source": [
    "marker_mp = json.load(open(\"data/annotation/symbol_mptermname.json\"))\n",
    "marker_mp = pd.DataFrame(marker_mp.items(), columns=[\"marker_symbol\", \"mp_term_name\"])\n",
    "marker_mp  # 7746 rows × 2 columns\n",
    "# DFをdictに変換\n",
    "marker_mp_dict = dict(zip(marker_mp.marker_symbol, marker_mp.mp_term_name))"
   ]
  },
  {
   "cell_type": "code",
   "execution_count": null,
   "metadata": {},
   "outputs": [],
   "source": []
  },
  {
   "cell_type": "markdown",
   "metadata": {},
   "source": [
    "## ひとつの遺伝子をハンドルする\n"
   ]
  },
  {
   "cell_type": "code",
   "execution_count": null,
   "metadata": {},
   "outputs": [],
   "source": [
    "gene_symbol = \"Rab10\""
   ]
  },
  {
   "cell_type": "code",
   "execution_count": null,
   "metadata": {},
   "outputs": [],
   "source": [
    "P(sum(df_overlap.marker1 == gene_symbol))\n",
    "P(sum(df_overlap.marker2 == gene_symbol))"
   ]
  },
  {
   "cell_type": "code",
   "execution_count": null,
   "metadata": {},
   "outputs": [],
   "source": []
  },
  {
   "cell_type": "code",
   "execution_count": null,
   "metadata": {},
   "outputs": [],
   "source": [
    "G = nx.from_pandas_edgelist(df_overlap, \"marker1\", \"marker2\")"
   ]
  },
  {
   "cell_type": "code",
   "execution_count": null,
   "metadata": {},
   "outputs": [],
   "source": [
    "# ノードAと直接つながっているノードのみを取得\n",
    "neighbors = list(G.neighbors(gene_symbol))\n",
    "subgraph_nodes = [gene_symbol] + neighbors\n",
    "subgraph = G.subgraph(subgraph_nodes)\n",
    "\n",
    "P(subgraph)\n",
    "P(len(subgraph.nodes))"
   ]
  },
  {
   "cell_type": "code",
   "execution_count": null,
   "metadata": {},
   "outputs": [],
   "source": [
    "df_overlap"
   ]
  },
  {
   "cell_type": "code",
   "execution_count": null,
   "metadata": {},
   "outputs": [],
   "source": [
    "\"\"\"\n",
    "ノードが多すぎるとWebページが描画できない問題を回避するため、\n",
    "ノード数を500以下にするために最適なoverlap_ratioを求める\n",
    "\"\"\"\n",
    "target_columns = 500\n",
    "# 二分探索の範囲\n",
    "low, high = df_overlap[\"overlap_ratio\"].min(), df_overlap[\"overlap_ratio\"].max()\n",
    "best_overlap_ratio = None\n",
    "\n",
    "while low <= high:\n",
    "    mid = (low + high) / 2\n",
    "\n",
    "    # overlap_ratio >= mid のデータをフィルタリング\n",
    "    df_mid = df_overlap[df_overlap[\"overlap_ratio\"] >= mid]\n",
    "\n",
    "    G = nx.from_pandas_edgelist(df_mid, \"marker1\", \"marker2\")\n",
    "    # ノードAと直接つながっているノードのみを取得\n",
    "    try:\n",
    "        neighbors = list(G.neighbors(gene_symbol))\n",
    "    except:\n",
    "        high = mid - 1e-6\n",
    "        continue\n",
    "    subgraph_nodes = [gene_symbol] + neighbors\n",
    "    subgraph = G.subgraph(subgraph_nodes)\n",
    "\n",
    "    row_count = len(subgraph.nodes)\n",
    "    # ターゲット列数に近い場合、結果を保存\n",
    "    if row_count == target_columns:\n",
    "        best_overlap_ratio = mid\n",
    "        break\n",
    "    elif row_count > target_columns:\n",
    "        # 列数が多い場合、範囲を上げる\n",
    "        best_overlap_ratio = mid\n",
    "        low = mid + 1e-6\n",
    "    else:\n",
    "        # 列数が少ない場合、範囲を下げる\n",
    "        best_overlap_ratio = mid\n",
    "        high = mid - 1e-6\n",
    "    print(low, high, mid, best_overlap_ratio, row_count)\n",
    "\n",
    "df_overlap = df_overlap[df_overlap[\"overlap_ratio\"] >= best_overlap_ratio]"
   ]
  },
  {
   "cell_type": "code",
   "execution_count": null,
   "metadata": {},
   "outputs": [],
   "source": [
    "P(subgraph.nodes())"
   ]
  },
  {
   "cell_type": "code",
   "execution_count": null,
   "metadata": {},
   "outputs": [],
   "source": [
    "# nodesを用意\n",
    "\n",
    "node_json = []\n",
    "for node in subgraph.nodes():\n",
    "    annotation = marker_mp_dict[node]\n",
    "    node_color = 1 if node == gene_symbol else 0\n",
    "    node_json.append(\n",
    "        {\n",
    "            \"data\": {\n",
    "                \"id\": node,\n",
    "                \"label\": node,\n",
    "                \"node_color\": node_color,\n",
    "                \"annotation\": annotation,\n",
    "            }\n",
    "        }\n",
    "    )\n",
    "\n",
    "P(node_json[0])"
   ]
  },
  {
   "cell_type": "code",
   "execution_count": null,
   "metadata": {},
   "outputs": [],
   "source": [
    "# edgesを用意\n",
    "df_overlap[\"id\"] = df_overlap.apply(\n",
    "    lambda row: \"-\".join(sorted([row[\"marker1\"], row[\"marker2\"]])), axis=1\n",
    ")\n",
    "\n",
    "edge_info = pd.DataFrame(\n",
    "    {\"id\": [\"-\".join(sorted([a, b])) for a, b in subgraph.edges()]}\n",
    ").merge(df_overlap, on=\"id\")\n",
    "edge_json = []\n",
    "for edge in edge_info.itertuples():\n",
    "    edge_json.append(\n",
    "        {\n",
    "            \"data\": {\n",
    "                \"source\": edge.marker1,\n",
    "                \"target\": edge.marker2,\n",
    "                \"edge_size\": edge.overlap_ratio,\n",
    "                \"annotation\": edge.overlapped_mp,\n",
    "            }\n",
    "        }\n",
    "    )\n",
    "P(edge_json[:3])"
   ]
  },
  {
   "cell_type": "code",
   "execution_count": null,
   "metadata": {},
   "outputs": [],
   "source": [
    "# Cytoscape.js用のJSON形式に変換\n",
    "cytoscape_data = node_json + edge_json"
   ]
  },
  {
   "cell_type": "code",
   "execution_count": null,
   "metadata": {},
   "outputs": [],
   "source": [
    "# JSONに変換\n",
    "cytoscape_json = json.dumps(cytoscape_data, indent=2)\n",
    "print(cytoscape_json[:3])"
   ]
  },
  {
   "cell_type": "code",
   "execution_count": null,
   "metadata": {},
   "outputs": [],
   "source": [
    "# Path(\"Rab10.json\").write_text(cytoscape_json)"
   ]
  },
  {
   "cell_type": "markdown",
   "metadata": {},
   "source": [
    "## 一括処理\n"
   ]
  },
  {
   "cell_type": "code",
   "execution_count": null,
   "metadata": {},
   "outputs": [],
   "source": [
    "overlap = pickle.load(open(\"data/overlap/overlapped_ratios_filtered.pkl\", \"rb\"))\n",
    "df_overlap = pd.DataFrame(\n",
    "    overlap,\n",
    "    columns=[\n",
    "        \"marker1\",\n",
    "        \"marker2\",\n",
    "        \"overlap_ratio\",\n",
    "        \"overlapped_mp_number\",\n",
    "        \"overlapped_mp\",\n",
    "    ],\n",
    ")\n",
    "P(len(df_overlap))  # 133281 rows × 5 columns"
   ]
  },
  {
   "cell_type": "code",
   "execution_count": null,
   "metadata": {},
   "outputs": [],
   "source": [
    "gene_symbols = df_overlap.marker1.unique().tolist()\n",
    "gene_symbols += df_overlap.marker2.unique().tolist()\n",
    "gene_symbols = list(set(gene_symbols))\n",
    "gene_symbols.sort()  # 以下のfor文で、どこまで遺伝子が処理されたのか途中経過を見積もるためのソート\n",
    "P(gene_symbols[:3])\n",
    "P(len(gene_symbols))  # 6003"
   ]
  },
  {
   "cell_type": "code",
   "execution_count": null,
   "metadata": {},
   "outputs": [],
   "source": [
    "output_dir = Path(\"data\", \"network\", \"gene_symbol\")\n",
    "# remove network directory\n",
    "if output_dir.exists():\n",
    "    shutil.rmtree(output_dir)\n",
    "\n",
    "output_dir.mkdir(exist_ok=True, parents=True)"
   ]
  },
  {
   "cell_type": "code",
   "execution_count": null,
   "metadata": {},
   "outputs": [],
   "source": [
    "for gene_symbol in gene_symbols:\n",
    "    \"\"\"\n",
    "    ノードが多すぎるとWebページが描画できない問題を回避するため、\n",
    "    ノード数を200以下にするために最適なoverlap_ratioを求める\n",
    "    \"\"\"\n",
    "    # 今の処理\n",
    "    df_filtered = df_overlap[\n",
    "        (df_overlap[\"marker1\"] == gene_symbol) | (df_overlap[\"marker2\"] == gene_symbol)\n",
    "    ]\n",
    "\n",
    "    G = nx.from_pandas_edgelist(df_filtered, \"marker1\", \"marker2\")\n",
    "\n",
    "    # ノードAと直接つながっているノードのみを取得\n",
    "    neighbors = list(G.neighbors(gene_symbol))\n",
    "    subgraph_nodes = [gene_symbol] + neighbors\n",
    "    subgraph = G.subgraph(subgraph_nodes)\n",
    "\n",
    "    target_number_of_nodes = 200\n",
    "    if len(subgraph.nodes) > target_number_of_nodes:\n",
    "        # 二分探索の範囲\n",
    "        low, high = (\n",
    "            df_filtered[\"overlap_ratio\"].min(),\n",
    "            df_filtered[\"overlap_ratio\"].max(),\n",
    "        )\n",
    "        best_overlap_ratio = None\n",
    "\n",
    "        while low <= high:\n",
    "            mid = (low + high) / 2\n",
    "\n",
    "            # overlap_ratio >= mid のデータをフィルタリング\n",
    "            df_mid = df_filtered[df_filtered[\"overlap_ratio\"] >= mid]\n",
    "\n",
    "            G = nx.from_pandas_edgelist(df_mid, \"marker1\", \"marker2\")\n",
    "            # ノードAと直接つながっているノードのみを取得\n",
    "            try:\n",
    "                neighbors = list(G.neighbors(gene_symbol))\n",
    "            except:\n",
    "                high = mid - 1e-6\n",
    "                continue\n",
    "            subgraph_nodes = [gene_symbol] + neighbors\n",
    "            subgraph = G.subgraph(subgraph_nodes)\n",
    "\n",
    "            row_count = len(subgraph.nodes)\n",
    "            # ターゲット列数に近い場合、結果を保存\n",
    "            if target_number_of_nodes - 25 < row_count < target_number_of_nodes + 25:\n",
    "                best_overlap_ratio = mid\n",
    "                break\n",
    "            elif row_count > target_number_of_nodes:\n",
    "                # 列数が多い場合、範囲を上げる\n",
    "                best_overlap_ratio = mid\n",
    "                low = mid + 1e-6\n",
    "            else:\n",
    "                # 列数が少ない場合、範囲を下げる\n",
    "                best_overlap_ratio = mid\n",
    "                high = mid - 1e-6\n",
    "\n",
    "        df_nodes = df_filtered[df_filtered[\"overlap_ratio\"] >= best_overlap_ratio]\n",
    "        G = nx.from_pandas_edgelist(df_nodes, \"marker1\", \"marker2\")\n",
    "        # ノードAと直接つながっているノードのみを取得\n",
    "        neighbors = list(G.neighbors(gene_symbol))\n",
    "        subgraph_nodes = [gene_symbol] + neighbors\n",
    "        subgraph = G.subgraph(subgraph_nodes)\n",
    "\n",
    "    # nodesを用意\n",
    "    node_json = []\n",
    "    for node in subgraph.nodes():\n",
    "        annotation = marker_mp_dict[node]\n",
    "        node_color = 1 if node == gene_symbol else 0\n",
    "        node_json.append(\n",
    "            {\n",
    "                \"data\": {\n",
    "                    \"id\": node,\n",
    "                    \"label\": node,\n",
    "                    \"node_color\": node_color,\n",
    "                    \"annotation\": annotation,\n",
    "                }\n",
    "            }\n",
    "        )\n",
    "\n",
    "    # edgesを用意\n",
    "    df_edge = df_overlap[\n",
    "        (df_overlap[\"marker1\"].isin(subgraph.nodes()))\n",
    "        & (df_overlap[\"marker2\"].isin(subgraph.nodes()))\n",
    "    ]\n",
    "\n",
    "    edge_json = []\n",
    "    for edge in df_edge.itertuples():\n",
    "        edge_json.append(\n",
    "            {\n",
    "                \"data\": {\n",
    "                    \"source\": edge.marker1,\n",
    "                    \"target\": edge.marker2,\n",
    "                    \"edge_size\": edge.overlap_ratio,\n",
    "                    \"annotation\": edge.overlapped_mp,\n",
    "                }\n",
    "            }\n",
    "        )\n",
    "    network_json = node_json + edge_json\n",
    "\n",
    "    # Output as JSON\n",
    "    if network_json:\n",
    "        output_json = output_dir / f\"{gene_symbol}.json.gz\"\n",
    "        with gzip.open(output_json, \"wt\", encoding=\"utf-8\") as f:\n",
    "            json.dump(network_json, f, indent=4)\n",
    "\n",
    "# 4m"
   ]
  },
  {
   "cell_type": "code",
   "execution_count": null,
   "metadata": {},
   "outputs": [],
   "source": [
    "%%bash\n",
    "ls -lhS data/network/gene_symbol/ | head -n 5 # total 4.6G -> 133M → 975M\n",
    "# total 118M\n",
    "# -rwxrwxrwx 1 kuno kuno 198K Jan 25 10:31 Fam161b.json.gz\n",
    "# -rwxrwxrwx 1 kuno kuno 198K Jan 25 10:32 Pabir2.json.gz\n",
    "# -rwxrwxrwx 1 kuno kuno 185K Jan 25 10:31 Lrrc17.json.gz\n",
    "# -rwxrwxrwx 1 kuno kuno 182K Jan 25 10:30 Cer1.json.gz"
   ]
  },
  {
   "cell_type": "code",
   "execution_count": null,
   "metadata": {},
   "outputs": [],
   "source": [
    "Path(\"data/overlap/available_gene_symbols.txt\").write_text(\n",
    "    \"\\n\".join(gene_symbols) + \"\\n\"\n",
    ")\n",
    "print(len(gene_symbols))  # 4416 -> 4244 → 6003 → 4139"
   ]
  },
  {
   "cell_type": "code",
   "execution_count": null,
   "metadata": {},
   "outputs": [],
   "source": [
    "%%bash\n",
    "\n",
    "date +\"%Y/%m/%d %H:%M:%S\" # Last update"
   ]
  },
  {
   "cell_type": "markdown",
   "metadata": {},
   "source": [
    "# Debug\n",
    "\n"
   ]
  },
  {
   "cell_type": "markdown",
   "metadata": {},
   "source": [
    "## 一つの遺伝子のみ取り扱う"
   ]
  },
  {
   "cell_type": "code",
   "execution_count": null,
   "metadata": {},
   "outputs": [],
   "source": [
    "overlap = pickle.load(open(\"data/overlap/overlapped_ratios_filtered.pkl\", \"rb\"))\n",
    "df_overlap = pd.DataFrame(\n",
    "    overlap,\n",
    "    columns=[\n",
    "        \"marker1\",\n",
    "        \"marker2\",\n",
    "        \"overlap_ratio\",\n",
    "        \"overlapped_mp_number\",\n",
    "        \"overlapped_mp\",\n",
    "    ],\n",
    ")\n",
    "df_overlap  # 133281 rows × 5 columns"
   ]
  },
  {
   "cell_type": "code",
   "execution_count": null,
   "metadata": {},
   "outputs": [],
   "source": [
    "marker_mp = json.load(open(\"data/annotation/symbol_mptermname.json\"))\n",
    "marker_mp = pd.DataFrame(marker_mp.items(), columns=[\"marker_symbol\", \"mp_term_name\"])\n",
    "marker_mp  # 7746 rows × 2 columns\n",
    "# DFをdictに変換\n",
    "marker_mp_dict = dict(zip(marker_mp.marker_symbol, marker_mp.mp_term_name))"
   ]
  },
  {
   "cell_type": "code",
   "execution_count": null,
   "metadata": {},
   "outputs": [],
   "source": [
    "gene_symbol = \"Rhd\""
   ]
  },
  {
   "cell_type": "code",
   "execution_count": null,
   "metadata": {},
   "outputs": [],
   "source": []
  },
  {
   "cell_type": "code",
   "execution_count": null,
   "metadata": {},
   "outputs": [],
   "source": [
    "# 今の処理\n",
    "df_filtered = df_overlap[\n",
    "    (df_overlap[\"marker1\"] == gene_symbol) | (df_overlap[\"marker2\"] == gene_symbol)\n",
    "]\n",
    "\n",
    "G = nx.from_pandas_edgelist(df_filtered, \"marker1\", \"marker2\")\n",
    "\n",
    "# ノードAと直接つながっているノードのみを取得\n",
    "neighbors = list(G.neighbors(gene_symbol))\n",
    "subgraph_nodes = [gene_symbol] + neighbors\n",
    "subgraph = G.subgraph(subgraph_nodes)\n",
    "if len(subgraph.nodes) > 500:\n",
    "    target_columns = 500\n",
    "    # 二分探索の範囲\n",
    "    low, high = df_filtered[\"overlap_ratio\"].min(), df_filtered[\"overlap_ratio\"].max()\n",
    "    best_overlap_ratio = None\n",
    "\n",
    "    while low <= high:\n",
    "        mid = (low + high) / 2\n",
    "\n",
    "        # overlap_ratio >= mid のデータをフィルタリング\n",
    "        df_mid = df_filtered[df_filtered[\"overlap_ratio\"] >= mid]\n",
    "\n",
    "        G = nx.from_pandas_edgelist(df_mid, \"marker1\", \"marker2\")\n",
    "        # ノードAと直接つながっているノードのみを取得\n",
    "        try:\n",
    "            neighbors = list(G.neighbors(gene_symbol))\n",
    "        except:\n",
    "            high = mid - 1e-6\n",
    "            continue\n",
    "        subgraph_nodes = [gene_symbol] + neighbors\n",
    "        subgraph = G.subgraph(subgraph_nodes)\n",
    "\n",
    "        row_count = len(subgraph.nodes)\n",
    "        # ターゲット列数に近い場合、結果を保存\n",
    "        if row_count == target_columns:\n",
    "            best_overlap_ratio = mid\n",
    "            break\n",
    "        elif row_count > target_columns:\n",
    "            # 列数が多い場合、範囲を上げる\n",
    "            best_overlap_ratio = mid\n",
    "            low = mid + 1e-6\n",
    "        else:\n",
    "            # 列数が少ない場合、範囲を下げる\n",
    "            best_overlap_ratio = mid\n",
    "            high = mid - 1e-6\n",
    "    df_results = df_filtered[df_filtered[\"overlap_ratio\"] >= best_overlap_ratio]\n",
    "    G = nx.from_pandas_edgelist(df_results, \"marker1\", \"marker2\")\n",
    "    # ノードAと直接つながっているノードのみを取得\n",
    "    neighbors = list(G.neighbors(gene_symbol))\n",
    "    subgraph_nodes = [gene_symbol] + neighbors\n",
    "    subgraph = G.subgraph(subgraph_nodes)\n",
    "else:\n",
    "    df_results = df_filtered\n",
    "\n",
    "# nodesを用意\n",
    "node_json = []\n",
    "for node in subgraph.nodes():\n",
    "    annotation = marker_mp_dict[node]\n",
    "    node_color = 1 if node == gene_symbol else 0\n",
    "    node_json.append(\n",
    "        {\n",
    "            \"data\": {\n",
    "                \"id\": node,\n",
    "                \"label\": node,\n",
    "                \"node_color\": node_color,\n",
    "                \"annotation\": annotation,\n",
    "            }\n",
    "        }\n",
    "    )\n",
    "# 0.0s"
   ]
  },
  {
   "cell_type": "code",
   "execution_count": null,
   "metadata": {},
   "outputs": [],
   "source": [
    "P(len(subgraph.nodes))  # 91\n",
    "PP(node_json[0])"
   ]
  },
  {
   "cell_type": "code",
   "execution_count": null,
   "metadata": {},
   "outputs": [],
   "source": [
    "# edgesを用意\n",
    "df_edge = df_overlap[\n",
    "    (df_overlap[\"marker1\"].isin(subgraph.nodes()))\n",
    "    & (df_overlap[\"marker2\"].isin(subgraph.nodes()))\n",
    "]\n",
    "\n",
    "edge_json = []\n",
    "for edge in df_edge.itertuples():\n",
    "    edge_json.append(\n",
    "        {\n",
    "            \"data\": {\n",
    "                \"source\": edge.marker1,\n",
    "                \"target\": edge.marker2,\n",
    "                \"edge_size\": edge.overlap_ratio,\n",
    "                \"annotation\": edge.overlapped_mp,\n",
    "            }\n",
    "        }\n",
    "    )\n",
    "P(len(edge_json))  # 91"
   ]
  },
  {
   "cell_type": "code",
   "execution_count": null,
   "metadata": {},
   "outputs": [],
   "source": [
    "edge_json[10]"
   ]
  },
  {
   "cell_type": "code",
   "execution_count": null,
   "metadata": {},
   "outputs": [],
   "source": [
    "df_edge = df_overlap[\n",
    "    (df_overlap[\"marker1\"].isin(subgraph.nodes()))\n",
    "    & (df_overlap[\"marker2\"].isin(subgraph.nodes()))\n",
    "]"
   ]
  },
  {
   "cell_type": "code",
   "execution_count": null,
   "metadata": {},
   "outputs": [],
   "source": [
    "df_edge[df_edge[\"marker1\"] == \"Anapc7\"]"
   ]
  },
  {
   "cell_type": "code",
   "execution_count": null,
   "metadata": {},
   "outputs": [],
   "source": [
    "df_edge[df_edge[\"marker2\"] == \"Anapc7\"]"
   ]
  },
  {
   "cell_type": "code",
   "execution_count": null,
   "metadata": {},
   "outputs": [],
   "source": [
    "# 昔の処理\n",
    "\n",
    "G = nx.from_pandas_edgelist(df_overlap, \"marker1\", \"marker2\")\n",
    "df_overlap = df_overlap.copy()\n",
    "df_overlap[\"id\"] = df_overlap.apply(\n",
    "    lambda row: \"-\".join(sorted([row[\"marker1\"], row[\"marker2\"]])), axis=1\n",
    ")\n",
    "\n",
    "# ノードAと直接つながっているノードのみを取得\n",
    "neighbors = list(G.neighbors(gene_symbol))\n",
    "subgraph_nodes = [gene_symbol] + neighbors\n",
    "subgraph = G.subgraph(subgraph_nodes)\n",
    "if len(subgraph.nodes) <= 500:\n",
    "    df_filtered = df_overlap\n",
    "else:\n",
    "    target_columns = 500\n",
    "    # 二分探索の範囲\n",
    "    low, high = df_overlap[\"overlap_ratio\"].min(), df_overlap[\"overlap_ratio\"].max()\n",
    "    best_overlap_ratio = None\n",
    "\n",
    "    while low <= high:\n",
    "        mid = (low + high) / 2\n",
    "\n",
    "        # overlap_ratio >= mid のデータをフィルタリング\n",
    "        df_mid = df_overlap[df_overlap[\"overlap_ratio\"] >= mid]\n",
    "\n",
    "        G = nx.from_pandas_edgelist(df_mid, \"marker1\", \"marker2\")\n",
    "        # ノードAと直接つながっているノードのみを取得\n",
    "        try:\n",
    "            neighbors = list(G.neighbors(gene_symbol))\n",
    "        except:\n",
    "            high = mid - 1e-6\n",
    "            continue\n",
    "        subgraph_nodes = [gene_symbol] + neighbors\n",
    "        subgraph = G.subgraph(subgraph_nodes)\n",
    "\n",
    "        row_count = len(subgraph.nodes)\n",
    "        # ターゲット列数に近い場合、結果を保存\n",
    "        if row_count == target_columns:\n",
    "            best_overlap_ratio = mid\n",
    "            break\n",
    "        elif row_count > target_columns:\n",
    "            # 列数が多い場合、範囲を上げる\n",
    "            best_overlap_ratio = mid\n",
    "            low = mid + 1e-6\n",
    "        else:\n",
    "            # 列数が少ない場合、範囲を下げる\n",
    "            best_overlap_ratio = mid\n",
    "            high = mid - 1e-6\n",
    "\n",
    "    df_filtered = df_overlap[df_overlap[\"overlap_ratio\"] >= best_overlap_ratio]\n",
    "\n",
    "# 前処理\n",
    "G = nx.from_pandas_edgelist(df_filtered, \"marker1\", \"marker2\")\n",
    "df_filtered = df_filtered.copy()\n",
    "df_filtered[\"id\"] = df_filtered.apply(\n",
    "    lambda row: \"-\".join(sorted([row[\"marker1\"], row[\"marker2\"]])), axis=1\n",
    ")\n",
    "\n",
    "# ノードAと直接つながっているノードのみを取得\n",
    "neighbors = list(G.neighbors(gene_symbol))\n",
    "subgraph_nodes = [gene_symbol] + neighbors\n",
    "subgraph = G.subgraph(subgraph_nodes)\n",
    "# nodesを用意\n",
    "node_json = []\n",
    "for node in subgraph.nodes():\n",
    "    annotation = marker_mp_dict[node]\n",
    "    node_color = 1 if node == gene_symbol else 0\n",
    "    node_json.append(\n",
    "        {\n",
    "            \"data\": {\n",
    "                \"id\": node,\n",
    "                \"label\": node,\n",
    "                \"node_color\": node_color,\n",
    "                \"annotation\": annotation,\n",
    "            }\n",
    "        }\n",
    "    )\n",
    "\n",
    "# 5.8s"
   ]
  },
  {
   "cell_type": "code",
   "execution_count": null,
   "metadata": {},
   "outputs": [],
   "source": [
    "P(len(subgraph.nodes))  # 91\n",
    "PP(node_json[:3])"
   ]
  },
  {
   "cell_type": "code",
   "execution_count": null,
   "metadata": {},
   "outputs": [],
   "source": [
    "old_nodes = {s for s in subgraph.nodes()}"
   ]
  },
  {
   "cell_type": "code",
   "execution_count": null,
   "metadata": {},
   "outputs": [],
   "source": [
    "new_nodes - old_nodes"
   ]
  },
  {
   "cell_type": "code",
   "execution_count": null,
   "metadata": {},
   "outputs": [],
   "source": []
  }
 ],
 "metadata": {
  "kernelspec": {
   "display_name": "Python 3",
   "language": "python",
   "name": "python3"
  },
  "language_info": {
   "codemirror_mode": {
    "name": "ipython",
    "version": 3
   },
   "file_extension": ".py",
   "mimetype": "text/x-python",
   "name": "python",
   "nbconvert_exporter": "python",
   "pygments_lexer": "ipython3",
   "version": "3.10.15"
  }
 },
 "nbformat": 4,
 "nbformat_minor": 2
}

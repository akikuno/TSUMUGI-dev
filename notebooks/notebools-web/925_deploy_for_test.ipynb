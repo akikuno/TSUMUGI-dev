{
 "cells": [
  {
   "cell_type": "markdown",
   "metadata": {},
   "source": [
    "# template から HTML と JS を生成する\n",
    "## テスト用のデータを test-tsumugi にコピー\n"
   ]
  },
  {
   "cell_type": "code",
   "execution_count": 1,
   "metadata": {},
   "outputs": [],
   "source": [
    "import os\n",
    "import json\n",
    "import gzip\n",
    "import shutil\n",
    "from pathlib import Path\n",
    "from collections import defaultdict\n",
    "\n",
    "import pandas as pd"
   ]
  },
  {
   "cell_type": "code",
   "execution_count": 2,
   "metadata": {},
   "outputs": [
    {
     "name": "stdout",
     "output_type": "stream",
     "text": [
      "/mnt/e/Research/TSUMUGI-dev-main/notebooks/notebools-web\n",
      "/mnt/e/Research/TSUMUGI-dev-main\n"
     ]
    }
   ],
   "source": [
    "# Move up to top directory\n",
    "\n",
    "print(os.getcwd())\n",
    "\n",
    "while not Path(\"LICENSE\").exists():\n",
    "    os.chdir(\"../\")\n",
    "\n",
    "print(os.getcwd())"
   ]
  },
  {
   "cell_type": "markdown",
   "metadata": {},
   "source": [
    "# 古いファイルの消去\n"
   ]
  },
  {
   "cell_type": "code",
   "execution_count": 3,
   "metadata": {},
   "outputs": [],
   "source": [
    "%%bash\n",
    "\n",
    "rm -rf test-tsumugi/data\n",
    "rm -rf test-tsumugi/app\n"
   ]
  },
  {
   "cell_type": "code",
   "execution_count": 4,
   "metadata": {},
   "outputs": [],
   "source": [
    "%%bash\n",
    "\n",
    "mkdir -p test-tsumugi/data/phenotype\n",
    "mkdir -p test-tsumugi/data/genesymbol\n",
    "mkdir -p test-tsumugi/app/phenotype\n",
    "mkdir -p test-tsumugi/app/genesymbol\n",
    "mkdir -p test-tsumugi/app/genelist/\n",
    "\n",
    "cp -r TSUMUGI/css test-tsumugi/ # copy top's CSS\n",
    "cp -r TSUMUGI/js test-tsumugi/ # copy top's JS\n",
    "\n",
    "cp -r TSUMUGI/template/css test-tsumugi/app/ # copy app's CSS\n",
    "cp -r TSUMUGI/template/js test-tsumugi/app/ # copy app's JS\n"
   ]
  },
  {
   "cell_type": "markdown",
   "metadata": {},
   "source": [
    "## index.html の描画に必要なファイルを生成する\n"
   ]
  },
  {
   "cell_type": "code",
   "execution_count": 5,
   "metadata": {},
   "outputs": [],
   "source": [
    "mp_terms = {}\n",
    "for path_mp_term in Path(\"data\", \"mp_term_name\").glob(\"*.csv\"):\n",
    "    mp_term = path_mp_term.stem\n",
    "    if not Path(\"data\", \"network\", \"mp_term_name\", f\"{mp_term}.json.gz\").exists():\n",
    "        continue\n",
    "    mp_term_name_space = mp_term.replace(\"_\", \" \")\n",
    "    mp_terms[mp_term_name_space] = mp_term"
   ]
  },
  {
   "cell_type": "code",
   "execution_count": 6,
   "metadata": {},
   "outputs": [
    {
     "name": "stdout",
     "output_type": "stream",
     "text": [
      "['abnormal abdominal wall morphology', 'abnormal adrenal gland morphology', 'abnormal allantois morphology']\n",
      "525\n"
     ]
    }
   ],
   "source": [
    "print(list(mp_terms)[:3])\n",
    "print(len(mp_terms))  # 515"
   ]
  },
  {
   "cell_type": "code",
   "execution_count": 7,
   "metadata": {},
   "outputs": [],
   "source": [
    "json.dump(mp_terms, open(\"data/overlap/available_mp_terms.json\", \"w\"), indent=2)\n",
    "pd.DataFrame(mp_terms.keys()).to_csv(\"data/overlap/available_mp_terms.txt\", index=False, header=False)"
   ]
  },
  {
   "cell_type": "code",
   "execution_count": 8,
   "metadata": {},
   "outputs": [],
   "source": [
    "%%bash\n",
    "\n",
    "cp data/overlap/available_mp_terms.json test-tsumugi/data/available_mp_terms.json\n",
    "cp data/overlap/available_mp_terms.txt test-tsumugi/data/available_mp_terms.txt\n",
    "cp data/overlap/available_gene_symbols.txt test-tsumugi/data/available_gene_symbols.txt\n",
    "cp data/annotation/symbol_mgiid.json test-tsumugi/data/marker_symbol_accession_id.json\n"
   ]
  },
  {
   "cell_type": "markdown",
   "metadata": {},
   "source": [
    "## index.html を生成\n"
   ]
  },
  {
   "cell_type": "code",
   "execution_count": 9,
   "metadata": {},
   "outputs": [],
   "source": [
    "%%bash\n",
    "\n",
    "grep -v \"REMOVE_THIS_LINE\" TSUMUGI/template/template_index.html > test-tsumugi/index.html"
   ]
  },
  {
   "cell_type": "markdown",
   "metadata": {},
   "source": [
    "# appのHTMLとJSを生成\n"
   ]
  },
  {
   "cell_type": "markdown",
   "metadata": {},
   "source": [
    "### binariyの表現型を抽出"
   ]
  },
  {
   "cell_type": "code",
   "execution_count": 10,
   "metadata": {},
   "outputs": [
    {
     "name": "stdout",
     "output_type": "stream",
     "text": [
      "154\n",
      "['abnormal_abdominal_wall_morphology ', 'abnormal_adrenal_gland_morphology ', 'abnormal_allantois_morphology ']\n"
     ]
    },
    {
     "data": {
      "text/plain": [
       "3761"
      ]
     },
     "execution_count": 10,
     "metadata": {},
     "output_type": "execute_result"
    }
   ],
   "source": [
    "path_files = Path(\"TSUMUGI\", \"data\", \"phenotype\").glob(\"*.json.gz\")\n",
    "binary_phenotypes = []\n",
    "for path_file in path_files:\n",
    "    mp_term_name = path_file.name.replace(\".json.gz\", \" \")\n",
    "    with gzip.open(path_file, \"rt\") as f:\n",
    "        json_data: list[dict] = json.load(f)\n",
    "\n",
    "    count_node_color = defaultdict(int)\n",
    "    for data in json_data:\n",
    "        if \"node_color\" not in data[\"data\"]:\n",
    "            continue\n",
    "        count_node_color[data[\"data\"][\"node_color\"]] += 1\n",
    "    if len(count_node_color) == 1 and 1 in count_node_color:\n",
    "        binary_phenotypes.append(mp_term_name)\n",
    "\n",
    "print(len(binary_phenotypes))\n",
    "print(binary_phenotypes[:3])\n",
    "Path(\"data\", \"annotation\", \"binary_phenotypes.txt\").write_text(\"\\n\".join(binary_phenotypes))"
   ]
  },
  {
   "cell_type": "markdown",
   "metadata": {},
   "source": [
    "## Phenotype"
   ]
  },
  {
   "cell_type": "code",
   "execution_count": 11,
   "metadata": {},
   "outputs": [],
   "source": [
    "# ========== ファイル処理ユーティリティ ==========\n",
    "\n",
    "\n",
    "def read_file(filepath):\n",
    "    with open(filepath, \"r\", encoding=\"utf-8\") as f:\n",
    "        return f.read()\n",
    "\n",
    "\n",
    "def write_file(filepath, content):\n",
    "    with open(filepath, \"w\", encoding=\"utf-8\") as f:\n",
    "        f.write(content)\n",
    "\n",
    "\n",
    "# ========== データ収集系関数 ==========\n",
    "\n",
    "\n",
    "def get_target_phenotypes(dir_path, target_phenotypes: list[str] | None = None):\n",
    "    targets = []\n",
    "    for file in Path(dir_path).glob(\"*.csv\"):\n",
    "        name = file.stem\n",
    "        if target_phenotypes is None:\n",
    "            targets.append(name)\n",
    "        else:\n",
    "            if name.startswith(target_phenotypes):\n",
    "                targets.append(name)\n",
    "    return targets\n",
    "\n",
    "\n",
    "def get_impc_url(mp_term_name_space, tsv_path):\n",
    "    with open(tsv_path, encoding=\"utf-8\") as f:\n",
    "        for line in f:\n",
    "            parts = line.strip().split(\"\\t\")\n",
    "            if parts[0] == mp_term_name_space:\n",
    "                return parts[1]\n",
    "    return \"\"\n",
    "\n",
    "\n",
    "def is_binary(mp_term, binary_file_path):\n",
    "    with open(binary_file_path) as f:\n",
    "        return any(line.strip() == mp_term for line in f)\n",
    "\n",
    "\n",
    "# ========== テンプレート系関数 ==========\n",
    "\n",
    "\n",
    "def replace_placeholder(template, placeholder, insert_text):\n",
    "    return template.replace(placeholder, insert_text)\n",
    "\n",
    "\n",
    "def inject_html(template_path, insert_path, placeholder, output_path):\n",
    "    template = read_file(template_path)\n",
    "    insert = read_file(insert_path)\n",
    "    updated = replace_placeholder(template, placeholder, insert)\n",
    "    write_file(output_path, updated)\n",
    "\n",
    "\n",
    "def generate_simple_html(template_path, output_path, replacements):\n",
    "    content = read_file(template_path)\n",
    "    for key, value in replacements.items():\n",
    "        content = content.replace(key, value)\n",
    "    write_file(output_path, content)\n",
    "\n",
    "\n",
    "# ========== HTML生成系関数 ==========\n",
    "\n",
    "\n",
    "def generate_all_html(mp_term, mp_term_name_space, impc_url, mode):\n",
    "    # control-panel と cy-container\n",
    "    for part in [\"control-panel\", \"cy-container\"]:\n",
    "        template_path = f\"TSUMUGI/template/template-app-html/{part}.html\"\n",
    "        output_path = f\"/tmp/{part}.html\"\n",
    "        if mode == \"non-binary-phenotype\":\n",
    "            insert_path = f\"TSUMUGI/template/template-app-html/{part}-phenotype.html\"\n",
    "            inject_html(template_path, insert_path, \"XXX_PHENOTYPE\", output_path)\n",
    "        else:\n",
    "            generate_simple_html(template_path, output_path, {\"XXX_PHENOTYPE\": \"\"})\n",
    "\n",
    "    # head.html\n",
    "    generate_simple_html(\n",
    "        \"TSUMUGI/template/template-app-html/head.html\",\n",
    "        \"/tmp/head.html\",\n",
    "        {\"XXX_TITLE\": mp_term_name_space, \"XXX_JS_FILE_NAME\": mp_term},\n",
    "    )\n",
    "\n",
    "    # header.html\n",
    "    header_insert = f\"<a href='{impc_url}' target='_blank'>{mp_term_name_space}</a>\"\n",
    "    generate_simple_html(\n",
    "        \"TSUMUGI/template/template-app-html/header.html\", \"/tmp/header.html\", {\"XXX_TITLE\": header_insert}\n",
    "    )\n",
    "\n",
    "    # template_app.html → 完成版HTML\n",
    "    template = read_file(\"TSUMUGI/template/template-app-html/template_app.html\")\n",
    "    final_html = (\n",
    "        template.replace(\"XXX_HEAD\", read_file(\"/tmp/head.html\"))\n",
    "        .replace(\"XXX_H1\", read_file(\"/tmp/header.html\"))\n",
    "        .replace(\"XXX_CONTROL_PANEL\", read_file(\"/tmp/control-panel.html\"))\n",
    "        .replace(\"XXX_CY_CONTAINER\", read_file(\"/tmp/cy-container.html\"))\n",
    "    )\n",
    "\n",
    "    write_file(f\"test-tsumugi/app/phenotype/{mp_term}.html\", final_html)\n",
    "\n",
    "\n",
    "# ========== JavaScript生成関数 ==========\n",
    "\n",
    "\n",
    "def generate_javascript(mp_term, mp_term_name_space, mode):\n",
    "    template_app_path = \"/tmp/template_app.js\"\n",
    "\n",
    "    if mode == \"non-binary-phenotype\":\n",
    "        shutil.copy(\n",
    "            \"TSUMUGI/template/template-app-js/filterByNodeColorAndEdgeSize_phenotype.js\",\n",
    "            \"/tmp/filterByNodeColorAndEdgeSize_phenotype.js\",\n",
    "        )\n",
    "\n",
    "        template = read_file(\"TSUMUGI/template/template-app-js/template_app.js\")\n",
    "        node_min_max = read_file(\"TSUMUGI/template/template-app-js/nodeMinMax.js\")\n",
    "        init = read_file(\"TSUMUGI/template/template-app-js/node_color_initialization.js\")\n",
    "        update = read_file(\"TSUMUGI/template/template-app-js/node_color_update.js\")\n",
    "        template = (\n",
    "            template.replace(\"XXX_NODE_MIN_MAX\", node_min_max)\n",
    "            .replace(\"XXX_NODE_COLOR_INITIALIZATION\", init)\n",
    "            .replace(\"XXX_NODE_COLOR_UPDATE\", update)\n",
    "        )\n",
    "        write_file(template_app_path, template)\n",
    "\n",
    "    else:\n",
    "        # Binary phenotype の処理\n",
    "        lines = read_file(\"TSUMUGI/template/template-app-js/filterByNodeColorAndEdgeSize_phenotype.js\").splitlines()\n",
    "        filtered_lines = \"\\n\".join(line for line in lines if \"REMOVE_THIS_LINE_IF_BINARY_PHENOTYPE\" not in line)\n",
    "        write_file(\"/tmp/filterByNodeColorAndEdgeSize_phenotype.js\", filtered_lines)\n",
    "\n",
    "        template = read_file(\"TSUMUGI/template/template-app-js/template_app.js\")\n",
    "        template = template.replace(\"XXX_NODE_COLOR_INITIALIZATION\", \"\").replace(\"XXX_NODE_COLOR_UPDATE\", \"\")\n",
    "        write_file(template_app_path, template)\n",
    "\n",
    "    # 最終JS生成\n",
    "    main_template = read_file(template_app_path)\n",
    "    insert = read_file(\"/tmp/filterByNodeColorAndEdgeSize_phenotype.js\")\n",
    "\n",
    "    final_js = (\n",
    "        main_template.replace(\"XXX_NODE_MIN_MAX\", \"\")\n",
    "        .replace(\"XXX_FILTER_BY_NODE_COLOR_AND_EDGE_SIZE\", insert)\n",
    "        .replace(\"XXX_EDGE_MAX\", \"const edgeMax = Math.max(...edgeSizes);\")\n",
    "        .replace(\"XXX_ELEMENTS\", f\"loadJSONGz('../../data/phenotype/{mp_term}.json.gz')\")\n",
    "        .replace(\"XXX_NAME\", mp_term)\n",
    "    )\n",
    "\n",
    "    write_file(f\"test-tsumugi/app/phenotype/{mp_term}.js\", final_js)\n"
   ]
  },
  {
   "cell_type": "code",
   "execution_count": 12,
   "metadata": {},
   "outputs": [
    {
     "name": "stdout",
     "output_type": "stream",
     "text": [
      "Processing: increased_fasting_circulating_glucose_level\n",
      "Processing: male_infertility\n",
      "Processing: preweaning_lethality,_complete_penetrance\n",
      "Processing: preweaning_lethality,_incomplete_penetrance\n"
     ]
    }
   ],
   "source": [
    "# ========== メイン処理 ==========\n",
    "target_phenotypes = (\"male_infertility\", \"increased_fasting\", \"preweaning_lethality\")\n",
    "phenotypes = get_target_phenotypes(\"data/mp_term_name\", target_phenotypes)\n",
    "\n",
    "for mp_term in phenotypes:\n",
    "    print(f\"Processing: {mp_term}\")\n",
    "    mp_term_name_space = mp_term.replace(\"_\", \" \")\n",
    "    impc_url = get_impc_url(mp_term_name_space, \"data/annotation/mptermname_phenotypeurl.tsv\")\n",
    "    mode = \"binary_phenotype\" if is_binary(mp_term, \"data/annotation/binary_phenotypes.txt\") else \"non-binary-phenotype\"\n",
    "\n",
    "    # データコピー\n",
    "    shutil.copy(f\"data/network/mp_term_name/{mp_term}.json.gz\", f\"test-tsumugi/data/phenotype/{mp_term}.json.gz\")\n",
    "\n",
    "    generate_all_html(mp_term, mp_term_name_space, impc_url, mode)\n",
    "    generate_javascript(mp_term, mp_term_name_space, mode)\n"
   ]
  },
  {
   "cell_type": "markdown",
   "metadata": {},
   "source": [
    "## Gene Symbol"
   ]
  },
  {
   "cell_type": "code",
   "execution_count": 13,
   "metadata": {},
   "outputs": [],
   "source": [
    "# ========== Gene Symbol用 HTML生成関数 ==========\n",
    "def generate_gene_html(gene_symbol, impc_url):\n",
    "    # control-panel と cy-container\n",
    "    for part in [\"control-panel\", \"cy-container\"]:\n",
    "        template_path = f\"TSUMUGI/template/template-app-html/{part}.html\"\n",
    "        output_path = f\"/tmp/{part}.html\"\n",
    "        generate_simple_html(template_path, output_path, {\"XXX_PHENOTYPE\": \"\"})\n",
    "\n",
    "    # head.html\n",
    "    generate_simple_html(\n",
    "        \"TSUMUGI/template/template-app-html/head.html\",\n",
    "        \"/tmp/head.html\",\n",
    "        {\"XXX_TITLE\": gene_symbol, \"XXX_JS_FILE_NAME\": gene_symbol},\n",
    "    )\n",
    "\n",
    "    # header.html\n",
    "    header_insert = f\"<a href='{impc_url}' target='_blank'>{gene_symbol}</a>\"\n",
    "    generate_simple_html(\n",
    "        \"TSUMUGI/template/template-app-html/header.html\", \"/tmp/header.html\", {\"XXX_TITLE\": header_insert}\n",
    "    )\n",
    "\n",
    "    # template_app.html\n",
    "    template = read_file(\"TSUMUGI/template/template-app-html/template_app.html\")\n",
    "    final_html = (\n",
    "        template.replace(\"XXX_HEAD\", read_file(\"/tmp/head.html\"))\n",
    "        .replace(\"XXX_H1\", read_file(\"/tmp/header.html\"))\n",
    "        .replace(\"XXX_CONTROL_PANEL\", read_file(\"/tmp/control-panel.html\"))\n",
    "        .replace(\"XXX_CY_CONTAINER\", read_file(\"/tmp/cy-container.html\"))\n",
    "    )\n",
    "\n",
    "    write_file(f\"test-tsumugi/app/genesymbol/{gene_symbol}.html\", final_html)\n",
    "\n",
    "\n",
    "# ========== JavaScript生成関数 ==========\n",
    "def generate_gene_javascript(gene_symbol):\n",
    "    # template_app.js のベース作成（特定部分除去）\n",
    "    template_lines = read_file(\"TSUMUGI/template/template-app-js/template_app.js\").splitlines()\n",
    "    filtered_lines = [\n",
    "        line\n",
    "        for line in template_lines\n",
    "        if \"XXX_NODE_COLOR_INITIALIZATION\" not in line and \"XXX_NODE_COLOR_UPDATE\" not in line\n",
    "    ]\n",
    "    write_file(\"/tmp/template_app.js\", \"\\n\".join(filtered_lines))\n",
    "\n",
    "    # JS中に埋め込むコードを差し込み\n",
    "    template = read_file(\"/tmp/template_app.js\")\n",
    "    insert_filterByNodeColorAndEdgeSize = read_file(\n",
    "        \"TSUMUGI/template/template-app-js/filterByNodeColorAndEdgeSize_genesymbol.js\"\n",
    "    )\n",
    "    insert_edgeMax = read_file(\"TSUMUGI/template/template-app-js/edgeMax_on_genesymbol.js\")\n",
    "\n",
    "    final_js = (\n",
    "        template.replace(\"XXX_FILTER_BY_NODE_COLOR_AND_EDGE_SIZE\", insert_filterByNodeColorAndEdgeSize)\n",
    "        .replace(\"XXX_NODE_MIN_MAX\", \"\")\n",
    "        .replace(\"XXX_EDGE_MAX\", insert_edgeMax)\n",
    "        .replace(\"XXX_ELEMENTS\", \"loadJSONGz('../../data/genesymbol/XXX_NAME.json.gz')\")\n",
    "        .replace(\"XXX_NAME\", gene_symbol)\n",
    "    )\n",
    "\n",
    "    write_file(f\"test-tsumugi/app/genesymbol/{gene_symbol}.js\", final_js)\n",
    "\n",
    "\n",
    "# ========== MGI ID 取得関数 ==========\n",
    "def get_mgi_id(gene_symbol, tsv_path=\"data/annotation/symbol_mgiid.tsv\"):\n",
    "    with open(tsv_path, encoding=\"utf-8\") as f:\n",
    "        for line in f:\n",
    "            parts = line.strip().split(\"\\t\")\n",
    "            if parts[0] == gene_symbol:\n",
    "                return parts[1]\n",
    "    return \"\""
   ]
  },
  {
   "cell_type": "code",
   "execution_count": 14,
   "metadata": {},
   "outputs": [
    {
     "name": "stdout",
     "output_type": "stream",
     "text": [
      "Processing: Rab10\n",
      "Processing: Asxl1\n",
      "Processing: Ddx46\n",
      "Processing: Ap3b2\n",
      "Processing: Kcnma1\n"
     ]
    }
   ],
   "source": [
    "# ========== メイン処理 ==========\n",
    "target_genes = [\"Rab10\", \"Asxl1\", \"Ddx46\", \"Ap3b2\", \"Kcnma1\"]\n",
    "with open(\"data/overlap/available_gene_symbols.txt\", encoding=\"utf-8\") as f:\n",
    "    available = {line.strip() for line in f}\n",
    "\n",
    "for gene_symbol in target_genes:\n",
    "    if gene_symbol not in available:\n",
    "        continue\n",
    "\n",
    "    print(f\"Processing: {gene_symbol}\")\n",
    "\n",
    "    # データコピー\n",
    "    src = f\"data/network/gene_symbol/{gene_symbol}.json.gz\"\n",
    "    dst = f\"test-tsumugi/data/genesymbol/{gene_symbol}.json.gz\"\n",
    "    os.makedirs(os.path.dirname(dst), exist_ok=True)\n",
    "    shutil.copy(src, dst)\n",
    "\n",
    "    # URL生成\n",
    "    mgi_id = get_mgi_id(gene_symbol)\n",
    "    impc_url = f\"https://www.mousephenotype.org/data/genes/{mgi_id}\"\n",
    "\n",
    "    # HTMLとJS生成\n",
    "    generate_gene_html(gene_symbol, impc_url)\n",
    "    generate_gene_javascript(gene_symbol)\n"
   ]
  },
  {
   "cell_type": "markdown",
   "metadata": {},
   "source": [
    "## Gene List"
   ]
  },
  {
   "cell_type": "code",
   "execution_count": 15,
   "metadata": {},
   "outputs": [],
   "source": [
    "# ========== Gene List用 HTML生成関数 ==========\n",
    "def generate_genelist_html():\n",
    "    # control-panel と cy-container\n",
    "    for part in [\"control-panel\", \"cy-container\"]:\n",
    "        template_path = f\"TSUMUGI/template/template-app-html/{part}.html\"\n",
    "        output_path = f\"/tmp/{part}.html\"\n",
    "        generate_simple_html(template_path, output_path, {\"XXX_PHENOTYPE\": \"\"})\n",
    "\n",
    "    # head.html\n",
    "    generate_simple_html(\n",
    "        \"TSUMUGI/template/template-app-html/head.html\",\n",
    "        \"/tmp/head.html\",\n",
    "        {\"XXX_TITLE\": \"Gene List\", \"XXX_JS_FILE_NAME\": \"network_genelist\"},\n",
    "    )\n",
    "\n",
    "    # header.html\n",
    "    header_insert = \"gene list\"\n",
    "    generate_simple_html(\n",
    "        \"TSUMUGI/template/template-app-html/header.html\", \"/tmp/header.html\", {\"XXX_TITLE\": header_insert}\n",
    "    )\n",
    "\n",
    "    # template_app.html\n",
    "    template = read_file(\"TSUMUGI/template/template-app-html/template_app.html\")\n",
    "    final_html = (\n",
    "        template.replace(\"XXX_HEAD\", read_file(\"/tmp/head.html\"))\n",
    "        .replace(\"XXX_H1\", read_file(\"/tmp/header.html\"))\n",
    "        .replace(\"XXX_CONTROL_PANEL\", read_file(\"/tmp/control-panel.html\"))\n",
    "        .replace(\"XXX_CY_CONTAINER\", read_file(\"/tmp/cy-container.html\"))\n",
    "    )\n",
    "\n",
    "    write_file(\"test-tsumugi/app/genelist/network_genelist.html\", final_html)\n",
    "\n",
    "\n",
    "# ========== JavaScript生成関数 ==========\n",
    "def generate_genelist_javascript():\n",
    "    # template_app.js のベース作成（特定部分除去）\n",
    "    template_lines = read_file(\"TSUMUGI/template/template-app-js/template_app.js\").splitlines()\n",
    "    filtered_lines = [\n",
    "        line\n",
    "        for line in template_lines\n",
    "        if \"XXX_NODE_COLOR_INITIALIZATION\" not in line and \"XXX_NODE_COLOR_UPDATE\" not in line\n",
    "    ]\n",
    "    write_file(\"/tmp/template_app.js\", \"\\n\".join(filtered_lines))\n",
    "\n",
    "    # JS中に埋め込むコードを差し込み\n",
    "    template = read_file(\"/tmp/template_app.js\")\n",
    "    insert = read_file(\"TSUMUGI/template/template-app-js/filterByNodeColorAndEdgeSize_genelist.js\")\n",
    "\n",
    "    final_js = (\n",
    "        template.replace(\"XXX_FILTER_BY_NODE_COLOR_AND_EDGE_SIZE\", insert)\n",
    "        .replace(\"XXX_NODE_MIN_MAX\", \"\")\n",
    "        .replace(\"XXX_EDGE_MAX\", \"const edgeMax = Math.max(...edgeSizes);\")\n",
    "        .replace(\"XXX_ELEMENTS\", \"JSON.parse(localStorage.getItem('elements'))\")\n",
    "        .replace(\"XXX_NAME\", \"geneList\")\n",
    "    )\n",
    "\n",
    "    write_file(\"test-tsumugi/app/genelist/network_genelist.js\", final_js)\n"
   ]
  },
  {
   "cell_type": "code",
   "execution_count": 16,
   "metadata": {},
   "outputs": [],
   "source": [
    "# ========== メイン処理 ==========\n",
    "# HTMLとJS生成\n",
    "generate_genelist_html()\n",
    "generate_genelist_javascript()\n"
   ]
  },
  {
   "cell_type": "code",
   "execution_count": 17,
   "metadata": {},
   "outputs": [],
   "source": [
    "%%bash\n",
    "\n",
    "prettier --write \\\n",
    "    \"test-tsumugi/index.html\" \\\n",
    "    \"test-tsumugi/js/**/*\" \\\n",
    "    \"test-tsumugi/app/**/*\" \\\n",
    "    --print-width 120 --prose-wrap never --tab-width 4 > /dev/null 2>&1\n",
    "\n"
   ]
  },
  {
   "cell_type": "code",
   "execution_count": 18,
   "metadata": {},
   "outputs": [
    {
     "name": "stdout",
     "output_type": "stream",
     "text": [
      "Linux Sycom-2021 5.15.167.4-microsoft-standard-WSL2 #1 SMP Tue Nov 5 00:21:55 UTC 2024 x86_64 x86_64 x86_64 GNU/Linux\n",
      "2025/04/19 11:51:59\n"
     ]
    }
   ],
   "source": [
    "%%bash\n",
    "\n",
    "uname -a  # OS name\n",
    "date +\"%Y/%m/%d %H:%M:%S\"  # Last update"
   ]
  },
  {
   "cell_type": "code",
   "execution_count": null,
   "metadata": {},
   "outputs": [],
   "source": []
  },
  {
   "cell_type": "code",
   "execution_count": null,
   "metadata": {},
   "outputs": [],
   "source": []
  }
 ],
 "metadata": {
  "kernelspec": {
   "display_name": "env-tsumugi",
   "language": "python",
   "name": "python3"
  },
  "language_info": {
   "codemirror_mode": {
    "name": "ipython",
    "version": 3
   },
   "file_extension": ".py",
   "mimetype": "text/x-python",
   "name": "python",
   "nbconvert_exporter": "python",
   "pygments_lexer": "ipython3",
   "version": "3.12.10"
  }
 },
 "nbformat": 4,
 "nbformat_minor": 2
}

{
 "cells": [
  {
   "cell_type": "markdown",
   "metadata": {},
   "source": [
    "# template から HTML と JS を生成する\n",
    "## テスト用のデータを test-tsumugi にコピー\n"
   ]
  },
  {
   "cell_type": "code",
   "execution_count": 1,
   "metadata": {},
   "outputs": [],
   "source": [
    "import os\n",
    "from pathlib import Path\n",
    "import json\n",
    "import gzip\n",
    "from collections import defaultdict\n",
    "\n",
    "import pandas as pd"
   ]
  },
  {
   "cell_type": "code",
   "execution_count": 2,
   "metadata": {},
   "outputs": [
    {
     "name": "stdout",
     "output_type": "stream",
     "text": [
      "/mnt/e/Research/TSUMUGI-dev-branch/notebooks/notebools-web\n",
      "/mnt/e/Research/TSUMUGI-dev-branch\n"
     ]
    }
   ],
   "source": [
    "# Move up to top directory\n",
    "\n",
    "print(os.getcwd())\n",
    "\n",
    "while not Path(\"LICENSE\").exists():\n",
    "    os.chdir(\"../\")\n",
    "\n",
    "print(os.getcwd())"
   ]
  },
  {
   "cell_type": "markdown",
   "metadata": {},
   "source": [
    "# 古いファイルの消去\n"
   ]
  },
  {
   "cell_type": "code",
   "execution_count": 3,
   "metadata": {},
   "outputs": [],
   "source": [
    "%%bash\n",
    "\n",
    "rm -rf test-tsumugi/data\n",
    "rm -rf test-tsumugi/app\n",
    "# 10 sec"
   ]
  },
  {
   "cell_type": "code",
   "execution_count": 4,
   "metadata": {},
   "outputs": [],
   "source": [
    "%%bash\n",
    "\n",
    "mkdir -p test-tsumugi/data/phenotype\n",
    "mkdir -p test-tsumugi/data/genesymbol\n",
    "mkdir -p test-tsumugi/app/phenotype\n",
    "mkdir -p test-tsumugi/app/genesymbol\n",
    "mkdir -p test-tsumugi/app/genelist/\n",
    "\n",
    "cp -r TSUMUGI/css test-tsumugi/ # copy top's CSS\n",
    "cp -r TSUMUGI/js test-tsumugi/ # copy top's JS\n",
    "\n",
    "cp -r TSUMUGI/template/css test-tsumugi/app/ # copy app's CSS\n",
    "cp -r TSUMUGI/template/js test-tsumugi/app/ # copy app's JS\n"
   ]
  },
  {
   "cell_type": "markdown",
   "metadata": {},
   "source": [
    "## index.html の描画に必要なファイルを生成する\n"
   ]
  },
  {
   "cell_type": "code",
   "execution_count": 5,
   "metadata": {},
   "outputs": [],
   "source": [
    "mp_terms = {}\n",
    "for path_mp_term in Path(\"data\", \"mp_term_name\").glob(\"*.csv\"):\n",
    "    mp_term = path_mp_term.stem\n",
    "    if not Path(\"data\", \"network\", \"mp_term_name\", f\"{mp_term}.json.gz\").exists():\n",
    "        continue\n",
    "    mp_term_name_space = mp_term.replace(\"_\", \" \")\n",
    "    mp_terms[mp_term_name_space] = mp_term"
   ]
  },
  {
   "cell_type": "code",
   "execution_count": 6,
   "metadata": {},
   "outputs": [
    {
     "name": "stdout",
     "output_type": "stream",
     "text": [
      "['abnormal abdominal wall morphology', 'abnormal adrenal gland morphology', 'abnormal allantois morphology']\n",
      "517\n"
     ]
    }
   ],
   "source": [
    "print(list(mp_terms)[:3])\n",
    "print(len(mp_terms))  # 515"
   ]
  },
  {
   "cell_type": "code",
   "execution_count": 7,
   "metadata": {},
   "outputs": [],
   "source": [
    "json.dump(mp_terms, open(\"data/overlap/available_mp_terms.json\", \"w\"), indent=2)\n",
    "pd.DataFrame(mp_terms.keys()).to_csv(\n",
    "    \"data/overlap/available_mp_terms.txt\", index=False, header=False\n",
    ")"
   ]
  },
  {
   "cell_type": "code",
   "execution_count": 8,
   "metadata": {},
   "outputs": [],
   "source": [
    "%%bash\n",
    "\n",
    "cp data/overlap/available_mp_terms.json test-tsumugi/data/available_mp_terms.json\n",
    "cp data/overlap/available_mp_terms.txt test-tsumugi/data/available_mp_terms.txt\n",
    "cp data/overlap/available_gene_symbols.txt test-tsumugi/data/available_gene_symbols.txt\n",
    "cp data/annotation/symbol_mgiid.json test-tsumugi/data/marker_symbol_accession_id.json\n"
   ]
  },
  {
   "cell_type": "markdown",
   "metadata": {},
   "source": [
    "## index.html を生成\n"
   ]
  },
  {
   "cell_type": "code",
   "execution_count": 9,
   "metadata": {},
   "outputs": [],
   "source": [
    "%%bash\n",
    "\n",
    "grep -v \"REMOVE_THIS_LINE\" TSUMUGI/template/template_index.html > test-tsumugi/index.html"
   ]
  },
  {
   "cell_type": "markdown",
   "metadata": {},
   "source": [
    "# Template から HTML と JS を生成\n"
   ]
  },
  {
   "cell_type": "markdown",
   "metadata": {},
   "source": [
    "### binariyの表現型を抽出"
   ]
  },
  {
   "cell_type": "code",
   "execution_count": 10,
   "metadata": {},
   "outputs": [
    {
     "name": "stdout",
     "output_type": "stream",
     "text": [
      "154\n",
      "['abnormal_abdominal_wall_morphology ', 'abnormal_adrenal_gland_morphology ', 'abnormal_allantois_morphology ']\n"
     ]
    },
    {
     "data": {
      "text/plain": [
       "3761"
      ]
     },
     "execution_count": 10,
     "metadata": {},
     "output_type": "execute_result"
    }
   ],
   "source": [
    "path_files = Path(\"TSUMUGI\", \"data\", \"phenotype\").glob(\"*.json.gz\")\n",
    "binary_phenotypes = []\n",
    "for path_file in path_files:\n",
    "    mp_term_name = path_file.name.replace(\".json.gz\", \" \")\n",
    "    with gzip.open(path_file, \"rt\") as f:\n",
    "        json_data: list[dict] = json.load(f)\n",
    "\n",
    "    count_node_color = defaultdict(int)\n",
    "    for data in json_data:\n",
    "        if \"node_color\" not in data[\"data\"]:\n",
    "            continue\n",
    "        count_node_color[data[\"data\"][\"node_color\"]] += 1\n",
    "    if len(count_node_color) == 1 and 1 in count_node_color:\n",
    "        binary_phenotypes.append(mp_term_name)\n",
    "\n",
    "print(len(binary_phenotypes))\n",
    "print(binary_phenotypes[:3])\n",
    "Path(\"data\", \"annotation\", \"binary_phenotypes.txt\").write_text(\"\\n\".join(binary_phenotypes))"
   ]
  },
  {
   "cell_type": "markdown",
   "metadata": {},
   "source": []
  },
  {
   "cell_type": "code",
   "execution_count": 11,
   "metadata": {},
   "outputs": [
    {
     "name": "stdout",
     "output_type": "stream",
     "text": [
      "increased_fasting_circulating_glucose_level\n"
     ]
    },
    {
     "name": "stdout",
     "output_type": "stream",
     "text": [
      "male_infertility\n",
      "preweaning_lethality,_complete_penetrance\n",
      "preweaning_lethality,_incomplete_penetrance\n"
     ]
    }
   ],
   "source": [
    "%%bash\n",
    "\n",
    "########################################\n",
    "# Phenotype\n",
    "########################################\n",
    "\n",
    "find data/mp_term_name -type f |\n",
    "    sed \"s|data/mp_term_name/||\" |\n",
    "    sed \"s|.csv$||\" |\n",
    "    grep -e ^male_infertility -e ^increased_fasting -e \"^prewe\" | # <- ここで興味のあるphenotypeを選択\n",
    "    while read -r mp_term_name_underscore; do\n",
    "        echo $mp_term_name_underscore\n",
    "\n",
    "        # --------------------------\n",
    "        # Data\n",
    "        # --------------------------\n",
    "        cp -r data/network/mp_term_name/\"$mp_term_name_underscore\".json.gz test-tsumugi/data/phenotype\n",
    "        \n",
    "        mp_term_name_space=$(echo \"$mp_term_name_underscore\" | sed \"s|_| |g\")\n",
    "        impc_url=$(awk -F \"\\t\" -v mp=\"$mp_term_name_space\" '$1 == mp {print $2}' data/annotation/mptermname_phenotypeurl.tsv)\n",
    "        escaped_url=$(echo \"$impc_url\" | sed 's/\\//\\\\\\//g')\n",
    "\n",
    "        # --------------------------\n",
    "        # HTML\n",
    "        # --------------------------\n",
    "        # すべての効果量が１の場合、表現型の重症度でのフィルターを削除\n",
    "        mode=\"non-binary-phenotype\"\n",
    "        grep -q \"^$mp_term_name_underscore\" data/annotation/binary_phenotypes.txt && mode=\"binary_phenotype\"\n",
    "\n",
    "        if [ \"$mode\" = \"non-binary-phenotype\" ] ; then\n",
    "\n",
    "            # -----------------------------\n",
    "            # contol-panel.html\n",
    "            # -----------------------------\n",
    "            template_file=\"TSUMUGI/template/html/control-panel.html\"\n",
    "            insert_file=\"TSUMUGI/template/html/control-panel-phenotype.html\"\n",
    "            output_file=\"/tmp/control-panel.html\"\n",
    "            replacement=$(<\"$insert_file\")\n",
    "            # AWKで置換（プレースホルダーを一時的にマーカーに置換し、そこに挿入）\n",
    "            awk -v f=\"$insert_file\" 'BEGIN{r=\"\"; while((getline l<f)>0) r=r l ORS; close(f)} {gsub(/XXX_PHENOTYPE/, r); print}' \"$template_file\" > \"$output_file\"\n",
    "\n",
    "\n",
    "            # -----------------------------\n",
    "            # cy-container.html\n",
    "            # -----------------------------\n",
    "            template_file=\"TSUMUGI/template/html/cy-container.html\"\n",
    "            insert_file=\"TSUMUGI/template/html/cy-container-phenotype.html\"\n",
    "            output_file=\"/tmp/cy-container.html\"\n",
    "            replacement=$(<\"$insert_file\")\n",
    "            # AWKで置換（プレースホルダーを一時的にマーカーに置換し、そこに挿入）\n",
    "            awk -v f=\"$insert_file\" 'BEGIN{r=\"\"; while((getline l<f)>0) r=r l ORS; close(f)} {gsub(/XXX_PHENOTYPE/, r); print}' \"$template_file\" > \"$output_file\"\n",
    "        else\n",
    "            sed \"s|XXX_PHENOTYPE||\" TSUMUGI/template/html/control-panel.html > /tmp/control-panel.html\n",
    "            sed \"s|XXX_PHENOTYPE||\" TSUMUGI/template/html/cy-container.html > /tmp/cy-container.html\n",
    "        fi\n",
    "\n",
    "        # -----------------------------\n",
    "        # head.html\n",
    "        # ----------------------------- \n",
    "        template_file=\"TSUMUGI/template/html/head.html\"\n",
    "        output_file=\"/tmp/head.html\"\n",
    "        \n",
    "        cat \"$template_file\" |\n",
    "            sed \"s|XXX_TITLE|${mp_term_name_space}|\" |\n",
    "            sed \"s|XXX_JS_FILE_NAME|${mp_term_name_underscore}|\" > \"$output_file\"\n",
    "\n",
    "        # -----------------------------\n",
    "        # header.html\n",
    "        # ----------------------------- \n",
    "        template_file=\"TSUMUGI/template/html/header.html\"\n",
    "        insert_html=\"<a href='${impc_url}' target='_blank'>${mp_term_name_space}</a>\"\n",
    "        output_file=\"/tmp/header.html\"\n",
    "        \n",
    "        cat \"$template_file\" |\n",
    "            sed \"s|XXX_TITLE|${insert_html}|\" > \"$output_file\"\n",
    "\n",
    "        # -----------------------------\n",
    "        # template_app.html\n",
    "        # -----------------------------\n",
    "        template_file=\"TSUMUGI/template/html/template_app.html\"\n",
    "        head_file=\"/tmp/head.html\"\n",
    "        header_file=\"/tmp/header.html\"\n",
    "        control_panel_file=\"/tmp/control-panel.html\"\n",
    "        cy_container_file=\"/tmp/cy-container.html\"\n",
    "        \n",
    "        escape() {\n",
    "                sed -e 's/[\\/&]/\\\\&/g' -e ':a;N;$!ba;s/\\n/\\\\n/g' \"$1\"\n",
    "        }\n",
    "        head_html=$(escape \"$head_file\")\n",
    "        header_html=$(escape \"$header_file\")\n",
    "        control_panel_html=$(escape \"$control_panel_file\")\n",
    "        cy_container_html=$(escape \"$cy_container_file\")\n",
    "\n",
    "        # 置換して \\n を改行に戻す\n",
    "        sed -e \"s|XXX_HEAD|$head_html|\" \\\n",
    "            -e \"s|XXX_H1|$header_html|\" \\\n",
    "            -e \"s|XXX_CONTROL_PANEL|$control_panel_html|\" \\\n",
    "            -e \"s|XXX_CY_CONTAINER|$cy_container_html|\" \\\n",
    "            \"$template_file\" | sed 's/\\\\n/\\\n",
    "        /g' > test-tsumugi/app/phenotype/\"$mp_term_name_underscore\".html\n",
    "\n",
    "        # --------------------------\n",
    "        # Javascript\n",
    "        # --------------------------\n",
    "        # すべての効果量が１の場合、表現型の重症度でのスライダーを削除\n",
    "        if grep -q \"^$mp_term_name_underscore\" data/annotation/binary_phenotypes.txt; then\n",
    "            cat TSUMUGI/template/phenotype/template_network_phenotype.js |\n",
    "                sed '/REMOVE_FROM_THIS_LINE/,/REMOVE_TO_THIS_LINE/d' |\n",
    "                grep -v \"REMOVE_THIS_LINE\" |\n",
    "                sed \"s|XXX_mp_term_name_underscore|${mp_term_name_underscore}|g\" > test-tsumugi/app/phenotype/\"$mp_term_name_underscore\".js\n",
    "        else\n",
    "            cat TSUMUGI/template/phenotype/template_network_phenotype.js |\n",
    "                grep -v \"REMOVE_THIS_LINE\" |\n",
    "                sed \"s|XXX_mp_term_name_underscore|${mp_term_name_underscore}|g\" > test-tsumugi/app/phenotype/\"$mp_term_name_underscore\".js\n",
    "        fi\n",
    "\n",
    "    done"
   ]
  },
  {
   "cell_type": "code",
   "execution_count": 12,
   "metadata": {},
   "outputs": [
    {
     "name": "stdout",
     "output_type": "stream",
     "text": [
      "Ap3b2\n",
      "Asxl1\n",
      "Ddx46\n",
      "Kcnma1\n",
      "Rab10\n"
     ]
    }
   ],
   "source": [
    "%%bash\n",
    "\n",
    "########################################\n",
    "# Gene Symbol\n",
    "########################################\n",
    "\n",
    "cat data/overlap/available_gene_symbols.txt |\n",
    "    grep -e Rab10 -e Asxl1 -e Ddx46 -e Ap3b2 -e Kcnma1 | # <- ここで興味のあるgene symbolを選択\n",
    "    while read gene_symbol; do\n",
    "        echo $gene_symbol\n",
    "\n",
    "        # --------------------------\n",
    "        # Data\n",
    "        # --------------------------\n",
    "\n",
    "        cp -f data/network/gene_symbol/\"$gene_symbol\".json.gz test-tsumugi/data/genesymbol\n",
    "\n",
    "        mgi_id=$(awk -F \"\\t\" -v key=\"$gene_symbol\" '$1 == key {print $2}' data/annotation/symbol_mgiid.tsv)\n",
    "        impc_url=\"https://www.mousephenotype.org/data/genes/\"${mgi_id}\n",
    "        escaped_url=$(echo \"$impc_url\" | sed 's/\\//\\\\\\//g')\n",
    "\n",
    "        # HTML\n",
    "        sed \"s|XXX_PHENOTYPE||\" TSUMUGI/template/html/control-panel.html > /tmp/control-panel.html\n",
    "        sed \"s|XXX_PHENOTYPE||\" TSUMUGI/template/html/cy-container.html > /tmp/cy-container.html\n",
    "\n",
    "        # -----------------------------\n",
    "        # head.html\n",
    "        # ----------------------------- \n",
    "        template_file=\"TSUMUGI/template/html/head.html\"\n",
    "        \n",
    "        cat \"$template_file\" |\n",
    "            sed \"s|XXX_TITLE|${gene_symbol}|\" |\n",
    "            sed \"s|XXX_JS_FILE_NAME|${gene_symbol}|\" > /tmp/head.html\n",
    "\n",
    "        # -----------------------------\n",
    "        # header.html\n",
    "        # ----------------------------- \n",
    "        template_file=\"TSUMUGI/template/html/header.html\"\n",
    "        insert_html=\"<a href='${impc_url}' target='_blank'>${gene_symbol}</a>\"\n",
    "        \n",
    "        sed \"s|XXX_TITLE|${insert_html}|\" \"$template_file\" > /tmp/header.html\n",
    "\n",
    "        # -----------------------------\n",
    "        # template_app.html\n",
    "        # -----------------------------\n",
    "        template_file=\"TSUMUGI/template/html/template_app.html\"\n",
    "        head_file=\"/tmp/head.html\"\n",
    "        header_file=\"/tmp/header.html\"\n",
    "        control_panel_file=\"/tmp/control-panel.html\"\n",
    "        cy_container_file=\"/tmp/cy-container.html\"\n",
    "        \n",
    "        escape() {\n",
    "                sed -e 's/[\\/&]/\\\\&/g' -e ':a;N;$!ba;s/\\n/\\\\n/g' \"$1\"\n",
    "        }\n",
    "        head_html=$(escape \"$head_file\")\n",
    "        header_html=$(escape \"$header_file\")\n",
    "        control_panel_html=$(escape \"$control_panel_file\")\n",
    "        cy_container_html=$(escape \"$cy_container_file\")\n",
    "\n",
    "        # 置換して \\n を改行に戻す\n",
    "        sed -e \"s|XXX_HEAD|$head_html|\" \\\n",
    "            -e \"s|XXX_H1|$header_html|\" \\\n",
    "            -e \"s|XXX_CONTROL_PANEL|$control_panel_html|\" \\\n",
    "            -e \"s|XXX_CY_CONTAINER|$cy_container_html|\" \\\n",
    "            \"$template_file\" | sed 's/\\\\n/\\\n",
    "        /g' > test-tsumugi/app/genesymbol/\"$gene_symbol\".html\n",
    "\n",
    "        # Javascript\n",
    "        cat TSUMUGI/template/genesymbol/template_network_genesymbol.js |\n",
    "            sed '/REMOVE_FROM_THIS_LINE/,/REMOVE_TO_THIS_LINE/d' |\n",
    "            grep -v \"REMOVE_THIS_LINE\" |\n",
    "            sed \"s|XXX_genesymbol|${gene_symbol}|g\" > test-tsumugi/app/genesymbol/\"$gene_symbol\".js\n",
    "\n",
    "    done"
   ]
  },
  {
   "cell_type": "code",
   "execution_count": 13,
   "metadata": {},
   "outputs": [],
   "source": [
    "%%bash\n",
    "\n",
    "########################################\n",
    "# Gene List\n",
    "########################################\n",
    "\n",
    "# HTML\n",
    "sed \"s|XXX_PHENOTYPE||\" TSUMUGI/template/html/control-panel.html > /tmp/control-panel.html\n",
    "sed \"s|XXX_PHENOTYPE||\" TSUMUGI/template/html/cy-container.html > /tmp/cy-container.html\n",
    "\n",
    "# -----------------------------\n",
    "# head.html\n",
    "# ----------------------------- \n",
    "template_file=\"TSUMUGI/template/html/head.html\"\n",
    "\n",
    "cat \"$template_file\" |\n",
    "    sed \"s|XXX_TITLE|Gene List|\" |\n",
    "    sed \"s|XXX_JS_FILE_NAME|network_genelist|\" > /tmp/head.html\n",
    "\n",
    "# -----------------------------\n",
    "# header.html\n",
    "# ----------------------------- \n",
    "template_file=\"TSUMUGI/template/html/header.html\"\n",
    "\n",
    "sed \"s|XXX_TITLE|gene list|\" \"$template_file\" > /tmp/header.html\n",
    "\n",
    "# -----------------------------\n",
    "# template_app.html\n",
    "# -----------------------------\n",
    "template_file=\"TSUMUGI/template/html/template_app.html\"\n",
    "head_file=\"/tmp/head.html\"\n",
    "header_file=\"/tmp/header.html\"\n",
    "control_panel_file=\"/tmp/control-panel.html\"\n",
    "cy_container_file=\"/tmp/cy-container.html\"\n",
    "\n",
    "escape() {\n",
    "        sed -e 's/[\\/&]/\\\\&/g' -e ':a;N;$!ba;s/\\n/\\\\n/g' \"$1\"\n",
    "}\n",
    "head_html=$(escape \"$head_file\")\n",
    "header_html=$(escape \"$header_file\")\n",
    "control_panel_html=$(escape \"$control_panel_file\")\n",
    "cy_container_html=$(escape \"$cy_container_file\")\n",
    "\n",
    "# 置換して \\n を改行に戻す\n",
    "sed -e \"s|XXX_HEAD|$head_html|\" \\\n",
    "    -e \"s|XXX_H1|$header_html|\" \\\n",
    "    -e \"s|XXX_CONTROL_PANEL|$control_panel_html|\" \\\n",
    "    -e \"s|XXX_CY_CONTAINER|$cy_container_html|\" \\\n",
    "    \"$template_file\" | sed 's/\\\\n/\\\n",
    "/g' > test-tsumugi/app/genelist/network_genelist.html\n",
    "\n",
    "# Javascript\n",
    "cat TSUMUGI/template/genelist/template_network_genelist.js |\n",
    "    sed '/REMOVE_FROM_THIS_LINE/,/REMOVE_TO_THIS_LINE/d' |\n",
    "    grep -v \"REMOVE_THIS_LINE\" > test-tsumugi/app/genelist/network_genelist.js\n"
   ]
  },
  {
   "cell_type": "code",
   "execution_count": 14,
   "metadata": {},
   "outputs": [
    {
     "name": "stdout",
     "output_type": "stream",
     "text": [
      "\u001b[90mtest-tsumugi/index.html\u001b[39m 81ms (unchanged)\n",
      "test-tsumugi/js/genelist_formatter.js 47ms\n",
      "test-tsumugi/js/top.js 35ms\n",
      "\u001b[90mtest-tsumugi/app/css/app.css\u001b[39m 38ms (unchanged)\n",
      "test-tsumugi/app/genelist/network_genelist.html 33ms\n",
      "test-tsumugi/app/genelist/network_genelist.js 72ms\n",
      "test-tsumugi/app/genesymbol/Ap3b2.html 10ms\n",
      "test-tsumugi/app/genesymbol/Ap3b2.js 19ms\n",
      "test-tsumugi/app/genesymbol/Asxl1.html 10ms\n",
      "test-tsumugi/app/genesymbol/Asxl1.js 17ms\n",
      "test-tsumugi/app/genesymbol/Ddx46.html 10ms\n",
      "test-tsumugi/app/genesymbol/Ddx46.js 15ms\n",
      "test-tsumugi/app/genesymbol/Kcnma1.html 10ms\n",
      "test-tsumugi/app/genesymbol/Kcnma1.js 11ms\n",
      "test-tsumugi/app/genesymbol/Rab10.html 10ms\n",
      "test-tsumugi/app/genesymbol/Rab10.js 16ms\n",
      "\u001b[90mtest-tsumugi/app/js/components.js\u001b[39m 2ms (unchanged)\n",
      "\u001b[90mtest-tsumugi/app/js/data_loader.js\u001b[39m 3ms (unchanged)\n",
      "\u001b[90mtest-tsumugi/app/js/exporter.js\u001b[39m 4ms (unchanged)\n",
      "\u001b[90mtest-tsumugi/app/js/filters.js\u001b[39m 6ms (unchanged)\n",
      "\u001b[90mtest-tsumugi/app/js/mobile_panel.js\u001b[39m 3ms (unchanged)\n",
      "\u001b[90mtest-tsumugi/app/js/searcher.js\u001b[39m 5ms (unchanged)\n",
      "\u001b[90mtest-tsumugi/app/js/slider.js\u001b[39m 3ms (unchanged)\n",
      "\u001b[90mtest-tsumugi/app/js/tooltips.js\u001b[39m 8ms (unchanged)\n",
      "\u001b[90mtest-tsumugi/app/js/value_scaler.js\u001b[39m 3ms (unchanged)\n",
      "test-tsumugi/app/phenotype/increased_fasting_circulating_glucose_level.html 14ms\n",
      "test-tsumugi/app/phenotype/increased_fasting_circulating_glucose_level.js 14ms\n",
      "test-tsumugi/app/phenotype/male_infertility.html 9ms\n",
      "test-tsumugi/app/phenotype/male_infertility.js 11ms\n",
      "test-tsumugi/app/phenotype/preweaning_lethality,_complete_penetrance.html 7ms\n",
      "test-tsumugi/app/phenotype/preweaning_lethality,_complete_penetrance.js 10ms\n",
      "test-tsumugi/app/phenotype/preweaning_lethality,_incomplete_penetrance.html 6ms\n",
      "test-tsumugi/app/phenotype/preweaning_lethality,_incomplete_penetrance.js 8ms\n"
     ]
    }
   ],
   "source": [
    "%%bash\n",
    "\n",
    "prettier --write \"test-tsumugi/index.html\" --print-width 120 --prose-wrap never --tab-width 4\n",
    "prettier --write \"test-tsumugi/js/**/*\" --print-width 120 --prose-wrap never --tab-width 4\n",
    "prettier --write \"test-tsumugi/app/**/*\" --print-width 120 --prose-wrap never --tab-width 4\n"
   ]
  },
  {
   "cell_type": "code",
   "execution_count": 15,
   "metadata": {},
   "outputs": [
    {
     "name": "stdout",
     "output_type": "stream",
     "text": [
      "Linux Sycom-2021 5.15.167.4-microsoft-standard-WSL2 #1 SMP Tue Nov 5 00:21:55 UTC 2024 x86_64 x86_64 x86_64 GNU/Linux\n",
      "2025/03/30 13:04:08\n"
     ]
    }
   ],
   "source": [
    "%%bash\n",
    "\n",
    "uname -a # OS name\n",
    "date +\"%Y/%m/%d %H:%M:%S\" # Last update"
   ]
  },
  {
   "cell_type": "code",
   "execution_count": null,
   "metadata": {},
   "outputs": [],
   "source": []
  },
  {
   "cell_type": "code",
   "execution_count": null,
   "metadata": {},
   "outputs": [],
   "source": []
  }
 ],
 "metadata": {
  "kernelspec": {
   "display_name": "Python 3",
   "language": "python",
   "name": "python3"
  },
  "language_info": {
   "codemirror_mode": {
    "name": "ipython",
    "version": 3
   },
   "file_extension": ".py",
   "mimetype": "text/x-python",
   "name": "python",
   "nbconvert_exporter": "python",
   "pygments_lexer": "ipython3",
   "version": "3.10.15"
  }
 },
 "nbformat": 4,
 "nbformat_minor": 2
}

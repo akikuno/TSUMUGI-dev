{
 "cells": [
  {
   "cell_type": "markdown",
   "metadata": {},
   "source": [
    "# Run allですべてのデータを準備する\n",
    "\n",
    "* URL: https://ftp.ebi.ac.uk/pub/databases/impc/all-data-releases/"
   ]
  },
  {
   "cell_type": "code",
   "execution_count": 1,
   "metadata": {},
   "outputs": [],
   "source": [
    "TSUMUGI_VERSION = \"0.3.2\"\n",
    "IMPC_RELEASE = 23.0\n",
    "\n",
    "columns = [\"marker_symbol\", \"marker_accession_id\", \"mp_term_name\", \"mp_term_id\", \"p_value\", \"effect_size\",\n",
    "           \"female_ko_effect_p_value\", \"male_ko_effect_p_value\", \"female_ko_parameter_estimate\",\"sex_effect_p_value\", \"male_ko_parameter_estimate\", # sex differences\n",
    "           \"genotype_effect_p_value\", \"genotype_effect_parameter_estimate\",\n",
    "           \"zygosity\", # zygosity\n",
    "           \"pipeline_name\", \"procedure_name\", # life-stage\n",
    "           \"allele_symbol\", # map to Phendigm\n",
    "           ]\n"
   ]
  },
  {
   "cell_type": "code",
   "execution_count": 2,
   "metadata": {},
   "outputs": [],
   "source": [
    "P = print\n",
    "from pprint import pprint as PP\n",
    "from collections import Counter as C\n",
    "from pathlib import Path\n",
    "from collections import defaultdict\n",
    "from itertools import combinations\n",
    "import os\n",
    "import csv\n",
    "import numpy as np\n",
    "import pandas as pd\n",
    "import polars as pl\n",
    "import shutil\n",
    "import pickle\n",
    "import json\n",
    "import gzip\n",
    "import networkx as nx\n",
    "import urllib.request\n",
    "from tqdm import tqdm\n",
    "import hashlib\n"
   ]
  },
  {
   "cell_type": "code",
   "execution_count": 3,
   "metadata": {},
   "outputs": [
    {
     "name": "stdout",
     "output_type": "stream",
     "text": [
      "/mnt/c/Users/akihi/Documents/GitHub/TSUMUGI-dev/notebooks/notebools-web\n",
      "/mnt/c/Users/akihi/Documents/GitHub/TSUMUGI-dev\n"
     ]
    }
   ],
   "source": [
    "# Move up to top directory\n",
    "\n",
    "print(os.getcwd())\n",
    "\n",
    "while not Path(\"LICENSE\").exists():\n",
    "    os.chdir('../')\n",
    "\n",
    "print(os.getcwd())"
   ]
  },
  {
   "cell_type": "markdown",
   "metadata": {},
   "source": [
    "## 1. Download IMPC dataset"
   ]
  },
  {
   "cell_type": "code",
   "execution_count": 4,
   "metadata": {},
   "outputs": [],
   "source": [
    "# Phenodigm dataが存在していない場合には、ダウンロードを促す\n",
    "\n",
    "if not Path(\"data\", \"phenodigm\", \"impc_phenodigm.csv\").exists():\n",
    "    raise FileNotFoundError(\"Please download impc phenodigm data from https://diseasemodels.research.its.qmul.ac.uk/.\")"
   ]
  },
  {
   "cell_type": "code",
   "execution_count": 5,
   "metadata": {},
   "outputs": [],
   "source": [
    "# パスの設定\n",
    "data_dir = Path(\"data/impc\")\n",
    "data_dir.mkdir(parents=True, exist_ok=True)\n",
    "csv_path = data_dir / f\"statistical-results-ALL-{IMPC_RELEASE}.csv\"\n",
    "\n",
    "# ファイルが存在しない場合にダウンロードして解凍\n",
    "if not csv_path.exists():\n",
    "    # ダウンロード URL\n",
    "    url = f\"https://ftp.ebi.ac.uk/pub/databases/impc/all-data-releases/release-{IMPC_RELEASE}/results/statistical-results-ALL.csv.gz\"\n",
    "\n",
    "    print(f\"Downloading and extracting: {url}\")\n",
    "\n",
    "    # URL からファイルサイズ取得（tqdmのため）\n",
    "    with urllib.request.urlopen(url) as response:\n",
    "        total_size = int(response.info().get(\"Content-Length\", -1))\n",
    "        with tqdm.wrapattr(response, \"read\", total=total_size, desc=\"Downloading\", unit=\"B\", unit_scale=True) as r:\n",
    "            with gzip.GzipFile(fileobj=r) as uncompressed:\n",
    "                with open(csv_path, 'wb') as out_file:\n",
    "                    shutil.copyfileobj(uncompressed, out_file)"
   ]
  },
  {
   "cell_type": "code",
   "execution_count": 6,
   "metadata": {},
   "outputs": [],
   "source": [
    "%%bash\n",
    "\n",
    "# wc -l data/impc/statistical-results*.csv\n",
    "# Release 22.1: 3165335\n",
    "# Release 23.0: 2159931\n",
    "\n",
    "# 1 min"
   ]
  },
  {
   "cell_type": "markdown",
   "metadata": {},
   "source": [
    "## 2. Filter dataset by P value < 0.0001 (10^-4)\n"
   ]
  },
  {
   "cell_type": "code",
   "execution_count": 7,
   "metadata": {},
   "outputs": [],
   "source": [
    "if not Path(\"data\", f\"statistical_filtered-{IMPC_RELEASE}.csv\").exists():\n",
    "    path_df_statistical_filtered = Path(\"data\", \"impc\", f\"statistical-results-ALL-{IMPC_RELEASE}.csv\")\n",
    "    df_statistical_all = pd.read_csv(path_df_statistical_filtered)\n",
    "    df_statistical_all = df_statistical_all[columns]\n",
    "    \n",
    "    # Filter by p_value < 0.0001\n",
    "    threshold = 0.0001\n",
    "    filter_pvalue = df_statistical_all[\"p_value\"] < threshold\n",
    "    filter_female_ko_pvalue = df_statistical_all[\"female_ko_effect_p_value\"] < threshold\n",
    "    filter_male_ko_pvalue = df_statistical_all[\"male_ko_effect_p_value\"] < threshold\n",
    "\n",
    "    df_statistical_filtered = df_statistical_all[filter_pvalue | filter_female_ko_pvalue | filter_male_ko_pvalue]\n",
    "\n",
    "    # Filter by mp_term_id and mp_term_name are not NaN\n",
    "    df_statistical_filtered = df_statistical_filtered.dropna(subset=[\"mp_term_id\"])\n",
    "    df_statistical_filtered = df_statistical_filtered.dropna(subset=[\"mp_term_name\"])\n",
    "\n",
    "    # Filter by effect_size is not NaN\n",
    "    df_statistical_filtered = df_statistical_filtered.dropna(subset=[\"effect_size\"])\n",
    "    df_statistical_filtered.to_csv(f\"data/statistical_filtered-{IMPC_RELEASE}.csv\", index=False) # 2 sec\n",
    "\n",
    "# 30 seconds"
   ]
  },
  {
   "cell_type": "code",
   "execution_count": 8,
   "metadata": {},
   "outputs": [],
   "source": [
    "df_statistical_filtered = pd.read_csv(f\"data/statistical_filtered-{IMPC_RELEASE}.csv\")"
   ]
  },
  {
   "cell_type": "code",
   "execution_count": 9,
   "metadata": {},
   "outputs": [
    {
     "name": "stdout",
     "output_type": "stream",
     "text": [
      "49299\n"
     ]
    }
   ],
   "source": [
    "print(len(df_statistical_filtered))\n",
    "# Release 22.0: 54059 rows\n",
    "# Release 22.1: 54059 rows\n",
    "# Release 23.0: 49299 rows"
   ]
  },
  {
   "cell_type": "markdown",
   "metadata": {},
   "source": [
    "## Split data by mp_term_name"
   ]
  },
  {
   "cell_type": "code",
   "execution_count": 10,
   "metadata": {},
   "outputs": [],
   "source": [
    "df_statistical_filtered = pd.read_csv(f\"data/statistical_filtered-{IMPC_RELEASE}.csv\")"
   ]
  },
  {
   "cell_type": "code",
   "execution_count": 11,
   "metadata": {},
   "outputs": [],
   "source": [
    "# data/mp_term_nameを作成\n",
    "\n",
    "output_path = Path(\"data\", \"mp_term_name\")\n",
    "if output_path.exists():\n",
    "    shutil.rmtree(output_path)\n",
    "output_path.mkdir(parents=True, exist_ok=True)"
   ]
  },
  {
   "cell_type": "code",
   "execution_count": 12,
   "metadata": {},
   "outputs": [],
   "source": [
    "# 名前をクリーンにする関数を定義\n",
    "def clean_name(name):\n",
    "    return name.replace(\"/\", \"_\").replace(\" \", \"_\")\n",
    "\n",
    "# mp_term_nameをクリーニングし、ユニークな値を取得\n",
    "unique_mp_term_names = df_statistical_filtered['mp_term_name'].unique()"
   ]
  },
  {
   "cell_type": "code",
   "execution_count": 13,
   "metadata": {},
   "outputs": [],
   "source": [
    "# ユニークなmp_term_nameごとにフィルタリングしてCSVに保存: 5 sec\n",
    "for mp_term_name in unique_mp_term_names:\n",
    "    df_mp_term = df_statistical_filtered[df_statistical_filtered['mp_term_name'] == mp_term_name]\n",
    "    clean_mp_term_name = clean_name(mp_term_name)\n",
    "    df_mp_term.to_csv(f\"data/mp_term_name/{clean_mp_term_name}.csv\", index=False)\n",
    "# 5 sec"
   ]
  },
  {
   "cell_type": "markdown",
   "metadata": {},
   "source": [
    "## 3. TSUMUGIに必要なアノテーション情報を整理する"
   ]
  },
  {
   "cell_type": "code",
   "execution_count": 14,
   "metadata": {},
   "outputs": [],
   "source": [
    "df_statistical_filtered = pd.read_csv(f\"data/statistical_filtered-{IMPC_RELEASE}.csv\")"
   ]
  },
  {
   "cell_type": "code",
   "execution_count": null,
   "metadata": {},
   "outputs": [],
   "source": []
  },
  {
   "cell_type": "markdown",
   "metadata": {},
   "source": [
    "### Annotate life stages"
   ]
  },
  {
   "cell_type": "code",
   "execution_count": 15,
   "metadata": {},
   "outputs": [],
   "source": [
    "# life_stageの初期割り当て\n",
    "def assign_life_stage(pipeline_name):\n",
    "    if pd.isna(pipeline_name):\n",
    "        return \"Early\"\n",
    "    if \"Interval\" in pipeline_name or \"interval\" in pipeline_name:\n",
    "        return \"Interval\"\n",
    "    elif \"Late\" in pipeline_name or \"late\" in pipeline_name:\n",
    "        return \"Late\"\n",
    "    else:\n",
    "        return \"Early\"\n",
    "\n",
    "df_statistical_filtered[\"life_stage\"] = df_statistical_filtered[\"pipeline_name\"].apply(assign_life_stage)\n",
    "\n",
    "# Embryo 表現型に該当する procedure_name の一覧\n",
    "embryo_phenotyping = [\n",
    "    \"Gross Morphology Embryo E9.5\",\n",
    "    \"Viability E9.5 Secondary Screen\",\n",
    "    \"OPT E9.5\",\n",
    "    \"MicroCT E9.5\",\n",
    "    \"Gross Morphology Placenta E9.5\",\n",
    "    \"Gross Morphology Embryo E12.5\",\n",
    "    \"Embryo LacZ\",\n",
    "    \"Gross Morphology Placenta E12.5\",\n",
    "    \"Viability E12.5 Secondary Screen\",\n",
    "    \"Viability E14.5-E15.5 Secondary Screen\",\n",
    "    \"Gross Morphology Placenta E14.5-E15.5\",\n",
    "    \"MicroCT E14.5-E15.5\",\n",
    "    \"Gross Morphology Embryo E14.5-E15.5\",\n",
    "    \"Viability E18.5 Secondary Screen\",\n",
    "    \"MicroCT E18.5\",\n",
    "    \"Gross Morphology Embryo E18.5\",\n",
    "    \"Gross Morphology Placenta E18.5\"\n",
    "]\n",
    "\n",
    "# life_stageをEmbryoに上書き\n",
    "df_statistical_filtered.loc[df_statistical_filtered[\"procedure_name\"].isin(embryo_phenotyping), \"life_stage\"] = \"Embryo\"\n",
    "df_annotated = df_statistical_filtered.reset_index(drop=True)"
   ]
  },
  {
   "cell_type": "code",
   "execution_count": 16,
   "metadata": {},
   "outputs": [
    {
     "name": "stdout",
     "output_type": "stream",
     "text": [
      "49299\n",
      "life_stage\n",
      "Early       41961\n",
      "Embryo       4381\n",
      "Late         2897\n",
      "Interval       60\n",
      "Name: count, dtype: int64\n"
     ]
    }
   ],
   "source": [
    "print(len(df_annotated))\n",
    "print(df_annotated[\"life_stage\"].value_counts())\n",
    "# 54059\n",
    "# life_stage\n",
    "# Early       45724\n",
    "# Embryo       4253\n",
    "# Late         4024\n",
    "# Interval       58\n",
    "# Name: count, dtype: int64"
   ]
  },
  {
   "cell_type": "markdown",
   "metadata": {},
   "source": [
    "### Annotate Sex differences"
   ]
  },
  {
   "cell_type": "code",
   "execution_count": 17,
   "metadata": {},
   "outputs": [
    {
     "name": "stdout",
     "output_type": "stream",
     "text": [
      "23.0\n",
      "sexdual_dimorphism\n",
      "male      5026\n",
      "female    4344\n",
      "Name: count, dtype: int64\n"
     ]
    }
   ],
   "source": [
    "threshold = 0.0001\n",
    "\n",
    "# 条件リスト\n",
    "conditions = [\n",
    "    (df_annotated[\"sex_effect_p_value\"] < threshold) & (df_annotated[\"female_ko_effect_p_value\"] < threshold) & (df_annotated[\"male_ko_effect_p_value\"] > threshold),\n",
    "    (df_annotated[\"sex_effect_p_value\"] < threshold) & (df_annotated[\"male_ko_effect_p_value\"] < threshold) & (df_annotated[\"female_ko_effect_p_value\"] > threshold)\n",
    "]\n",
    "\n",
    "# 条件に対応する値\n",
    "choices = [\"female\", \"male\"]\n",
    "\n",
    "# np.selectで列を設定\n",
    "df_annotated[\"sexdual_dimorphism\"] = np.select(conditions, choices, default=None)\n",
    "df_annotated = df_annotated.reset_index(drop=True)\n",
    "\n",
    "# 結果を確認\n",
    "print(IMPC_RELEASE)\n",
    "print(df_annotated[\"sexdual_dimorphism\"].value_counts())\n",
    "\n",
    "# RELEASE 22.1\n",
    "# male      4915\n",
    "# female    4146\n",
    "\n",
    "# RELEASE 23.0\n",
    "# male      5026\n",
    "# female    4344"
   ]
  },
  {
   "cell_type": "code",
   "execution_count": 18,
   "metadata": {},
   "outputs": [
    {
     "data": {
      "text/html": [
       "<div>\n",
       "<style scoped>\n",
       "    .dataframe tbody tr th:only-of-type {\n",
       "        vertical-align: middle;\n",
       "    }\n",
       "\n",
       "    .dataframe tbody tr th {\n",
       "        vertical-align: top;\n",
       "    }\n",
       "\n",
       "    .dataframe thead th {\n",
       "        text-align: right;\n",
       "    }\n",
       "</style>\n",
       "<table border=\"1\" class=\"dataframe\">\n",
       "  <thead>\n",
       "    <tr style=\"text-align: right;\">\n",
       "      <th></th>\n",
       "      <th>p_value</th>\n",
       "      <th>sexdual_dimorphism</th>\n",
       "      <th>effect_size</th>\n",
       "    </tr>\n",
       "  </thead>\n",
       "  <tbody>\n",
       "    <tr>\n",
       "      <th>10</th>\n",
       "      <td>1.260278e-04</td>\n",
       "      <td>male</td>\n",
       "      <td>2.230004</td>\n",
       "    </tr>\n",
       "    <tr>\n",
       "      <th>11</th>\n",
       "      <td>5.111543e-06</td>\n",
       "      <td>female</td>\n",
       "      <td>0.435955</td>\n",
       "    </tr>\n",
       "    <tr>\n",
       "      <th>12</th>\n",
       "      <td>1.637330e-02</td>\n",
       "      <td>male</td>\n",
       "      <td>-1.429840</td>\n",
       "    </tr>\n",
       "    <tr>\n",
       "      <th>13</th>\n",
       "      <td>5.153139e-01</td>\n",
       "      <td>male</td>\n",
       "      <td>1.088084</td>\n",
       "    </tr>\n",
       "    <tr>\n",
       "      <th>15</th>\n",
       "      <td>8.911086e-08</td>\n",
       "      <td>female</td>\n",
       "      <td>1.811095</td>\n",
       "    </tr>\n",
       "    <tr>\n",
       "      <th>16</th>\n",
       "      <td>3.849604e-08</td>\n",
       "      <td>female</td>\n",
       "      <td>1.602556</td>\n",
       "    </tr>\n",
       "    <tr>\n",
       "      <th>20</th>\n",
       "      <td>2.362372e-02</td>\n",
       "      <td>male</td>\n",
       "      <td>2.379854</td>\n",
       "    </tr>\n",
       "    <tr>\n",
       "      <th>26</th>\n",
       "      <td>9.895246e-06</td>\n",
       "      <td>female</td>\n",
       "      <td>1.095692</td>\n",
       "    </tr>\n",
       "    <tr>\n",
       "      <th>27</th>\n",
       "      <td>2.294615e-07</td>\n",
       "      <td>female</td>\n",
       "      <td>1.443321</td>\n",
       "    </tr>\n",
       "    <tr>\n",
       "      <th>30</th>\n",
       "      <td>2.508208e-08</td>\n",
       "      <td>male</td>\n",
       "      <td>-0.704889</td>\n",
       "    </tr>\n",
       "  </tbody>\n",
       "</table>\n",
       "</div>"
      ],
      "text/plain": [
       "         p_value sexdual_dimorphism  effect_size\n",
       "10  1.260278e-04               male     2.230004\n",
       "11  5.111543e-06             female     0.435955\n",
       "12  1.637330e-02               male    -1.429840\n",
       "13  5.153139e-01               male     1.088084\n",
       "15  8.911086e-08             female     1.811095\n",
       "16  3.849604e-08             female     1.602556\n",
       "20  2.362372e-02               male     2.379854\n",
       "26  9.895246e-06             female     1.095692\n",
       "27  2.294615e-07             female     1.443321\n",
       "30  2.508208e-08               male    -0.704889"
      ]
     },
     "execution_count": 18,
     "metadata": {},
     "output_type": "execute_result"
    }
   ],
   "source": [
    "# 確認\n",
    "df_annotated.dropna(subset=[\"sexdual_dimorphism\"])[[\"p_value\", \"sexdual_dimorphism\", \"effect_size\"]].head(10)"
   ]
  },
  {
   "cell_type": "markdown",
   "metadata": {},
   "source": [
    "### 遺伝型、性差、ライフステージのアノテーションを統合する"
   ]
  },
  {
   "cell_type": "code",
   "execution_count": 19,
   "metadata": {},
   "outputs": [
    {
     "name": "stdout",
     "output_type": "stream",
     "text": [
      "zygosity\n",
      "homozygote      37820\n",
      "heterozygote    10896\n",
      "hemizygote        583\n",
      "Name: count, dtype: int64\n"
     ]
    }
   ],
   "source": [
    "print(df_annotated[\"zygosity\"].value_counts())\n",
    "# RELEASE 22.1\n",
    "# zygosity\n",
    "# homozygote      41444\n",
    "# heterozygote    11921\n",
    "# hemizygote        694\n",
    "\n",
    "# RELEASE 23.0\n",
    "# homozygote      48037\n",
    "# heterozygote    14706\n",
    "# hemizygote        902\n"
   ]
  },
  {
   "cell_type": "code",
   "execution_count": 20,
   "metadata": {},
   "outputs": [],
   "source": [
    "# colmuns = [\"marker_symbol\", \"marker_accession_id\", \"mp_term_name\", \"mp_term_id\", \"p_value\", \"female_ko_effect_p_value\", \"male_ko_effect_p_value\", \"sexdual_dimorphism\", \"zygosity\", \"life_stage\", \"effect_size\",]\n",
    "\n",
    "# df_annotated = df_annotated[colmuns]"
   ]
  },
  {
   "cell_type": "code",
   "execution_count": 21,
   "metadata": {},
   "outputs": [],
   "source": [
    "# mp_term = \"increased fasting circulating glucose level\".strip()\n",
    "# df_annotated[\n",
    "#     (df_annotated[\"marker_symbol\"] == \"Dnase1l2\") &\n",
    "#     (df_annotated[\"mp_term_name\"] == mp_term)\n",
    "# ]"
   ]
  },
  {
   "cell_type": "code",
   "execution_count": 22,
   "metadata": {},
   "outputs": [],
   "source": [
    "# アノテーション列を追加（inplace）\n",
    "def make_annotation(row) -> list[str]:\n",
    "    # 遺伝型\n",
    "    if row['zygosity'] == 'homozygote':\n",
    "        annotate = \"Homo\"\n",
    "    elif row['zygosity'] == 'heterozygote':\n",
    "        annotate = \"Hetero\"\n",
    "    else:\n",
    "        annotate = \"Hemi\"\n",
    "\n",
    "    # 性別\n",
    "    if row['sexdual_dimorphism'] == \"female\":\n",
    "        annotate += \", Female\"\n",
    "    elif row['sexdual_dimorphism'] == \"male\":\n",
    "        annotate += \", Male\"\n",
    "\n",
    "    # life stage\n",
    "    if row['life_stage'] in {\"Embryo\", \"Early\", \"Interval\", \"Late\"}:\n",
    "        annotate += f\", {row['life_stage']}\"\n",
    "\n",
    "    annotations = []\n",
    "\n",
    "    annotations.append(f\"{row['mp_term_name']} ({annotate})\")\n",
    "\n",
    "    return annotations\n",
    "\n",
    "df_annotated[\"annotation\"] = df_annotated.apply(make_annotation, axis=1)\n",
    "\n",
    "df_exploded = df_annotated.explode(\"annotation\").reset_index(drop=True)\n",
    "\n",
    "# marker_symbol ごとに annotation をリスト化＆ソート\n",
    "marker_annotation_map = (\n",
    "    df_exploded\n",
    "    .groupby(\"marker_symbol\")[\"annotation\"]\n",
    "    .apply(lambda x: sorted(set(x)))\n",
    ")"
   ]
  },
  {
   "cell_type": "code",
   "execution_count": 23,
   "metadata": {},
   "outputs": [
    {
     "name": "stdout",
     "output_type": "stream",
     "text": [
      "['abnormal skin condition (Homo, Early)', 'decreased circulating HDL cholesterol level (Homo, Male, Early)', 'decreased circulating alkaline phosphatase level (Homo, Female, Early)', 'decreased circulating cholesterol level (Homo, Male, Early)', 'decreased circulating free fatty acids level (Homo, Early)', 'decreased hemoglobin content (Homo, Male, Early)', 'decreased mean corpuscular hemoglobin (Homo, Early)', 'decreased mean corpuscular hemoglobin concentration (Homo, Early)', 'decreased mean corpuscular volume (Homo, Early)', 'increased exploration in new environment (Homo, Early)']\n",
      "['abnormal abdominal wall morphology (Homo, Embryo)', 'abnormal embryo size (Homo, Embryo)', 'abnormal facial morphology (Homo, Embryo)', 'abnormal head shape (Homo, Embryo)', 'abnormal head size (Homo, Embryo)', 'abnormal limb morphology (Homo, Embryo)', 'abnormal placenta size (Homo, Embryo)', 'abnormal retina blood vessel morphology (Hetero, Early)', 'abnormal retina vasculature morphology (Hetero, Early)', 'anophthalmia (Homo, Embryo)', 'cleft palate (Homo, Embryo)', 'decreased lymphocyte cell number (Hetero, Early)', 'exencephaly (Homo, Embryo)', 'facial cleft (Homo, Embryo)', 'increased erythrocyte cell number (Hetero, Early)', 'microphthalmia (Homo, Embryo)', 'preweaning lethality, complete penetrance (Homo, Early)', 'short tibia (Hetero, Male, Early)', 'spina bifida (Homo, Embryo)']\n",
      "['hyperactivity (Homo, Female, Early)', 'increased fasting circulating glucose level (Homo, Early)']\n"
     ]
    }
   ],
   "source": [
    "# 例：Rhdの注釈を表示\n",
    "print(marker_annotation_map[\"Rhd\"])\n",
    "# 例：Amtの注釈を表示 (Embryo)\n",
    "print(marker_annotation_map[\"Amt\"])\n",
    "# 例：Spag4の注釈を表示 (重複が削除されているか)\n",
    "print(marker_annotation_map[\"Spag4\"])\n"
   ]
  },
  {
   "cell_type": "code",
   "execution_count": 24,
   "metadata": {},
   "outputs": [],
   "source": [
    "Path(\"data/annotation\").mkdir(exist_ok=True, parents=True)\n",
    "file_path = \"data/annotation/symbol_mptermname.json\"\n",
    "marker_annotation_map.to_json(file_path, indent=4)\n",
    "\n",
    "# json.dump(marker_annotation_map, open(file_path, \"w\"), indent=4, sort_keys=True)\n"
   ]
  },
  {
   "cell_type": "code",
   "execution_count": 25,
   "metadata": {},
   "outputs": [
    {
     "name": "stdout",
     "output_type": "stream",
     "text": [
      "Male: 4480\n",
      "Feale: 3557\n",
      "Homo: 30977\n",
      "Hetero: 9625\n",
      "Hemi: 492\n",
      "Embryo: 4207\n",
      "Early: 34324\n",
      "Interval: 54\n",
      "Late: 2509\n"
     ]
    }
   ],
   "source": [
    "%%bash\n",
    "\n",
    "grep -c \"Male\" data/annotation/symbol_mptermname.json | sed \"s|^|Male: |\"\n",
    "grep -c \"Female\" data/annotation/symbol_mptermname.json | sed \"s|^|Feale: |\"\n",
    "\n",
    "grep -c \"Homo\" data/annotation/symbol_mptermname.json | sed \"s|^|Homo: |\"\n",
    "grep -c \"Hetero\" data/annotation/symbol_mptermname.json | sed \"s|^|Hetero: |\"\n",
    "grep -c \"Hemi\" data/annotation/symbol_mptermname.json | sed \"s|^|Hemi: |\"\n",
    "\n",
    "grep -c \"Embryo\" data/annotation/symbol_mptermname.json | sed \"s|^|Embryo: |\"\n",
    "grep -c \"Early\" data/annotation/symbol_mptermname.json | sed \"s|^|Early: |\"\n",
    "grep -c \"Interval\" data/annotation/symbol_mptermname.json | sed \"s|^|Interval: |\"\n",
    "grep -c \"Late\" data/annotation/symbol_mptermname.json | sed \"s|^|Late: |\"\n",
    "\n",
    "# RELEASE 22.1\n",
    "# Male: 4915\n",
    "# Feale: 4146\n",
    "# Homo: 41444\n",
    "# Hetero: 11921\n",
    "# Hemi: 694\n",
    "# Embryo: 4253\n",
    "# Early: 45724\n",
    "# Interval: 58\n",
    "# Late: 4024\n",
    "\n",
    "# RELEASE 23.0\n",
    "# Male: 4480\n",
    "# Feale: 3557\n",
    "# Homo: 30977\n",
    "# Hetero: 9625\n",
    "# Hemi: 492\n",
    "# Embryo: 4207\n",
    "# Early: 34324\n",
    "# Interval: 54\n",
    "# Late: 2509"
   ]
  },
  {
   "cell_type": "markdown",
   "metadata": {},
   "source": [
    "###  Phenodigmを用いたヒト疾患情報を取得する"
   ]
  },
  {
   "cell_type": "code",
   "execution_count": 26,
   "metadata": {},
   "outputs": [
    {
     "name": "stdout",
     "output_type": "stream",
     "text": [
      "3405\n"
     ]
    }
   ],
   "source": [
    "df_phenodigm = pd.read_csv(Path(\"data\", \"phenodigm\", \"impc_phenodigm.csv\"))\n",
    "P(len(df_phenodigm))\n",
    "# 3405"
   ]
  },
  {
   "cell_type": "code",
   "execution_count": 27,
   "metadata": {},
   "outputs": [
    {
     "name": "stdout",
     "output_type": "stream",
     "text": [
      "全体の件数: 3405\n",
      "空白がちょうど2つでない行数: 2\n",
      "      .rownames  Disorder id                                Disorder name  \\\n",
      "586         587  OMIM:307800  Hypophosphatemic Rickets, X-Linked Dominant   \n",
      "3210       3211  ORPHA:89936                    X-Linked Hypophosphatemia   \n",
      "\n",
      "     Human gene symbol            Mouse model description  PhenoDigm % score  \\\n",
      "586               PHEX  Phex<not yet available> hom early             68.845   \n",
      "3210              PHEX  Phex<not yet available> hom early             60.095   \n",
      "\n",
      "                              Matching human phenotypes  \\\n",
      "586   HP:0002148,HP:0002749,HP:0002982,HP:0008144,HP...   \n",
      "3210  HP:0100686,HP:0008144,HP:0001363,HP:0004349,HP...   \n",
      "\n",
      "                              Matching mouse phenotypes  \n",
      "586   MP:0002896,MP:0005627,MP:0000198,MP:0000195,MP...  \n",
      "3210  MP:0002896,MP:0005627,MP:0000198,MP:0000195,MP...  \n"
     ]
    }
   ],
   "source": [
    "# 各行について空白の数をカウント\n",
    "space_counts = df_phenodigm['Mouse model description'].str.count(' ')\n",
    "\n",
    "# 空白の数が2でない行を抽出（== split して3つにならない行）\n",
    "invalid_rows = df_phenodigm[space_counts != 2]\n",
    "\n",
    "# 結果表示\n",
    "print(f\"全体の件数: {len(df_phenodigm)}\")\n",
    "print(f\"空白がちょうど2つでない行数: {len(invalid_rows)}\")\n",
    "print(invalid_rows.head())\n",
    "# -> たった2つしかなく、`Phex<not yet available>`なので、この2つは無視する"
   ]
  },
  {
   "cell_type": "code",
   "execution_count": 28,
   "metadata": {},
   "outputs": [
    {
     "name": "stdout",
     "output_type": "stream",
     "text": [
      "3403\n"
     ]
    }
   ],
   "source": [
    "df_phenodigm = df_phenodigm[space_counts == 2]\n",
    "P(len(df_phenodigm))\n",
    "# 3403"
   ]
  },
  {
   "cell_type": "code",
   "execution_count": 29,
   "metadata": {},
   "outputs": [],
   "source": [
    "df_phenodigm[['allele_symbol', 'zygosity', 'life_stage']] = df_phenodigm['Mouse model description'].str.split(' ', n=2, expand=True)\n",
    "df_phenodigm = df_phenodigm.drop(columns=['Mouse model description'])"
   ]
  },
  {
   "cell_type": "code",
   "execution_count": 30,
   "metadata": {},
   "outputs": [
    {
     "name": "stdout",
     "output_type": "stream",
     "text": [
      "Index(['.rownames', 'Disorder id', 'Disorder name', 'Human gene symbol',\n",
      "       'PhenoDigm % score', 'Matching human phenotypes',\n",
      "       'Matching mouse phenotypes', 'allele_symbol', 'zygosity', 'life_stage'],\n",
      "      dtype='object')\n",
      "0    Arhgap31<em1(IMPC)Bay>\n",
      "1    Arhgap31<em1(IMPC)Bay>\n",
      "2     Twist1<em1(IMPC)Rbrc>\n",
      "Name: allele_symbol, dtype: object\n",
      "0    het\n",
      "1    hom\n",
      "2    het\n",
      "Name: zygosity, dtype: object\n",
      "0    embryo\n",
      "1    embryo\n",
      "2     early\n",
      "Name: life_stage, dtype: object\n"
     ]
    }
   ],
   "source": [
    "P(df_phenodigm.columns)\n",
    "P(df_phenodigm[\"allele_symbol\"].head(3))\n",
    "P(df_phenodigm[\"zygosity\"].head(3))\n",
    "P(df_phenodigm[\"life_stage\"].head(3))"
   ]
  },
  {
   "cell_type": "code",
   "execution_count": 31,
   "metadata": {},
   "outputs": [
    {
     "name": "stdout",
     "output_type": "stream",
     "text": [
      "zygosity\n",
      "homozygote      1928\n",
      "heterozygote    1383\n",
      "hemizygote        92\n",
      "Name: count, dtype: int64\n",
      "life_stage\n",
      "Early     2723\n",
      "Embryo     477\n",
      "Late       192\n",
      "Middle      11\n",
      "Name: count, dtype: int64\n"
     ]
    }
   ],
   "source": [
    "# phenodigmの表記とimpcデータの表記を揃える\n",
    "\n",
    "df_phenodigm = df_phenodigm.replace({'zygosity': {'hom': 'homozygote', 'het': 'heterozygote','hem': 'hemizygote'}})\n",
    "df_phenodigm['life_stage'] = df_phenodigm['life_stage'].str.capitalize()\n",
    "print(df_phenodigm[\"zygosity\"].value_counts())\n",
    "print(df_phenodigm[\"life_stage\"].value_counts())"
   ]
  },
  {
   "cell_type": "code",
   "execution_count": 32,
   "metadata": {},
   "outputs": [
    {
     "name": "stdout",
     "output_type": "stream",
     "text": [
      "63645\n"
     ]
    }
   ],
   "source": [
    "df_annotated_phenodigm = \\\n",
    "    df_annotated.set_index(['allele_symbol','life_stage','zygosity']) \\\n",
    "    .join(df_phenodigm.set_index(['allele_symbol','life_stage','zygosity']), how='left', rsuffix='_phenodigm') \\\n",
    "    .reset_index()\n",
    "print(len(df_annotated_phenodigm))"
   ]
  },
  {
   "cell_type": "code",
   "execution_count": 33,
   "metadata": {},
   "outputs": [
    {
     "data": {
      "text/html": [
       "<div>\n",
       "<style scoped>\n",
       "    .dataframe tbody tr th:only-of-type {\n",
       "        vertical-align: middle;\n",
       "    }\n",
       "\n",
       "    .dataframe tbody tr th {\n",
       "        vertical-align: top;\n",
       "    }\n",
       "\n",
       "    .dataframe thead th {\n",
       "        text-align: right;\n",
       "    }\n",
       "</style>\n",
       "<table border=\"1\" class=\"dataframe\">\n",
       "  <thead>\n",
       "    <tr style=\"text-align: right;\">\n",
       "      <th></th>\n",
       "      <th>marker_symbol</th>\n",
       "      <th>Disorder name</th>\n",
       "      <th>life_stage</th>\n",
       "      <th>zygosity</th>\n",
       "    </tr>\n",
       "  </thead>\n",
       "  <tbody>\n",
       "    <tr>\n",
       "      <th>0</th>\n",
       "      <td>Baz1b</td>\n",
       "      <td>Williams Syndrome</td>\n",
       "      <td>Early</td>\n",
       "      <td>heterozygote</td>\n",
       "    </tr>\n",
       "    <tr>\n",
       "      <th>1</th>\n",
       "      <td>Trp53</td>\n",
       "      <td>Osteogenic Sarcoma</td>\n",
       "      <td>Early</td>\n",
       "      <td>homozygote</td>\n",
       "    </tr>\n",
       "    <tr>\n",
       "      <th>2</th>\n",
       "      <td>Trp53</td>\n",
       "      <td>Papilloma Of Choroid Plexus</td>\n",
       "      <td>Early</td>\n",
       "      <td>homozygote</td>\n",
       "    </tr>\n",
       "    <tr>\n",
       "      <th>3</th>\n",
       "      <td>Trp53</td>\n",
       "      <td>Cushing Disease</td>\n",
       "      <td>Early</td>\n",
       "      <td>homozygote</td>\n",
       "    </tr>\n",
       "    <tr>\n",
       "      <th>4</th>\n",
       "      <td>Got2</td>\n",
       "      <td>Developmental And Epileptic Encephalopathy 82</td>\n",
       "      <td>Embryo</td>\n",
       "      <td>homozygote</td>\n",
       "    </tr>\n",
       "    <tr>\n",
       "      <th>...</th>\n",
       "      <td>...</td>\n",
       "      <td>...</td>\n",
       "      <td>...</td>\n",
       "      <td>...</td>\n",
       "    </tr>\n",
       "    <tr>\n",
       "      <th>27091</th>\n",
       "      <td>Gdf5</td>\n",
       "      <td>Angel-Shaped Phalango-Epiphyseal Dysplasia</td>\n",
       "      <td>Early</td>\n",
       "      <td>homozygote</td>\n",
       "    </tr>\n",
       "    <tr>\n",
       "      <th>27092</th>\n",
       "      <td>Gdf5</td>\n",
       "      <td>Brachydactyly Type C</td>\n",
       "      <td>Early</td>\n",
       "      <td>homozygote</td>\n",
       "    </tr>\n",
       "    <tr>\n",
       "      <th>27093</th>\n",
       "      <td>Gdf5</td>\n",
       "      <td>Brachydactyly Type A1</td>\n",
       "      <td>Early</td>\n",
       "      <td>homozygote</td>\n",
       "    </tr>\n",
       "    <tr>\n",
       "      <th>27094</th>\n",
       "      <td>Gdf5</td>\n",
       "      <td>Brachydactyly Type A2</td>\n",
       "      <td>Early</td>\n",
       "      <td>homozygote</td>\n",
       "    </tr>\n",
       "    <tr>\n",
       "      <th>27095</th>\n",
       "      <td>Gdf5</td>\n",
       "      <td>Acromesomelic Dysplasia, Hunter-Thompson Type</td>\n",
       "      <td>Early</td>\n",
       "      <td>homozygote</td>\n",
       "    </tr>\n",
       "  </tbody>\n",
       "</table>\n",
       "<p>27096 rows × 4 columns</p>\n",
       "</div>"
      ],
      "text/plain": [
       "      marker_symbol                                  Disorder name life_stage  \\\n",
       "0             Baz1b                              Williams Syndrome      Early   \n",
       "1             Trp53                             Osteogenic Sarcoma      Early   \n",
       "2             Trp53                    Papilloma Of Choroid Plexus      Early   \n",
       "3             Trp53                                Cushing Disease      Early   \n",
       "4              Got2  Developmental And Epileptic Encephalopathy 82     Embryo   \n",
       "...             ...                                            ...        ...   \n",
       "27091          Gdf5     Angel-Shaped Phalango-Epiphyseal Dysplasia      Early   \n",
       "27092          Gdf5                           Brachydactyly Type C      Early   \n",
       "27093          Gdf5                          Brachydactyly Type A1      Early   \n",
       "27094          Gdf5                          Brachydactyly Type A2      Early   \n",
       "27095          Gdf5  Acromesomelic Dysplasia, Hunter-Thompson Type      Early   \n",
       "\n",
       "           zygosity  \n",
       "0      heterozygote  \n",
       "1        homozygote  \n",
       "2        homozygote  \n",
       "3        homozygote  \n",
       "4        homozygote  \n",
       "...             ...  \n",
       "27091    homozygote  \n",
       "27092    homozygote  \n",
       "27093    homozygote  \n",
       "27094    homozygote  \n",
       "27095    homozygote  \n",
       "\n",
       "[27096 rows x 4 columns]"
      ]
     },
     "execution_count": 33,
     "metadata": {},
     "output_type": "execute_result"
    }
   ],
   "source": [
    "columns_to_keep = [\n",
    "    \"marker_symbol\", \"Disorder name\", \"life_stage\", \"zygosity\"\n",
    "    ]\n",
    "df_annotated_phenodigm = df_annotated_phenodigm[columns_to_keep].dropna(subset=[\"Disorder name\"]).reset_index(drop=True)\n",
    "df_annotated_phenodigm"
   ]
  },
  {
   "cell_type": "code",
   "execution_count": 34,
   "metadata": {},
   "outputs": [],
   "source": [
    "# アノテーション列を追加（inplace）\n",
    "def make_annotation(row) -> list[str]:\n",
    "    # 遺伝型\n",
    "    if row['zygosity'] == 'homozygote':\n",
    "        annotate = \"Homo\"\n",
    "    elif row['zygosity'] == 'heterozygote':\n",
    "        annotate = \"Hetero\"\n",
    "    else:\n",
    "        annotate = \"Hemi\"\n",
    "\n",
    "    # life stage\n",
    "    if row['life_stage'] in {\"Embryo\", \"Early\", \"Interval\", \"Late\"}:\n",
    "        annotate += f\", {row['life_stage']}\"\n",
    "\n",
    "    annotations = []\n",
    "\n",
    "    annotations.append(f\"{row['Disorder name']} ({annotate})\")\n",
    "\n",
    "    return annotations\n",
    "\n",
    "df_annotated_phenodigm[\"annotation\"] = df_annotated_phenodigm.apply(make_annotation, axis=1)\n",
    "\n",
    "df_exploded = df_annotated_phenodigm.explode(\"annotation\").reset_index(drop=True)\n",
    "\n",
    "# marker_symbol ごとに annotation をリスト化＆ソート\n",
    "marker_annotation_map = (\n",
    "    df_exploded\n",
    "    .groupby(\"marker_symbol\")[\"annotation\"]\n",
    "    .apply(lambda x: sorted(set(x)))\n",
    ")"
   ]
  },
  {
   "cell_type": "code",
   "execution_count": 35,
   "metadata": {},
   "outputs": [
    {
     "name": "stdout",
     "output_type": "stream",
     "text": [
      "['Adams-Oliver Syndrome (Hetero, Embryo)', 'Adams-Oliver Syndrome (Homo, Embryo)', 'Adams-Oliver Syndrome 1 (Hetero, Embryo)', 'Adams-Oliver Syndrome 1 (Homo, Embryo)']\n"
     ]
    }
   ],
   "source": [
    "# 例：Phenodigmの注釈を表示 (Embryo)\n",
    "print(marker_annotation_map[\"Arhgap31\"])"
   ]
  },
  {
   "cell_type": "code",
   "execution_count": 36,
   "metadata": {},
   "outputs": [],
   "source": [
    "Path(\"data/annotation\").mkdir(exist_ok=True, parents=True)\n",
    "file_path = \"data/annotation/symbol_disordername.json\"\n",
    "marker_annotation_map.to_json(file_path, indent=4)"
   ]
  },
  {
   "cell_type": "markdown",
   "metadata": {},
   "source": [
    "### mp term nameとIMPCのPhenotype URLを紐付ける"
   ]
  },
  {
   "cell_type": "code",
   "execution_count": 37,
   "metadata": {},
   "outputs": [
    {
     "data": {
      "text/html": [
       "<div>\n",
       "<style scoped>\n",
       "    .dataframe tbody tr th:only-of-type {\n",
       "        vertical-align: middle;\n",
       "    }\n",
       "\n",
       "    .dataframe tbody tr th {\n",
       "        vertical-align: top;\n",
       "    }\n",
       "\n",
       "    .dataframe thead th {\n",
       "        text-align: right;\n",
       "    }\n",
       "</style>\n",
       "<table border=\"1\" class=\"dataframe\">\n",
       "  <thead>\n",
       "    <tr style=\"text-align: right;\">\n",
       "      <th></th>\n",
       "      <th>mp_term_id</th>\n",
       "      <th>mp_term_name</th>\n",
       "    </tr>\n",
       "  </thead>\n",
       "  <tbody>\n",
       "    <tr>\n",
       "      <th>0</th>\n",
       "      <td>MP:0001510</td>\n",
       "      <td>abnormal coat appearance</td>\n",
       "    </tr>\n",
       "    <tr>\n",
       "      <th>1</th>\n",
       "      <td>MP:0011100</td>\n",
       "      <td>preweaning lethality, complete penetrance</td>\n",
       "    </tr>\n",
       "    <tr>\n",
       "      <th>2</th>\n",
       "      <td>MP:0004738</td>\n",
       "      <td>abnormal auditory brainstem response</td>\n",
       "    </tr>\n",
       "    <tr>\n",
       "      <th>3</th>\n",
       "      <td>MP:0001303</td>\n",
       "      <td>abnormal lens morphology</td>\n",
       "    </tr>\n",
       "    <tr>\n",
       "      <th>4</th>\n",
       "      <td>MP:0001147</td>\n",
       "      <td>small testis</td>\n",
       "    </tr>\n",
       "    <tr>\n",
       "      <th>...</th>\n",
       "      <td>...</td>\n",
       "      <td>...</td>\n",
       "    </tr>\n",
       "    <tr>\n",
       "      <th>47215</th>\n",
       "      <td>MP:0011503</td>\n",
       "      <td>distended jejunum</td>\n",
       "    </tr>\n",
       "    <tr>\n",
       "      <th>47367</th>\n",
       "      <td>MP:0002862</td>\n",
       "      <td>abnormal righting response</td>\n",
       "    </tr>\n",
       "    <tr>\n",
       "      <th>48121</th>\n",
       "      <td>MP:0004727</td>\n",
       "      <td>absent epididymis</td>\n",
       "    </tr>\n",
       "    <tr>\n",
       "      <th>48347</th>\n",
       "      <td>MP:0000023</td>\n",
       "      <td>abnormal ear position</td>\n",
       "    </tr>\n",
       "    <tr>\n",
       "      <th>48360</th>\n",
       "      <td>MP:0003655</td>\n",
       "      <td>absent pancreas</td>\n",
       "    </tr>\n",
       "  </tbody>\n",
       "</table>\n",
       "<p>659 rows × 2 columns</p>\n",
       "</div>"
      ],
      "text/plain": [
       "       mp_term_id                               mp_term_name\n",
       "0      MP:0001510                   abnormal coat appearance\n",
       "1      MP:0011100  preweaning lethality, complete penetrance\n",
       "2      MP:0004738       abnormal auditory brainstem response\n",
       "3      MP:0001303                   abnormal lens morphology\n",
       "4      MP:0001147                               small testis\n",
       "...           ...                                        ...\n",
       "47215  MP:0011503                          distended jejunum\n",
       "47367  MP:0002862                 abnormal righting response\n",
       "48121  MP:0004727                          absent epididymis\n",
       "48347  MP:0000023                      abnormal ear position\n",
       "48360  MP:0003655                            absent pancreas\n",
       "\n",
       "[659 rows x 2 columns]"
      ]
     },
     "execution_count": 37,
     "metadata": {},
     "output_type": "execute_result"
    }
   ],
   "source": [
    "df_select = df_statistical_filtered[['mp_term_id', 'mp_term_name']].drop_duplicates()\n",
    "# df_select = data[['marker_symbol', 'marker_accession_id', 'mp_term_name', 'mp_term_id']].drop_duplicates()\n",
    "df_select"
   ]
  },
  {
   "cell_type": "code",
   "execution_count": 38,
   "metadata": {},
   "outputs": [
    {
     "name": "stdout",
     "output_type": "stream",
     "text": [
      "https://www.mousephenotype.org/data/phenotypes/MP:0002217\n"
     ]
    }
   ],
   "source": [
    "dict_phenotype_url = dict()\n",
    "for index, row in df_select.iterrows():\n",
    "    mp_tern_id = row['mp_term_id']\n",
    "    impc_url = f\"https://www.mousephenotype.org/data/phenotypes/{mp_tern_id}\"\n",
    "    mp_term_name = row['mp_term_name']\n",
    "    dict_phenotype_url[mp_term_name] = impc_url\n",
    "\n",
    "print(dict_phenotype_url[\"small lymph nodes\"])"
   ]
  },
  {
   "cell_type": "code",
   "execution_count": 39,
   "metadata": {},
   "outputs": [],
   "source": [
    "with open('data/annotation/mptermname_phenotypeurl.tsv', 'w') as f:\n",
    "    for term, url in dict_phenotype_url.items():\n",
    "        f.write(f\"{term}\\t{url}\\n\")"
   ]
  },
  {
   "cell_type": "code",
   "execution_count": 40,
   "metadata": {},
   "outputs": [
    {
     "name": "stdout",
     "output_type": "stream",
     "text": [
      "abnormal coat appearance\thttps://www.mousephenotype.org/data/phenotypes/MP:0001510\n",
      "preweaning lethality, complete penetrance\thttps://www.mousephenotype.org/data/phenotypes/MP:0011100\n",
      "abnormal auditory brainstem response\thttps://www.mousephenotype.org/data/phenotypes/MP:0004738\n",
      "659 data/annotation/mptermname_phenotypeurl.tsv\n"
     ]
    }
   ],
   "source": [
    "%%bash\n",
    "\n",
    "head -n 3 data/annotation/mptermname_phenotypeurl.tsv\n",
    "wc -l data/annotation/mptermname_phenotypeurl.tsv\n",
    "# Release 22.0: 664\n",
    "# Release 23.0: 659"
   ]
  },
  {
   "cell_type": "markdown",
   "metadata": {},
   "source": [
    "### marker symbolとMGI accession idを紐付ける"
   ]
  },
  {
   "cell_type": "code",
   "execution_count": 41,
   "metadata": {},
   "outputs": [
    {
     "data": {
      "text/html": [
       "<div>\n",
       "<style scoped>\n",
       "    .dataframe tbody tr th:only-of-type {\n",
       "        vertical-align: middle;\n",
       "    }\n",
       "\n",
       "    .dataframe tbody tr th {\n",
       "        vertical-align: top;\n",
       "    }\n",
       "\n",
       "    .dataframe thead th {\n",
       "        text-align: right;\n",
       "    }\n",
       "</style>\n",
       "<table border=\"1\" class=\"dataframe\">\n",
       "  <thead>\n",
       "    <tr style=\"text-align: right;\">\n",
       "      <th></th>\n",
       "      <th>marker_symbol</th>\n",
       "      <th>marker_accession_id</th>\n",
       "    </tr>\n",
       "  </thead>\n",
       "  <tbody>\n",
       "    <tr>\n",
       "      <th>0</th>\n",
       "      <td>Ap1ar</td>\n",
       "      <td>MGI:2384822</td>\n",
       "    </tr>\n",
       "    <tr>\n",
       "      <th>1</th>\n",
       "      <td>Kif21a</td>\n",
       "      <td>MGI:109188</td>\n",
       "    </tr>\n",
       "    <tr>\n",
       "      <th>2</th>\n",
       "      <td>Baiap2l2</td>\n",
       "      <td>MGI:2652819</td>\n",
       "    </tr>\n",
       "    <tr>\n",
       "      <th>3</th>\n",
       "      <td>Wars1</td>\n",
       "      <td>MGI:104630</td>\n",
       "    </tr>\n",
       "    <tr>\n",
       "      <th>4</th>\n",
       "      <td>Prss47</td>\n",
       "      <td>MGI:2685120</td>\n",
       "    </tr>\n",
       "    <tr>\n",
       "      <th>...</th>\n",
       "      <td>...</td>\n",
       "      <td>...</td>\n",
       "    </tr>\n",
       "    <tr>\n",
       "      <th>49018</th>\n",
       "      <td>Cacng3</td>\n",
       "      <td>MGI:1859165</td>\n",
       "    </tr>\n",
       "    <tr>\n",
       "      <th>49023</th>\n",
       "      <td>Dkk4</td>\n",
       "      <td>MGI:2385299</td>\n",
       "    </tr>\n",
       "    <tr>\n",
       "      <th>49229</th>\n",
       "      <td>Slc9a3</td>\n",
       "      <td>MGI:105064</td>\n",
       "    </tr>\n",
       "    <tr>\n",
       "      <th>49248</th>\n",
       "      <td>Srek1</td>\n",
       "      <td>MGI:2145245</td>\n",
       "    </tr>\n",
       "    <tr>\n",
       "      <th>49290</th>\n",
       "      <td>Rars2</td>\n",
       "      <td>MGI:1923596</td>\n",
       "    </tr>\n",
       "  </tbody>\n",
       "</table>\n",
       "<p>7954 rows × 2 columns</p>\n",
       "</div>"
      ],
      "text/plain": [
       "      marker_symbol marker_accession_id\n",
       "0             Ap1ar         MGI:2384822\n",
       "1            Kif21a          MGI:109188\n",
       "2          Baiap2l2         MGI:2652819\n",
       "3             Wars1          MGI:104630\n",
       "4            Prss47         MGI:2685120\n",
       "...             ...                 ...\n",
       "49018        Cacng3         MGI:1859165\n",
       "49023          Dkk4         MGI:2385299\n",
       "49229        Slc9a3          MGI:105064\n",
       "49248         Srek1         MGI:2145245\n",
       "49290         Rars2         MGI:1923596\n",
       "\n",
       "[7954 rows x 2 columns]"
      ]
     },
     "execution_count": 41,
     "metadata": {},
     "output_type": "execute_result"
    }
   ],
   "source": [
    "df_select = df_statistical_filtered[['marker_symbol', 'marker_accession_id']].drop_duplicates()\n",
    "# df_select = data[['marker_symbol', 'marker_accession_id', 'mp_term_name', 'mp_term_id']].drop_duplicates()\n",
    "df_select\n",
    "# Release 22.1: 7746 rows\n",
    "# Release 23.0: 7934 rows"
   ]
  },
  {
   "cell_type": "code",
   "execution_count": 42,
   "metadata": {},
   "outputs": [
    {
     "name": "stdout",
     "output_type": "stream",
     "text": [
      "MGI:97281\n"
     ]
    }
   ],
   "source": [
    "dict_symbol_id = dict()\n",
    "for index, row in df_select.iterrows():\n",
    "    dict_symbol_id[row['marker_symbol']] = row['marker_accession_id']\n",
    "print(dict_symbol_id[\"Ncam1\"])"
   ]
  },
  {
   "cell_type": "code",
   "execution_count": 43,
   "metadata": {},
   "outputs": [
    {
     "data": {
      "text/plain": [
       "143882"
      ]
     },
     "execution_count": 43,
     "metadata": {},
     "output_type": "execute_result"
    }
   ],
   "source": [
    "json.dump(dict_symbol_id, open(\"data/annotation/symbol_mgiid.json\", \"w\"), indent=4, sort_keys=True)\n",
    "Path(\"data/annotation/symbol_mgiid.tsv\").write_text(\"\\n\".join([f\"{k}\\t{v}\" for k, v in dict_symbol_id.items()]))"
   ]
  },
  {
   "cell_type": "code",
   "execution_count": 44,
   "metadata": {},
   "outputs": [
    {
     "name": "stdout",
     "output_type": "stream",
     "text": [
      "Ap1ar\tMGI:2384822\n",
      "Kif21a\tMGI:109188\n",
      "Baiap2l2\tMGI:2652819\n"
     ]
    }
   ],
   "source": [
    "%%bash\n",
    "head -n 3 data/annotation/symbol_mgiid.tsv"
   ]
  },
  {
   "cell_type": "markdown",
   "metadata": {},
   "source": [
    "## 4. 表現型の類似度を求める"
   ]
  },
  {
   "cell_type": "code",
   "execution_count": 45,
   "metadata": {},
   "outputs": [
    {
     "name": "stdout",
     "output_type": "stream",
     "text": [
      "['abnormal craniofacial morphology (Homo, Embryo)', 'abnormal embryo size (Homo, Embryo)', 'abnormal heart morphology (Homo, Embryo)', 'abnormal kidney morphology (Hetero, Early)', 'abnormal limb morphology (Homo, Embryo)', 'abnormal seminal vesicle morphology (Hetero, Early)', 'abnormal tail morphology (Homo, Embryo)', 'edema (Homo, Embryo)', 'pallor (Homo, Embryo)', 'preweaning lethality, complete penetrance (Homo, Early)']\n"
     ]
    }
   ],
   "source": [
    "file_path = Path(\"data\", \"annotation\", \"symbol_mptermname.json\")\n",
    "\n",
    "symbol_mptermname = json.load(open(file_path))\n",
    "print(symbol_mptermname[\"Dpf2\"])"
   ]
  },
  {
   "cell_type": "code",
   "execution_count": 46,
   "metadata": {},
   "outputs": [
    {
     "name": "stdout",
     "output_type": "stream",
     "text": [
      "{'abnormal embryo size (Homo, Embryo)', 'edema (Homo, Embryo)', 'abnormal tail morphology (Homo, Embryo)', 'abnormal limb morphology (Homo, Embryo)', 'abnormal kidney morphology (Hetero, Early)', 'pallor (Homo, Embryo)', 'preweaning lethality, complete penetrance (Homo, Early)', 'abnormal heart morphology (Homo, Embryo)', 'abnormal craniofacial morphology (Homo, Embryo)', 'abnormal seminal vesicle morphology (Hetero, Early)'}\n"
     ]
    }
   ],
   "source": [
    "# 空リストを持つ要素を除外しつつ、値を list → set に変換して重複を削除する\n",
    "symbol_mptermname = {k: set(v) for k, v in symbol_mptermname.items() if v}\n",
    "print(symbol_mptermname[\"Dpf2\"])"
   ]
  },
  {
   "cell_type": "markdown",
   "metadata": {},
   "source": [
    "### Jaccard係数で集合の類似度を計算"
   ]
  },
  {
   "cell_type": "code",
   "execution_count": 47,
   "metadata": {},
   "outputs": [
    {
     "name": "stderr",
     "output_type": "stream",
     "text": [
      "Calculating gene pair MP term similarity: 31629081it [01:47, 293081.83it/s]\n"
     ]
    }
   ],
   "source": [
    "\n",
    "gene_pair_mp_similarity = []\n",
    "\n",
    "for a, b in tqdm(combinations(symbol_mptermname, 2), desc=\"Calculating gene pair MP term similarity\"):\n",
    "    shared_mp = sorted(symbol_mptermname[a] & symbol_mptermname[b])\n",
    "    shared_mp_number = len(shared_mp)\n",
    "    union_mp_number = len(symbol_mptermname[a] | symbol_mptermname[b])\n",
    "    overlap_ratio = shared_mp_number / union_mp_number\n",
    "\n",
    "    gene_pair_mp_similarity.append([a, b, round(overlap_ratio, 3), shared_mp_number, shared_mp])\n",
    "\n",
    "## 3 min"
   ]
  },
  {
   "cell_type": "code",
   "execution_count": 48,
   "metadata": {},
   "outputs": [
    {
     "name": "stdout",
     "output_type": "stream",
     "text": [
      "[['1110059G10Rik', '1500009L16Rik', 0.0, 0, []], ['1110059G10Rik', '1600014C10Rik', 0.0, 0, []], ['1110059G10Rik', '1600029I14Rik', 0.0, 0, []]]\n",
      "31629081\n"
     ]
    }
   ],
   "source": [
    "print(gene_pair_mp_similarity[:3])\n",
    "print(len(gene_pair_mp_similarity))\n",
    "# Release 22.0: 29996385\n",
    "# Release 22.1: 29996385\n",
    "# Release 23.0: 31470211"
   ]
  },
  {
   "cell_type": "markdown",
   "metadata": {},
   "source": [
    "### 重複する表現型が閾値以上のものを抽出"
   ]
  },
  {
   "cell_type": "code",
   "execution_count": 49,
   "metadata": {},
   "outputs": [
    {
     "name": "stderr",
     "output_type": "stream",
     "text": [
      "Filtering gene pair MP term similarity: 100%|██████████| 31629081/31629081 [00:04<00:00, 6362329.75it/s]\n"
     ]
    }
   ],
   "source": [
    "similarity_threshold = 0.2\n",
    "num_shared_mp = 2\n",
    "\n",
    "gene_pair_mp_similarity_filtered = []\n",
    "for record in tqdm(gene_pair_mp_similarity, desc=\"Filtering gene pair MP term similarity\"):\n",
    "    if record[2] >= similarity_threshold and record[3] >= num_shared_mp:\n",
    "        gene_pair_mp_similarity_filtered.append(record)\n",
    "\n",
    "# 5 sec"
   ]
  },
  {
   "cell_type": "code",
   "execution_count": 50,
   "metadata": {},
   "outputs": [
    {
     "name": "stdout",
     "output_type": "stream",
     "text": [
      "[['1500009L16Rik', 'Cldnd2', 0.25, 2, ['increased circulating calcium level (Homo, Early)', 'increased circulating serum albumin level (Homo, Early)']], ['1500009L16Rik', 'Eif2ak2', 0.333, 2, ['increased circulating calcium level (Homo, Early)', 'increased circulating serum albumin level (Homo, Early)']], ['1500009L16Rik', 'Lrrtm3', 0.222, 2, ['increased circulating aspartate transaminase level (Homo, Early)', 'increased circulating serum albumin level (Homo, Early)']]]\n",
      "205460\n"
     ]
    }
   ],
   "source": [
    "print(gene_pair_mp_similarity_filtered[:3])\n",
    "print(len(gene_pair_mp_similarity_filtered))\n",
    "# Release 21.1: 134880\n",
    "# Release 22.0: 133281 <- Homo/Hetero/Hemiおよび♂・♀の完全一致を考慮するようになったため、減少\n",
    "# Release 22.1: 133281\n",
    "# v0.3.0: 261,216 <- Similarity_threshodのor条件をつけたため、増加\n",
    "# Release 23.0 TSUMUGI v0.3.2: 205,460 (similarity >= 0.2 and num phenotype >= 2)"
   ]
  },
  {
   "cell_type": "code",
   "execution_count": 51,
   "metadata": {},
   "outputs": [],
   "source": [
    "Path(\"data\", \"overlap\").mkdir(exist_ok=True, parents=True)\n",
    "pickle.dump(gene_pair_mp_similarity, open(\"data/overlap/gene_pair_mp_similarity.pkl\", \"wb\"))\n",
    "pickle.dump(gene_pair_mp_similarity_filtered, open(\"data/overlap/gene_pair_mp_similarity_filtered.pkl\", \"wb\"))\n",
    "\n",
    "# 1 min"
   ]
  },
  {
   "cell_type": "markdown",
   "metadata": {},
   "source": [
    "### 生データをCSV形式で出力 （ダウンロード用）"
   ]
  },
  {
   "cell_type": "code",
   "execution_count": null,
   "metadata": {},
   "outputs": [
    {
     "data": {
      "text/html": [
       "<div>\n",
       "<style scoped>\n",
       "    .dataframe tbody tr th:only-of-type {\n",
       "        vertical-align: middle;\n",
       "    }\n",
       "\n",
       "    .dataframe tbody tr th {\n",
       "        vertical-align: top;\n",
       "    }\n",
       "\n",
       "    .dataframe thead th {\n",
       "        text-align: right;\n",
       "    }\n",
       "</style>\n",
       "<table border=\"1\" class=\"dataframe\">\n",
       "  <thead>\n",
       "    <tr style=\"text-align: right;\">\n",
       "      <th></th>\n",
       "      <th>Gene1</th>\n",
       "      <th>Gene2</th>\n",
       "      <th>Jaccard Similarity</th>\n",
       "      <th>Number of shared phenotype</th>\n",
       "      <th>List of shared phenotypes</th>\n",
       "    </tr>\n",
       "  </thead>\n",
       "  <tbody>\n",
       "    <tr>\n",
       "      <th>0</th>\n",
       "      <td>1110059G10Rik</td>\n",
       "      <td>1500009L16Rik</td>\n",
       "      <td>0.00</td>\n",
       "      <td>0</td>\n",
       "      <td>[]</td>\n",
       "    </tr>\n",
       "    <tr>\n",
       "      <th>1</th>\n",
       "      <td>1110059G10Rik</td>\n",
       "      <td>1600014C10Rik</td>\n",
       "      <td>0.00</td>\n",
       "      <td>0</td>\n",
       "      <td>[]</td>\n",
       "    </tr>\n",
       "    <tr>\n",
       "      <th>2</th>\n",
       "      <td>1110059G10Rik</td>\n",
       "      <td>1600029I14Rik</td>\n",
       "      <td>0.00</td>\n",
       "      <td>0</td>\n",
       "      <td>[]</td>\n",
       "    </tr>\n",
       "    <tr>\n",
       "      <th>3</th>\n",
       "      <td>1110059G10Rik</td>\n",
       "      <td>1700003F12Rik</td>\n",
       "      <td>0.00</td>\n",
       "      <td>0</td>\n",
       "      <td>[]</td>\n",
       "    </tr>\n",
       "    <tr>\n",
       "      <th>4</th>\n",
       "      <td>1110059G10Rik</td>\n",
       "      <td>1700008O03Rik</td>\n",
       "      <td>0.00</td>\n",
       "      <td>0</td>\n",
       "      <td>[]</td>\n",
       "    </tr>\n",
       "    <tr>\n",
       "      <th>...</th>\n",
       "      <td>...</td>\n",
       "      <td>...</td>\n",
       "      <td>...</td>\n",
       "      <td>...</td>\n",
       "      <td>...</td>\n",
       "    </tr>\n",
       "    <tr>\n",
       "      <th>31629076</th>\n",
       "      <td>Zyg11b</td>\n",
       "      <td>Zzz3</td>\n",
       "      <td>0.00</td>\n",
       "      <td>0</td>\n",
       "      <td>[]</td>\n",
       "    </tr>\n",
       "    <tr>\n",
       "      <th>31629077</th>\n",
       "      <td>Zyg11b</td>\n",
       "      <td>a</td>\n",
       "      <td>0.00</td>\n",
       "      <td>0</td>\n",
       "      <td>[]</td>\n",
       "    </tr>\n",
       "    <tr>\n",
       "      <th>31629078</th>\n",
       "      <td>Zzef1</td>\n",
       "      <td>Zzz3</td>\n",
       "      <td>0.00</td>\n",
       "      <td>0</td>\n",
       "      <td>[]</td>\n",
       "    </tr>\n",
       "    <tr>\n",
       "      <th>31629079</th>\n",
       "      <td>Zzef1</td>\n",
       "      <td>a</td>\n",
       "      <td>0.05</td>\n",
       "      <td>1</td>\n",
       "      <td>[abnormal kidney morphology (Homo, Early)]</td>\n",
       "    </tr>\n",
       "    <tr>\n",
       "      <th>31629080</th>\n",
       "      <td>Zzz3</td>\n",
       "      <td>a</td>\n",
       "      <td>0.00</td>\n",
       "      <td>0</td>\n",
       "      <td>[]</td>\n",
       "    </tr>\n",
       "  </tbody>\n",
       "</table>\n",
       "<p>31629081 rows × 5 columns</p>\n",
       "</div>"
      ],
      "text/plain": [
       "                  Gene1          Gene2  Jaccard Similarity  \\\n",
       "0         1110059G10Rik  1500009L16Rik                0.00   \n",
       "1         1110059G10Rik  1600014C10Rik                0.00   \n",
       "2         1110059G10Rik  1600029I14Rik                0.00   \n",
       "3         1110059G10Rik  1700003F12Rik                0.00   \n",
       "4         1110059G10Rik  1700008O03Rik                0.00   \n",
       "...                 ...            ...                 ...   \n",
       "31629076         Zyg11b           Zzz3                0.00   \n",
       "31629077         Zyg11b              a                0.00   \n",
       "31629078          Zzef1           Zzz3                0.00   \n",
       "31629079          Zzef1              a                0.05   \n",
       "31629080           Zzz3              a                0.00   \n",
       "\n",
       "          Number of shared phenotype  \\\n",
       "0                                  0   \n",
       "1                                  0   \n",
       "2                                  0   \n",
       "3                                  0   \n",
       "4                                  0   \n",
       "...                              ...   \n",
       "31629076                           0   \n",
       "31629077                           0   \n",
       "31629078                           0   \n",
       "31629079                           1   \n",
       "31629080                           0   \n",
       "\n",
       "                           List of shared phenotypes  \n",
       "0                                                 []  \n",
       "1                                                 []  \n",
       "2                                                 []  \n",
       "3                                                 []  \n",
       "4                                                 []  \n",
       "...                                              ...  \n",
       "31629076                                          []  \n",
       "31629077                                          []  \n",
       "31629078                                          []  \n",
       "31629079  [abnormal kidney morphology (Homo, Early)]  \n",
       "31629080                                          []  \n",
       "\n",
       "[31629081 rows x 5 columns]"
      ]
     },
     "execution_count": 52,
     "metadata": {},
     "output_type": "execute_result"
    }
   ],
   "source": [
    "df_similarity = pd.DataFrame(gene_pair_mp_similarity)\n",
    "df_similarity.columns = [\"Gene1\", \"Gene2\", \"Jaccard Similarity\", \"Number of shared phenotype\", \"List of shared phenotypes\"]\n",
    "df_similarity.reindex(\n",
    "    columns=[\"Gene1\", \"Gene2\", \"Number of shared phenotype\", \"Jaccard Similarity\", \"List of shared phenotypes\"]\n",
    ")\n",
    "# df_similarity[\"List of shared phenotypes\"] = df_similarity[\"List of shared phenotypes\"].apply(json.dumps)\n",
    "# 30 sec"
   ]
  },
  {
   "cell_type": "code",
   "execution_count": 53,
   "metadata": {},
   "outputs": [
    {
     "name": "stdout",
     "output_type": "stream",
     "text": [
      "✅ 内容に変更がないためスキップしました\n"
     ]
    }
   ],
   "source": [
    "output_dir = Path(\"data\", \"TSUMUGI_RawData\")\n",
    "output_dir.mkdir(parents=True, exist_ok=True)\n",
    "path_csv = output_dir / Path(f\"TSUMUGI_v{TSUMUGI_VERSION}_raw_data.csv.gz\")\n",
    "path_parquet = output_dir / Path(f\"TSUMUGI_v{TSUMUGI_VERSION}_raw_data.parquet\")\n",
    "\n",
    "def get_head1000_hash(df: pd.DataFrame) -> str:\n",
    "    # head(1000)だけを対象にハッシュ化\n",
    "    csv_bytes = df.head(1000).to_csv(index=False, lineterminator='\\n').encode('utf-8')\n",
    "    return hashlib.md5(csv_bytes).hexdigest()\n",
    "\n",
    "def file_head1000_hash(path: Path) -> str | None:\n",
    "    if not path.exists():\n",
    "        return None\n",
    "    with gzip.open(path, \"rt\", encoding=\"utf-8\") as f:\n",
    "        lines = [next(f) for _ in range(1001)]  # 1行目がヘッダー\n",
    "        csv_content = ''.join(lines).encode('utf-8')\n",
    "        return hashlib.md5(csv_content).hexdigest()\n",
    "\n",
    "# 比較\n",
    "new_hash = get_head1000_hash(df_similarity)\n",
    "existing_hash = file_head1000_hash(path_csv)\n",
    "\n",
    "if new_hash != existing_hash:\n",
    "    df_similarity.to_csv(path_csv, index=False, compression=\"gzip\", lineterminator='\\n')\n",
    "    df_similarity.to_parquet(path_parquet, index=False)\n",
    "    print(\"🔄 ファイルを更新しました\")\n",
    "    # 3 min\n",
    "else:\n",
    "    print(\"✅ 内容に変更がないためスキップしました\")"
   ]
  },
  {
   "cell_type": "code",
   "execution_count": 54,
   "metadata": {},
   "outputs": [],
   "source": [
    "# df_pandas = pd.read_parquet(path_parquet)\n",
    "# print(df_pandas)\n",
    "# # 15 sec"
   ]
  },
  {
   "cell_type": "code",
   "execution_count": 55,
   "metadata": {},
   "outputs": [],
   "source": [
    "# df_polars = pl.read_parquet(path_parquet)\n",
    "# print(df_polars.head())\n",
    "# print(df_polars.shape)\n",
    "# # print(df_polars.schema)"
   ]
  },
  {
   "cell_type": "code",
   "execution_count": 56,
   "metadata": {},
   "outputs": [],
   "source": [
    "# df_overlap_filtered = pd.DataFrame(shared_ratios_filtered)\n",
    "# df_overlap_filtered.columns = [\"Gene1\", \"Gene2\", \"Jaccard Similarity\", \"Number of shared phenotype\", \"List of shared phenotypes\"]\n",
    "# df_overlap_filtered.reindex(\n",
    "#     columns=[\"Gene1\", \"Gene2\", \"Number of shared phenotype\", \"Jaccard Similarity\", \"List of shared phenotypes\"]\n",
    "# )\n",
    "# df_overlap_filtered[\"List of shared phenotypes\"] = df_overlap_filtered[\"List of shared phenotypes\"].apply(json.dumps)\n",
    "\n",
    "# df_overlap_filtered.to_csv(\"data/TSUMUGI_filtered_data.csv.gz\", index=False, compression=\"gzip\", lineterminator='\\n')"
   ]
  },
  {
   "cell_type": "markdown",
   "metadata": {},
   "source": [
    "## 表現型ごとのネットワークを出力"
   ]
  },
  {
   "cell_type": "code",
   "execution_count": 84,
   "metadata": {},
   "outputs": [],
   "source": [
    "gene_pair_mp_similarity_filtered = pickle.load(open(\"data/overlap/gene_pair_mp_similarity_filtered.pkl\", \"rb\"))"
   ]
  },
  {
   "cell_type": "code",
   "execution_count": 85,
   "metadata": {},
   "outputs": [
    {
     "name": "stdout",
     "output_type": "stream",
     "text": [
      "205460\n"
     ]
    }
   ],
   "source": [
    "df_similarity = pd.DataFrame(\n",
    "    gene_pair_mp_similarity_filtered, columns=[\"marker1\", \"marker2\", \"phenotype_similarity\", \"shared_mp_number\", \"shared_mp\"]\n",
    ")\n",
    "print(len(df_similarity))\n",
    "# version 0.2.2: 133281  rows × 5 columns\n",
    "# version 0.3.0: 261216  rows × 5 columns"
   ]
  },
  {
   "cell_type": "code",
   "execution_count": 90,
   "metadata": {},
   "outputs": [
    {
     "name": "stdout",
     "output_type": "stream",
     "text": [
      "7954\n"
     ]
    }
   ],
   "source": [
    "df_marker_phenotype = json.load(open(\"data/annotation/symbol_mptermname.json\"))\n",
    "df_marker_phenotype = pd.DataFrame(df_marker_phenotype.items(), columns=[\"marker_symbol\", \"mp_term_name\"])\n",
    "print(len(df_marker_phenotype))\n",
    "# TSUMUGI v0.2.2: 7626 rows\n",
    "# TSUMUGI v0.3.0: 7746 rows\n",
    "# TSUMUGI v0.3.1: 7746 rows\n",
    "# TSUMUGI v0.3.2: 7954 rows"
   ]
  },
  {
   "cell_type": "code",
   "execution_count": 91,
   "metadata": {},
   "outputs": [],
   "source": [
    "dict_marker_phenotype = dict(zip(df_marker_phenotype.marker_symbol, df_marker_phenotype.mp_term_name))"
   ]
  },
  {
   "cell_type": "code",
   "execution_count": 92,
   "metadata": {},
   "outputs": [],
   "source": [
    "dict_marker_disease = json.load(open(\"data/annotation/symbol_disordername.json\"))"
   ]
  },
  {
   "cell_type": "code",
   "execution_count": 93,
   "metadata": {},
   "outputs": [],
   "source": [
    "output_dir = Path(\"data/network/mp_term_name\")\n",
    "# remove network directory\n",
    "if output_dir.exists():\n",
    "    shutil.rmtree(output_dir)\n",
    "\n",
    "output_dir.mkdir(exist_ok=True, parents=True)\n"
   ]
  },
  {
   "cell_type": "code",
   "execution_count": null,
   "metadata": {},
   "outputs": [
    {
     "name": "stderr",
     "output_type": "stream",
     "text": [
      "Processing MP terms:   0%|          | 0/659 [00:00<?, ?it/s]"
     ]
    },
    {
     "name": "stderr",
     "output_type": "stream",
     "text": [
      "Processing MP terms: 100%|██████████| 659/659 [02:45<00:00,  3.98it/s]\n"
     ]
    }
   ],
   "source": [
    "path_target_phenotypes = list(Path(\"data\", \"mp_term_name\").glob(\"*.csv\"))\n",
    "\n",
    "\"\"\"\n",
    "ノードが多すぎるとWebページが描画できない問題を回避するため、\n",
    "ノード数を閾値（upper_limit）以下にするために最適なphenotype_similarityを求める\n",
    "\"\"\"\n",
    "number_of_nodes = 125\n",
    "tolerance = 25\n",
    "upper_limit = number_of_nodes + tolerance\n",
    "lower_limit = number_of_nodes - tolerance\n",
    "\n",
    "for path_target_phenotype in tqdm(path_target_phenotypes, desc=\"Processing MP terms\"):\n",
    "\n",
    "    columns = [\"marker_symbol\", \"effect_size\"]\n",
    "    df_marker_effect = pd.read_csv(path_target_phenotype, usecols=columns).dropna(subset=[\"effect_size\"])\n",
    "    df_marker_effect[\"effect_size\"] = df_marker_effect[\"effect_size\"].abs()\n",
    "    # * effect sizeの絶対値が最大の行を取得 (Homo/Heteroで異なる効果量がある場合に、ひとまず最大値を採用する← 今後の考慮事項)\n",
    "    idx = df_marker_effect.groupby(\"marker_symbol\")[\"effect_size\"].idxmax()\n",
    "    df_max = df_marker_effect.loc[idx]\n",
    "\n",
    "    dict_marker_effect = dict(zip(df_max[\"marker_symbol\"], df_max[\"effect_size\"]))\n",
    "\n",
    "    target_phenotype = path_target_phenotype.stem\n",
    "    target_phenotype_space = target_phenotype.replace(\"_\", \" \")\n",
    "    gene_symbols = df_marker_effect['marker_symbol']\n",
    "\n",
    "    # --- 1. phenotypeを生じるgene_symbolsを含むエッジのみ抽出 ---------------------------\n",
    "    df_filtered = df_similarity[\n",
    "        df_similarity['marker1'].isin(gene_symbols) &\n",
    "        df_similarity['marker2'].isin(gene_symbols) &\n",
    "        df_similarity['shared_mp'].apply(lambda lst: any(target_phenotype_space in term for term in lst))\n",
    "    ]\n",
    "\n",
    "    # --- 2. 初期状態のノードの数を確認 -------------------------------\n",
    "    nodes = set(pd.concat([df_filtered[\"marker1\"], df_filtered[\"marker2\"]], ignore_index=True))\n",
    "    num_nodes = len(nodes)\n",
    "\n",
    "    if num_nodes > upper_limit:\n",
    "            # --- 3. 離散スコア値で探索 ----------------------------------------\n",
    "            discrete_scores = (\n",
    "                df_filtered\n",
    "                .loc[:, \"phenotype_similarity\"]\n",
    "                .unique()\n",
    "            )\n",
    "            discrete_scores = np.sort(discrete_scores)[::-1]      # 降順\n",
    "\n",
    "            best_thr  = None\n",
    "            best_diff = float(\"inf\")\n",
    "\n",
    "            lo, hi = 0, len(discrete_scores) - 1\n",
    "            while lo <= hi:\n",
    "                mid_idx = (lo + hi) // 2\n",
    "                thr = discrete_scores[mid_idx]\n",
    "\n",
    "                df_mid = df_filtered[df_filtered[\"phenotype_similarity\"] >= thr]\n",
    "                nodes = set(pd.concat([df_mid[\"marker1\"], df_mid[\"marker2\"]], ignore_index=True))\n",
    "                num_nodes = len(nodes)\n",
    "\n",
    "                # ▼ ノード数が許容範囲なら候補にする\n",
    "                if num_nodes <= upper_limit:\n",
    "                    diff = abs(num_nodes - number_of_nodes)\n",
    "                    if diff < best_diff:\n",
    "                        best_diff = diff\n",
    "                        best_thr  = thr\n",
    "                    # さらにノードを減らせるか？ → 閾値を **上げる**（スコアを大きく）\n",
    "                    lo = mid_idx + 1\n",
    "                else:\n",
    "                    # ノードが多すぎ → 閾値を **上げる**（スコアを大きく）\n",
    "                    hi = mid_idx - 1\n",
    "\n",
    "            # ------------ 最終の閾値 ---------------------------------------\n",
    "            if best_thr is None:\n",
    "                # Upper limit以下がどうしても存在しないケース → 最小ノードになる閾値\n",
    "                best_thr = discrete_scores[hi + 1]  # hi は最後に -1 されているので +1\n",
    "\n",
    "            df_filtered = df_filtered[df_filtered[\"phenotype_similarity\"] >= best_thr]\n",
    "\n",
    "    # --- 4. フィルタリングされたエッジからノードを入手 -------------------------------\n",
    "    nodes = set(pd.concat([df_filtered[\"marker1\"], df_filtered[\"marker2\"]], ignore_index=True))\n",
    "\n",
    "    # ----------------------------------------------------\n",
    "    # ネットワーク図のためのノードとエッジを作成\n",
    "    # ----------------------------------------------------\n",
    "\n",
    "    # ----------------------------------------------------\n",
    "    # NodeをJSON形式に変換\n",
    "    # ----------------------------------------------------\n",
    "    node_json = []\n",
    "    for node in nodes:\n",
    "        phenotype = dict_marker_phenotype.get(node, \"\")\n",
    "        disease = dict_marker_disease.get(node, \"\")\n",
    "        node_color = dict_marker_effect[node] if node in dict_marker_effect else 0.0\n",
    "        node_json.append({\n",
    "            \"data\": {\n",
    "                \"id\": node,\n",
    "                \"label\": node,\n",
    "                \"phenotype\": phenotype,\n",
    "                \"disease\": disease,\n",
    "                \"node_color\": node_color,\n",
    "            }\n",
    "        })\n",
    "\n",
    "    # ----------------------------------------------------\n",
    "    # edgesを用意\n",
    "    # ----------------------------------------------------\n",
    "    df_edge = df_filtered[[\"marker1\", \"marker2\", \"phenotype_similarity\", \"shared_mp\"]]\n",
    "    rows = df_edge.to_dict(orient=\"records\")\n",
    "    # EdgeをJSON形式に変換\n",
    "    edge_json = [\n",
    "        {\n",
    "            \"data\": {\n",
    "                \"source\":   r[\"marker1\"],\n",
    "                \"target\":   r[\"marker2\"],\n",
    "                \"phenotype\": r[\"shared_mp\"],\n",
    "                \"edge_size\": r[\"phenotype_similarity\"],\n",
    "            }\n",
    "        }\n",
    "        for r in rows\n",
    "    ]\n",
    "    # ----------------------------------------------------\n",
    "    # EdgeとNodeを統合して、出力\n",
    "    # ----------------------------------------------------\n",
    "\n",
    "    network_json = node_json + edge_json\n",
    "\n",
    "    # Output as JSON\n",
    "    if network_json:\n",
    "        output_json = output_dir / f\"{target_phenotype}.json.gz\"\n",
    "        with gzip.open(output_json, \"wt\", encoding=\"utf-8\") as f:\n",
    "            json.dump(network_json, f, indent=4)\n",
    "\n",
    "\n",
    "# 3m"
   ]
  },
  {
   "cell_type": "code",
   "execution_count": 99,
   "metadata": {},
   "outputs": [
    {
     "name": "stdout",
     "output_type": "stream",
     "text": [
      "total 3.0M\n",
      "-rwxrwxrwx 1 kuno kuno  32K Jun 22 05:02 prenatal_lethality_prior_to_heart_atrial_septation.json.gz\n",
      "-rwxrwxrwx 1 kuno kuno  27K Jun 22 05:00 abnormal_placenta_morphology.json.gz\n",
      "-rwxrwxrwx 1 kuno kuno  26K Jun 22 05:00 abnormal_neural_tube_closure.json.gz\n",
      "-rwxrwxrwx 1 kuno kuno  24K Jun 22 05:00 abnormal_embryo_turning.json.gz\n",
      "----------------------\n",
      "-rwxrwxrwx 1 kuno kuno  359 Jun 22 05:00 abnormal_glucose_homeostasis.json.gz\n",
      "-rwxrwxrwx 1 kuno kuno  357 Jun 22 05:02 increased_tidal_volume.json.gz\n",
      "-rwxrwxrwx 1 kuno kuno  336 Jun 22 05:02 prolonged_PQ_interval.json.gz\n",
      "-rwxrwxrwx 1 kuno kuno  328 Jun 22 05:02 single_kidney.json.gz\n",
      "-rwxrwxrwx 1 kuno kuno  310 Jun 22 05:00 convulsive_seizures.json.gz\n"
     ]
    }
   ],
   "source": [
    "%%bash\n",
    "\n",
    "ls -lhS data/network/mp_term_name/ | head -n 5\n",
    "echo \"----------------------\"\n",
    "ls -lhS data/network/mp_term_name/ | tail -n 5\n",
    "\n",
    "# TSUMUGI v0.2.2: total 5.3M\n",
    "# TSUMUGI v0.3.0: total 5.5M\n",
    "# TSUMUGI v0.3.1: total 5.1M <- 該当の表現型を含むネットワークのみを表示 （Issue: #54）\n",
    "# TSUMUGI v0.3.2: total 3.0M"
   ]
  },
  {
   "cell_type": "code",
   "execution_count": 101,
   "metadata": {},
   "outputs": [
    {
     "name": "stdout",
     "output_type": "stream",
     "text": [
      "137\n",
      "119\n",
      "264\n",
      "2\n"
     ]
    }
   ],
   "source": [
    "%%bash\n",
    "# ファイルサイズが最大、最小のgene symbolのnode数を確認\n",
    "zcat data/network/mp_term_name/edema.json.gz | grep -c \"node_color\"\n",
    "zcat data/network/mp_term_name/prenatal_lethality_prior_to_heart_atrial_septation.json.gz | grep -c \"node_color\"\n",
    "zcat data/network/mp_term_name/preweaning_lethality,_complete_penetrance.json.gz | grep -c \"node_color\"\n",
    "zcat data/network/mp_term_name/convulsive_seizures.json.gz | grep -c \"node_color\""
   ]
  },
  {
   "cell_type": "markdown",
   "metadata": {},
   "source": [
    "## 遺伝子ごとのネットワークを出力"
   ]
  },
  {
   "cell_type": "code",
   "execution_count": 102,
   "metadata": {},
   "outputs": [
    {
     "name": "stdout",
     "output_type": "stream",
     "text": [
      "['1500009L16Rik', '1600014C10Rik', '1700003F12Rik']\n",
      "5583\n"
     ]
    }
   ],
   "source": [
    "gene_symbols = df_similarity.marker1.unique().tolist()\n",
    "gene_symbols += df_similarity.marker2.unique().tolist()\n",
    "gene_symbols = list(set(gene_symbols))\n",
    "gene_symbols.sort()  # 以下のfor文で、どこまで遺伝子が処理されたのか途中経過を見積もるためのソート\n",
    "P(gene_symbols[:3])\n",
    "P(len(gene_symbols))\n",
    "# version 0.2.2: 4139\n",
    "# version 0.3.0: 6812 (Life stageを考慮 + 類似度を追加)\n",
    "# version 0.3.1: 6812\n",
    "# version 0.3.2: 5583"
   ]
  },
  {
   "cell_type": "code",
   "execution_count": 103,
   "metadata": {},
   "outputs": [
    {
     "data": {
      "text/plain": [
       "35523"
      ]
     },
     "execution_count": 103,
     "metadata": {},
     "output_type": "execute_result"
    }
   ],
   "source": [
    "Path(\"data/overlap/available_gene_symbols.txt\").write_text(\"\\n\".join(gene_symbols) + \"\\n\")"
   ]
  },
  {
   "cell_type": "code",
   "execution_count": 113,
   "metadata": {},
   "outputs": [],
   "source": [
    "output_dir = Path(\"data\", \"network\", \"gene_symbol\")\n",
    "# remove network directory\n",
    "if output_dir.exists():\n",
    "    shutil.rmtree(output_dir)\n",
    "\n",
    "output_dir.mkdir(exist_ok=True, parents=True)\n",
    "# 10 sec"
   ]
  },
  {
   "cell_type": "code",
   "execution_count": 147,
   "metadata": {},
   "outputs": [
    {
     "data": {
      "application/vnd.jupyter.widget-view+json": {
       "model_id": "793936645f934c2cad27463260e95528",
       "version_major": 2,
       "version_minor": 0
      },
      "text/plain": [
       "Processing Gene Symbols:   0%|          | 0/5583 [00:00<?, ?it/s]"
      ]
     },
     "metadata": {},
     "output_type": "display_data"
    }
   ],
   "source": [
    "number_of_nodes = 125\n",
    "tolerance = 25  # tolerance for the number of nodes\n",
    "upper_limit = number_of_nodes + tolerance\n",
    "lower_limit = number_of_nodes - tolerance\n",
    "\n",
    "for gene_symbol in tqdm(gene_symbols, desc=\"Processing Gene Symbols\"):\n",
    "    \"\"\"\n",
    "    ノードが多すぎるとWebページが描画できない問題を回避するため、\n",
    "    ノード数を200以下にするために最適なphenotype_similarityを求める\n",
    "    \"\"\"\n",
    "    # --- 1. gene_symbol を含むエッジのみ抽出 ---------------------------\n",
    "    df_filtered = df_similarity[\n",
    "        (df_similarity[\"marker1\"] == gene_symbol) |\n",
    "        (df_similarity[\"marker2\"] == gene_symbol)\n",
    "    ]\n",
    "\n",
    "    # --- 2. 初期状態のノードの数を確認 -------------------------------\n",
    "    nodes = set(pd.concat([df_filtered[\"marker1\"], df_filtered[\"marker2\"]], ignore_index=True))\n",
    "    num_nodes = len(nodes)\n",
    "\n",
    "    if num_nodes > upper_limit:\n",
    "        # --- 3. 離散スコア値で探索 ----------------------------------------\n",
    "        # gene_symbol と結ばれたエッジのスコア一覧（重複なし）を降順で取得\n",
    "        discrete_scores = (\n",
    "            df_filtered\n",
    "            .loc[:, \"phenotype_similarity\"]\n",
    "            .unique()\n",
    "        )\n",
    "        discrete_scores = np.sort(discrete_scores)[::-1]      # 降順\n",
    "\n",
    "        best_thr  = None\n",
    "        best_diff = float(\"inf\")\n",
    "\n",
    "        lo, hi = 0, len(discrete_scores) - 1\n",
    "        while lo <= hi:\n",
    "            mid_idx = (lo + hi) // 2\n",
    "            thr = discrete_scores[mid_idx]\n",
    "\n",
    "            df_mid = df_filtered[df_filtered[\"phenotype_similarity\"] >= thr]\n",
    "            # gene_symbol を含むエッジのみ抽出\n",
    "            df_mid = df_mid[\n",
    "                (df_mid[\"marker1\"] == gene_symbol) |\n",
    "                (df_mid[\"marker2\"] == gene_symbol)\n",
    "            ]\n",
    "            nodes = set(pd.concat([df_mid[\"marker1\"], df_mid[\"marker2\"]], ignore_index=True))\n",
    "\n",
    "            if gene_symbol not in nodes:\n",
    "                # gene_symbol が落ちた → 閾値が高すぎる（スコアを下げる）\n",
    "                lo = mid_idx + 1\n",
    "                continue\n",
    "\n",
    "            num_nodes = len(nodes)\n",
    "            # ▼ ノード数が許容範囲なら候補にする\n",
    "            if num_nodes <= upper_limit:\n",
    "                diff = abs(num_nodes - number_of_nodes)\n",
    "                if diff < best_diff:\n",
    "                    best_diff = diff\n",
    "                    best_thr  = thr\n",
    "                # さらにノードを減らせるか？ → 閾値を **上げる**（スコアを大きく）\n",
    "                lo = mid_idx + 1\n",
    "            else:\n",
    "                # ノードが多すぎ → 閾値を **上げる**（スコアを大きく）\n",
    "                hi = mid_idx - 1\n",
    "\n",
    "        # ------------ 最終の閾値 ---------------------------------------\n",
    "        if best_thr is None:\n",
    "            # Upper limit 以下がどうしても存在しない極端ケース → 最小ノードになる閾値\n",
    "            best_thr = discrete_scores[hi + 1]  # hi は最後に -1 されているので +1\n",
    "\n",
    "        df_filtered = df_filtered[df_filtered[\"phenotype_similarity\"] >= best_thr]\n",
    "        # gene_symbol を含むエッジのみ抽出\n",
    "        df_filtered = df_filtered[\n",
    "            (df_filtered[\"marker1\"] == gene_symbol) |\n",
    "            (df_filtered[\"marker2\"] == gene_symbol)\n",
    "        ]\n",
    "\n",
    "    nodes = set(pd.concat([df_filtered[\"marker1\"], df_filtered[\"marker2\"]], ignore_index=True))\n",
    "\n",
    "    # ------------\n",
    "    # ネットワーク図のためのノードとエッジを作成\n",
    "    # ------------\n",
    "\n",
    "    # nodesを用意\n",
    "    node_json = []\n",
    "    for node in nodes:\n",
    "        phenotype = dict_marker_phenotype[node]\n",
    "        disease = dict_marker_disease.get(node, \"\")\n",
    "        # ノードの色を決定（gene_symbol の場合は 1、それ以外は 0）\n",
    "        node_color = 1.0 if node == gene_symbol else 0.0\n",
    "\n",
    "        node_json.append({\n",
    "            \"data\": {\n",
    "                \"id\": node,\n",
    "                \"label\": node,\n",
    "                \"node_color\": node_color,\n",
    "                \"phenotype\": phenotype,\n",
    "                \"disease\": disease,\n",
    "                }\n",
    "            })\n",
    "\n",
    "    # edgesを用意\n",
    "    rows = df_similarity[(df_similarity[\"marker1\"].isin(nodes)) & (df_similarity[\"marker2\"].isin(nodes))].to_dict(orient=\"records\")\n",
    "\n",
    "    # EdgeをJSON形式に変換\n",
    "    edge_json = [\n",
    "        {\n",
    "            \"data\": {\n",
    "                \"source\":   r[\"marker1\"],\n",
    "                \"target\":   r[\"marker2\"],\n",
    "                \"phenotype\": r[\"shared_mp\"],\n",
    "                \"edge_size\": r[\"phenotype_similarity\"],\n",
    "            }\n",
    "        }\n",
    "        for r in rows\n",
    "    ]\n",
    "\n",
    "    network_json = node_json + edge_json\n",
    "\n",
    "    # Output as JSON\n",
    "    if network_json:\n",
    "        output_json = output_dir / f\"{gene_symbol}.json.gz\"\n",
    "        with gzip.open(output_json, \"wt\", encoding=\"utf-8\") as f:\n",
    "            json.dump(network_json, f, indent=4)\n",
    "\n",
    "# 10m"
   ]
  },
  {
   "cell_type": "code",
   "execution_count": 149,
   "metadata": {},
   "outputs": [
    {
     "name": "stdout",
     "output_type": "stream",
     "text": [
      "total 50M\n",
      "-rwxrwxrwx 1 kuno kuno  78K Jun 22 06:36 Dstn.json.gz\n",
      "-rwxrwxrwx 1 kuno kuno  77K Jun 22 06:39 Pdss2.json.gz\n",
      "-rwxrwxrwx 1 kuno kuno  76K Jun 22 06:38 Mettl16.json.gz\n",
      "-rwxrwxrwx 1 kuno kuno  70K Jun 22 06:36 Chd1.json.gz\n",
      "----------------------\n",
      "-rwxrwxrwx 1 kuno kuno  248 Jun 22 06:37 Kbtbd12.json.gz\n",
      "-rwxrwxrwx 1 kuno kuno  247 Jun 22 06:35 Ankhd1.json.gz\n",
      "-rwxrwxrwx 1 kuno kuno  247 Jun 22 06:37 Jmjd7.json.gz\n",
      "-rwxrwxrwx 1 kuno kuno  244 Jun 22 06:39 Plekha8.json.gz\n",
      "-rwxrwxrwx 1 kuno kuno  244 Jun 22 06:40 Tmem174.json.gz\n"
     ]
    }
   ],
   "source": [
    "%%bash\n",
    "ls -lhS data/network/gene_symbol/ | head -n 5\n",
    "echo \"----------------------\"\n",
    "ls -lhS data/network/gene_symbol/ | tail -n 5\n",
    "# 30 sec\n",
    "# version 0.3.0: total 170M\n",
    "# version 0.3.1: total 168M\n",
    "# version 0.3.2: total 50M"
   ]
  },
  {
   "cell_type": "code",
   "execution_count": 148,
   "metadata": {},
   "outputs": [
    {
     "name": "stdout",
     "output_type": "stream",
     "text": [
      "144\n"
     ]
    },
    {
     "name": "stdout",
     "output_type": "stream",
     "text": [
      "95\n",
      "2\n"
     ]
    }
   ],
   "source": [
    "%%bash\n",
    "# ファイルサイズが最大、最小のgene symbolのnode数を確認\n",
    "zcat data/network/gene_symbol/Dstn.json.gz | grep -c \"node_color\"\n",
    "zcat data/network/gene_symbol/Rab10.json.gz | grep -c \"node_color\"\n",
    "zcat data/network/gene_symbol/Plekha8.json.gz | grep -c \"node_color\""
   ]
  },
  {
   "cell_type": "markdown",
   "metadata": {},
   "source": [
    "## test"
   ]
  },
  {
   "cell_type": "code",
   "execution_count": 109,
   "metadata": {},
   "outputs": [],
   "source": [
    "# gene_symbol = \"Coa6\"  # 例としてCdk9を指定\n",
    "# df_filtered = df_similarity[(df_similarity[\"marker1\"] == gene_symbol) | (df_similarity[\"marker2\"] == gene_symbol)]\n",
    "\n",
    "# nodes = set(df_filtered[\"marker1\"].to_list() + df_filtered[\"marker2\"].to_list())\n",
    "# num_nodes = len(nodes)\n",
    "\n",
    "# G = nx.from_pandas_edgelist(df_filtered, \"marker1\", \"marker2\")\n",
    "\n",
    "# # ノードAと直接つながっているノードのみを取得\n",
    "# neighbors = list(G.neighbors(gene_symbol))\n",
    "# subgraph_nodes = [gene_symbol] + neighbors\n",
    "# subgraph = G.subgraph(subgraph_nodes)\n",
    "\n",
    "# print(num_nodes)\n",
    "# print(len(subgraph.nodes))"
   ]
  },
  {
   "cell_type": "code",
   "execution_count": 110,
   "metadata": {},
   "outputs": [],
   "source": [
    "# number_of_nodes = 200\n",
    "# tolerance = 25  # tolerance for the number of nodes\n",
    "# gene_symbol = \"Coa6\"  # 例としてCdk9を指定\n",
    "# df_filtered = df_similarity[(df_similarity[\"marker1\"] == gene_symbol) | (df_similarity[\"marker2\"] == gene_symbol)]\n",
    "\n",
    "# G = nx.from_pandas_edgelist(df_filtered, \"marker1\", \"marker2\")\n",
    "\n",
    "# # ノードAと直接つながっているノードのみを取得\n",
    "# neighbors = list(G.neighbors(gene_symbol))\n",
    "# subgraph_nodes = [gene_symbol] + neighbors\n",
    "# subgraph = G.subgraph(subgraph_nodes)\n",
    "\n",
    "# # 二分探索の範囲\n",
    "# low, high = df_filtered[\"phenotype_similarity\"].min(), df_filtered[\"phenotype_similarity\"].max()\n",
    "# best_phenotype_similarity = None\n",
    "\n",
    "# while low <= high:\n",
    "#     mid = (low + high) / 2\n",
    "\n",
    "#     # phenotype_similarity >= mid のデータをフィルタリング\n",
    "#     df_mid = df_filtered[df_filtered[\"phenotype_similarity\"] >= mid]\n",
    "\n",
    "#     G = nx.from_pandas_edgelist(df_mid, \"marker1\", \"marker2\")\n",
    "#     # ノードAと直接つながっているノードのみを取得\n",
    "#     if gene_symbol in G:\n",
    "#         neighbors = list(G.neighbors(gene_symbol))\n",
    "#     else:\n",
    "#     # mid が大きすぎてノードが除外されすぎた（＝subgraph が小さくなりすぎた）と考えて、探索範囲の上限 (high) を下げる\n",
    "#         high = mid - 1e-6\n",
    "#         continue\n",
    "\n",
    "#     subgraph_nodes = [gene_symbol] + neighbors\n",
    "#     subgraph = G.subgraph(subgraph_nodes)\n",
    "\n",
    "#     node_count = len(subgraph.nodes)\n",
    "#     # ターゲットノード数に近い場合、結果を保存\n",
    "#     if number_of_nodes - tolerance < node_count < number_of_nodes + tolerance:\n",
    "#         best_phenotype_similarity = mid\n",
    "#         break\n",
    "#     elif node_count > number_of_nodes:\n",
    "#         # ノード数が多い場合、範囲を上げる\n",
    "#         best_phenotype_similarity = mid\n",
    "#         low = mid + 1e-6\n",
    "#     else:\n",
    "#         # ノード数が少ない場合、範囲を下げる\n",
    "#         best_phenotype_similarity = mid\n",
    "#         high = mid - 1e-6\n",
    "\n",
    "# df_nodes = df_filtered[df_filtered[\"phenotype_similarity\"] >= best_phenotype_similarity]\n",
    "# G = nx.from_pandas_edgelist(df_nodes, \"marker1\", \"marker2\")\n",
    "# # ノードAと直接つながっているノードのみを取得\n",
    "# neighbors = list(G.neighbors(gene_symbol))\n",
    "# subgraph_nodes = [gene_symbol] + neighbors\n",
    "# subgraph = G.subgraph(subgraph_nodes)\n",
    "\n",
    "# P(len(subgraph.nodes))  # 200"
   ]
  },
  {
   "cell_type": "code",
   "execution_count": 144,
   "metadata": {},
   "outputs": [
    {
     "name": "stdout",
     "output_type": "stream",
     "text": [
      "Rab10\n"
     ]
    }
   ],
   "source": [
    "# gene_symbol = \"Coa6\"  # 例としてCdk9を指定\n",
    "gene_symbol = \"Rab10\"\n",
    "\n",
    "\"\"\"\n",
    "ノードが多すぎるとWebページが描画できない問題を回避するため、\n",
    "ノード数を200以下にするために最適なphenotype_similarityを求める\n",
    "\"\"\"\n",
    "print(gene_symbol)\n",
    "# --- 1. gene_symbol を含むエッジのみ抽出 ---------------------------\n",
    "df_filtered = df_similarity[\n",
    "    (df_similarity[\"marker1\"] == gene_symbol) |\n",
    "    (df_similarity[\"marker2\"] == gene_symbol)\n",
    "]\n",
    "\n",
    "# --- 2. 初期状態のノードの数を確認 -------------------------------\n",
    "nodes = set(pd.concat([df_filtered[\"marker1\"], df_filtered[\"marker2\"]], ignore_index=True))\n",
    "num_nodes = len(nodes)\n",
    "\n",
    "if num_nodes > upper_limit:\n",
    "    # --- 3. 離散スコア値で探索 ----------------------------------------\n",
    "    # gene_symbol と結ばれたエッジのスコア一覧（重複なし）を降順で取得\n",
    "    discrete_scores = (\n",
    "        df_filtered\n",
    "        .loc[:, \"phenotype_similarity\"]\n",
    "        .unique()\n",
    "    )\n",
    "    discrete_scores = np.sort(discrete_scores)[::-1]      # 降順\n",
    "\n",
    "    best_thr  = None\n",
    "    best_diff = float(\"inf\")\n",
    "\n",
    "    lo, hi = 0, len(discrete_scores) - 1\n",
    "    while lo <= hi:\n",
    "        mid_idx = (lo + hi) // 2\n",
    "        thr = discrete_scores[mid_idx]\n",
    "\n",
    "        df_mid = df_filtered[df_filtered[\"phenotype_similarity\"] >= thr]\n",
    "        # gene_symbol を含むエッジのみ抽出\n",
    "        df_mid = df_mid[\n",
    "            (df_mid[\"marker1\"] == gene_symbol) |\n",
    "            (df_mid[\"marker2\"] == gene_symbol)\n",
    "        ]\n",
    "        nodes = set(pd.concat([df_mid[\"marker1\"], df_mid[\"marker2\"]], ignore_index=True))\n",
    "\n",
    "        if gene_symbol not in nodes:\n",
    "            # gene_symbol が落ちた → 閾値が高すぎる（スコアを下げる）\n",
    "            lo = mid_idx + 1\n",
    "            continue\n",
    "\n",
    "        num_nodes = len(nodes)\n",
    "        # ▼ ノード数が許容範囲なら候補にする\n",
    "        if num_nodes <= upper_limit:\n",
    "            diff = abs(num_nodes - number_of_nodes)\n",
    "            if diff < best_diff:\n",
    "                best_diff = diff\n",
    "                best_thr  = thr\n",
    "            # さらにノードを減らせるか？ → 閾値を **上げる**（スコアを大きく）\n",
    "            lo = mid_idx + 1\n",
    "        else:\n",
    "            # ノードが多すぎ → 閾値を **上げる**（スコアを大きく）\n",
    "            hi = mid_idx - 1\n",
    "\n",
    "    # ------------ 最終の閾値 ---------------------------------------\n",
    "    if best_thr is None:\n",
    "        # Upper limit 以下がどうしても存在しない極端ケース → 最小ノードになる閾値\n",
    "        best_thr = discrete_scores[hi + 1]  # hi は最後に -1 されているので +1\n",
    "\n",
    "    df_filtered = df_filtered[df_filtered[\"phenotype_similarity\"] >= best_thr]\n",
    "\n",
    "nodes = set(pd.concat([df_filtered[\"marker1\"], df_filtered[\"marker2\"]], ignore_index=True))\n",
    "\n",
    "# ------------\n",
    "# ネットワーク図のためのノードとエッジを作成\n",
    "# ------------\n",
    "\n",
    "# nodesを用意\n",
    "node_json = []\n",
    "for node in nodes:\n",
    "    phenotype = dict_marker_phenotype[node]\n",
    "    disease = dict_marker_disease.get(node, \"\")\n",
    "    # ノードの色を決定（gene_symbol の場合は 1、それ以外は 0）\n",
    "    node_color = 1.0 if node == gene_symbol else 0.0\n",
    "\n",
    "    node_json.append({\n",
    "        \"data\": {\n",
    "            \"id\": node,\n",
    "            \"label\": node,\n",
    "            \"node_color\": node_color,\n",
    "            \"phenotype\": phenotype,\n",
    "            \"disease\": disease,\n",
    "            }\n",
    "        })\n",
    "\n",
    "# edgesを用意\n",
    "rows = df_similarity[(df_similarity[\"marker1\"].isin(nodes)) & (df_similarity[\"marker2\"].isin(nodes))].to_dict(orient=\"records\")\n",
    "\n",
    "# rows = df_filtered.to_dict(orient=\"records\")\n",
    "# EdgeをJSON形式に変換\n",
    "edge_json = [\n",
    "    {\n",
    "        \"data\": {\n",
    "            \"source\":   r[\"marker1\"],\n",
    "            \"target\":   r[\"marker2\"],\n",
    "            \"phenotype\": r[\"shared_mp\"],\n",
    "            \"edge_size\": r[\"phenotype_similarity\"],\n",
    "        }\n",
    "    }\n",
    "    for r in rows\n",
    "]\n",
    "\n",
    "network_json = node_json + edge_json\n"
   ]
  },
  {
   "cell_type": "code",
   "execution_count": 145,
   "metadata": {},
   "outputs": [
    {
     "name": "stdout",
     "output_type": "stream",
     "text": [
      "95\n"
     ]
    }
   ],
   "source": [
    "x = df_similarity[(df_similarity[\"marker1\"].isin(nodes)) & (df_similarity[\"marker2\"].isin(nodes))]\n",
    "node_x = set(pd.concat([x[\"marker1\"], x[\"marker2\"]], ignore_index=True))\n",
    "print(len(node_x))"
   ]
  },
  {
   "cell_type": "code",
   "execution_count": 137,
   "metadata": {},
   "outputs": [
    {
     "name": "stdout",
     "output_type": "stream",
     "text": [
      "[{'data': {'edge_size': 0.25,\n",
      "           'phenotype': ['abnormal retina blood vessel morphology (Hetero, '\n",
      "                         'Early)',\n",
      "                         'preweaning lethality, complete penetrance (Homo, '\n",
      "                         'Early)'],\n",
      "           'source': '4930444P10Rik',\n",
      "           'target': 'Rpain'}},\n",
      " {'data': {'edge_size': 0.4,\n",
      "           'phenotype': ['embryonic lethality prior to organogenesis (Homo, '\n",
      "                         'Embryo)',\n",
      "                         'preweaning lethality, complete penetrance (Homo, '\n",
      "                         'Early)'],\n",
      "           'source': '4933427D14Rik',\n",
      "           'target': 'Aamp'}},\n",
      " {'data': {'edge_size': 0.222,\n",
      "           'phenotype': ['embryonic lethality prior to organogenesis (Homo, '\n",
      "                         'Embryo)',\n",
      "                         'preweaning lethality, complete penetrance (Homo, '\n",
      "                         'Early)'],\n",
      "           'source': '4933427D14Rik',\n",
      "           'target': 'Actl6a'}}]\n"
     ]
    }
   ],
   "source": [
    "PP(edge_json[:3])"
   ]
  },
  {
   "cell_type": "code",
   "execution_count": 146,
   "metadata": {},
   "outputs": [
    {
     "name": "stdout",
     "output_type": "stream",
     "text": [
      "95\n"
     ]
    }
   ],
   "source": [
    "nodes = set(pd.concat([df_filtered[\"marker1\"], df_filtered[\"marker2\"]], ignore_index=True))\n",
    "print(len(nodes))"
   ]
  },
  {
   "cell_type": "code",
   "execution_count": 112,
   "metadata": {},
   "outputs": [
    {
     "name": "stdout",
     "output_type": "stream",
     "text": [
      "Linux think-x12-2024 6.6.87.2-microsoft-standard-WSL2 #1 SMP PREEMPT_DYNAMIC Thu Jun  5 18:30:46 UTC 2025 x86_64 x86_64 x86_64 GNU/Linux\n",
      "2025/06/22 05:17:56\n"
     ]
    }
   ],
   "source": [
    "%%bash\n",
    "\n",
    "uname -a # OS name\n",
    "date +\"%Y/%m/%d %H:%M:%S\" # Last update"
   ]
  },
  {
   "cell_type": "code",
   "execution_count": null,
   "metadata": {},
   "outputs": [],
   "source": []
  }
 ],
 "metadata": {
  "kernelspec": {
   "display_name": "env-tsumugi",
   "language": "python",
   "name": "python3"
  },
  "language_info": {
   "codemirror_mode": {
    "name": "ipython",
    "version": 3
   },
   "file_extension": ".py",
   "mimetype": "text/x-python",
   "name": "python",
   "nbconvert_exporter": "python",
   "pygments_lexer": "ipython3",
   "version": "3.12.9"
  }
 },
 "nbformat": 4,
 "nbformat_minor": 2
}

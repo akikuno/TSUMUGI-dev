{
 "cells": [
  {
   "cell_type": "markdown",
   "metadata": {},
   "source": [
    "# Run allですべてのデータを準備する"
   ]
  },
  {
   "cell_type": "code",
   "execution_count": 65,
   "metadata": {},
   "outputs": [],
   "source": [
    "RELEASE = 23.0\n",
    "\n",
    "columns = [\"marker_symbol\", \"marker_accession_id\", \"mp_term_name\", \"mp_term_id\", \"p_value\", \"sex_effect_p_value\", \"female_ko_effect_p_value\", \"male_ko_effect_p_value\", \"zygosity\", \"effect_size\",]\n"
   ]
  },
  {
   "cell_type": "markdown",
   "metadata": {},
   "source": [
    "## 1. Download IMPC dataset"
   ]
  },
  {
   "cell_type": "code",
   "execution_count": 2,
   "metadata": {},
   "outputs": [
    {
     "name": "stdout",
     "output_type": "stream",
     "text": [
      "/mnt/e/Research/TSUMUGI-dev-main/notebooks/notebools-web\n",
      "/mnt/e/Research/TSUMUGI-dev-main\n"
     ]
    }
   ],
   "source": [
    "# Move up to top directory\n",
    "import os\n",
    "from pathlib import Path\n",
    "\n",
    "print(os.getcwd())\n",
    "\n",
    "while not Path(\"LICENSE\").exists():\n",
    "    os.chdir('../')\n",
    "\n",
    "print(os.getcwd())"
   ]
  },
  {
   "cell_type": "code",
   "execution_count": 3,
   "metadata": {},
   "outputs": [],
   "source": [
    "P = print\n",
    "from pprint import pprint as PP\n",
    "from collections import Counter as C\n",
    "from pathlib import Path\n",
    "from collections import defaultdict\n",
    "from itertools import combinations\n",
    "import csv\n",
    "import numpy as np\n",
    "import pandas as pd\n",
    "import polars as pl\n",
    "import shutil\n",
    "import pickle\n",
    "import json\n",
    "import gzip\n",
    "import networkx as nx\n",
    "import datetime\n",
    "import urllib.request\n",
    "from tqdm import tqdm\n",
    "import hashlib\n"
   ]
  },
  {
   "cell_type": "code",
   "execution_count": 4,
   "metadata": {},
   "outputs": [
    {
     "name": "stdout",
     "output_type": "stream",
     "text": [
      "/mnt/e/Research/TSUMUGI-dev-main\n"
     ]
    }
   ],
   "source": [
    "%%bash\n",
    "pwd"
   ]
  },
  {
   "cell_type": "code",
   "execution_count": 5,
   "metadata": {},
   "outputs": [],
   "source": [
    "date_str = datetime.date.today().strftime(\"%Y-%m-%d\")\n",
    "\n",
    "# パスの設定\n",
    "data_dir = Path(\"data/impc\")\n",
    "data_dir.mkdir(parents=True, exist_ok=True)\n",
    "csv_path = data_dir / f\"statistical-results-ALL-{RELEASE}.csv\"\n",
    "readme_path = data_dir / \"README.md\"\n",
    "\n",
    "# ファイルが存在しない場合にダウンロードして解凍\n",
    "if not csv_path.exists():\n",
    "    # ダウンロード URL\n",
    "    url = f\"https://ftp.ebi.ac.uk/pub/databases/impc/all-data-releases/release-{RELEASE}/results/statistical-results-ALL.csv.gz\"\n",
    "\n",
    "    print(f\"Downloading and extracting: {url}\")\n",
    "\n",
    "    # URL からファイルサイズ取得（tqdmのため）\n",
    "    with urllib.request.urlopen(url) as response:\n",
    "        total_size = int(response.info().get(\"Content-Length\", -1))\n",
    "        with tqdm.wrapattr(response, \"read\", total=total_size, desc=\"Downloading\", unit=\"B\", unit_scale=True) as r:\n",
    "            with gzip.GzipFile(fileobj=r) as uncompressed:\n",
    "                with open(csv_path, 'wb') as out_file:\n",
    "                    shutil.copyfileobj(uncompressed, out_file)"
   ]
  },
  {
   "cell_type": "code",
   "execution_count": 6,
   "metadata": {},
   "outputs": [],
   "source": [
    "%%bash\n",
    "\n",
    "# wc -l data/impc/statistical-results*.csv\n",
    "# Release 22.1: 3165335\n",
    "# Release 23.0: 2159931\n",
    "# 1 min"
   ]
  },
  {
   "cell_type": "markdown",
   "metadata": {},
   "source": [
    "## 2. Filter dataset by P value < 0.0001 (10^-4)\n"
   ]
  },
  {
   "cell_type": "code",
   "execution_count": null,
   "metadata": {},
   "outputs": [
    {
     "name": "stderr",
     "output_type": "stream",
     "text": [
      "/tmp/ipykernel_457431/3653357303.py:2: DtypeWarning: Columns (25,60) have mixed types. Specify dtype option on import or set low_memory=False.\n",
      "  data = pd.read_csv(path_data)\n"
     ]
    }
   ],
   "source": [
    "path_data = Path(\"data\", \"impc\", f\"statistical-results-ALL-{RELEASE}.csv\")\n",
    "data = pd.read_csv(path_data)\n",
    "data = data[columns]\n",
    "# 30 seconds"
   ]
  },
  {
   "cell_type": "code",
   "execution_count": 8,
   "metadata": {},
   "outputs": [],
   "source": [
    "# print(len(data))\n",
    "# Release 21.1: 2062772\n",
    "# Release 22.0: 3165334\n",
    "# Release 23.0: 2159930"
   ]
  },
  {
   "cell_type": "code",
   "execution_count": 9,
   "metadata": {},
   "outputs": [],
   "source": [
    "# Filter by p_value < 0.0001\n",
    "threshold = 0.0001\n",
    "filter_pvalue = data[\"p_value\"] < threshold\n",
    "filter_female_ko_pvalue = data[\"female_ko_effect_p_value\"] < threshold\n",
    "filter_male_ko_pvalue = data[\"male_ko_effect_p_value\"] < threshold\n",
    "\n",
    "data_filtered = data[filter_pvalue | filter_male_ko_pvalue | filter_male_ko_pvalue]\n",
    "\n",
    "# Filter by mp_term_id and mp_term_name are not NaN\n",
    "data_filtered = data_filtered.dropna(subset=[\"mp_term_id\"])\n",
    "data_filtered = data_filtered.dropna(subset=[\"mp_term_name\"])\n",
    "\n",
    "# Filter by effect_size is not NaN\n",
    "data_filtered = data_filtered.dropna(subset=[\"effect_size\"])"
   ]
  },
  {
   "cell_type": "code",
   "execution_count": 10,
   "metadata": {},
   "outputs": [
    {
     "name": "stdout",
     "output_type": "stream",
     "text": [
      "48963\n"
     ]
    }
   ],
   "source": [
    "print(len(data_filtered))\n",
    "# Release 22.0: 54059 rows\n",
    "# Release 22.1: 54059 rows\n",
    "# Release 23.0: 48963 rows"
   ]
  },
  {
   "cell_type": "code",
   "execution_count": 11,
   "metadata": {},
   "outputs": [],
   "source": [
    "data_filtered.to_csv(f\"data/statistical_filtered-{RELEASE}.csv\", index=False) # 2 sec"
   ]
  },
  {
   "cell_type": "markdown",
   "metadata": {},
   "source": [
    "## Split data by mp_term_name"
   ]
  },
  {
   "cell_type": "code",
   "execution_count": 12,
   "metadata": {},
   "outputs": [],
   "source": [
    "data = data_filtered"
   ]
  },
  {
   "cell_type": "code",
   "execution_count": 13,
   "metadata": {},
   "outputs": [],
   "source": [
    "# data/mp_term_nameを作成\n",
    "\n",
    "output_path = Path(\"data\", \"mp_term_name\")\n",
    "if output_path.exists():\n",
    "    shutil.rmtree(output_path)\n",
    "output_path.mkdir(parents=True, exist_ok=True)"
   ]
  },
  {
   "cell_type": "code",
   "execution_count": 14,
   "metadata": {},
   "outputs": [],
   "source": [
    "# 名前をクリーンにする関数を定義\n",
    "def clean_name(name):\n",
    "    return name.replace(\"/\", \"_\").replace(\" \", \"_\")\n",
    "\n",
    "# mp_term_nameをクリーニングし、ユニークな値を取得\n",
    "unique_mp_term_names = data['mp_term_name'].unique()"
   ]
  },
  {
   "cell_type": "code",
   "execution_count": 15,
   "metadata": {},
   "outputs": [],
   "source": [
    "# ユニークなmp_term_nameごとにフィルタリングしてCSVに保存: 5 sec\n",
    "for mp_term_name in unique_mp_term_names:\n",
    "    filtered_df = data[data['mp_term_name'] == mp_term_name]\n",
    "    clean_mp_term_name = clean_name(mp_term_name)\n",
    "    filtered_df.to_csv(f\"data/mp_term_name/{clean_mp_term_name}.csv\", index=False)\n",
    "# 5 sec"
   ]
  },
  {
   "cell_type": "code",
   "execution_count": 16,
   "metadata": {},
   "outputs": [
    {
     "name": "stdout",
     "output_type": "stream",
     "text": [
      "48963\n"
     ]
    }
   ],
   "source": [
    "print(len(data))"
   ]
  },
  {
   "cell_type": "markdown",
   "metadata": {},
   "source": [
    "## 3. TSUMUGIに必要なアノテーション情報を整理する"
   ]
  },
  {
   "cell_type": "code",
   "execution_count": 17,
   "metadata": {},
   "outputs": [],
   "source": [
    "data = pd.read_csv(f\"data/statistical_filtered-{RELEASE}.csv\")"
   ]
  },
  {
   "cell_type": "markdown",
   "metadata": {},
   "source": [
    "### Annotate life stages"
   ]
  },
  {
   "cell_type": "code",
   "execution_count": 18,
   "metadata": {},
   "outputs": [],
   "source": [
    "# life_stageの初期割り当て\n",
    "def assign_life_stage(pipeline_name):\n",
    "    if pd.isna(pipeline_name):\n",
    "        return \"Early\"\n",
    "    if \"Interval\" in pipeline_name or \"interval\" in pipeline_name:\n",
    "        return \"Interval\"\n",
    "    elif \"Late\" in pipeline_name or \"late\" in pipeline_name:\n",
    "        return \"Late\"\n",
    "    else:\n",
    "        return \"Early\"\n",
    "\n",
    "data[\"life_stage\"] = data[\"pipeline_name\"].apply(assign_life_stage)\n",
    "\n",
    "# Embryo 表現型に該当する procedure_name の一覧\n",
    "embryo_phenotyping = [\n",
    "    \"Gross Morphology Embryo E9.5\",\n",
    "    \"Viability E9.5 Secondary Screen\",\n",
    "    \"OPT E9.5\",\n",
    "    \"MicroCT E9.5\",\n",
    "    \"Gross Morphology Placenta E9.5\",\n",
    "    \"Gross Morphology Embryo E12.5\",\n",
    "    \"Embryo LacZ\",\n",
    "    \"Gross Morphology Placenta E12.5\",\n",
    "    \"Viability E12.5 Secondary Screen\",\n",
    "    \"Viability E14.5-E15.5 Secondary Screen\",\n",
    "    \"Gross Morphology Placenta E14.5-E15.5\",\n",
    "    \"MicroCT E14.5-E15.5\",\n",
    "    \"Gross Morphology Embryo E14.5-E15.5\",\n",
    "    \"Viability E18.5 Secondary Screen\",\n",
    "    \"MicroCT E18.5\",\n",
    "    \"Gross Morphology Embryo E18.5\",\n",
    "    \"Gross Morphology Placenta E18.5\"\n",
    "]\n",
    "\n",
    "# life_stageをEmbryoに上書き\n",
    "data.loc[data[\"procedure_name\"].isin(embryo_phenotyping), \"life_stage\"] = \"Embryo\"\n",
    "data_annotated = data.reset_index(drop=True)"
   ]
  },
  {
   "cell_type": "code",
   "execution_count": 19,
   "metadata": {},
   "outputs": [
    {
     "name": "stdout",
     "output_type": "stream",
     "text": [
      "48963\n",
      "life_stage\n",
      "Early       41655\n",
      "Embryo       4381\n",
      "Late         2869\n",
      "Interval       58\n",
      "Name: count, dtype: int64\n"
     ]
    }
   ],
   "source": [
    "print(len(data_annotated))\n",
    "print(data_annotated[\"life_stage\"].value_counts())\n",
    "# 54059\n",
    "# life_stage\n",
    "# Early       45724\n",
    "# Embryo       4253\n",
    "# Late         4024\n",
    "# Interval       58\n",
    "# Name: count, dtype: int64"
   ]
  },
  {
   "cell_type": "markdown",
   "metadata": {},
   "source": [
    "### Annotate Sex differences"
   ]
  },
  {
   "cell_type": "code",
   "execution_count": 20,
   "metadata": {},
   "outputs": [
    {
     "name": "stdout",
     "output_type": "stream",
     "text": [
      "23.0\n",
      "sexdual_dimorphism\n",
      "male      5026\n",
      "female    4307\n",
      "Name: count, dtype: int64\n",
      "48963\n"
     ]
    }
   ],
   "source": [
    "threshold = 0.0001\n",
    "\n",
    "# 条件リスト\n",
    "conditions = [\n",
    "    (data_annotated[\"sex_effect_p_value\"] < threshold) & (data_annotated[\"female_ko_effect_p_value\"] < threshold) & (data_annotated[\"male_ko_effect_p_value\"] > threshold),\n",
    "    (data_annotated[\"sex_effect_p_value\"] < threshold) & (data_annotated[\"male_ko_effect_p_value\"] < threshold) & (data_annotated[\"female_ko_effect_p_value\"] > threshold)\n",
    "]\n",
    "\n",
    "# 条件に対応する値\n",
    "choices = [\"female\", \"male\"]\n",
    "\n",
    "# np.selectで列を設定\n",
    "data_annotated[\"sexdual_dimorphism\"] = np.select(conditions, choices, default=None)\n",
    "data_annotated = data_annotated.reset_index(drop=True)\n",
    "\n",
    "# 結果を確認\n",
    "print(RELEASE)\n",
    "print(data_annotated[\"sexdual_dimorphism\"].value_counts())\n",
    "\n",
    "# RELEASE 22.1\n",
    "# sexdual_dimorphism\n",
    "# male      4915\n",
    "# female    4146\n",
    "\n",
    "print(len(data_annotated))"
   ]
  },
  {
   "cell_type": "code",
   "execution_count": 21,
   "metadata": {},
   "outputs": [
    {
     "data": {
      "text/html": [
       "<div>\n",
       "<style scoped>\n",
       "    .dataframe tbody tr th:only-of-type {\n",
       "        vertical-align: middle;\n",
       "    }\n",
       "\n",
       "    .dataframe tbody tr th {\n",
       "        vertical-align: top;\n",
       "    }\n",
       "\n",
       "    .dataframe thead th {\n",
       "        text-align: right;\n",
       "    }\n",
       "</style>\n",
       "<table border=\"1\" class=\"dataframe\">\n",
       "  <thead>\n",
       "    <tr style=\"text-align: right;\">\n",
       "      <th></th>\n",
       "      <th>p_value</th>\n",
       "      <th>sexdual_dimorphism</th>\n",
       "      <th>effect_size</th>\n",
       "      <th>genotype_effect_parameter_estimate</th>\n",
       "      <th>female_ko_parameter_estimate</th>\n",
       "      <th>male_ko_parameter_estimate</th>\n",
       "    </tr>\n",
       "  </thead>\n",
       "  <tbody>\n",
       "    <tr>\n",
       "      <th>10</th>\n",
       "      <td>1.260278e-04</td>\n",
       "      <td>male</td>\n",
       "      <td>2.230004</td>\n",
       "      <td>24.066403</td>\n",
       "      <td>24.066403</td>\n",
       "      <td>41.292084</td>\n",
       "    </tr>\n",
       "    <tr>\n",
       "      <th>11</th>\n",
       "      <td>5.111543e-06</td>\n",
       "      <td>female</td>\n",
       "      <td>0.435955</td>\n",
       "      <td>0.169696</td>\n",
       "      <td>0.169696</td>\n",
       "      <td>-0.063424</td>\n",
       "    </tr>\n",
       "    <tr>\n",
       "      <th>12</th>\n",
       "      <td>1.637330e-02</td>\n",
       "      <td>male</td>\n",
       "      <td>-1.429840</td>\n",
       "      <td>-1.500340</td>\n",
       "      <td>-1.553489</td>\n",
       "      <td>-3.789276</td>\n",
       "    </tr>\n",
       "    <tr>\n",
       "      <th>13</th>\n",
       "      <td>5.153139e-01</td>\n",
       "      <td>male</td>\n",
       "      <td>1.088084</td>\n",
       "      <td>1.399613</td>\n",
       "      <td>1.399613</td>\n",
       "      <td>8.361055</td>\n",
       "    </tr>\n",
       "    <tr>\n",
       "      <th>15</th>\n",
       "      <td>8.911086e-08</td>\n",
       "      <td>female</td>\n",
       "      <td>1.811095</td>\n",
       "      <td>0.004294</td>\n",
       "      <td>0.004294</td>\n",
       "      <td>0.002278</td>\n",
       "    </tr>\n",
       "    <tr>\n",
       "      <th>16</th>\n",
       "      <td>3.849604e-08</td>\n",
       "      <td>female</td>\n",
       "      <td>1.602556</td>\n",
       "      <td>22.176017</td>\n",
       "      <td>22.010837</td>\n",
       "      <td>12.868002</td>\n",
       "    </tr>\n",
       "    <tr>\n",
       "      <th>20</th>\n",
       "      <td>2.362372e-02</td>\n",
       "      <td>male</td>\n",
       "      <td>2.379854</td>\n",
       "      <td>2.033590</td>\n",
       "      <td>2.033590</td>\n",
       "      <td>5.189590</td>\n",
       "    </tr>\n",
       "    <tr>\n",
       "      <th>26</th>\n",
       "      <td>9.895246e-06</td>\n",
       "      <td>female</td>\n",
       "      <td>1.095692</td>\n",
       "      <td>443.545464</td>\n",
       "      <td>443.833507</td>\n",
       "      <td>227.451186</td>\n",
       "    </tr>\n",
       "    <tr>\n",
       "      <th>27</th>\n",
       "      <td>2.294615e-07</td>\n",
       "      <td>female</td>\n",
       "      <td>1.443321</td>\n",
       "      <td>2.103954</td>\n",
       "      <td>2.484874</td>\n",
       "      <td>1.719280</td>\n",
       "    </tr>\n",
       "    <tr>\n",
       "      <th>30</th>\n",
       "      <td>2.508208e-08</td>\n",
       "      <td>male</td>\n",
       "      <td>-0.704889</td>\n",
       "      <td>-3.655154</td>\n",
       "      <td>-3.314047</td>\n",
       "      <td>-3.999483</td>\n",
       "    </tr>\n",
       "  </tbody>\n",
       "</table>\n",
       "</div>"
      ],
      "text/plain": [
       "         p_value sexdual_dimorphism  effect_size  \\\n",
       "10  1.260278e-04               male     2.230004   \n",
       "11  5.111543e-06             female     0.435955   \n",
       "12  1.637330e-02               male    -1.429840   \n",
       "13  5.153139e-01               male     1.088084   \n",
       "15  8.911086e-08             female     1.811095   \n",
       "16  3.849604e-08             female     1.602556   \n",
       "20  2.362372e-02               male     2.379854   \n",
       "26  9.895246e-06             female     1.095692   \n",
       "27  2.294615e-07             female     1.443321   \n",
       "30  2.508208e-08               male    -0.704889   \n",
       "\n",
       "    genotype_effect_parameter_estimate  female_ko_parameter_estimate  \\\n",
       "10                           24.066403                     24.066403   \n",
       "11                            0.169696                      0.169696   \n",
       "12                           -1.500340                     -1.553489   \n",
       "13                            1.399613                      1.399613   \n",
       "15                            0.004294                      0.004294   \n",
       "16                           22.176017                     22.010837   \n",
       "20                            2.033590                      2.033590   \n",
       "26                          443.545464                    443.833507   \n",
       "27                            2.103954                      2.484874   \n",
       "30                           -3.655154                     -3.314047   \n",
       "\n",
       "    male_ko_parameter_estimate  \n",
       "10                   41.292084  \n",
       "11                   -0.063424  \n",
       "12                   -3.789276  \n",
       "13                    8.361055  \n",
       "15                    0.002278  \n",
       "16                   12.868002  \n",
       "20                    5.189590  \n",
       "26                  227.451186  \n",
       "27                    1.719280  \n",
       "30                   -3.999483  "
      ]
     },
     "execution_count": 21,
     "metadata": {},
     "output_type": "execute_result"
    }
   ],
   "source": [
    "# 確認\n",
    "data_annotated.dropna(subset=[\"sexdual_dimorphism\"])[[\"p_value\", \"sexdual_dimorphism\", \"effect_size\", \"genotype_effect_parameter_estimate\", \"female_ko_parameter_estimate\", \"male_ko_parameter_estimate\"]].head(10)"
   ]
  },
  {
   "cell_type": "markdown",
   "metadata": {},
   "source": [
    "### 遺伝型、性差、ライフステージのアノテーションを統合する"
   ]
  },
  {
   "cell_type": "code",
   "execution_count": 22,
   "metadata": {},
   "outputs": [
    {
     "name": "stdout",
     "output_type": "stream",
     "text": [
      "zygosity\n",
      "homozygote      37599\n",
      "heterozygote    10781\n",
      "hemizygote        583\n",
      "Name: count, dtype: int64\n"
     ]
    }
   ],
   "source": [
    "print(data_annotated[\"zygosity\"].value_counts())\n",
    "# zygosity\n",
    "# homozygote      41444\n",
    "# heterozygote    11921\n",
    "# hemizygote        694\n",
    "# Name: count, dtype: int64"
   ]
  },
  {
   "cell_type": "code",
   "execution_count": 23,
   "metadata": {},
   "outputs": [],
   "source": [
    "colmuns = [\"marker_symbol\", \"marker_accession_id\", \"mp_term_name\", \"mp_term_id\", \"p_value\", \"female_ko_effect_p_value\", \"male_ko_effect_p_value\", \"sexdual_dimorphism\", \"zygosity\", \"life_stage\", \"effect_size\",]\n",
    "\n",
    "data_annotated = data_annotated[colmuns]"
   ]
  },
  {
   "cell_type": "code",
   "execution_count": 24,
   "metadata": {},
   "outputs": [],
   "source": [
    "# mp_term = \"increased fasting circulating glucose level\".strip()\n",
    "# data_annotated[\n",
    "#     (data_annotated[\"marker_symbol\"] == \"Dnase1l2\") &\n",
    "#     (data_annotated[\"mp_term_name\"] == mp_term)\n",
    "# ]"
   ]
  },
  {
   "cell_type": "code",
   "execution_count": 25,
   "metadata": {},
   "outputs": [],
   "source": [
    "# アノテーション列を追加（inplace）\n",
    "def make_annotation(row):\n",
    "    # 遺伝型\n",
    "    if row['zygosity'] == 'homozygote':\n",
    "        annotate = \"Homo\"\n",
    "    elif row['zygosity'] == 'heterozygote':\n",
    "        annotate = \"Hetero\"\n",
    "    else:\n",
    "        annotate = \"Hemi\"\n",
    "\n",
    "    # 性別\n",
    "    if row['sexdual_dimorphism'] == \"female\":\n",
    "        annotate += \", Female\"\n",
    "    elif row['sexdual_dimorphism'] == \"male\":\n",
    "        annotate += \", Male\"\n",
    "\n",
    "    # life_stage\n",
    "    if row['life_stage'] in {\"Embryo\", \"Early\", \"Interval\", \"Late\"}:\n",
    "        annotate += f\", {row['life_stage']}\"\n",
    "\n",
    "    return f\"{row['mp_term_name']} ({annotate})\"\n",
    "\n",
    "data_annotated[\"annotation\"] = data_annotated.apply(make_annotation, axis=1)\n",
    "\n",
    "# marker_symbol ごとに annotation をリスト化＆ソート\n",
    "marker_annotation_map = (\n",
    "    data_annotated\n",
    "    .groupby(\"marker_symbol\")[\"annotation\"]\n",
    "    .apply(lambda x: sorted(set(x)))\n",
    ")\n"
   ]
  },
  {
   "cell_type": "code",
   "execution_count": 26,
   "metadata": {},
   "outputs": [
    {
     "name": "stdout",
     "output_type": "stream",
     "text": [
      "['abnormal skin condition (Homo, Early)', 'decreased circulating HDL cholesterol level (Homo, Male, Early)', 'decreased circulating alkaline phosphatase level (Homo, Female, Early)', 'decreased circulating cholesterol level (Homo, Male, Early)', 'decreased circulating free fatty acids level (Homo, Early)', 'decreased hemoglobin content (Homo, Male, Early)', 'decreased mean corpuscular hemoglobin (Homo, Early)', 'decreased mean corpuscular hemoglobin concentration (Homo, Early)', 'decreased mean corpuscular volume (Homo, Early)', 'increased exploration in new environment (Homo, Early)']\n",
      "['abnormal abdominal wall morphology (Homo, Embryo)', 'abnormal embryo size (Homo, Embryo)', 'abnormal facial morphology (Homo, Embryo)', 'abnormal head shape (Homo, Embryo)', 'abnormal head size (Homo, Embryo)', 'abnormal limb morphology (Homo, Embryo)', 'abnormal placenta size (Homo, Embryo)', 'abnormal retina blood vessel morphology (Hetero, Early)', 'abnormal retina vasculature morphology (Hetero, Early)', 'anophthalmia (Homo, Embryo)', 'cleft palate (Homo, Embryo)', 'decreased lymphocyte cell number (Hetero, Early)', 'exencephaly (Homo, Embryo)', 'facial cleft (Homo, Embryo)', 'increased erythrocyte cell number (Hetero, Early)', 'microphthalmia (Homo, Embryo)', 'preweaning lethality, complete penetrance (Homo, Early)', 'short tibia (Hetero, Male, Early)', 'spina bifida (Homo, Embryo)']\n",
      "['hyperactivity (Homo, Female, Early)', 'increased fasting circulating glucose level (Homo, Early)']\n"
     ]
    }
   ],
   "source": [
    "# 例：Rhdの注釈を表示\n",
    "print(marker_annotation_map[\"Rhd\"])\n",
    "# 例：Amtの注釈を表示 (Embryo)\n",
    "print(marker_annotation_map[\"Amt\"])\n",
    "# 例：Spag4の注釈を表示 (重複が削除されているか)\n",
    "print(marker_annotation_map[\"Spag4\"])"
   ]
  },
  {
   "cell_type": "code",
   "execution_count": 27,
   "metadata": {},
   "outputs": [],
   "source": [
    "\n",
    "Path(\"data/annotation\").mkdir(exist_ok=True, parents=True)\n",
    "file_path = \"data/annotation/symbol_mptermname.json\"\n",
    "marker_annotation_map.to_json(file_path, indent=4)\n",
    "\n",
    "# json.dump(marker_annotation_map, open(file_path, \"w\"), indent=4, sort_keys=True)\n"
   ]
  },
  {
   "cell_type": "code",
   "execution_count": 28,
   "metadata": {},
   "outputs": [
    {
     "name": "stdout",
     "output_type": "stream",
     "text": [
      "Male: 4480\n",
      "Feale: 3524\n",
      "Homo: 30786\n",
      "Hetero: 9516\n"
     ]
    },
    {
     "name": "stdout",
     "output_type": "stream",
     "text": [
      "Hemi: 492\n",
      "Embryo: 4207\n",
      "Early: 34048\n",
      "Interval: 52\n",
      "Late: 2487\n"
     ]
    }
   ],
   "source": [
    "%%bash\n",
    "\n",
    "grep -c \"Male\" data/annotation/symbol_mptermname.json | sed \"s|^|Male: |\"\n",
    "grep -c \"Female\" data/annotation/symbol_mptermname.json | sed \"s|^|Feale: |\"\n",
    "\n",
    "grep -c \"Homo\" data/annotation/symbol_mptermname.json | sed \"s|^|Homo: |\"\n",
    "grep -c \"Hetero\" data/annotation/symbol_mptermname.json | sed \"s|^|Hetero: |\"\n",
    "grep -c \"Hemi\" data/annotation/symbol_mptermname.json | sed \"s|^|Hemi: |\"\n",
    "\n",
    "grep -c \"Embryo\" data/annotation/symbol_mptermname.json | sed \"s|^|Embryo: |\"\n",
    "grep -c \"Early\" data/annotation/symbol_mptermname.json | sed \"s|^|Early: |\"\n",
    "grep -c \"Interval\" data/annotation/symbol_mptermname.json | sed \"s|^|Interval: |\"\n",
    "grep -c \"Late\" data/annotation/symbol_mptermname.json | sed \"s|^|Late: |\"\n",
    "\n",
    "# Male: 4915\n",
    "# Feale: 4146\n",
    "# Homo: 41444\n",
    "# Hetero: 11921\n",
    "# Hemi: 694\n",
    "# Embryo: 4253\n",
    "# Early: 45724\n",
    "# Interval: 58\n",
    "# Late: 4024\n"
   ]
  },
  {
   "cell_type": "markdown",
   "metadata": {},
   "source": [
    "### mp term nameとIMPCのPhenotype URLを紐付ける"
   ]
  },
  {
   "cell_type": "code",
   "execution_count": 29,
   "metadata": {},
   "outputs": [
    {
     "data": {
      "text/html": [
       "<div>\n",
       "<style scoped>\n",
       "    .dataframe tbody tr th:only-of-type {\n",
       "        vertical-align: middle;\n",
       "    }\n",
       "\n",
       "    .dataframe tbody tr th {\n",
       "        vertical-align: top;\n",
       "    }\n",
       "\n",
       "    .dataframe thead th {\n",
       "        text-align: right;\n",
       "    }\n",
       "</style>\n",
       "<table border=\"1\" class=\"dataframe\">\n",
       "  <thead>\n",
       "    <tr style=\"text-align: right;\">\n",
       "      <th></th>\n",
       "      <th>mp_term_id</th>\n",
       "      <th>mp_term_name</th>\n",
       "    </tr>\n",
       "  </thead>\n",
       "  <tbody>\n",
       "    <tr>\n",
       "      <th>0</th>\n",
       "      <td>MP:0001510</td>\n",
       "      <td>abnormal coat appearance</td>\n",
       "    </tr>\n",
       "    <tr>\n",
       "      <th>1</th>\n",
       "      <td>MP:0011100</td>\n",
       "      <td>preweaning lethality, complete penetrance</td>\n",
       "    </tr>\n",
       "    <tr>\n",
       "      <th>2</th>\n",
       "      <td>MP:0004738</td>\n",
       "      <td>abnormal auditory brainstem response</td>\n",
       "    </tr>\n",
       "    <tr>\n",
       "      <th>3</th>\n",
       "      <td>MP:0001303</td>\n",
       "      <td>abnormal lens morphology</td>\n",
       "    </tr>\n",
       "    <tr>\n",
       "      <th>4</th>\n",
       "      <td>MP:0001147</td>\n",
       "      <td>small testis</td>\n",
       "    </tr>\n",
       "    <tr>\n",
       "      <th>...</th>\n",
       "      <td>...</td>\n",
       "      <td>...</td>\n",
       "    </tr>\n",
       "    <tr>\n",
       "      <th>46893</th>\n",
       "      <td>MP:0011503</td>\n",
       "      <td>distended jejunum</td>\n",
       "    </tr>\n",
       "    <tr>\n",
       "      <th>47045</th>\n",
       "      <td>MP:0002862</td>\n",
       "      <td>abnormal righting response</td>\n",
       "    </tr>\n",
       "    <tr>\n",
       "      <th>47794</th>\n",
       "      <td>MP:0004727</td>\n",
       "      <td>absent epididymis</td>\n",
       "    </tr>\n",
       "    <tr>\n",
       "      <th>48018</th>\n",
       "      <td>MP:0000023</td>\n",
       "      <td>abnormal ear position</td>\n",
       "    </tr>\n",
       "    <tr>\n",
       "      <th>48031</th>\n",
       "      <td>MP:0003655</td>\n",
       "      <td>absent pancreas</td>\n",
       "    </tr>\n",
       "  </tbody>\n",
       "</table>\n",
       "<p>659 rows × 2 columns</p>\n",
       "</div>"
      ],
      "text/plain": [
       "       mp_term_id                               mp_term_name\n",
       "0      MP:0001510                   abnormal coat appearance\n",
       "1      MP:0011100  preweaning lethality, complete penetrance\n",
       "2      MP:0004738       abnormal auditory brainstem response\n",
       "3      MP:0001303                   abnormal lens morphology\n",
       "4      MP:0001147                               small testis\n",
       "...           ...                                        ...\n",
       "46893  MP:0011503                          distended jejunum\n",
       "47045  MP:0002862                 abnormal righting response\n",
       "47794  MP:0004727                          absent epididymis\n",
       "48018  MP:0000023                      abnormal ear position\n",
       "48031  MP:0003655                            absent pancreas\n",
       "\n",
       "[659 rows x 2 columns]"
      ]
     },
     "execution_count": 29,
     "metadata": {},
     "output_type": "execute_result"
    }
   ],
   "source": [
    "data_select = data[['mp_term_id', 'mp_term_name']].drop_duplicates()\n",
    "# data_select = data[['marker_symbol', 'marker_accession_id', 'mp_term_name', 'mp_term_id']].drop_duplicates()\n",
    "data_select"
   ]
  },
  {
   "cell_type": "code",
   "execution_count": 30,
   "metadata": {},
   "outputs": [
    {
     "name": "stdout",
     "output_type": "stream",
     "text": [
      "https://www.mousephenotype.org/data/phenotypes/MP:0002217\n"
     ]
    }
   ],
   "source": [
    "data_dict_url = dict()\n",
    "for index, row in data_select.iterrows():\n",
    "    mp_tern_id = row['mp_term_id']\n",
    "    impc_url = f\"https://www.mousephenotype.org/data/phenotypes/{mp_tern_id}\"\n",
    "    mp_term_name = row['mp_term_name']\n",
    "    data_dict_url[mp_term_name] = impc_url\n",
    "\n",
    "print(data_dict_url[\"small lymph nodes\"])"
   ]
  },
  {
   "cell_type": "code",
   "execution_count": 31,
   "metadata": {},
   "outputs": [],
   "source": [
    "with open('data/annotation/mptermname_phenotypeurl.tsv', 'w') as f:\n",
    "    for term, url in data_dict_url.items():\n",
    "        f.write(f\"{term}\\t{url}\\n\")"
   ]
  },
  {
   "cell_type": "code",
   "execution_count": 32,
   "metadata": {},
   "outputs": [
    {
     "name": "stdout",
     "output_type": "stream",
     "text": [
      "abnormal coat appearance\thttps://www.mousephenotype.org/data/phenotypes/MP:0001510\n",
      "preweaning lethality, complete penetrance\thttps://www.mousephenotype.org/data/phenotypes/MP:0011100\n",
      "abnormal auditory brainstem response\thttps://www.mousephenotype.org/data/phenotypes/MP:0004738\n",
      "659 data/annotation/mptermname_phenotypeurl.tsv\n"
     ]
    }
   ],
   "source": [
    "%%bash\n",
    "\n",
    "head -n 3 data/annotation/mptermname_phenotypeurl.tsv\n",
    "wc -l data/annotation/mptermname_phenotypeurl.tsv\n",
    "# Release 22.0: 664\n",
    "# Release 23.0: 659"
   ]
  },
  {
   "cell_type": "markdown",
   "metadata": {},
   "source": [
    "### marker symbolとMGI accession idを紐付ける"
   ]
  },
  {
   "cell_type": "code",
   "execution_count": 33,
   "metadata": {},
   "outputs": [
    {
     "data": {
      "text/html": [
       "<div>\n",
       "<style scoped>\n",
       "    .dataframe tbody tr th:only-of-type {\n",
       "        vertical-align: middle;\n",
       "    }\n",
       "\n",
       "    .dataframe tbody tr th {\n",
       "        vertical-align: top;\n",
       "    }\n",
       "\n",
       "    .dataframe thead th {\n",
       "        text-align: right;\n",
       "    }\n",
       "</style>\n",
       "<table border=\"1\" class=\"dataframe\">\n",
       "  <thead>\n",
       "    <tr style=\"text-align: right;\">\n",
       "      <th></th>\n",
       "      <th>marker_symbol</th>\n",
       "      <th>marker_accession_id</th>\n",
       "    </tr>\n",
       "  </thead>\n",
       "  <tbody>\n",
       "    <tr>\n",
       "      <th>0</th>\n",
       "      <td>Ap1ar</td>\n",
       "      <td>MGI:2384822</td>\n",
       "    </tr>\n",
       "    <tr>\n",
       "      <th>1</th>\n",
       "      <td>Kif21a</td>\n",
       "      <td>MGI:109188</td>\n",
       "    </tr>\n",
       "    <tr>\n",
       "      <th>2</th>\n",
       "      <td>Baiap2l2</td>\n",
       "      <td>MGI:2652819</td>\n",
       "    </tr>\n",
       "    <tr>\n",
       "      <th>3</th>\n",
       "      <td>Wars1</td>\n",
       "      <td>MGI:104630</td>\n",
       "    </tr>\n",
       "    <tr>\n",
       "      <th>4</th>\n",
       "      <td>Prss47</td>\n",
       "      <td>MGI:2685120</td>\n",
       "    </tr>\n",
       "    <tr>\n",
       "      <th>...</th>\n",
       "      <td>...</td>\n",
       "      <td>...</td>\n",
       "    </tr>\n",
       "    <tr>\n",
       "      <th>48686</th>\n",
       "      <td>Cacng3</td>\n",
       "      <td>MGI:1859165</td>\n",
       "    </tr>\n",
       "    <tr>\n",
       "      <th>48691</th>\n",
       "      <td>Dkk4</td>\n",
       "      <td>MGI:2385299</td>\n",
       "    </tr>\n",
       "    <tr>\n",
       "      <th>48894</th>\n",
       "      <td>Slc9a3</td>\n",
       "      <td>MGI:105064</td>\n",
       "    </tr>\n",
       "    <tr>\n",
       "      <th>48913</th>\n",
       "      <td>Srek1</td>\n",
       "      <td>MGI:2145245</td>\n",
       "    </tr>\n",
       "    <tr>\n",
       "      <th>48954</th>\n",
       "      <td>Rars2</td>\n",
       "      <td>MGI:1923596</td>\n",
       "    </tr>\n",
       "  </tbody>\n",
       "</table>\n",
       "<p>7934 rows × 2 columns</p>\n",
       "</div>"
      ],
      "text/plain": [
       "      marker_symbol marker_accession_id\n",
       "0             Ap1ar         MGI:2384822\n",
       "1            Kif21a          MGI:109188\n",
       "2          Baiap2l2         MGI:2652819\n",
       "3             Wars1          MGI:104630\n",
       "4            Prss47         MGI:2685120\n",
       "...             ...                 ...\n",
       "48686        Cacng3         MGI:1859165\n",
       "48691          Dkk4         MGI:2385299\n",
       "48894        Slc9a3          MGI:105064\n",
       "48913         Srek1         MGI:2145245\n",
       "48954         Rars2         MGI:1923596\n",
       "\n",
       "[7934 rows x 2 columns]"
      ]
     },
     "execution_count": 33,
     "metadata": {},
     "output_type": "execute_result"
    }
   ],
   "source": [
    "data_select = data[['marker_symbol', 'marker_accession_id']].drop_duplicates()\n",
    "# data_select = data[['marker_symbol', 'marker_accession_id', 'mp_term_name', 'mp_term_id']].drop_duplicates()\n",
    "data_select\n",
    "# Release 22.1: 7746 rows\n",
    "# Release 23.0: 7934 rows"
   ]
  },
  {
   "cell_type": "code",
   "execution_count": 34,
   "metadata": {},
   "outputs": [
    {
     "name": "stdout",
     "output_type": "stream",
     "text": [
      "MGI:97281\n"
     ]
    }
   ],
   "source": [
    "data_dict = dict()\n",
    "for index, row in data_select.iterrows():\n",
    "    data_dict[row['marker_symbol']] = row['marker_accession_id']\n",
    "print(data_dict[\"Ncam1\"])"
   ]
  },
  {
   "cell_type": "code",
   "execution_count": 35,
   "metadata": {},
   "outputs": [
    {
     "data": {
      "text/plain": [
       "143526"
      ]
     },
     "execution_count": 35,
     "metadata": {},
     "output_type": "execute_result"
    }
   ],
   "source": [
    "json.dump(data_dict, open(\"data/annotation/symbol_mgiid.json\", \"w\"), indent=4, sort_keys=True)\n",
    "Path(\"data/annotation/symbol_mgiid.tsv\").write_text(\"\\n\".join([f\"{k}\\t{v}\" for k, v in data_dict.items()]))"
   ]
  },
  {
   "cell_type": "code",
   "execution_count": 36,
   "metadata": {},
   "outputs": [
    {
     "name": "stdout",
     "output_type": "stream",
     "text": [
      "{\n",
      "    \"1110059G10Rik\": \"MGI:1913452\",\n",
      "    \"1500009L16Rik\": \"MGI:1917034\",\n",
      "Ap1ar\tMGI:2384822\n",
      "Kif21a\tMGI:109188\n",
      "Baiap2l2\tMGI:2652819\n"
     ]
    }
   ],
   "source": [
    "%%bash\n",
    "head -n 3 data/annotation/symbol_mgiid.json\n",
    "head -n 3 data/annotation/symbol_mgiid.tsv"
   ]
  },
  {
   "cell_type": "markdown",
   "metadata": {},
   "source": [
    "## 4. 表現型の類似度を求める"
   ]
  },
  {
   "cell_type": "code",
   "execution_count": 37,
   "metadata": {},
   "outputs": [
    {
     "name": "stdout",
     "output_type": "stream",
     "text": [
      "['abnormal craniofacial morphology (Homo, Embryo)', 'abnormal embryo size (Homo, Embryo)', 'abnormal heart morphology (Homo, Embryo)', 'abnormal kidney morphology (Hetero, Early)', 'abnormal limb morphology (Homo, Embryo)', 'abnormal seminal vesicle morphology (Hetero, Early)', 'abnormal tail morphology (Homo, Embryo)', 'edema (Homo, Embryo)', 'pallor (Homo, Embryo)', 'preweaning lethality, complete penetrance (Homo, Early)']\n"
     ]
    }
   ],
   "source": [
    "file_path = Path(\"data\", \"annotation\", \"symbol_mptermname.json\")\n",
    "\n",
    "symbol_mptermname = json.load(open(file_path))\n",
    "print(symbol_mptermname[\"Dpf2\"])"
   ]
  },
  {
   "cell_type": "code",
   "execution_count": 38,
   "metadata": {},
   "outputs": [
    {
     "name": "stdout",
     "output_type": "stream",
     "text": [
      "{'abnormal tail morphology (Homo, Embryo)', 'abnormal embryo size (Homo, Embryo)', 'abnormal heart morphology (Homo, Embryo)', 'preweaning lethality, complete penetrance (Homo, Early)', 'abnormal seminal vesicle morphology (Hetero, Early)', 'edema (Homo, Embryo)', 'abnormal limb morphology (Homo, Embryo)', 'abnormal kidney morphology (Hetero, Early)', 'pallor (Homo, Embryo)', 'abnormal craniofacial morphology (Homo, Embryo)'}\n"
     ]
    }
   ],
   "source": [
    "symbol_mptermname = {k: set(v) for k, v in symbol_mptermname.items() if v}\n",
    "print(symbol_mptermname[\"Dpf2\"])"
   ]
  },
  {
   "cell_type": "markdown",
   "metadata": {},
   "source": [
    "### Jaccard係数で集合の類似度を計算"
   ]
  },
  {
   "cell_type": "code",
   "execution_count": 39,
   "metadata": {},
   "outputs": [],
   "source": [
    "\n",
    "overlapped_ratios_all = []\n",
    "\n",
    "for a, b in combinations(symbol_mptermname, 2):\n",
    "    overlapped_mp = sorted(symbol_mptermname[a] & symbol_mptermname[b])\n",
    "    overlapped_mp_number = len(overlapped_mp)\n",
    "    union_mp_number = len(symbol_mptermname[a] | symbol_mptermname[b])\n",
    "    overlap_ratio = overlapped_mp_number / union_mp_number\n",
    "\n",
    "    overlapped_ratios_all.append([a, b, round(overlap_ratio, 3), overlapped_mp_number, overlapped_mp])\n",
    "\n",
    "## 46s"
   ]
  },
  {
   "cell_type": "code",
   "execution_count": 40,
   "metadata": {},
   "outputs": [
    {
     "name": "stdout",
     "output_type": "stream",
     "text": [
      "[['1110059G10Rik', '1500009L16Rik', 0.0, 0, []], ['1110059G10Rik', '1600014C10Rik', 0.0, 0, []], ['1110059G10Rik', '1600029I14Rik', 0.0, 0, []]]\n",
      "31470211\n"
     ]
    }
   ],
   "source": [
    "print(overlapped_ratios_all[:3])\n",
    "print(len(overlapped_ratios_all))\n",
    "# Release 22.0: 29996385\n",
    "# Release 22.1: 29996385\n",
    "# Release 23.0: 31470211"
   ]
  },
  {
   "cell_type": "markdown",
   "metadata": {},
   "source": [
    "### 重複する表現型が閾値以上のものを抽出"
   ]
  },
  {
   "cell_type": "code",
   "execution_count": 41,
   "metadata": {},
   "outputs": [],
   "source": [
    "\n",
    "similarity_threshold = 0.5\n",
    "num_overlapped_mp = 3\n",
    "\n",
    "overlapped_ratios_filtered = []\n",
    "for record in overlapped_ratios_all:\n",
    "    if record[2] >= similarity_threshold or record[3] >= num_overlapped_mp:\n",
    "        overlapped_ratios_filtered.append(record)"
   ]
  },
  {
   "cell_type": "code",
   "execution_count": 42,
   "metadata": {},
   "outputs": [
    {
     "name": "stdout",
     "output_type": "stream",
     "text": [
      "[['1110059G10Rik', 'Kdm7a', 1.0, 1, ['vertebral transformation (Homo, Early)']], ['1500009L16Rik', 'Bscl2', 0.094, 3, ['increased circulating aspartate transaminase level (Homo, Early)', 'increased circulating calcium level (Homo, Early)', 'increased circulating serum albumin level (Homo, Early)']], ['1500009L16Rik', 'Lepr', 0.091, 4, ['decreased bone mineral density (Homo, Early)', 'increased circulating aspartate transaminase level (Homo, Early)', 'increased circulating calcium level (Homo, Early)', 'increased circulating serum albumin level (Homo, Early)']]]\n",
      "241645\n"
     ]
    }
   ],
   "source": [
    "print(overlapped_ratios_filtered[:3])\n",
    "print(len(overlapped_ratios_filtered))\n",
    "# Release 21.1: 134880\n",
    "# Release 22.0: 133281 <- Homo/Hetero/Hemiおよび♂・♀の完全一致を考慮するようになったため、減少\n",
    "# Release 22.1: 133281\n",
    "# v0.3.0: 261216 <- Similarity_threshodのor条件をつけたため、増加\n",
    "# Release 23.0 TSUMUGI v0.3.2: 241645"
   ]
  },
  {
   "cell_type": "code",
   "execution_count": 43,
   "metadata": {},
   "outputs": [],
   "source": [
    "Path(\"data\", \"overlap\").mkdir(exist_ok=True, parents=True)\n",
    "pickle.dump(overlapped_ratios_all, open(\"data/overlap/overlapped_ratios_all.pkl\", \"wb\"))\n",
    "pickle.dump(overlapped_ratios_filtered, open(\"data/overlap/overlapped_ratios_filtered.pkl\", \"wb\"))\n",
    "\n",
    "# 18 sec"
   ]
  },
  {
   "cell_type": "markdown",
   "metadata": {},
   "source": [
    "### 生データをCSV形式で出力 （ダウンロード用）"
   ]
  },
  {
   "cell_type": "code",
   "execution_count": 44,
   "metadata": {},
   "outputs": [
    {
     "data": {
      "text/html": [
       "<div>\n",
       "<style scoped>\n",
       "    .dataframe tbody tr th:only-of-type {\n",
       "        vertical-align: middle;\n",
       "    }\n",
       "\n",
       "    .dataframe tbody tr th {\n",
       "        vertical-align: top;\n",
       "    }\n",
       "\n",
       "    .dataframe thead th {\n",
       "        text-align: right;\n",
       "    }\n",
       "</style>\n",
       "<table border=\"1\" class=\"dataframe\">\n",
       "  <thead>\n",
       "    <tr style=\"text-align: right;\">\n",
       "      <th></th>\n",
       "      <th>Gene1</th>\n",
       "      <th>Gene2</th>\n",
       "      <th>Jaccard Similarity</th>\n",
       "      <th>Number of shared phenotype</th>\n",
       "      <th>List of shared phenotypes</th>\n",
       "    </tr>\n",
       "  </thead>\n",
       "  <tbody>\n",
       "    <tr>\n",
       "      <th>0</th>\n",
       "      <td>1110059G10Rik</td>\n",
       "      <td>1500009L16Rik</td>\n",
       "      <td>0.000</td>\n",
       "      <td>0</td>\n",
       "      <td>[]</td>\n",
       "    </tr>\n",
       "    <tr>\n",
       "      <th>1</th>\n",
       "      <td>1110059G10Rik</td>\n",
       "      <td>1600014C10Rik</td>\n",
       "      <td>0.000</td>\n",
       "      <td>0</td>\n",
       "      <td>[]</td>\n",
       "    </tr>\n",
       "    <tr>\n",
       "      <th>2</th>\n",
       "      <td>1110059G10Rik</td>\n",
       "      <td>1600029I14Rik</td>\n",
       "      <td>0.000</td>\n",
       "      <td>0</td>\n",
       "      <td>[]</td>\n",
       "    </tr>\n",
       "    <tr>\n",
       "      <th>3</th>\n",
       "      <td>1110059G10Rik</td>\n",
       "      <td>1700003F12Rik</td>\n",
       "      <td>0.000</td>\n",
       "      <td>0</td>\n",
       "      <td>[]</td>\n",
       "    </tr>\n",
       "    <tr>\n",
       "      <th>4</th>\n",
       "      <td>1110059G10Rik</td>\n",
       "      <td>1700008O03Rik</td>\n",
       "      <td>0.000</td>\n",
       "      <td>0</td>\n",
       "      <td>[]</td>\n",
       "    </tr>\n",
       "    <tr>\n",
       "      <th>...</th>\n",
       "      <td>...</td>\n",
       "      <td>...</td>\n",
       "      <td>...</td>\n",
       "      <td>...</td>\n",
       "      <td>...</td>\n",
       "    </tr>\n",
       "    <tr>\n",
       "      <th>31470206</th>\n",
       "      <td>Zyg11b</td>\n",
       "      <td>Zzz3</td>\n",
       "      <td>0.000</td>\n",
       "      <td>0</td>\n",
       "      <td>[]</td>\n",
       "    </tr>\n",
       "    <tr>\n",
       "      <th>31470207</th>\n",
       "      <td>Zyg11b</td>\n",
       "      <td>a</td>\n",
       "      <td>0.000</td>\n",
       "      <td>0</td>\n",
       "      <td>[]</td>\n",
       "    </tr>\n",
       "    <tr>\n",
       "      <th>31470208</th>\n",
       "      <td>Zzef1</td>\n",
       "      <td>Zzz3</td>\n",
       "      <td>0.000</td>\n",
       "      <td>0</td>\n",
       "      <td>[]</td>\n",
       "    </tr>\n",
       "    <tr>\n",
       "      <th>31470209</th>\n",
       "      <td>Zzef1</td>\n",
       "      <td>a</td>\n",
       "      <td>0.053</td>\n",
       "      <td>1</td>\n",
       "      <td>[\"abnormal kidney morphology (Homo, Early)\"]</td>\n",
       "    </tr>\n",
       "    <tr>\n",
       "      <th>31470210</th>\n",
       "      <td>Zzz3</td>\n",
       "      <td>a</td>\n",
       "      <td>0.000</td>\n",
       "      <td>0</td>\n",
       "      <td>[]</td>\n",
       "    </tr>\n",
       "  </tbody>\n",
       "</table>\n",
       "<p>31470211 rows × 5 columns</p>\n",
       "</div>"
      ],
      "text/plain": [
       "                  Gene1          Gene2  Jaccard Similarity  \\\n",
       "0         1110059G10Rik  1500009L16Rik               0.000   \n",
       "1         1110059G10Rik  1600014C10Rik               0.000   \n",
       "2         1110059G10Rik  1600029I14Rik               0.000   \n",
       "3         1110059G10Rik  1700003F12Rik               0.000   \n",
       "4         1110059G10Rik  1700008O03Rik               0.000   \n",
       "...                 ...            ...                 ...   \n",
       "31470206         Zyg11b           Zzz3               0.000   \n",
       "31470207         Zyg11b              a               0.000   \n",
       "31470208          Zzef1           Zzz3               0.000   \n",
       "31470209          Zzef1              a               0.053   \n",
       "31470210           Zzz3              a               0.000   \n",
       "\n",
       "          Number of shared phenotype  \\\n",
       "0                                  0   \n",
       "1                                  0   \n",
       "2                                  0   \n",
       "3                                  0   \n",
       "4                                  0   \n",
       "...                              ...   \n",
       "31470206                           0   \n",
       "31470207                           0   \n",
       "31470208                           0   \n",
       "31470209                           1   \n",
       "31470210                           0   \n",
       "\n",
       "                             List of shared phenotypes  \n",
       "0                                                   []  \n",
       "1                                                   []  \n",
       "2                                                   []  \n",
       "3                                                   []  \n",
       "4                                                   []  \n",
       "...                                                ...  \n",
       "31470206                                            []  \n",
       "31470207                                            []  \n",
       "31470208                                            []  \n",
       "31470209  [\"abnormal kidney morphology (Homo, Early)\"]  \n",
       "31470210                                            []  \n",
       "\n",
       "[31470211 rows x 5 columns]"
      ]
     },
     "execution_count": 44,
     "metadata": {},
     "output_type": "execute_result"
    }
   ],
   "source": [
    "df_overlap = pd.DataFrame(overlapped_ratios_all)\n",
    "df_overlap.columns = [\"Gene1\", \"Gene2\", \"Jaccard Similarity\", \"Number of shared phenotype\", \"List of shared phenotypes\"]\n",
    "df_overlap.reindex(\n",
    "    columns=[\"Gene1\", \"Gene2\", \"Number of shared phenotype\", \"Jaccard Similarity\", \"List of shared phenotypes\"]\n",
    ")\n",
    "df_overlap[\"List of shared phenotypes\"] = df_overlap[\"List of shared phenotypes\"].apply(json.dumps)\n",
    "df_overlap\n",
    "# 30 sec"
   ]
  },
  {
   "cell_type": "code",
   "execution_count": 45,
   "metadata": {},
   "outputs": [
    {
     "name": "stdout",
     "output_type": "stream",
     "text": [
      "🔄 ファイルを更新しました\n"
     ]
    }
   ],
   "source": [
    "output_path = Path(\"data/TSUMUGI_raw_data.csv.gz\")\n",
    "\n",
    "def get_head1000_hash(df: pd.DataFrame) -> str:\n",
    "    # head(1000)だけを対象にハッシュ化\n",
    "    csv_bytes = df.head(1000).to_csv(index=False, lineterminator='\\n').encode('utf-8')\n",
    "    return hashlib.md5(csv_bytes).hexdigest()\n",
    "\n",
    "def file_head1000_hash(path: Path) -> str | None:\n",
    "    if not path.exists():\n",
    "        return None\n",
    "    with gzip.open(path, \"rt\", encoding=\"utf-8\") as f:\n",
    "        lines = [next(f) for _ in range(1001)]  # 1行目がヘッダー\n",
    "        csv_content = ''.join(lines).encode('utf-8')\n",
    "        return hashlib.md5(csv_content).hexdigest()\n",
    "\n",
    "# 比較\n",
    "new_hash = get_head1000_hash(df_overlap)\n",
    "existing_hash = file_head1000_hash(output_path)\n",
    "\n",
    "if new_hash != existing_hash:\n",
    "    df_overlap.to_csv(output_path, index=False, compression=\"gzip\", lineterminator='\\n')\n",
    "    print(\"🔄 ファイルを更新しました\") # 3 min\n",
    "else:\n",
    "    print(\"✅ 内容に変更がないためスキップしました\")"
   ]
  },
  {
   "cell_type": "code",
   "execution_count": 46,
   "metadata": {},
   "outputs": [
    {
     "data": {
      "text/html": [
       "<div>\n",
       "<style scoped>\n",
       "    .dataframe tbody tr th:only-of-type {\n",
       "        vertical-align: middle;\n",
       "    }\n",
       "\n",
       "    .dataframe tbody tr th {\n",
       "        vertical-align: top;\n",
       "    }\n",
       "\n",
       "    .dataframe thead th {\n",
       "        text-align: right;\n",
       "    }\n",
       "</style>\n",
       "<table border=\"1\" class=\"dataframe\">\n",
       "  <thead>\n",
       "    <tr style=\"text-align: right;\">\n",
       "      <th></th>\n",
       "      <th>Gene1</th>\n",
       "      <th>Gene2</th>\n",
       "      <th>Jaccard Similarity</th>\n",
       "      <th>Number of shared phenotype</th>\n",
       "      <th>List of shared phenotypes</th>\n",
       "    </tr>\n",
       "  </thead>\n",
       "  <tbody>\n",
       "    <tr>\n",
       "      <th>0</th>\n",
       "      <td>1110059G10Rik</td>\n",
       "      <td>1500009L16Rik</td>\n",
       "      <td>0.000</td>\n",
       "      <td>0</td>\n",
       "      <td>[]</td>\n",
       "    </tr>\n",
       "    <tr>\n",
       "      <th>1</th>\n",
       "      <td>1110059G10Rik</td>\n",
       "      <td>1600014C10Rik</td>\n",
       "      <td>0.000</td>\n",
       "      <td>0</td>\n",
       "      <td>[]</td>\n",
       "    </tr>\n",
       "    <tr>\n",
       "      <th>2</th>\n",
       "      <td>1110059G10Rik</td>\n",
       "      <td>1600029I14Rik</td>\n",
       "      <td>0.000</td>\n",
       "      <td>0</td>\n",
       "      <td>[]</td>\n",
       "    </tr>\n",
       "    <tr>\n",
       "      <th>3</th>\n",
       "      <td>1110059G10Rik</td>\n",
       "      <td>1700003F12Rik</td>\n",
       "      <td>0.000</td>\n",
       "      <td>0</td>\n",
       "      <td>[]</td>\n",
       "    </tr>\n",
       "    <tr>\n",
       "      <th>4</th>\n",
       "      <td>1110059G10Rik</td>\n",
       "      <td>1700008O03Rik</td>\n",
       "      <td>0.000</td>\n",
       "      <td>0</td>\n",
       "      <td>[]</td>\n",
       "    </tr>\n",
       "    <tr>\n",
       "      <th>...</th>\n",
       "      <td>...</td>\n",
       "      <td>...</td>\n",
       "      <td>...</td>\n",
       "      <td>...</td>\n",
       "      <td>...</td>\n",
       "    </tr>\n",
       "    <tr>\n",
       "      <th>31470206</th>\n",
       "      <td>Zyg11b</td>\n",
       "      <td>Zzz3</td>\n",
       "      <td>0.000</td>\n",
       "      <td>0</td>\n",
       "      <td>[]</td>\n",
       "    </tr>\n",
       "    <tr>\n",
       "      <th>31470207</th>\n",
       "      <td>Zyg11b</td>\n",
       "      <td>a</td>\n",
       "      <td>0.000</td>\n",
       "      <td>0</td>\n",
       "      <td>[]</td>\n",
       "    </tr>\n",
       "    <tr>\n",
       "      <th>31470208</th>\n",
       "      <td>Zzef1</td>\n",
       "      <td>Zzz3</td>\n",
       "      <td>0.000</td>\n",
       "      <td>0</td>\n",
       "      <td>[]</td>\n",
       "    </tr>\n",
       "    <tr>\n",
       "      <th>31470209</th>\n",
       "      <td>Zzef1</td>\n",
       "      <td>a</td>\n",
       "      <td>0.053</td>\n",
       "      <td>1</td>\n",
       "      <td>[\"abnormal kidney morphology (Homo, Early)\"]</td>\n",
       "    </tr>\n",
       "    <tr>\n",
       "      <th>31470210</th>\n",
       "      <td>Zzz3</td>\n",
       "      <td>a</td>\n",
       "      <td>0.000</td>\n",
       "      <td>0</td>\n",
       "      <td>[]</td>\n",
       "    </tr>\n",
       "  </tbody>\n",
       "</table>\n",
       "<p>31470211 rows × 5 columns</p>\n",
       "</div>"
      ],
      "text/plain": [
       "                  Gene1          Gene2  Jaccard Similarity  \\\n",
       "0         1110059G10Rik  1500009L16Rik               0.000   \n",
       "1         1110059G10Rik  1600014C10Rik               0.000   \n",
       "2         1110059G10Rik  1600029I14Rik               0.000   \n",
       "3         1110059G10Rik  1700003F12Rik               0.000   \n",
       "4         1110059G10Rik  1700008O03Rik               0.000   \n",
       "...                 ...            ...                 ...   \n",
       "31470206         Zyg11b           Zzz3               0.000   \n",
       "31470207         Zyg11b              a               0.000   \n",
       "31470208          Zzef1           Zzz3               0.000   \n",
       "31470209          Zzef1              a               0.053   \n",
       "31470210           Zzz3              a               0.000   \n",
       "\n",
       "          Number of shared phenotype  \\\n",
       "0                                  0   \n",
       "1                                  0   \n",
       "2                                  0   \n",
       "3                                  0   \n",
       "4                                  0   \n",
       "...                              ...   \n",
       "31470206                           0   \n",
       "31470207                           0   \n",
       "31470208                           0   \n",
       "31470209                           1   \n",
       "31470210                           0   \n",
       "\n",
       "                             List of shared phenotypes  \n",
       "0                                                   []  \n",
       "1                                                   []  \n",
       "2                                                   []  \n",
       "3                                                   []  \n",
       "4                                                   []  \n",
       "...                                                ...  \n",
       "31470206                                            []  \n",
       "31470207                                            []  \n",
       "31470208                                            []  \n",
       "31470209  [\"abnormal kidney morphology (Homo, Early)\"]  \n",
       "31470210                                            []  \n",
       "\n",
       "[31470211 rows x 5 columns]"
      ]
     },
     "execution_count": 46,
     "metadata": {},
     "output_type": "execute_result"
    }
   ],
   "source": [
    "df_overlap"
   ]
  },
  {
   "cell_type": "code",
   "execution_count": 47,
   "metadata": {},
   "outputs": [],
   "source": [
    "df_overlap_filtered = pd.DataFrame(overlapped_ratios_filtered)\n",
    "df_overlap_filtered.columns = [\"Gene1\", \"Gene2\", \"Jaccard Similarity\", \"Number of shared phenotype\", \"List of shared phenotypes\"]\n",
    "df_overlap_filtered.reindex(\n",
    "    columns=[\"Gene1\", \"Gene2\", \"Number of shared phenotype\", \"Jaccard Similarity\", \"List of shared phenotypes\"]\n",
    ")\n",
    "df_overlap_filtered[\"List of shared phenotypes\"] = df_overlap_filtered[\"List of shared phenotypes\"].apply(json.dumps)\n",
    "\n",
    "df_overlap_filtered.to_csv(\"data/TSUMUGI_filtered_data.csv.gz\", index=False, compression=\"gzip\", lineterminator='\\n')"
   ]
  },
  {
   "cell_type": "markdown",
   "metadata": {},
   "source": [
    "## 表現型ごとのネットワークを出力"
   ]
  },
  {
   "cell_type": "code",
   "execution_count": 48,
   "metadata": {},
   "outputs": [],
   "source": [
    "overlapped_ratios_filtered = pickle.load(open(\"data/overlap/overlapped_ratios_filtered.pkl\", \"rb\"))"
   ]
  },
  {
   "cell_type": "code",
   "execution_count": 49,
   "metadata": {},
   "outputs": [
    {
     "data": {
      "text/html": [
       "<div>\n",
       "<style scoped>\n",
       "    .dataframe tbody tr th:only-of-type {\n",
       "        vertical-align: middle;\n",
       "    }\n",
       "\n",
       "    .dataframe tbody tr th {\n",
       "        vertical-align: top;\n",
       "    }\n",
       "\n",
       "    .dataframe thead th {\n",
       "        text-align: right;\n",
       "    }\n",
       "</style>\n",
       "<table border=\"1\" class=\"dataframe\">\n",
       "  <thead>\n",
       "    <tr style=\"text-align: right;\">\n",
       "      <th></th>\n",
       "      <th>marker1</th>\n",
       "      <th>marker2</th>\n",
       "      <th>overlap_ratio</th>\n",
       "      <th>overlapped_mp_number</th>\n",
       "      <th>overlapped_mp</th>\n",
       "    </tr>\n",
       "  </thead>\n",
       "  <tbody>\n",
       "    <tr>\n",
       "      <th>0</th>\n",
       "      <td>1110059G10Rik</td>\n",
       "      <td>Kdm7a</td>\n",
       "      <td>1.000</td>\n",
       "      <td>1</td>\n",
       "      <td>[vertebral transformation (Homo, Early)]</td>\n",
       "    </tr>\n",
       "    <tr>\n",
       "      <th>1</th>\n",
       "      <td>1500009L16Rik</td>\n",
       "      <td>Bscl2</td>\n",
       "      <td>0.094</td>\n",
       "      <td>3</td>\n",
       "      <td>[increased circulating aspartate transaminase ...</td>\n",
       "    </tr>\n",
       "    <tr>\n",
       "      <th>2</th>\n",
       "      <td>1500009L16Rik</td>\n",
       "      <td>Lepr</td>\n",
       "      <td>0.091</td>\n",
       "      <td>4</td>\n",
       "      <td>[decreased bone mineral density (Homo, Early),...</td>\n",
       "    </tr>\n",
       "    <tr>\n",
       "      <th>3</th>\n",
       "      <td>1600014C10Rik</td>\n",
       "      <td>Acap2</td>\n",
       "      <td>0.500</td>\n",
       "      <td>1</td>\n",
       "      <td>[abnormal vocalization (Homo, Early)]</td>\n",
       "    </tr>\n",
       "    <tr>\n",
       "      <th>4</th>\n",
       "      <td>1600014C10Rik</td>\n",
       "      <td>Adh5</td>\n",
       "      <td>0.500</td>\n",
       "      <td>1</td>\n",
       "      <td>[abnormal vocalization (Homo, Early)]</td>\n",
       "    </tr>\n",
       "    <tr>\n",
       "      <th>...</th>\n",
       "      <td>...</td>\n",
       "      <td>...</td>\n",
       "      <td>...</td>\n",
       "      <td>...</td>\n",
       "      <td>...</td>\n",
       "    </tr>\n",
       "    <tr>\n",
       "      <th>241640</th>\n",
       "      <td>Zfp654</td>\n",
       "      <td>Zfp750</td>\n",
       "      <td>0.500</td>\n",
       "      <td>1</td>\n",
       "      <td>[preweaning lethality, complete penetrance (Ho...</td>\n",
       "    </tr>\n",
       "    <tr>\n",
       "      <th>241641</th>\n",
       "      <td>Zfp719</td>\n",
       "      <td>Zmat4</td>\n",
       "      <td>0.500</td>\n",
       "      <td>1</td>\n",
       "      <td>[abnormal auditory brainstem response (Homo, E...</td>\n",
       "    </tr>\n",
       "    <tr>\n",
       "      <th>241642</th>\n",
       "      <td>Zfp74</td>\n",
       "      <td>Zmat4</td>\n",
       "      <td>0.500</td>\n",
       "      <td>1</td>\n",
       "      <td>[abnormal auditory brainstem response (Homo, E...</td>\n",
       "    </tr>\n",
       "    <tr>\n",
       "      <th>241643</th>\n",
       "      <td>Zfp871</td>\n",
       "      <td>Zwilch</td>\n",
       "      <td>0.231</td>\n",
       "      <td>3</td>\n",
       "      <td>[abnormal embryo size (Homo, Embryo), embryoni...</td>\n",
       "    </tr>\n",
       "    <tr>\n",
       "      <th>241644</th>\n",
       "      <td>Zgrf1</td>\n",
       "      <td>Znrf2</td>\n",
       "      <td>0.500</td>\n",
       "      <td>1</td>\n",
       "      <td>[decreased exploration in new environment (Hom...</td>\n",
       "    </tr>\n",
       "  </tbody>\n",
       "</table>\n",
       "<p>241645 rows × 5 columns</p>\n",
       "</div>"
      ],
      "text/plain": [
       "              marker1 marker2  overlap_ratio  overlapped_mp_number  \\\n",
       "0       1110059G10Rik   Kdm7a          1.000                     1   \n",
       "1       1500009L16Rik   Bscl2          0.094                     3   \n",
       "2       1500009L16Rik    Lepr          0.091                     4   \n",
       "3       1600014C10Rik   Acap2          0.500                     1   \n",
       "4       1600014C10Rik    Adh5          0.500                     1   \n",
       "...               ...     ...            ...                   ...   \n",
       "241640         Zfp654  Zfp750          0.500                     1   \n",
       "241641         Zfp719   Zmat4          0.500                     1   \n",
       "241642          Zfp74   Zmat4          0.500                     1   \n",
       "241643         Zfp871  Zwilch          0.231                     3   \n",
       "241644          Zgrf1   Znrf2          0.500                     1   \n",
       "\n",
       "                                            overlapped_mp  \n",
       "0                [vertebral transformation (Homo, Early)]  \n",
       "1       [increased circulating aspartate transaminase ...  \n",
       "2       [decreased bone mineral density (Homo, Early),...  \n",
       "3                   [abnormal vocalization (Homo, Early)]  \n",
       "4                   [abnormal vocalization (Homo, Early)]  \n",
       "...                                                   ...  \n",
       "241640  [preweaning lethality, complete penetrance (Ho...  \n",
       "241641  [abnormal auditory brainstem response (Homo, E...  \n",
       "241642  [abnormal auditory brainstem response (Homo, E...  \n",
       "241643  [abnormal embryo size (Homo, Embryo), embryoni...  \n",
       "241644  [decreased exploration in new environment (Hom...  \n",
       "\n",
       "[241645 rows x 5 columns]"
      ]
     },
     "execution_count": 49,
     "metadata": {},
     "output_type": "execute_result"
    }
   ],
   "source": [
    "df_overlap = pd.DataFrame(\n",
    "    overlapped_ratios_filtered, columns=[\"marker1\", \"marker2\", \"overlap_ratio\", \"overlapped_mp_number\", \"overlapped_mp\"]\n",
    ")\n",
    "df_overlap\n",
    "# version 0.2.2: 133281  rows × 5 columns\n",
    "# version 0.3.0: 261216  rows × 5 columns"
   ]
  },
  {
   "cell_type": "code",
   "execution_count": 50,
   "metadata": {},
   "outputs": [
    {
     "data": {
      "text/html": [
       "<div>\n",
       "<style scoped>\n",
       "    .dataframe tbody tr th:only-of-type {\n",
       "        vertical-align: middle;\n",
       "    }\n",
       "\n",
       "    .dataframe tbody tr th {\n",
       "        vertical-align: top;\n",
       "    }\n",
       "\n",
       "    .dataframe thead th {\n",
       "        text-align: right;\n",
       "    }\n",
       "</style>\n",
       "<table border=\"1\" class=\"dataframe\">\n",
       "  <thead>\n",
       "    <tr style=\"text-align: right;\">\n",
       "      <th></th>\n",
       "      <th>marker_symbol</th>\n",
       "      <th>mp_term_name</th>\n",
       "    </tr>\n",
       "  </thead>\n",
       "  <tbody>\n",
       "    <tr>\n",
       "      <th>0</th>\n",
       "      <td>1110059G10Rik</td>\n",
       "      <td>[vertebral transformation (Homo, Early)]</td>\n",
       "    </tr>\n",
       "    <tr>\n",
       "      <th>1</th>\n",
       "      <td>1500009L16Rik</td>\n",
       "      <td>[decreased bone mineral density (Homo, Early),...</td>\n",
       "    </tr>\n",
       "    <tr>\n",
       "      <th>2</th>\n",
       "      <td>1600014C10Rik</td>\n",
       "      <td>[abnormal coat/hair pigmentation (Homo, Early)...</td>\n",
       "    </tr>\n",
       "    <tr>\n",
       "      <th>3</th>\n",
       "      <td>1600029I14Rik</td>\n",
       "      <td>[abnormal kidney morphology (Homo, Early), sma...</td>\n",
       "    </tr>\n",
       "    <tr>\n",
       "      <th>4</th>\n",
       "      <td>1700003F12Rik</td>\n",
       "      <td>[abnormal embryo size (Homo, Embryo), abnormal...</td>\n",
       "    </tr>\n",
       "    <tr>\n",
       "      <th>...</th>\n",
       "      <td>...</td>\n",
       "      <td>...</td>\n",
       "    </tr>\n",
       "    <tr>\n",
       "      <th>7929</th>\n",
       "      <td>Zwint</td>\n",
       "      <td>[embryonic lethality prior to organogenesis (H...</td>\n",
       "    </tr>\n",
       "    <tr>\n",
       "      <th>7930</th>\n",
       "      <td>Zyg11b</td>\n",
       "      <td>[decreased exploration in new environment (Het...</td>\n",
       "    </tr>\n",
       "    <tr>\n",
       "      <th>7931</th>\n",
       "      <td>Zzef1</td>\n",
       "      <td>[abnormal coat/hair pigmentation (Homo, Early)...</td>\n",
       "    </tr>\n",
       "    <tr>\n",
       "      <th>7932</th>\n",
       "      <td>Zzz3</td>\n",
       "      <td>[abnormal cornea morphology (Hetero, Early), c...</td>\n",
       "    </tr>\n",
       "    <tr>\n",
       "      <th>7933</th>\n",
       "      <td>a</td>\n",
       "      <td>[abnormal kidney morphology (Homo, Early), abn...</td>\n",
       "    </tr>\n",
       "  </tbody>\n",
       "</table>\n",
       "<p>7934 rows × 2 columns</p>\n",
       "</div>"
      ],
      "text/plain": [
       "      marker_symbol                                       mp_term_name\n",
       "0     1110059G10Rik           [vertebral transformation (Homo, Early)]\n",
       "1     1500009L16Rik  [decreased bone mineral density (Homo, Early),...\n",
       "2     1600014C10Rik  [abnormal coat/hair pigmentation (Homo, Early)...\n",
       "3     1600029I14Rik  [abnormal kidney morphology (Homo, Early), sma...\n",
       "4     1700003F12Rik  [abnormal embryo size (Homo, Embryo), abnormal...\n",
       "...             ...                                                ...\n",
       "7929          Zwint  [embryonic lethality prior to organogenesis (H...\n",
       "7930         Zyg11b  [decreased exploration in new environment (Het...\n",
       "7931          Zzef1  [abnormal coat/hair pigmentation (Homo, Early)...\n",
       "7932           Zzz3  [abnormal cornea morphology (Hetero, Early), c...\n",
       "7933              a  [abnormal kidney morphology (Homo, Early), abn...\n",
       "\n",
       "[7934 rows x 2 columns]"
      ]
     },
     "execution_count": 50,
     "metadata": {},
     "output_type": "execute_result"
    }
   ],
   "source": [
    "marker_mp = json.load(open(\"data/annotation/symbol_mptermname.json\"))\n",
    "marker_mp = pd.DataFrame(marker_mp.items(), columns=[\"marker_symbol\", \"mp_term_name\"])\n",
    "marker_mp\n",
    "# version 0.2.2: 7626 rows × 2 columns\n",
    "# version 0.3.0: 7746 rows × 2 columns\n",
    "# version 0.3.1: 7746 rows × 2 columns"
   ]
  },
  {
   "cell_type": "code",
   "execution_count": 51,
   "metadata": {},
   "outputs": [],
   "source": [
    "# path_mp_terms = list(Path(\"data\", \"mp_term_name\").glob(\"*.csv\"))\n",
    "# for path_mp_term in path_mp_terms:\n",
    "#     mp_term = path_mp_term.stem\n",
    "#     if mp_term == \"increased_fasting_circulating_glucose_level\":\n",
    "#         break\n",
    "# mp_term"
   ]
  },
  {
   "cell_type": "code",
   "execution_count": 52,
   "metadata": {},
   "outputs": [],
   "source": [
    "# df_marker_effect = pd.read_csv(path_mp_term)\n",
    "\n",
    "# # effect sizeの絶対値が最大の行を取得\n",
    "# df_marker_effect = df_marker_effect[[\"marker_symbol\", \"effect_size\"]].loc[\n",
    "#     df_marker_effect.groupby(\"marker_symbol\")[\"effect_size\"].apply(lambda x: x.abs().idxmax())\n",
    "# ].reset_index(drop=True)\n",
    "\n",
    "# df_marker_effect\n",
    "# # df_marker_effect[df_marker_effect[\"marker_symbol\"] == \"Abcd3\"]"
   ]
  },
  {
   "cell_type": "code",
   "execution_count": 53,
   "metadata": {},
   "outputs": [],
   "source": [
    "# # Absolute value of effect size\n",
    "# df_marker_effect.loc[:, \"effect_size\"] = df_marker_effect[\"effect_size\"].abs()\n",
    "\n",
    "# df_filtered = df_overlap[\n",
    "#     (df_overlap['marker1'].isin(df_marker_effect['marker_symbol'])) &\n",
    "#     (df_overlap['marker2'].isin(df_marker_effect['marker_symbol']))\n",
    "# ]\n",
    "\n",
    "# number_of_nodes = 200\n",
    "# # 二分探索の範囲\n",
    "# low, high = df_filtered[\"overlap_ratio\"].min(), df_filtered[\"overlap_ratio\"].max()\n",
    "# best_overlap_ratio = None\n",
    "\n",
    "# while low <= high:\n",
    "#     mid = (low + high) / 2\n",
    "\n",
    "#     # overlap_ratio >= mid のデータをフィルタリング\n",
    "#     df_mid = df_filtered[df_filtered[\"overlap_ratio\"] >= mid]\n",
    "\n",
    "#     ## 出力\n",
    "#     ### Nodeを作成する\n",
    "#     df_marker1 = df_mid[[\"marker1\"]]\n",
    "#     df_marker2 = df_mid[[\"marker2\"]]\n",
    "#     df_node_marker1 = pd.merge(df_marker1, df_marker_effect, left_on='marker1', right_on='marker_symbol', how='inner')[[\"marker_symbol\"]]\n",
    "#     df_node_marker2 = pd.merge(df_marker2, df_marker_effect, left_on='marker2', right_on='marker_symbol', how='inner')[[\"marker_symbol\"]]\n",
    "#     df_node = pd.concat([df_node_marker1, df_node_marker2], axis=0).drop_duplicates()\n",
    "#     df_node = pd.merge(df_node, marker_mp, how='inner', on='marker_symbol')\n",
    "#     df_node = pd.merge(df_node, df_marker_effect, how='inner', on='marker_symbol')\n",
    "\n",
    "#     node_count = len(df_node)\n",
    "#     # ターゲット列数に近い場合、結果を保存\n",
    "#     if number_of_nodes - 25 < node_count < number_of_nodes + 25:\n",
    "#         best_overlap_ratio = mid\n",
    "#         break\n",
    "#     elif node_count > number_of_nodes:\n",
    "#         # 列数が多い場合、範囲を上げる\n",
    "#         best_overlap_ratio = mid\n",
    "#         low = mid + 1e-6\n",
    "#     else:\n",
    "#         # 列数が少ない場合、範囲を下げる\n",
    "#         best_overlap_ratio = mid\n",
    "#         high = mid - 1e-6\n",
    "\n",
    "# df_filtered = df_filtered[df_filtered[\"overlap_ratio\"] >= best_overlap_ratio]\n",
    "\n",
    "# ## 出力\n",
    "# ### Nodeを作成する\n",
    "# df_marker1 = df_filtered[[\"marker1\"]]\n",
    "# df_marker2 = df_filtered[[\"marker2\"]]\n",
    "# df_node_marker1 = pd.merge(df_marker1, df_marker_effect, left_on='marker1', right_on='marker_symbol', how='inner')[[\"marker_symbol\"]]\n",
    "# df_node_marker2 = pd.merge(df_marker2, df_marker_effect, left_on='marker2', right_on='marker_symbol', how='inner')[[\"marker_symbol\"]]\n",
    "\n",
    "# df_node = pd.concat([df_node_marker1, df_node_marker2], axis=0).drop_duplicates()\n",
    "# df_node = pd.merge(df_node, marker_mp, how='inner', on='marker_symbol')\n",
    "# df_node = pd.merge(df_node, df_marker_effect, how='inner', on='marker_symbol')\n",
    "\n",
    "# df_node"
   ]
  },
  {
   "cell_type": "code",
   "execution_count": 54,
   "metadata": {},
   "outputs": [],
   "source": [
    "# df_node[df_node[\"marker_symbol\"] == \"Abcd3\"]"
   ]
  },
  {
   "cell_type": "code",
   "execution_count": 55,
   "metadata": {},
   "outputs": [],
   "source": [
    "output_dir = Path(\"data/network/mp_term_name\")\n",
    "# remove network directory\n",
    "if output_dir.exists():\n",
    "    shutil.rmtree(output_dir)\n",
    "\n",
    "output_dir.mkdir(exist_ok=True, parents=True)\n"
   ]
  },
  {
   "cell_type": "code",
   "execution_count": 56,
   "metadata": {},
   "outputs": [],
   "source": [
    "path_mp_terms = list(Path(\"data\", \"mp_term_name\").glob(\"*.csv\"))\n",
    "# print(path_mp_terms[:3])\n",
    "# print(len(path_mp_terms))\n",
    "# path_mp_term = Path(\"data\", \"mp_term_name\", \"increasing_circulating_glucose_level.csv\")\n",
    "\n",
    "\"\"\"\n",
    "ノードが多すぎるとWebページが描画できない問題を回避するため、\n",
    "ノード数を200以下にするために最適なoverlap_ratioを求める\n",
    "\"\"\"\n",
    "number_of_nodes = 200\n",
    "\n",
    "for path_mp_term in path_mp_terms:\n",
    "    mp_term = path_mp_term.stem\n",
    "    # print(mp_term)\n",
    "\n",
    "    df_marker_effect = pd.read_csv(path_mp_term)\n",
    "    df_marker_effect = df_marker_effect.dropna(subset=[\"effect_size\"])\n",
    "    # Absolute value of effect size\n",
    "    df_marker_effect.loc[:, \"effect_size\"] = df_marker_effect[\"effect_size\"].abs()\n",
    "\n",
    "    # * effect sizeの絶対値が最大の行を取得 (Homo/Heteroで異なる効果量がある場合に、ひとまず最大値を採用する← 今後の考慮事項)\n",
    "    df_marker_effect = df_marker_effect[[\"marker_symbol\", \"effect_size\"]].loc[\n",
    "        df_marker_effect.groupby(\"marker_symbol\")[\"effect_size\"].idxmax()\n",
    "    ].reset_index(drop=True)\n",
    "\n",
    "    df_filtered = df_overlap[\n",
    "        (df_overlap['marker1'].isin(df_marker_effect['marker_symbol'])) &\n",
    "        (df_overlap['marker2'].isin(df_marker_effect['marker_symbol'])) &\n",
    "        (df_overlap['overlapped_mp'].apply(lambda lst: any(mp_term.replace(\"_\", \" \") in term for term in lst)))\n",
    "    ]\n",
    "    # 二分探索の範囲\n",
    "    low, high = df_filtered[\"overlap_ratio\"].min(), df_filtered[\"overlap_ratio\"].max()\n",
    "    best_overlap_ratio = None\n",
    "\n",
    "    while low <= high:\n",
    "        mid = (low + high) / 2\n",
    "\n",
    "        # overlap_ratio >= mid のデータをフィルタリング\n",
    "        df_mid = df_filtered[df_filtered[\"overlap_ratio\"] >= mid]\n",
    "\n",
    "        ## 出力\n",
    "        ### Nodeを作成する\n",
    "        df_marker1 = df_mid[[\"marker1\"]]\n",
    "        df_marker2 = df_mid[[\"marker2\"]]\n",
    "        df_node_marker1 = pd.merge(df_marker1, df_marker_effect, left_on='marker1', right_on='marker_symbol', how='inner')[[\"marker_symbol\"]]\n",
    "        df_node_marker2 = pd.merge(df_marker2, df_marker_effect, left_on='marker2', right_on='marker_symbol', how='inner')[[\"marker_symbol\"]]\n",
    "        df_node = pd.concat([df_node_marker1, df_node_marker2], axis=0).drop_duplicates()\n",
    "        df_node = pd.merge(df_node, marker_mp, how='inner', on='marker_symbol')\n",
    "        df_node = pd.merge(df_node, df_marker_effect, how='inner', on='marker_symbol')\n",
    "\n",
    "        node_count = len(df_node)\n",
    "        # ターゲット列数に近い場合、結果を保存\n",
    "        if number_of_nodes - 25 < node_count < number_of_nodes + 25:\n",
    "            best_overlap_ratio = mid\n",
    "            break\n",
    "        elif node_count > number_of_nodes:\n",
    "            # 列数が多い場合、範囲を上げる\n",
    "            best_overlap_ratio = mid\n",
    "            low = mid + 1e-6\n",
    "        else:\n",
    "            # 列数が少ない場合、範囲を下げる\n",
    "            best_overlap_ratio = mid\n",
    "            high = mid - 1e-6\n",
    "\n",
    "    df_filtered = df_filtered[df_filtered[\"overlap_ratio\"] >= best_overlap_ratio]\n",
    "\n",
    "    ## 出力\n",
    "    ### Nodeを作成する\n",
    "    df_marker1 = df_filtered[[\"marker1\"]]\n",
    "    df_marker2 = df_filtered[[\"marker2\"]]\n",
    "    df_node_marker1 = pd.merge(df_marker1, df_marker_effect, left_on='marker1', right_on='marker_symbol', how='inner')[[\"marker_symbol\"]]\n",
    "    df_node_marker2 = pd.merge(df_marker2, df_marker_effect, left_on='marker2', right_on='marker_symbol', how='inner')[[\"marker_symbol\"]]\n",
    "\n",
    "    df_node = pd.concat([df_node_marker1, df_node_marker2], axis=0).drop_duplicates()\n",
    "    df_node = pd.merge(df_node, marker_mp, how='inner', on='marker_symbol')\n",
    "    df_node = pd.merge(df_node, df_marker_effect, how='inner', on='marker_symbol')\n",
    "\n",
    "    if len(df_node) == 0:\n",
    "        continue\n",
    "\n",
    "    # print(mp_term, len(df_node))\n",
    "\n",
    "    # NodeをJSON形式に変換\n",
    "    node_json = []\n",
    "    for _, row in df_node.iterrows():\n",
    "        node_json.append({\n",
    "            \"data\": {\n",
    "                \"id\": row['marker_symbol'],\n",
    "                \"label\": row['marker_symbol'],\n",
    "                \"annotation\": row['mp_term_name'],\n",
    "                \"node_color\": row['effect_size']\n",
    "            }\n",
    "        })\n",
    "    ### Edgeを作成する\n",
    "    df_edge = df_filtered[[\"marker1\", \"marker2\", \"overlap_ratio\", \"overlapped_mp\"]]\n",
    "    # EdgeをJSON形式に変換\n",
    "    edge_json = []\n",
    "    for _, row in df_edge.iterrows():\n",
    "        edge_json.append({\n",
    "            \"data\": {\n",
    "                \"source\": row['marker1'],\n",
    "                \"target\": row['marker2'],\n",
    "                \"annotation\": row['overlapped_mp'],\n",
    "                \"edge_size\": row['overlap_ratio']\n",
    "            }\n",
    "        })\n",
    "\n",
    "    ### EdgeとNodeを統合して、出力\n",
    "    # Combine node and edge\n",
    "\n",
    "    network_json = node_json + edge_json\n",
    "\n",
    "    # Output as JSON\n",
    "    if network_json:\n",
    "        output_json = output_dir / f\"{mp_term}.json.gz\"\n",
    "        with gzip.open(output_json, \"wt\", encoding=\"utf-8\") as f:\n",
    "            json.dump(network_json, f, indent=4)\n",
    "\n",
    "# 1m30s"
   ]
  },
  {
   "cell_type": "code",
   "execution_count": 57,
   "metadata": {},
   "outputs": [
    {
     "name": "stdout",
     "output_type": "stream",
     "text": [
      "total 4.8M\n",
      "-rwxrwxrwx 1 kuno kuno 208K May  9 16:19 preweaning_lethality,_complete_penetrance.json.gz\n",
      "-rwxrwxrwx 1 kuno kuno  72K May  9 16:18 edema.json.gz\n",
      "-rwxrwxrwx 1 kuno kuno  45K May  9 16:17 abnormal_placenta_morphology.json.gz\n",
      "-rwxrwxrwx 1 kuno kuno  43K May  9 16:17 abnormal_heart_morphology.json.gz\n"
     ]
    }
   ],
   "source": [
    "%%bash\n",
    "\n",
    "ls -lhS data/network/mp_term_name/ | head -n 5\n",
    "\n",
    "# version 0.2.2: total 5.3M\n",
    "# version 0.3.0: total 5.5M\n",
    "# version 0.3.1: total 5.1M <- 該当の表現型を含むネットワークのみを表示 （Issue: #54）"
   ]
  },
  {
   "cell_type": "markdown",
   "metadata": {},
   "source": [
    "## 遺伝子ごとのネットワークを出力"
   ]
  },
  {
   "cell_type": "code",
   "execution_count": 58,
   "metadata": {},
   "outputs": [],
   "source": [
    "marker_mp_dict = dict(zip(marker_mp.marker_symbol, marker_mp.mp_term_name))"
   ]
  },
  {
   "cell_type": "code",
   "execution_count": 59,
   "metadata": {},
   "outputs": [
    {
     "name": "stdout",
     "output_type": "stream",
     "text": [
      "['1110059G10Rik', '1500009L16Rik', '1600014C10Rik']\n",
      "6904\n"
     ]
    }
   ],
   "source": [
    "gene_symbols = df_overlap.marker1.unique().tolist()\n",
    "gene_symbols += df_overlap.marker2.unique().tolist()\n",
    "gene_symbols = list(set(gene_symbols))\n",
    "gene_symbols.sort()  # 以下のfor文で、どこまで遺伝子が処理されたのか途中経過を見積もるためのソート\n",
    "P(gene_symbols[:3])\n",
    "P(len(gene_symbols))  # 6003"
   ]
  },
  {
   "cell_type": "code",
   "execution_count": 60,
   "metadata": {},
   "outputs": [],
   "source": [
    "output_dir = Path(\"data\", \"network\", \"gene_symbol\")\n",
    "# remove network directory\n",
    "if output_dir.exists():\n",
    "    shutil.rmtree(output_dir)\n",
    "\n",
    "output_dir.mkdir(exist_ok=True, parents=True)\n"
   ]
  },
  {
   "cell_type": "code",
   "execution_count": 61,
   "metadata": {},
   "outputs": [],
   "source": [
    "for gene_symbol in gene_symbols:\n",
    "    \"\"\"\n",
    "    ノードが多すぎるとWebページが描画できない問題を回避するため、\n",
    "    ノード数を200以下にするために最適なoverlap_ratioを求める\n",
    "    \"\"\"\n",
    "    # 今の処理\n",
    "    df_filtered = df_overlap[(df_overlap[\"marker1\"] == gene_symbol) | (df_overlap[\"marker2\"] == gene_symbol)]\n",
    "\n",
    "    G = nx.from_pandas_edgelist(df_filtered, \"marker1\", \"marker2\")\n",
    "\n",
    "    # ノードAと直接つながっているノードのみを取得\n",
    "    neighbors = list(G.neighbors(gene_symbol))\n",
    "    subgraph_nodes = [gene_symbol] + neighbors\n",
    "    subgraph = G.subgraph(subgraph_nodes)\n",
    "\n",
    "    target_number_of_nodes = 200\n",
    "    if len(subgraph.nodes) > target_number_of_nodes:\n",
    "        # 二分探索の範囲\n",
    "        low, high = df_filtered[\"overlap_ratio\"].min(), df_filtered[\"overlap_ratio\"].max()\n",
    "        best_overlap_ratio = None\n",
    "\n",
    "        while low <= high:\n",
    "            mid = (low + high) / 2\n",
    "\n",
    "            # overlap_ratio >= mid のデータをフィルタリング\n",
    "            df_mid = df_filtered[df_filtered[\"overlap_ratio\"] >= mid]\n",
    "\n",
    "            G = nx.from_pandas_edgelist(df_mid, \"marker1\", \"marker2\")\n",
    "            # ノードAと直接つながっているノードのみを取得\n",
    "            try:\n",
    "                neighbors = list(G.neighbors(gene_symbol))\n",
    "            except:\n",
    "                high = mid - 1e-6\n",
    "                continue\n",
    "            subgraph_nodes = [gene_symbol] + neighbors\n",
    "            subgraph = G.subgraph(subgraph_nodes)\n",
    "\n",
    "            row_count = len(subgraph.nodes)\n",
    "            # ターゲット列数に近い場合、結果を保存\n",
    "            if target_number_of_nodes - 25 < row_count < target_number_of_nodes + 25:\n",
    "                best_overlap_ratio = mid\n",
    "                break\n",
    "            elif row_count > target_number_of_nodes:\n",
    "                # 列数が多い場合、範囲を上げる\n",
    "                best_overlap_ratio = mid\n",
    "                low = mid + 1e-6\n",
    "            else:\n",
    "                # 列数が少ない場合、範囲を下げる\n",
    "                best_overlap_ratio = mid\n",
    "                high = mid - 1e-6\n",
    "\n",
    "        df_nodes = df_filtered[df_filtered[\"overlap_ratio\"] >= best_overlap_ratio]\n",
    "        G = nx.from_pandas_edgelist(df_nodes, \"marker1\", \"marker2\")\n",
    "        # ノードAと直接つながっているノードのみを取得\n",
    "        neighbors = list(G.neighbors(gene_symbol))\n",
    "        subgraph_nodes = [gene_symbol] + neighbors\n",
    "        subgraph = G.subgraph(subgraph_nodes)\n",
    "\n",
    "    # nodesを用意\n",
    "    node_json = []\n",
    "    for node in subgraph.nodes():\n",
    "        annotation = marker_mp_dict[node]\n",
    "        node_color = 1 if node == gene_symbol else 0\n",
    "        node_json.append({\"data\": {\"id\": node, \"label\": node, \"node_color\": node_color, \"annotation\": annotation}})\n",
    "\n",
    "    # edgesを用意\n",
    "    df_edge = df_overlap[\n",
    "        (df_overlap[\"marker1\"].isin(subgraph.nodes())) & (df_overlap[\"marker2\"].isin(subgraph.nodes()))\n",
    "    ]\n",
    "\n",
    "    edge_json = []\n",
    "    for edge in df_edge.itertuples():\n",
    "        edge_json.append(\n",
    "            {\n",
    "                \"data\": {\n",
    "                    \"source\": edge.marker1,\n",
    "                    \"target\": edge.marker2,\n",
    "                    \"edge_size\": edge.overlap_ratio,\n",
    "                    \"annotation\": edge.overlapped_mp,\n",
    "                }\n",
    "            }\n",
    "        )\n",
    "    network_json = node_json + edge_json\n",
    "\n",
    "    # Output as JSON\n",
    "    if network_json:\n",
    "        output_json = output_dir / f\"{gene_symbol}.json.gz\"\n",
    "        with gzip.open(output_json, \"wt\", encoding=\"utf-8\") as f:\n",
    "            json.dump(network_json, f, indent=4)\n",
    "\n",
    "# 10m"
   ]
  },
  {
   "cell_type": "code",
   "execution_count": 62,
   "metadata": {},
   "outputs": [
    {
     "name": "stdout",
     "output_type": "stream",
     "text": [
      "total 145M\n",
      "-rwxrwxrwx 1 kuno kuno 177K May  9 16:22 Irf5.json.gz\n",
      "-rwxrwxrwx 1 kuno kuno 177K May  9 16:24 Phactr4.json.gz\n",
      "-rwxrwxrwx 1 kuno kuno 177K May  9 16:26 Zbtb8os.json.gz\n",
      "-rwxrwxrwx 1 kuno kuno 177K May  9 16:26 Tnni1.json.gz\n"
     ]
    }
   ],
   "source": [
    "%%bash\n",
    "ls -lhS data/network/gene_symbol/ | head -n 5\n",
    "# version 0.3.0: total 170M\n",
    "# version 0.3.1: total 168M\n",
    "# version 0.3.2: total 145M"
   ]
  },
  {
   "cell_type": "code",
   "execution_count": 63,
   "metadata": {},
   "outputs": [
    {
     "name": "stdout",
     "output_type": "stream",
     "text": [
      "6904\n"
     ]
    }
   ],
   "source": [
    "Path(\"data/overlap/available_gene_symbols.txt\").write_text(\"\\n\".join(gene_symbols) + \"\\n\")\n",
    "print(len(gene_symbols))  # 4416 -> 4244 → 6003 → 4139\n",
    "# version 0.2.2: 4139\n",
    "# version 0.3.0: 6812 (Life stageを考慮 + 類似度を追加)\n",
    "# version 0.3.1: 6812\n",
    "# version 0.3.2: 6904"
   ]
  },
  {
   "cell_type": "code",
   "execution_count": 64,
   "metadata": {},
   "outputs": [
    {
     "name": "stdout",
     "output_type": "stream",
     "text": [
      "Linux Sycom-2021 5.15.167.4-microsoft-standard-WSL2 #1 SMP Tue Nov 5 00:21:55 UTC 2024 x86_64 x86_64 x86_64 GNU/Linux\n",
      "2025/05/09 16:26:59\n"
     ]
    }
   ],
   "source": [
    "%%bash\n",
    "\n",
    "uname -a # OS name\n",
    "date +\"%Y/%m/%d %H:%M:%S\" # Last update"
   ]
  },
  {
   "cell_type": "code",
   "execution_count": null,
   "metadata": {},
   "outputs": [],
   "source": []
  },
  {
   "cell_type": "code",
   "execution_count": null,
   "metadata": {},
   "outputs": [],
   "source": []
  }
 ],
 "metadata": {
  "kernelspec": {
   "display_name": "env-tsumugi",
   "language": "python",
   "name": "python3"
  },
  "language_info": {
   "codemirror_mode": {
    "name": "ipython",
    "version": 3
   },
   "file_extension": ".py",
   "mimetype": "text/x-python",
   "name": "python",
   "nbconvert_exporter": "python",
   "pygments_lexer": "ipython3",
   "version": "3.12.10"
  }
 },
 "nbformat": 4,
 "nbformat_minor": 2
}

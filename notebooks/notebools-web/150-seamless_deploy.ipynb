{
 "cells": [
  {
   "cell_type": "markdown",
   "metadata": {},
   "source": [
    "# Run allですべてのデータを準備する"
   ]
  },
  {
   "cell_type": "code",
   "execution_count": 1,
   "metadata": {},
   "outputs": [],
   "source": [
    "RELEASE = 22.1"
   ]
  },
  {
   "cell_type": "markdown",
   "metadata": {},
   "source": [
    "## 1. Download IMPC dataset"
   ]
  },
  {
   "cell_type": "code",
   "execution_count": 2,
   "metadata": {},
   "outputs": [
    {
     "name": "stdout",
     "output_type": "stream",
     "text": [
      "/mnt/c/Users/akihi/Documents/GitHub/TSUMUGI-dev/notebooks/notebools-web\n",
      "/mnt/c/Users/akihi/Documents/GitHub/TSUMUGI-dev\n"
     ]
    }
   ],
   "source": [
    "# Move up to top directory\n",
    "import os\n",
    "from pathlib import Path\n",
    "\n",
    "print(os.getcwd())\n",
    "\n",
    "while not Path(\"LICENSE\").exists():\n",
    "    os.chdir('../')\n",
    "\n",
    "print(os.getcwd())"
   ]
  },
  {
   "cell_type": "code",
   "execution_count": 4,
   "metadata": {},
   "outputs": [],
   "source": [
    "P = print\n",
    "from pprint import pprint as PP\n",
    "from collections import Counter as C\n",
    "from pathlib import Path\n",
    "from collections import defaultdict\n",
    "from itertools import combinations\n",
    "import csv\n",
    "import numpy as np\n",
    "import pandas as pd\n",
    "import shutil\n",
    "import pickle\n",
    "import json\n",
    "import gzip\n",
    "import networkx as nx\n",
    "import datetime\n",
    "import urllib.request\n",
    "from tqdm import tqdm\n"
   ]
  },
  {
   "cell_type": "code",
   "execution_count": 5,
   "metadata": {},
   "outputs": [
    {
     "name": "stdout",
     "output_type": "stream",
     "text": [
      "/mnt/c/Users/akihi/Documents/GitHub/TSUMUGI-dev\n"
     ]
    }
   ],
   "source": [
    "%%bash\n",
    "pwd"
   ]
  },
  {
   "cell_type": "code",
   "execution_count": 6,
   "metadata": {},
   "outputs": [],
   "source": [
    "date_str = datetime.date.today().strftime(\"%Y-%m-%d\")\n",
    "\n",
    "# パスの設定\n",
    "data_dir = Path(\"data/impc\")\n",
    "data_dir.mkdir(parents=True, exist_ok=True)\n",
    "csv_path = data_dir / f\"statistical-results-ALL-{RELEASE}.csv\"\n",
    "readme_path = data_dir / \"README.md\"\n",
    "\n",
    "# ファイルが存在しない場合にダウンロードして解凍\n",
    "if not csv_path.exists():\n",
    "    # ダウンロード URL\n",
    "    url = f\"https://ftp.ebi.ac.uk/pub/databases/impc/all-data-releases/release-{RELEASE}/results/statistical-results-ALL.csv.gz\"\n",
    "\n",
    "    print(f\"Downloading and extracting: {url}\")\n",
    "\n",
    "    # URL からファイルサイズ取得（tqdmのため）\n",
    "    with urllib.request.urlopen(url) as response:\n",
    "        total_size = int(response.info().get(\"Content-Length\", -1))\n",
    "        with tqdm.wrapattr(response, \"read\", total=total_size, desc=\"Downloading\", unit=\"B\", unit_scale=True) as r:\n",
    "            with gzip.GzipFile(fileobj=r) as uncompressed:\n",
    "                with open(csv_path, 'wb') as out_file:\n",
    "                    shutil.copyfileobj(uncompressed, out_file)"
   ]
  },
  {
   "cell_type": "code",
   "execution_count": null,
   "metadata": {},
   "outputs": [
    {
     "name": "stdout",
     "output_type": "stream",
     "text": [
      "1662972 data/impc/statistical-results-ALL-22.1.csv\n"
     ]
    }
   ],
   "source": [
    "%%bash\n",
    "\n",
    "wc -l data/impc/statistical-results*.csv\n",
    "# Release 22.1: 3165335\n",
    "# 1 min"
   ]
  },
  {
   "cell_type": "markdown",
   "metadata": {},
   "source": [
    "## 2. Filter dataset by P value < 0.0001 (10^-4)\n"
   ]
  },
  {
   "cell_type": "code",
   "execution_count": 8,
   "metadata": {},
   "outputs": [
    {
     "name": "stderr",
     "output_type": "stream",
     "text": [
      "/tmp/ipykernel_12167/3653357303.py:2: DtypeWarning: Columns (25,60,87) have mixed types. Specify dtype option on import or set low_memory=False.\n",
      "  data = pd.read_csv(path_data)\n"
     ]
    }
   ],
   "source": [
    "path_data = Path(\"data\", \"impc\", f\"statistical-results-ALL-{RELEASE}.csv\")\n",
    "data = pd.read_csv(path_data)\n",
    "# 30 seconds"
   ]
  },
  {
   "cell_type": "code",
   "execution_count": 9,
   "metadata": {},
   "outputs": [
    {
     "name": "stdout",
     "output_type": "stream",
     "text": [
      "1662972\n"
     ]
    }
   ],
   "source": [
    "print(len(data))\n",
    "# Release 21.1: 2062772\n",
    "# Release 22.0: 3165334"
   ]
  },
  {
   "cell_type": "code",
   "execution_count": 10,
   "metadata": {},
   "outputs": [],
   "source": [
    "# Filter by p_value < 0.0001\n",
    "threshold = 0.0001\n",
    "filter_pvalue = data[\"p_value\"] < threshold\n",
    "filter_female_ko_pvalue = data[\"female_ko_effect_p_value\"] < threshold\n",
    "filter_male_ko_pvalue = data[\"male_ko_effect_p_value\"] < threshold\n",
    "\n",
    "data_filtered = data[filter_pvalue | filter_male_ko_pvalue | filter_male_ko_pvalue]\n",
    "\n",
    "# Filter by mp_term_id and mp_term_name are not NaN\n",
    "data_filtered = data_filtered.dropna(subset=[\"mp_term_id\"])\n",
    "data_filtered = data_filtered.dropna(subset=[\"mp_term_name\"])\n",
    "\n",
    "# Filter by effect_size is not NaN\n",
    "data_filtered = data_filtered.dropna(subset=[\"effect_size\"])"
   ]
  },
  {
   "cell_type": "code",
   "execution_count": 11,
   "metadata": {},
   "outputs": [
    {
     "name": "stdout",
     "output_type": "stream",
     "text": [
      "39169\n"
     ]
    }
   ],
   "source": [
    "print(len(data_filtered))\n",
    "# Release 22.0: 54059 rows\n",
    "# Release 22.1: 54059 rows"
   ]
  },
  {
   "cell_type": "code",
   "execution_count": 12,
   "metadata": {},
   "outputs": [],
   "source": [
    "data_filtered.to_csv(f\"data/statistical_filtered-{RELEASE}.csv\", index=False) # 2 sec"
   ]
  },
  {
   "cell_type": "markdown",
   "metadata": {},
   "source": [
    "## Split data by mp_term_name"
   ]
  },
  {
   "cell_type": "code",
   "execution_count": 13,
   "metadata": {},
   "outputs": [],
   "source": [
    "data = data_filtered"
   ]
  },
  {
   "cell_type": "code",
   "execution_count": 14,
   "metadata": {},
   "outputs": [],
   "source": [
    "# data/mp_term_nameを作成\n",
    "\n",
    "output_path = Path(\"data\", \"mp_term_name\")\n",
    "if output_path.exists():\n",
    "    shutil.rmtree(output_path)\n",
    "output_path.mkdir(parents=True, exist_ok=True)"
   ]
  },
  {
   "cell_type": "code",
   "execution_count": 15,
   "metadata": {},
   "outputs": [],
   "source": [
    "# 名前をクリーンにする関数を定義\n",
    "def clean_name(name):\n",
    "    return name.replace(\"/\", \"_\").replace(\" \", \"_\")\n",
    "\n",
    "# mp_term_nameをクリーニングし、ユニークな値を取得\n",
    "unique_mp_term_names = data['mp_term_name'].unique()"
   ]
  },
  {
   "cell_type": "code",
   "execution_count": 16,
   "metadata": {},
   "outputs": [],
   "source": [
    "# ユニークなmp_term_nameごとにフィルタリングしてCSVに保存: 5 sec\n",
    "for mp_term_name in unique_mp_term_names:\n",
    "    filtered_df = data[data['mp_term_name'] == mp_term_name]\n",
    "    clean_mp_term_name = clean_name(mp_term_name)\n",
    "    filtered_df.to_csv(f\"data/mp_term_name/{clean_mp_term_name}.csv\", index=False)\n",
    "# 5 sec"
   ]
  },
  {
   "cell_type": "code",
   "execution_count": 17,
   "metadata": {},
   "outputs": [
    {
     "name": "stdout",
     "output_type": "stream",
     "text": [
      "39169\n"
     ]
    }
   ],
   "source": [
    "print(len(data))"
   ]
  },
  {
   "cell_type": "markdown",
   "metadata": {},
   "source": [
    "## 3. TSUMUGIに必要なアノテーション情報を整理する"
   ]
  },
  {
   "cell_type": "code",
   "execution_count": 18,
   "metadata": {},
   "outputs": [],
   "source": [
    "data_annotated = data.copy()"
   ]
  },
  {
   "cell_type": "markdown",
   "metadata": {},
   "source": [
    "### Annotate life stages"
   ]
  },
  {
   "cell_type": "code",
   "execution_count": 19,
   "metadata": {},
   "outputs": [],
   "source": [
    "# # life_stageの初期割り当て\n",
    "# def assign_life_stage(pipeline_name):\n",
    "#     if pd.isna(pipeline_name):\n",
    "#         return \"Early\"\n",
    "#     if \"Interval\" in pipeline_name or \"interval\" in pipeline_name:\n",
    "#         return \"Interval\"\n",
    "#     elif \"Late\" in pipeline_name or \"late\" in pipeline_name:\n",
    "#         return \"Late\"\n",
    "#     else:\n",
    "#         return \"Early\"\n",
    "\n",
    "# data[\"life_stage\"] = data[\"pipeline_name\"].apply(assign_life_stage)\n",
    "\n",
    "# # Embryo 表現型に該当する procedure_name の一覧\n",
    "# embryo_phenotyping = [\n",
    "#     \"Gross Morphology Embryo E9.5\",\n",
    "#     \"Viability E9.5 Secondary Screen\",\n",
    "#     \"OPT E9.5\",\n",
    "#     \"MicroCT E9.5\",\n",
    "#     \"Gross Morphology Placenta E9.5\",\n",
    "#     \"Gross Morphology Embryo E12.5\",\n",
    "#     \"Embryo LacZ\",\n",
    "#     \"Gross Morphology Placenta E12.5\",\n",
    "#     \"Viability E12.5 Secondary Screen\",\n",
    "#     \"Viability E14.5-E15.5 Secondary Screen\",\n",
    "#     \"Gross Morphology Placenta E14.5-E15.5\",\n",
    "#     \"MicroCT E14.5-E15.5\",\n",
    "#     \"Gross Morphology Embryo E14.5-E15.5\",\n",
    "#     \"Viability E18.5 Secondary Screen\",\n",
    "#     \"MicroCT E18.5\",\n",
    "#     \"Gross Morphology Embryo E18.5\",\n",
    "#     \"Gross Morphology Placenta E18.5\"\n",
    "# ]\n",
    "\n",
    "# # life_stageをEmbryoに上書き\n",
    "# data.loc[data[\"procedure_name\"].isin(embryo_phenotyping), \"life_stage\"] = \"Embryo\"\n",
    "# data_annotated = data.reset_index(drop=True)"
   ]
  },
  {
   "cell_type": "code",
   "execution_count": 20,
   "metadata": {},
   "outputs": [],
   "source": [
    "# print(len(data_annotated))\n",
    "# print(data_annotated[\"life_stage\"].value_counts())"
   ]
  },
  {
   "cell_type": "markdown",
   "metadata": {},
   "source": [
    "### Annotate Sex differences"
   ]
  },
  {
   "cell_type": "code",
   "execution_count": 21,
   "metadata": {},
   "outputs": [
    {
     "name": "stdout",
     "output_type": "stream",
     "text": [
      "22.1\n",
      "sexdual_dimorphism\n",
      "male      4056\n",
      "female    3504\n",
      "Name: count, dtype: int64\n",
      "39169\n"
     ]
    }
   ],
   "source": [
    "threshold = 0.0001\n",
    "\n",
    "# 条件リスト\n",
    "conditions = [\n",
    "    (data_annotated[\"sex_effect_p_value\"] < threshold) & (data_annotated[\"female_ko_effect_p_value\"] < threshold) & (data_annotated[\"male_ko_effect_p_value\"] > threshold),\n",
    "    (data_annotated[\"sex_effect_p_value\"] < threshold) & (data_annotated[\"male_ko_effect_p_value\"] < threshold) & (data_annotated[\"female_ko_effect_p_value\"] > threshold)\n",
    "]\n",
    "\n",
    "# 条件に対応する値\n",
    "choices = [\"female\", \"male\"]\n",
    "\n",
    "# np.selectで列を設定\n",
    "data_annotated[\"sexdual_dimorphism\"] = np.select(conditions, choices, default=None)\n",
    "data_annotated = data_annotated.reset_index(drop=True)\n",
    "\n",
    "# 結果を確認\n",
    "print(RELEASE)\n",
    "print(data_annotated[\"sexdual_dimorphism\"].value_counts())\n",
    "\n",
    "# RELEASE 22.1\n",
    "# sexdual_dimorphism\n",
    "# male      4915\n",
    "# female    4146\n",
    "\n",
    "print(len(data_annotated))"
   ]
  },
  {
   "cell_type": "code",
   "execution_count": 22,
   "metadata": {},
   "outputs": [
    {
     "data": {
      "text/html": [
       "<div>\n",
       "<style scoped>\n",
       "    .dataframe tbody tr th:only-of-type {\n",
       "        vertical-align: middle;\n",
       "    }\n",
       "\n",
       "    .dataframe tbody tr th {\n",
       "        vertical-align: top;\n",
       "    }\n",
       "\n",
       "    .dataframe thead th {\n",
       "        text-align: right;\n",
       "    }\n",
       "</style>\n",
       "<table border=\"1\" class=\"dataframe\">\n",
       "  <thead>\n",
       "    <tr style=\"text-align: right;\">\n",
       "      <th></th>\n",
       "      <th>p_value</th>\n",
       "      <th>sexdual_dimorphism</th>\n",
       "      <th>effect_size</th>\n",
       "      <th>genotype_effect_parameter_estimate</th>\n",
       "      <th>female_ko_parameter_estimate</th>\n",
       "      <th>male_ko_parameter_estimate</th>\n",
       "    </tr>\n",
       "  </thead>\n",
       "  <tbody>\n",
       "    <tr>\n",
       "      <th>0</th>\n",
       "      <td>0.405457</td>\n",
       "      <td>male</td>\n",
       "      <td>-0.898679</td>\n",
       "      <td>-0.151456</td>\n",
       "      <td>-0.151456</td>\n",
       "      <td>-0.888437</td>\n",
       "    </tr>\n",
       "    <tr>\n",
       "      <th>3</th>\n",
       "      <td>0.000001</td>\n",
       "      <td>female</td>\n",
       "      <td>0.514058</td>\n",
       "      <td>23.474848</td>\n",
       "      <td>23.474848</td>\n",
       "      <td>-10.137384</td>\n",
       "    </tr>\n",
       "    <tr>\n",
       "      <th>6</th>\n",
       "      <td>0.004613</td>\n",
       "      <td>male</td>\n",
       "      <td>1.693153</td>\n",
       "      <td>0.045169</td>\n",
       "      <td>0.045169</td>\n",
       "      <td>0.086361</td>\n",
       "    </tr>\n",
       "    <tr>\n",
       "      <th>8</th>\n",
       "      <td>0.418544</td>\n",
       "      <td>male</td>\n",
       "      <td>1.007920</td>\n",
       "      <td>0.103463</td>\n",
       "      <td>0.102222</td>\n",
       "      <td>0.450179</td>\n",
       "    </tr>\n",
       "    <tr>\n",
       "      <th>12</th>\n",
       "      <td>0.025244</td>\n",
       "      <td>male</td>\n",
       "      <td>-1.284750</td>\n",
       "      <td>-0.916716</td>\n",
       "      <td>-0.916716</td>\n",
       "      <td>-2.023327</td>\n",
       "    </tr>\n",
       "    <tr>\n",
       "      <th>26</th>\n",
       "      <td>0.000102</td>\n",
       "      <td>male</td>\n",
       "      <td>-0.759035</td>\n",
       "      <td>-0.340968</td>\n",
       "      <td>-0.237300</td>\n",
       "      <td>-0.432685</td>\n",
       "    </tr>\n",
       "    <tr>\n",
       "      <th>34</th>\n",
       "      <td>0.729042</td>\n",
       "      <td>male</td>\n",
       "      <td>1.153897</td>\n",
       "      <td>-0.314216</td>\n",
       "      <td>-0.314216</td>\n",
       "      <td>2.384736</td>\n",
       "    </tr>\n",
       "    <tr>\n",
       "      <th>39</th>\n",
       "      <td>0.000022</td>\n",
       "      <td>female</td>\n",
       "      <td>0.813224</td>\n",
       "      <td>0.660234</td>\n",
       "      <td>0.660234</td>\n",
       "      <td>0.325016</td>\n",
       "    </tr>\n",
       "    <tr>\n",
       "      <th>43</th>\n",
       "      <td>0.322559</td>\n",
       "      <td>male</td>\n",
       "      <td>0.341517</td>\n",
       "      <td>-0.432720</td>\n",
       "      <td>-0.432720</td>\n",
       "      <td>1.930874</td>\n",
       "    </tr>\n",
       "    <tr>\n",
       "      <th>47</th>\n",
       "      <td>0.000015</td>\n",
       "      <td>female</td>\n",
       "      <td>-2.357432</td>\n",
       "      <td>-0.007335</td>\n",
       "      <td>-0.007335</td>\n",
       "      <td>-0.003611</td>\n",
       "    </tr>\n",
       "  </tbody>\n",
       "</table>\n",
       "</div>"
      ],
      "text/plain": [
       "     p_value sexdual_dimorphism  effect_size  \\\n",
       "0   0.405457               male    -0.898679   \n",
       "3   0.000001             female     0.514058   \n",
       "6   0.004613               male     1.693153   \n",
       "8   0.418544               male     1.007920   \n",
       "12  0.025244               male    -1.284750   \n",
       "26  0.000102               male    -0.759035   \n",
       "34  0.729042               male     1.153897   \n",
       "39  0.000022             female     0.813224   \n",
       "43  0.322559               male     0.341517   \n",
       "47  0.000015             female    -2.357432   \n",
       "\n",
       "    genotype_effect_parameter_estimate  female_ko_parameter_estimate  \\\n",
       "0                            -0.151456                     -0.151456   \n",
       "3                            23.474848                     23.474848   \n",
       "6                             0.045169                      0.045169   \n",
       "8                             0.103463                      0.102222   \n",
       "12                           -0.916716                     -0.916716   \n",
       "26                           -0.340968                     -0.237300   \n",
       "34                           -0.314216                     -0.314216   \n",
       "39                            0.660234                      0.660234   \n",
       "43                           -0.432720                     -0.432720   \n",
       "47                           -0.007335                     -0.007335   \n",
       "\n",
       "    male_ko_parameter_estimate  \n",
       "0                    -0.888437  \n",
       "3                   -10.137384  \n",
       "6                     0.086361  \n",
       "8                     0.450179  \n",
       "12                   -2.023327  \n",
       "26                   -0.432685  \n",
       "34                    2.384736  \n",
       "39                    0.325016  \n",
       "43                    1.930874  \n",
       "47                   -0.003611  "
      ]
     },
     "execution_count": 22,
     "metadata": {},
     "output_type": "execute_result"
    }
   ],
   "source": [
    "# 確認\n",
    "data_annotated.dropna(subset=[\"sexdual_dimorphism\"])[[\"p_value\", \"sexdual_dimorphism\", \"effect_size\", \"genotype_effect_parameter_estimate\", \"female_ko_parameter_estimate\", \"male_ko_parameter_estimate\"]].head(10)"
   ]
  },
  {
   "cell_type": "markdown",
   "metadata": {},
   "source": [
    "### 遺伝型、性差、ライフステージのアノテーションを統合する"
   ]
  },
  {
   "cell_type": "code",
   "execution_count": 23,
   "metadata": {},
   "outputs": [
    {
     "name": "stdout",
     "output_type": "stream",
     "text": [
      "zygosity\n",
      "homozygote      30010\n",
      "heterozygote     8689\n",
      "hemizygote        470\n",
      "Name: count, dtype: int64\n"
     ]
    }
   ],
   "source": [
    "print(data_annotated[\"zygosity\"].value_counts())"
   ]
  },
  {
   "cell_type": "code",
   "execution_count": 24,
   "metadata": {},
   "outputs": [],
   "source": [
    "# アノテーション列を追加（inplace）\n",
    "def make_annotation(row):\n",
    "    # 遺伝型\n",
    "    if row['zygosity'] == 'homozygote':\n",
    "        annotate = \"Homo\"\n",
    "    elif row['zygosity'] == 'heterozygote':\n",
    "        annotate = \"Hetero\"\n",
    "    else:\n",
    "        annotate = \"Hemi\"\n",
    "\n",
    "    # 性別\n",
    "    if row['sexdual_dimorphism'] == \"female\":\n",
    "        annotate += \", Female\"\n",
    "    elif row['sexdual_dimorphism'] == \"male\":\n",
    "        annotate += \", Male\"\n",
    "\n",
    "    # # life_stage\n",
    "    # if row['life_stage'] in {\"Embryo\", \"Early\", \"Interval\", \"Late\"}:\n",
    "    #     annotate += f\", {row['life_stage']}\"\n",
    "\n",
    "    return f\"{row['mp_term_name']} ({annotate})\"\n",
    "\n",
    "data_annotated[\"annotation\"] = data_annotated.apply(make_annotation, axis=1)\n",
    "\n",
    "# marker_symbol ごとに annotation をリスト化＆ソート\n",
    "marker_annotation_map = (\n",
    "    data_annotated\n",
    "    .groupby(\"marker_symbol\")[\"annotation\"]\n",
    "    .apply(lambda x: sorted(x.tolist()))\n",
    ")\n"
   ]
  },
  {
   "cell_type": "code",
   "execution_count": 25,
   "metadata": {},
   "outputs": [
    {
     "name": "stdout",
     "output_type": "stream",
     "text": [
      "['abnormal skin condition (Homo)', 'decreased circulating HDL cholesterol level (Homo, Male)', 'decreased circulating cholesterol level (Homo, Male)', 'decreased circulating free fatty acids level (Homo)', 'decreased mean corpuscular hemoglobin (Homo)', 'decreased mean corpuscular hemoglobin concentration (Homo)', 'increased exploration in new environment (Homo)']\n",
      "['abnormal abdominal wall morphology (Homo)', 'abnormal embryo size (Homo)', 'abnormal facial morphology (Homo)', 'abnormal head shape (Homo)', 'abnormal placenta size (Homo)', 'abnormal retina blood vessel morphology (Hetero)', 'abnormal retina vasculature morphology (Hetero)', 'anophthalmia (Homo)', 'cleft palate (Homo)', 'exencephaly (Homo)', 'preweaning lethality, complete penetrance (Homo)', 'preweaning lethality, complete penetrance (Homo)', 'preweaning lethality, complete penetrance (Homo)', 'short tibia (Hetero, Male)', 'spina bifida (Homo)']\n"
     ]
    }
   ],
   "source": [
    "# 例：Rhdの注釈を表示\n",
    "print(marker_annotation_map[\"Rhd\"])\n",
    "# 例：Amtの注釈を表示 (Embryo)\n",
    "print(marker_annotation_map[\"Amt\"])"
   ]
  },
  {
   "cell_type": "code",
   "execution_count": 26,
   "metadata": {},
   "outputs": [],
   "source": [
    "\n",
    "Path(\"data/annotation\").mkdir(exist_ok=True, parents=True)\n",
    "file_path = \"data/annotation/symbol_mptermname.json\"\n",
    "marker_annotation_map.to_json(file_path, indent=4)\n",
    "\n",
    "# json.dump(marker_annotation_map, open(file_path, \"w\"), indent=4, sort_keys=True)\n"
   ]
  },
  {
   "cell_type": "code",
   "execution_count": 27,
   "metadata": {},
   "outputs": [
    {
     "name": "stdout",
     "output_type": "stream",
     "text": [
      "Male: 4056\n",
      "Feale: 3504\n"
     ]
    },
    {
     "name": "stdout",
     "output_type": "stream",
     "text": [
      "Homo: 30010\n",
      "Hetero: 8689\n",
      "Hemi: 470\n",
      "Embryo: 0\n",
      "Early: 0\n",
      "Interval: 0\n",
      "Late: 0\n"
     ]
    }
   ],
   "source": [
    "%%bash\n",
    "\n",
    "grep -c \"Male\" data/annotation/symbol_mptermname.json | sed \"s|^|Male: |\"\n",
    "grep -c \"Female\" data/annotation/symbol_mptermname.json | sed \"s|^|Feale: |\"\n",
    "\n",
    "grep -c \"Homo\" data/annotation/symbol_mptermname.json | sed \"s|^|Homo: |\"\n",
    "grep -c \"Hetero\" data/annotation/symbol_mptermname.json | sed \"s|^|Hetero: |\"\n",
    "grep -c \"Hemi\" data/annotation/symbol_mptermname.json | sed \"s|^|Hemi: |\"\n",
    "\n",
    "grep -c \"Embryo\" data/annotation/symbol_mptermname.json | sed \"s|^|Embryo: |\"\n",
    "grep -c \"Early\" data/annotation/symbol_mptermname.json | sed \"s|^|Early: |\"\n",
    "grep -c \"Interval\" data/annotation/symbol_mptermname.json | sed \"s|^|Interval: |\"\n",
    "grep -c \"Late\" data/annotation/symbol_mptermname.json | sed \"s|^|Late: |\"\n",
    "\n",
    "# Male: 4915\n",
    "# Feale: 4146\n",
    "# Homo: 41444\n",
    "# Hetero: 11921\n",
    "# Hemi: 694\n",
    "# Embryo: 4253\n",
    "# Early: 45724\n",
    "# Interval: 58\n",
    "# Late: 4024\n"
   ]
  },
  {
   "cell_type": "markdown",
   "metadata": {},
   "source": [
    "### mp term nameとIMPCのPhenotype URLを紐付ける"
   ]
  },
  {
   "cell_type": "code",
   "execution_count": 28,
   "metadata": {},
   "outputs": [
    {
     "data": {
      "text/html": [
       "<div>\n",
       "<style scoped>\n",
       "    .dataframe tbody tr th:only-of-type {\n",
       "        vertical-align: middle;\n",
       "    }\n",
       "\n",
       "    .dataframe tbody tr th {\n",
       "        vertical-align: top;\n",
       "    }\n",
       "\n",
       "    .dataframe thead th {\n",
       "        text-align: right;\n",
       "    }\n",
       "</style>\n",
       "<table border=\"1\" class=\"dataframe\">\n",
       "  <thead>\n",
       "    <tr style=\"text-align: right;\">\n",
       "      <th></th>\n",
       "      <th>mp_term_id</th>\n",
       "      <th>mp_term_name</th>\n",
       "    </tr>\n",
       "  </thead>\n",
       "  <tbody>\n",
       "    <tr>\n",
       "      <th>1</th>\n",
       "      <td>MP:0000186</td>\n",
       "      <td>decreased circulating HDL cholesterol level</td>\n",
       "    </tr>\n",
       "    <tr>\n",
       "      <th>78</th>\n",
       "      <td>MP:0011100</td>\n",
       "      <td>preweaning lethality, complete penetrance</td>\n",
       "    </tr>\n",
       "    <tr>\n",
       "      <th>173</th>\n",
       "      <td>MP:0013279</td>\n",
       "      <td>increased fasting circulating glucose level</td>\n",
       "    </tr>\n",
       "    <tr>\n",
       "      <th>189</th>\n",
       "      <td>MP:0000194</td>\n",
       "      <td>increased circulating calcium level</td>\n",
       "    </tr>\n",
       "    <tr>\n",
       "      <th>214</th>\n",
       "      <td>MP:0005011</td>\n",
       "      <td>increased eosinophil cell number</td>\n",
       "    </tr>\n",
       "    <tr>\n",
       "      <th>...</th>\n",
       "      <td>...</td>\n",
       "      <td>...</td>\n",
       "    </tr>\n",
       "    <tr>\n",
       "      <th>1569576</th>\n",
       "      <td>MP:0000480</td>\n",
       "      <td>increased rib number</td>\n",
       "    </tr>\n",
       "    <tr>\n",
       "      <th>1571656</th>\n",
       "      <td>MP:0004955</td>\n",
       "      <td>increased thymus weight</td>\n",
       "    </tr>\n",
       "    <tr>\n",
       "      <th>1590789</th>\n",
       "      <td>MP:0006415</td>\n",
       "      <td>absent testes</td>\n",
       "    </tr>\n",
       "    <tr>\n",
       "      <th>1619941</th>\n",
       "      <td>MP:0009477</td>\n",
       "      <td>small cecum</td>\n",
       "    </tr>\n",
       "    <tr>\n",
       "      <th>1644990</th>\n",
       "      <td>MP:0020955</td>\n",
       "      <td>increased mechanical nociceptive threshold</td>\n",
       "    </tr>\n",
       "  </tbody>\n",
       "</table>\n",
       "<p>659 rows × 2 columns</p>\n",
       "</div>"
      ],
      "text/plain": [
       "         mp_term_id                                 mp_term_name\n",
       "1        MP:0000186  decreased circulating HDL cholesterol level\n",
       "78       MP:0011100    preweaning lethality, complete penetrance\n",
       "173      MP:0013279  increased fasting circulating glucose level\n",
       "189      MP:0000194          increased circulating calcium level\n",
       "214      MP:0005011             increased eosinophil cell number\n",
       "...             ...                                          ...\n",
       "1569576  MP:0000480                         increased rib number\n",
       "1571656  MP:0004955                      increased thymus weight\n",
       "1590789  MP:0006415                                absent testes\n",
       "1619941  MP:0009477                                  small cecum\n",
       "1644990  MP:0020955   increased mechanical nociceptive threshold\n",
       "\n",
       "[659 rows x 2 columns]"
      ]
     },
     "execution_count": 28,
     "metadata": {},
     "output_type": "execute_result"
    }
   ],
   "source": [
    "data_select = data[['mp_term_id', 'mp_term_name']].drop_duplicates()\n",
    "# data_select = data[['marker_symbol', 'marker_accession_id', 'mp_term_name', 'mp_term_id']].drop_duplicates()\n",
    "data_select"
   ]
  },
  {
   "cell_type": "code",
   "execution_count": 29,
   "metadata": {},
   "outputs": [
    {
     "name": "stdout",
     "output_type": "stream",
     "text": [
      "https://www.mousephenotype.org/data/phenotypes/MP:0002217\n"
     ]
    }
   ],
   "source": [
    "data_dict_url = dict()\n",
    "for index, row in data_select.iterrows():\n",
    "    mp_tern_id = row['mp_term_id']\n",
    "    impc_url = f\"https://www.mousephenotype.org/data/phenotypes/{mp_tern_id}\"\n",
    "    mp_term_name = row['mp_term_name']\n",
    "    data_dict_url[mp_term_name] = impc_url\n",
    "\n",
    "print(data_dict_url[\"small lymph nodes\"])"
   ]
  },
  {
   "cell_type": "code",
   "execution_count": 30,
   "metadata": {},
   "outputs": [],
   "source": [
    "with open('data/annotation/mptermname_phenotypeurl.tsv', 'w') as f:\n",
    "    for term, url in data_dict_url.items():\n",
    "        f.write(f\"{term}\\t{url}\\n\")"
   ]
  },
  {
   "cell_type": "code",
   "execution_count": 31,
   "metadata": {},
   "outputs": [
    {
     "name": "stdout",
     "output_type": "stream",
     "text": [
      "decreased circulating HDL cholesterol level\thttps://www.mousephenotype.org/data/phenotypes/MP:0000186\n",
      "preweaning lethality, complete penetrance\thttps://www.mousephenotype.org/data/phenotypes/MP:0011100\n",
      "increased fasting circulating glucose level\thttps://www.mousephenotype.org/data/phenotypes/MP:0013279\n",
      "659 data/annotation/mptermname_phenotypeurl.tsv\n"
     ]
    }
   ],
   "source": [
    "%%bash\n",
    "\n",
    "head -n 3 data/annotation/mptermname_phenotypeurl.tsv\n",
    "wc -l data/annotation/mptermname_phenotypeurl.tsv # Release 22.0: 664 "
   ]
  },
  {
   "cell_type": "markdown",
   "metadata": {},
   "source": [
    "### marker symbolとMGI accession idを紐付ける"
   ]
  },
  {
   "cell_type": "code",
   "execution_count": 32,
   "metadata": {},
   "outputs": [
    {
     "data": {
      "text/html": [
       "<div>\n",
       "<style scoped>\n",
       "    .dataframe tbody tr th:only-of-type {\n",
       "        vertical-align: middle;\n",
       "    }\n",
       "\n",
       "    .dataframe tbody tr th {\n",
       "        vertical-align: top;\n",
       "    }\n",
       "\n",
       "    .dataframe thead th {\n",
       "        text-align: right;\n",
       "    }\n",
       "</style>\n",
       "<table border=\"1\" class=\"dataframe\">\n",
       "  <thead>\n",
       "    <tr style=\"text-align: right;\">\n",
       "      <th></th>\n",
       "      <th>marker_symbol</th>\n",
       "      <th>marker_accession_id</th>\n",
       "    </tr>\n",
       "  </thead>\n",
       "  <tbody>\n",
       "    <tr>\n",
       "      <th>1</th>\n",
       "      <td>Rhd</td>\n",
       "      <td>MGI:1202882</td>\n",
       "    </tr>\n",
       "    <tr>\n",
       "      <th>78</th>\n",
       "      <td>Dpf2</td>\n",
       "      <td>MGI:109529</td>\n",
       "    </tr>\n",
       "    <tr>\n",
       "      <th>107</th>\n",
       "      <td>Gna13</td>\n",
       "      <td>MGI:95768</td>\n",
       "    </tr>\n",
       "    <tr>\n",
       "      <th>173</th>\n",
       "      <td>Dynlrb2</td>\n",
       "      <td>MGI:1922715</td>\n",
       "    </tr>\n",
       "    <tr>\n",
       "      <th>189</th>\n",
       "      <td>Slc16a2</td>\n",
       "      <td>MGI:1203732</td>\n",
       "    </tr>\n",
       "    <tr>\n",
       "      <th>...</th>\n",
       "      <td>...</td>\n",
       "      <td>...</td>\n",
       "    </tr>\n",
       "    <tr>\n",
       "      <th>1658318</th>\n",
       "      <td>Abca4</td>\n",
       "      <td>MGI:109424</td>\n",
       "    </tr>\n",
       "    <tr>\n",
       "      <th>1659362</th>\n",
       "      <td>Polq</td>\n",
       "      <td>MGI:2155399</td>\n",
       "    </tr>\n",
       "    <tr>\n",
       "      <th>1659481</th>\n",
       "      <td>Pdyn</td>\n",
       "      <td>MGI:97535</td>\n",
       "    </tr>\n",
       "    <tr>\n",
       "      <th>1661314</th>\n",
       "      <td>Tecrl</td>\n",
       "      <td>MGI:2444966</td>\n",
       "    </tr>\n",
       "    <tr>\n",
       "      <th>1662808</th>\n",
       "      <td>Polr3gl</td>\n",
       "      <td>MGI:1917120</td>\n",
       "    </tr>\n",
       "  </tbody>\n",
       "</table>\n",
       "<p>7384 rows × 2 columns</p>\n",
       "</div>"
      ],
      "text/plain": [
       "        marker_symbol marker_accession_id\n",
       "1                 Rhd         MGI:1202882\n",
       "78               Dpf2          MGI:109529\n",
       "107             Gna13           MGI:95768\n",
       "173           Dynlrb2         MGI:1922715\n",
       "189           Slc16a2         MGI:1203732\n",
       "...               ...                 ...\n",
       "1658318         Abca4          MGI:109424\n",
       "1659362          Polq         MGI:2155399\n",
       "1659481          Pdyn           MGI:97535\n",
       "1661314         Tecrl         MGI:2444966\n",
       "1662808       Polr3gl         MGI:1917120\n",
       "\n",
       "[7384 rows x 2 columns]"
      ]
     },
     "execution_count": 32,
     "metadata": {},
     "output_type": "execute_result"
    }
   ],
   "source": [
    "data_select = data[['marker_symbol', 'marker_accession_id']].drop_duplicates()\n",
    "# data_select = data[['marker_symbol', 'marker_accession_id', 'mp_term_name', 'mp_term_id']].drop_duplicates()\n",
    "data_select"
   ]
  },
  {
   "cell_type": "code",
   "execution_count": 33,
   "metadata": {},
   "outputs": [
    {
     "name": "stdout",
     "output_type": "stream",
     "text": [
      "MGI:97281\n"
     ]
    }
   ],
   "source": [
    "data_dict = dict()\n",
    "for index, row in data_select.iterrows():\n",
    "    data_dict[row['marker_symbol']] = row['marker_accession_id']\n",
    "print(data_dict[\"Ncam1\"])"
   ]
  },
  {
   "cell_type": "code",
   "execution_count": 34,
   "metadata": {},
   "outputs": [
    {
     "data": {
      "text/plain": [
       "133560"
      ]
     },
     "execution_count": 34,
     "metadata": {},
     "output_type": "execute_result"
    }
   ],
   "source": [
    "json.dump(data_dict, open(\"data/annotation/symbol_mgiid.json\", \"w\"), indent=4, sort_keys=True)\n",
    "Path(\"data/annotation/symbol_mgiid.tsv\").write_text(\"\\n\".join([f\"{k}\\t{v}\" for k, v in data_dict.items()]))"
   ]
  },
  {
   "cell_type": "code",
   "execution_count": 35,
   "metadata": {},
   "outputs": [
    {
     "name": "stdout",
     "output_type": "stream",
     "text": [
      "{\n",
      "    \"0610010K14Rik\": \"MGI:1915609\",\n",
      "    \"0610040J01Rik\": \"MGI:1923511\",\n",
      "Rhd\tMGI:1202882\n",
      "Dpf2\tMGI:109529\n",
      "Gna13\tMGI:95768\n"
     ]
    }
   ],
   "source": [
    "%%bash\n",
    "head -n 3 data/annotation/symbol_mgiid.json\n",
    "head -n 3 data/annotation/symbol_mgiid.tsv"
   ]
  },
  {
   "cell_type": "markdown",
   "metadata": {},
   "source": [
    "## 4. 表現型の類似度を求める"
   ]
  },
  {
   "cell_type": "code",
   "execution_count": 36,
   "metadata": {},
   "outputs": [
    {
     "name": "stdout",
     "output_type": "stream",
     "text": [
      "['abnormal craniofacial morphology (Homo)', 'abnormal embryo size (Homo)', 'abnormal heart morphology (Homo)', 'abnormal limb morphology (Homo)', 'abnormal seminal vesicle morphology (Hetero)', 'edema (Homo)', 'pallor (Homo)', 'preweaning lethality, complete penetrance (Homo)', 'preweaning lethality, complete penetrance (Homo)']\n"
     ]
    }
   ],
   "source": [
    "file_path = Path(\"data\", \"annotation\", \"symbol_mptermname.json\")\n",
    "\n",
    "symbol_mptermname = json.load(open(file_path))\n",
    "print(symbol_mptermname[\"Dpf2\"])"
   ]
  },
  {
   "cell_type": "code",
   "execution_count": 37,
   "metadata": {},
   "outputs": [
    {
     "name": "stdout",
     "output_type": "stream",
     "text": [
      "{'abnormal craniofacial morphology (Homo)', 'abnormal limb morphology (Homo)', 'abnormal seminal vesicle morphology (Hetero)', 'abnormal heart morphology (Homo)', 'edema (Homo)', 'abnormal embryo size (Homo)', 'preweaning lethality, complete penetrance (Homo)', 'pallor (Homo)'}\n"
     ]
    }
   ],
   "source": [
    "symbol_mptermname = {k: set(v) for k, v in symbol_mptermname.items() if v}\n",
    "print(symbol_mptermname[\"Dpf2\"])"
   ]
  },
  {
   "cell_type": "markdown",
   "metadata": {},
   "source": [
    "### Jaccard係数で集合の類似度を計算"
   ]
  },
  {
   "cell_type": "code",
   "execution_count": 38,
   "metadata": {},
   "outputs": [],
   "source": [
    "\n",
    "overlapped_ratios_all = []\n",
    "\n",
    "for a, b in combinations(symbol_mptermname, 2):\n",
    "    overlapped_mp = sorted(symbol_mptermname[a] & symbol_mptermname[b])\n",
    "    overlapped_mp_number = len(overlapped_mp)\n",
    "    union_mp_number = len(symbol_mptermname[a] | symbol_mptermname[b])\n",
    "    overlap_ratio = overlapped_mp_number / union_mp_number\n",
    "\n",
    "    overlapped_ratios_all.append([a, b, round(overlap_ratio, 3), overlapped_mp_number, overlapped_mp])\n",
    "\n",
    "## 46s"
   ]
  },
  {
   "cell_type": "code",
   "execution_count": 39,
   "metadata": {},
   "outputs": [
    {
     "name": "stdout",
     "output_type": "stream",
     "text": [
      "[['0610010K14Rik', '0610040J01Rik', 0.0, 0, []], ['0610010K14Rik', '1110059G10Rik', 0.0, 0, []], ['0610010K14Rik', '1500009L16Rik', 0.0, 0, []]]\n",
      "27258036\n"
     ]
    }
   ],
   "source": [
    "print(overlapped_ratios_all[:3])\n",
    "print(len(overlapped_ratios_all))\n",
    "# Release 22.0: 29996385\n",
    "# Release 22.1: 29996385"
   ]
  },
  {
   "cell_type": "markdown",
   "metadata": {},
   "source": [
    "### 重複する表現型が閾値以上のものを抽出"
   ]
  },
  {
   "cell_type": "code",
   "execution_count": 40,
   "metadata": {},
   "outputs": [],
   "source": [
    "\n",
    "num_overlapped_mp = 3\n",
    "\n",
    "overlapped_ratios_filtered = []\n",
    "for record in overlapped_ratios_all:\n",
    "    if record[3] >= num_overlapped_mp:\n",
    "        overlapped_ratios_filtered.append(record)"
   ]
  },
  {
   "cell_type": "code",
   "execution_count": 41,
   "metadata": {},
   "outputs": [
    {
     "name": "stdout",
     "output_type": "stream",
     "text": [
      "[['0610010K14Rik', 'Acvr1', 0.6, 3, ['embryonic lethality prior to organogenesis (Homo)', 'embryonic lethality prior to tooth bud stage (Homo)', 'preweaning lethality, complete penetrance (Homo)']], ['0610010K14Rik', 'Adss2', 0.375, 3, ['embryonic lethality prior to organogenesis (Homo)', 'embryonic lethality prior to tooth bud stage (Homo)', 'preweaning lethality, complete penetrance (Homo)']], ['0610010K14Rik', 'Ahcy', 0.5, 3, ['embryonic lethality prior to organogenesis (Homo)', 'embryonic lethality prior to tooth bud stage (Homo)', 'preweaning lethality, complete penetrance (Homo)']]]\n",
      "49899\n"
     ]
    }
   ],
   "source": [
    "print(overlapped_ratios_filtered[:3])\n",
    "print(len(overlapped_ratios_filtered))\n",
    "# Release 21.1: 134880\n",
    "# Release 22.0: 133281 <- Homo/Hetero/Hemiおよび♂・♀の完全一致を考慮するようになったため、減少\n",
    "# Release 22.1: 133281"
   ]
  },
  {
   "cell_type": "code",
   "execution_count": 42,
   "metadata": {},
   "outputs": [],
   "source": [
    "Path(\"data\", \"overlap\").mkdir(exist_ok=True, parents=True)\n",
    "pickle.dump(overlapped_ratios_all, open(\"data/overlap/overlapped_ratios_all.pkl\", \"wb\"))\n",
    "pickle.dump(overlapped_ratios_filtered, open(\"data/overlap/overlapped_ratios_filtered.pkl\", \"wb\"))\n",
    "\n",
    "# 18 sec"
   ]
  },
  {
   "cell_type": "markdown",
   "metadata": {},
   "source": [
    "### 生データをCSV形式で出力 （ダウンロード用）"
   ]
  },
  {
   "cell_type": "code",
   "execution_count": 43,
   "metadata": {},
   "outputs": [
    {
     "data": {
      "text/html": [
       "<div>\n",
       "<style scoped>\n",
       "    .dataframe tbody tr th:only-of-type {\n",
       "        vertical-align: middle;\n",
       "    }\n",
       "\n",
       "    .dataframe tbody tr th {\n",
       "        vertical-align: top;\n",
       "    }\n",
       "\n",
       "    .dataframe thead th {\n",
       "        text-align: right;\n",
       "    }\n",
       "</style>\n",
       "<table border=\"1\" class=\"dataframe\">\n",
       "  <thead>\n",
       "    <tr style=\"text-align: right;\">\n",
       "      <th></th>\n",
       "      <th>Gene1</th>\n",
       "      <th>Gene2</th>\n",
       "      <th>Jaccard Similarity</th>\n",
       "      <th>Number of shared phenotype</th>\n",
       "      <th>List of shared phenotypes</th>\n",
       "    </tr>\n",
       "  </thead>\n",
       "  <tbody>\n",
       "    <tr>\n",
       "      <th>0</th>\n",
       "      <td>0610010K14Rik</td>\n",
       "      <td>0610040J01Rik</td>\n",
       "      <td>0.000</td>\n",
       "      <td>0</td>\n",
       "      <td>[]</td>\n",
       "    </tr>\n",
       "    <tr>\n",
       "      <th>1</th>\n",
       "      <td>0610010K14Rik</td>\n",
       "      <td>1110059G10Rik</td>\n",
       "      <td>0.000</td>\n",
       "      <td>0</td>\n",
       "      <td>[]</td>\n",
       "    </tr>\n",
       "    <tr>\n",
       "      <th>2</th>\n",
       "      <td>0610010K14Rik</td>\n",
       "      <td>1500009L16Rik</td>\n",
       "      <td>0.000</td>\n",
       "      <td>0</td>\n",
       "      <td>[]</td>\n",
       "    </tr>\n",
       "    <tr>\n",
       "      <th>3</th>\n",
       "      <td>0610010K14Rik</td>\n",
       "      <td>1600014C10Rik</td>\n",
       "      <td>0.000</td>\n",
       "      <td>0</td>\n",
       "      <td>[]</td>\n",
       "    </tr>\n",
       "    <tr>\n",
       "      <th>4</th>\n",
       "      <td>0610010K14Rik</td>\n",
       "      <td>1600029I14Rik</td>\n",
       "      <td>0.000</td>\n",
       "      <td>0</td>\n",
       "      <td>[]</td>\n",
       "    </tr>\n",
       "    <tr>\n",
       "      <th>...</th>\n",
       "      <td>...</td>\n",
       "      <td>...</td>\n",
       "      <td>...</td>\n",
       "      <td>...</td>\n",
       "      <td>...</td>\n",
       "    </tr>\n",
       "    <tr>\n",
       "      <th>27258031</th>\n",
       "      <td>Zyg11b</td>\n",
       "      <td>Zzz3</td>\n",
       "      <td>0.000</td>\n",
       "      <td>0</td>\n",
       "      <td>[]</td>\n",
       "    </tr>\n",
       "    <tr>\n",
       "      <th>27258032</th>\n",
       "      <td>Zyg11b</td>\n",
       "      <td>a</td>\n",
       "      <td>0.000</td>\n",
       "      <td>0</td>\n",
       "      <td>[]</td>\n",
       "    </tr>\n",
       "    <tr>\n",
       "      <th>27258033</th>\n",
       "      <td>Zzef1</td>\n",
       "      <td>Zzz3</td>\n",
       "      <td>0.000</td>\n",
       "      <td>0</td>\n",
       "      <td>[]</td>\n",
       "    </tr>\n",
       "    <tr>\n",
       "      <th>27258034</th>\n",
       "      <td>Zzef1</td>\n",
       "      <td>a</td>\n",
       "      <td>0.062</td>\n",
       "      <td>1</td>\n",
       "      <td>[abnormal kidney morphology (Homo)]</td>\n",
       "    </tr>\n",
       "    <tr>\n",
       "      <th>27258035</th>\n",
       "      <td>Zzz3</td>\n",
       "      <td>a</td>\n",
       "      <td>0.000</td>\n",
       "      <td>0</td>\n",
       "      <td>[]</td>\n",
       "    </tr>\n",
       "  </tbody>\n",
       "</table>\n",
       "<p>27258036 rows × 5 columns</p>\n",
       "</div>"
      ],
      "text/plain": [
       "                  Gene1          Gene2  Jaccard Similarity  \\\n",
       "0         0610010K14Rik  0610040J01Rik               0.000   \n",
       "1         0610010K14Rik  1110059G10Rik               0.000   \n",
       "2         0610010K14Rik  1500009L16Rik               0.000   \n",
       "3         0610010K14Rik  1600014C10Rik               0.000   \n",
       "4         0610010K14Rik  1600029I14Rik               0.000   \n",
       "...                 ...            ...                 ...   \n",
       "27258031         Zyg11b           Zzz3               0.000   \n",
       "27258032         Zyg11b              a               0.000   \n",
       "27258033          Zzef1           Zzz3               0.000   \n",
       "27258034          Zzef1              a               0.062   \n",
       "27258035           Zzz3              a               0.000   \n",
       "\n",
       "          Number of shared phenotype            List of shared phenotypes  \n",
       "0                                  0                                   []  \n",
       "1                                  0                                   []  \n",
       "2                                  0                                   []  \n",
       "3                                  0                                   []  \n",
       "4                                  0                                   []  \n",
       "...                              ...                                  ...  \n",
       "27258031                           0                                   []  \n",
       "27258032                           0                                   []  \n",
       "27258033                           0                                   []  \n",
       "27258034                           1  [abnormal kidney morphology (Homo)]  \n",
       "27258035                           0                                   []  \n",
       "\n",
       "[27258036 rows x 5 columns]"
      ]
     },
     "execution_count": 43,
     "metadata": {},
     "output_type": "execute_result"
    }
   ],
   "source": [
    "df_overlap = pd.DataFrame(overlapped_ratios_all)\n",
    "df_overlap.columns = [\"Gene1\", \"Gene2\", \"Jaccard Similarity\", \"Number of shared phenotype\", \"List of shared phenotypes\"]\n",
    "df_overlap.reindex(\n",
    "    columns=[\"Gene1\", \"Gene2\", \"Number of shared phenotype\", \"Jaccard Similarity\", \"List of shared phenotypes\"]\n",
    ")\n",
    "df_overlap\n",
    "\n"
   ]
  },
  {
   "cell_type": "code",
   "execution_count": 44,
   "metadata": {},
   "outputs": [],
   "source": [
    "df_overlap.to_csv(\"data/TSUMUGI_raw_data.csv.gz\", index=False, compression=\"gzip\", lineterminator='\\n')\n",
    "# 3 min"
   ]
  },
  {
   "cell_type": "markdown",
   "metadata": {},
   "source": [
    "## 表現型ごとのネットワークを出力"
   ]
  },
  {
   "cell_type": "code",
   "execution_count": 45,
   "metadata": {},
   "outputs": [
    {
     "data": {
      "text/html": [
       "<div>\n",
       "<style scoped>\n",
       "    .dataframe tbody tr th:only-of-type {\n",
       "        vertical-align: middle;\n",
       "    }\n",
       "\n",
       "    .dataframe tbody tr th {\n",
       "        vertical-align: top;\n",
       "    }\n",
       "\n",
       "    .dataframe thead th {\n",
       "        text-align: right;\n",
       "    }\n",
       "</style>\n",
       "<table border=\"1\" class=\"dataframe\">\n",
       "  <thead>\n",
       "    <tr style=\"text-align: right;\">\n",
       "      <th></th>\n",
       "      <th>marker1</th>\n",
       "      <th>marker2</th>\n",
       "      <th>overlap_ratio</th>\n",
       "      <th>overlapped_mp_number</th>\n",
       "      <th>overlapped_mp</th>\n",
       "    </tr>\n",
       "  </thead>\n",
       "  <tbody>\n",
       "    <tr>\n",
       "      <th>0</th>\n",
       "      <td>0610010K14Rik</td>\n",
       "      <td>Acvr1</td>\n",
       "      <td>0.600</td>\n",
       "      <td>3</td>\n",
       "      <td>[embryonic lethality prior to organogenesis (H...</td>\n",
       "    </tr>\n",
       "    <tr>\n",
       "      <th>1</th>\n",
       "      <td>0610010K14Rik</td>\n",
       "      <td>Adss2</td>\n",
       "      <td>0.375</td>\n",
       "      <td>3</td>\n",
       "      <td>[embryonic lethality prior to organogenesis (H...</td>\n",
       "    </tr>\n",
       "    <tr>\n",
       "      <th>2</th>\n",
       "      <td>0610010K14Rik</td>\n",
       "      <td>Ahcy</td>\n",
       "      <td>0.500</td>\n",
       "      <td>3</td>\n",
       "      <td>[embryonic lethality prior to organogenesis (H...</td>\n",
       "    </tr>\n",
       "    <tr>\n",
       "      <th>3</th>\n",
       "      <td>0610010K14Rik</td>\n",
       "      <td>Anapc4</td>\n",
       "      <td>0.750</td>\n",
       "      <td>3</td>\n",
       "      <td>[embryonic lethality prior to organogenesis (H...</td>\n",
       "    </tr>\n",
       "    <tr>\n",
       "      <th>4</th>\n",
       "      <td>0610010K14Rik</td>\n",
       "      <td>Ankfy1</td>\n",
       "      <td>0.500</td>\n",
       "      <td>3</td>\n",
       "      <td>[embryonic lethality prior to organogenesis (H...</td>\n",
       "    </tr>\n",
       "    <tr>\n",
       "      <th>...</th>\n",
       "      <td>...</td>\n",
       "      <td>...</td>\n",
       "      <td>...</td>\n",
       "      <td>...</td>\n",
       "      <td>...</td>\n",
       "    </tr>\n",
       "    <tr>\n",
       "      <th>49894</th>\n",
       "      <td>Zfp462</td>\n",
       "      <td>Zfp91</td>\n",
       "      <td>0.300</td>\n",
       "      <td>3</td>\n",
       "      <td>[abnormal embryo size (Homo), edema (Homo), pr...</td>\n",
       "    </tr>\n",
       "    <tr>\n",
       "      <th>49895</th>\n",
       "      <td>Zfp503</td>\n",
       "      <td>Zfp91</td>\n",
       "      <td>0.167</td>\n",
       "      <td>3</td>\n",
       "      <td>[abnormal embryo size (Homo), edema (Homo), pr...</td>\n",
       "    </tr>\n",
       "    <tr>\n",
       "      <th>49896</th>\n",
       "      <td>Zfp593</td>\n",
       "      <td>Zmynd12</td>\n",
       "      <td>0.231</td>\n",
       "      <td>3</td>\n",
       "      <td>[decreased lean body mass (Homo, Male), increa...</td>\n",
       "    </tr>\n",
       "    <tr>\n",
       "      <th>49897</th>\n",
       "      <td>Zfp612</td>\n",
       "      <td>Zfp641</td>\n",
       "      <td>0.500</td>\n",
       "      <td>3</td>\n",
       "      <td>[decreased mean corpuscular volume (Homo), hyp...</td>\n",
       "    </tr>\n",
       "    <tr>\n",
       "      <th>49898</th>\n",
       "      <td>Zfp871</td>\n",
       "      <td>Zwilch</td>\n",
       "      <td>0.250</td>\n",
       "      <td>3</td>\n",
       "      <td>[abnormal embryo size (Homo), embryonic growth...</td>\n",
       "    </tr>\n",
       "  </tbody>\n",
       "</table>\n",
       "<p>49899 rows × 5 columns</p>\n",
       "</div>"
      ],
      "text/plain": [
       "             marker1  marker2  overlap_ratio  overlapped_mp_number  \\\n",
       "0      0610010K14Rik    Acvr1          0.600                     3   \n",
       "1      0610010K14Rik    Adss2          0.375                     3   \n",
       "2      0610010K14Rik     Ahcy          0.500                     3   \n",
       "3      0610010K14Rik   Anapc4          0.750                     3   \n",
       "4      0610010K14Rik   Ankfy1          0.500                     3   \n",
       "...              ...      ...            ...                   ...   \n",
       "49894         Zfp462    Zfp91          0.300                     3   \n",
       "49895         Zfp503    Zfp91          0.167                     3   \n",
       "49896         Zfp593  Zmynd12          0.231                     3   \n",
       "49897         Zfp612   Zfp641          0.500                     3   \n",
       "49898         Zfp871   Zwilch          0.250                     3   \n",
       "\n",
       "                                           overlapped_mp  \n",
       "0      [embryonic lethality prior to organogenesis (H...  \n",
       "1      [embryonic lethality prior to organogenesis (H...  \n",
       "2      [embryonic lethality prior to organogenesis (H...  \n",
       "3      [embryonic lethality prior to organogenesis (H...  \n",
       "4      [embryonic lethality prior to organogenesis (H...  \n",
       "...                                                  ...  \n",
       "49894  [abnormal embryo size (Homo), edema (Homo), pr...  \n",
       "49895  [abnormal embryo size (Homo), edema (Homo), pr...  \n",
       "49896  [decreased lean body mass (Homo, Male), increa...  \n",
       "49897  [decreased mean corpuscular volume (Homo), hyp...  \n",
       "49898  [abnormal embryo size (Homo), embryonic growth...  \n",
       "\n",
       "[49899 rows x 5 columns]"
      ]
     },
     "execution_count": 45,
     "metadata": {},
     "output_type": "execute_result"
    }
   ],
   "source": [
    "df_overlap = pd.DataFrame(\n",
    "    overlapped_ratios_filtered, columns=[\"marker1\", \"marker2\", \"overlap_ratio\", \"overlapped_mp_number\", \"overlapped_mp\"]\n",
    ")\n",
    "df_overlap  # 133281  rows × 5 columns"
   ]
  },
  {
   "cell_type": "code",
   "execution_count": 46,
   "metadata": {},
   "outputs": [
    {
     "data": {
      "text/html": [
       "<div>\n",
       "<style scoped>\n",
       "    .dataframe tbody tr th:only-of-type {\n",
       "        vertical-align: middle;\n",
       "    }\n",
       "\n",
       "    .dataframe tbody tr th {\n",
       "        vertical-align: top;\n",
       "    }\n",
       "\n",
       "    .dataframe thead th {\n",
       "        text-align: right;\n",
       "    }\n",
       "</style>\n",
       "<table border=\"1\" class=\"dataframe\">\n",
       "  <thead>\n",
       "    <tr style=\"text-align: right;\">\n",
       "      <th></th>\n",
       "      <th>marker_symbol</th>\n",
       "      <th>mp_term_name</th>\n",
       "    </tr>\n",
       "  </thead>\n",
       "  <tbody>\n",
       "    <tr>\n",
       "      <th>0</th>\n",
       "      <td>0610010K14Rik</td>\n",
       "      <td>[embryonic lethality prior to organogenesis (H...</td>\n",
       "    </tr>\n",
       "    <tr>\n",
       "      <th>1</th>\n",
       "      <td>0610040J01Rik</td>\n",
       "      <td>[abnormal heart morphology (Homo), abnormal sp...</td>\n",
       "    </tr>\n",
       "    <tr>\n",
       "      <th>2</th>\n",
       "      <td>1110059G10Rik</td>\n",
       "      <td>[vertebral transformation (Homo)]</td>\n",
       "    </tr>\n",
       "    <tr>\n",
       "      <th>3</th>\n",
       "      <td>1500009L16Rik</td>\n",
       "      <td>[decreased bone mineral density (Homo), increa...</td>\n",
       "    </tr>\n",
       "    <tr>\n",
       "      <th>4</th>\n",
       "      <td>1600014C10Rik</td>\n",
       "      <td>[abnormal coat/hair pigmentation (Homo), abnor...</td>\n",
       "    </tr>\n",
       "    <tr>\n",
       "      <th>...</th>\n",
       "      <td>...</td>\n",
       "      <td>...</td>\n",
       "    </tr>\n",
       "    <tr>\n",
       "      <th>7379</th>\n",
       "      <td>Zwint</td>\n",
       "      <td>[embryonic lethality prior to organogenesis (H...</td>\n",
       "    </tr>\n",
       "    <tr>\n",
       "      <th>7380</th>\n",
       "      <td>Zyg11b</td>\n",
       "      <td>[decreased locomotor activity (Hetero)]</td>\n",
       "    </tr>\n",
       "    <tr>\n",
       "      <th>7381</th>\n",
       "      <td>Zzef1</td>\n",
       "      <td>[abnormal coat/hair pigmentation (Homo), abnor...</td>\n",
       "    </tr>\n",
       "    <tr>\n",
       "      <th>7382</th>\n",
       "      <td>Zzz3</td>\n",
       "      <td>[abnormal cornea morphology (Hetero), corneal ...</td>\n",
       "    </tr>\n",
       "    <tr>\n",
       "      <th>7383</th>\n",
       "      <td>a</td>\n",
       "      <td>[abnormal kidney morphology (Homo), abnormal s...</td>\n",
       "    </tr>\n",
       "  </tbody>\n",
       "</table>\n",
       "<p>7384 rows × 2 columns</p>\n",
       "</div>"
      ],
      "text/plain": [
       "      marker_symbol                                       mp_term_name\n",
       "0     0610010K14Rik  [embryonic lethality prior to organogenesis (H...\n",
       "1     0610040J01Rik  [abnormal heart morphology (Homo), abnormal sp...\n",
       "2     1110059G10Rik                  [vertebral transformation (Homo)]\n",
       "3     1500009L16Rik  [decreased bone mineral density (Homo), increa...\n",
       "4     1600014C10Rik  [abnormal coat/hair pigmentation (Homo), abnor...\n",
       "...             ...                                                ...\n",
       "7379          Zwint  [embryonic lethality prior to organogenesis (H...\n",
       "7380         Zyg11b            [decreased locomotor activity (Hetero)]\n",
       "7381          Zzef1  [abnormal coat/hair pigmentation (Homo), abnor...\n",
       "7382           Zzz3  [abnormal cornea morphology (Hetero), corneal ...\n",
       "7383              a  [abnormal kidney morphology (Homo), abnormal s...\n",
       "\n",
       "[7384 rows x 2 columns]"
      ]
     },
     "execution_count": 46,
     "metadata": {},
     "output_type": "execute_result"
    }
   ],
   "source": [
    "marker_mp = json.load(open(\"data/annotation/symbol_mptermname.json\"))\n",
    "marker_mp = pd.DataFrame(marker_mp.items(), columns=[\"marker_symbol\", \"mp_term_name\"])\n",
    "marker_mp # 7626 rows × 2 columns"
   ]
  },
  {
   "cell_type": "code",
   "execution_count": 47,
   "metadata": {},
   "outputs": [],
   "source": [
    "output_dir = Path(\"data/network/mp_term_name\")\n",
    "# remove network directory\n",
    "if output_dir.exists():\n",
    "    shutil.rmtree(output_dir)\n",
    "\n",
    "output_dir.mkdir(exist_ok=True, parents=True)\n"
   ]
  },
  {
   "cell_type": "code",
   "execution_count": 48,
   "metadata": {},
   "outputs": [],
   "source": [
    "path_mp_terms = list(Path(\"data\", \"mp_term_name\").glob(\"*.csv\"))\n",
    "# print(path_mp_terms[:3])\n",
    "# print(len(path_mp_terms))\n",
    "# path_mp_term = Path(\"data\", \"mp_term_name\", \"decreased_circulating_glucose_level.csv\")\n",
    "\n",
    "\"\"\"\n",
    "ノードが多すぎるとWebページが描画できない問題を回避するため、\n",
    "ノード数を200以下にするために最適なoverlap_ratioを求める\n",
    "\"\"\"\n",
    "number_of_nodes = 200\n",
    "\n",
    "for path_mp_term in path_mp_terms:\n",
    "    mp_term = path_mp_term.stem\n",
    "    # print(mp_term)\n",
    "\n",
    "    df_marker_effect = pd.read_csv(path_mp_term)\n",
    "    df_marker_effect = df_marker_effect[[\"marker_symbol\", \"effect_size\"]].drop_duplicates()\n",
    "    df_marker_effect = df_marker_effect.dropna(subset=[\"effect_size\"])\n",
    "\n",
    "    # Absolute value of effect size\n",
    "    df_marker_effect.loc[:, \"effect_size\"] = df_marker_effect[\"effect_size\"].abs()\n",
    "\n",
    "    df_filtered = df_overlap[\n",
    "        (df_overlap['marker1'].isin(df_marker_effect['marker_symbol'])) &\n",
    "        (df_overlap['marker2'].isin(df_marker_effect['marker_symbol']))\n",
    "    ]\n",
    "    # 二分探索の範囲\n",
    "    low, high = df_filtered[\"overlap_ratio\"].min(), df_filtered[\"overlap_ratio\"].max()\n",
    "    best_overlap_ratio = None\n",
    "\n",
    "    while low <= high:\n",
    "        mid = (low + high) / 2\n",
    "\n",
    "        # overlap_ratio >= mid のデータをフィルタリング\n",
    "        df_mid = df_filtered[df_filtered[\"overlap_ratio\"] >= mid]\n",
    "\n",
    "        ## 出力\n",
    "        ### Nodeを作成する\n",
    "        df_marker1 = df_mid[[\"marker1\"]]\n",
    "        df_marker2 = df_mid[[\"marker2\"]]\n",
    "        df_node_marker1 = pd.merge(df_marker1, df_marker_effect, left_on='marker1', right_on='marker_symbol', how='inner')[[\"marker_symbol\"]]\n",
    "        df_node_marker2 = pd.merge(df_marker2, df_marker_effect, left_on='marker2', right_on='marker_symbol', how='inner')[[\"marker_symbol\"]]\n",
    "        df_node = pd.concat([df_node_marker1, df_node_marker2], axis=0).drop_duplicates()\n",
    "        df_node = pd.merge(df_node, marker_mp, how='inner', on='marker_symbol')\n",
    "        df_node = pd.merge(df_node, df_marker_effect, how='inner', on='marker_symbol')\n",
    "\n",
    "        node_count = len(df_node)\n",
    "        # ターゲット列数に近い場合、結果を保存\n",
    "        if number_of_nodes - 25 < node_count < number_of_nodes + 25:\n",
    "            best_overlap_ratio = mid\n",
    "            break\n",
    "        elif node_count > number_of_nodes:\n",
    "            # 列数が多い場合、範囲を上げる\n",
    "            best_overlap_ratio = mid\n",
    "            low = mid + 1e-6\n",
    "        else:\n",
    "            # 列数が少ない場合、範囲を下げる\n",
    "            best_overlap_ratio = mid\n",
    "            high = mid - 1e-6\n",
    "\n",
    "    df_filtered = df_filtered[df_filtered[\"overlap_ratio\"] >= best_overlap_ratio]\n",
    "\n",
    "    ## 出力\n",
    "    ### Nodeを作成する\n",
    "    df_marker1 = df_filtered[[\"marker1\"]]\n",
    "    df_marker2 = df_filtered[[\"marker2\"]]\n",
    "    df_node_marker1 = pd.merge(df_marker1, df_marker_effect, left_on='marker1', right_on='marker_symbol', how='inner')[[\"marker_symbol\"]]\n",
    "    df_node_marker2 = pd.merge(df_marker2, df_marker_effect, left_on='marker2', right_on='marker_symbol', how='inner')[[\"marker_symbol\"]]\n",
    "\n",
    "    df_node = pd.concat([df_node_marker1, df_node_marker2], axis=0).drop_duplicates()\n",
    "    df_node = pd.merge(df_node, marker_mp, how='inner', on='marker_symbol')\n",
    "    df_node = pd.merge(df_node, df_marker_effect, how='inner', on='marker_symbol')\n",
    "\n",
    "    if len(df_node) == 0:\n",
    "        continue\n",
    "\n",
    "    # print(mp_term, len(df_node))\n",
    "\n",
    "    # NodeをJSON形式に変換\n",
    "    node_json = []\n",
    "    for _, row in df_node.iterrows():\n",
    "        node_json.append({\n",
    "            \"data\": {\n",
    "                \"id\": row['marker_symbol'],\n",
    "                \"label\": row['marker_symbol'],\n",
    "                \"annotation\": row['mp_term_name'],\n",
    "                \"node_color\": row['effect_size']\n",
    "            }\n",
    "        })\n",
    "    ### Edgeを作成する\n",
    "    df_edge = df_filtered[[\"marker1\", \"marker2\", \"overlap_ratio\", \"overlapped_mp\"]]\n",
    "    # EdgeをJSON形式に変換\n",
    "    edge_json = []\n",
    "    for _, row in df_edge.iterrows():\n",
    "        edge_json.append({\n",
    "            \"data\": {\n",
    "                \"source\": row['marker1'],\n",
    "                \"target\": row['marker2'],\n",
    "                \"annotation\": row['overlapped_mp'],\n",
    "                \"edge_size\": row['overlap_ratio']\n",
    "            }\n",
    "        })\n",
    "\n",
    "    ### EdgeとNodeを統合して、出力\n",
    "    # Combine node and edge\n",
    "\n",
    "    network_json = node_json + edge_json\n",
    "\n",
    "    # Output as JSON\n",
    "    if network_json:\n",
    "        output_json = output_dir / f\"{mp_term}.json.gz\"\n",
    "        with gzip.open(output_json, \"wt\", encoding=\"utf-8\") as f:\n",
    "            json.dump(network_json, f, indent=4)\n",
    "\n",
    "# 1m30s"
   ]
  },
  {
   "cell_type": "code",
   "execution_count": 49,
   "metadata": {},
   "outputs": [
    {
     "name": "stdout",
     "output_type": "stream",
     "text": [
      "total 3.7M\n",
      "-rwxrwxrwx 1 kuno kuno  53K Apr  9 06:36 embryonic_growth_retardation.json.gz\n",
      "-rwxrwxrwx 1 kuno kuno  38K Apr  9 06:35 abnormal_bone_structure.json.gz\n",
      "-rwxrwxrwx 1 kuno kuno  35K Apr  9 06:36 edema.json.gz\n",
      "-rwxrwxrwx 1 kuno kuno  35K Apr  9 06:35 decreased_body_length.json.gz\n"
     ]
    }
   ],
   "source": [
    "%%bash\n",
    "\n",
    "ls -lhS data/network/mp_term_name/ | head -n 5\n",
    "\n",
    "# total 5.3M\n",
    "# -rwxrwxrwx 1 aki aki  73K Feb 22 12:02 edema.json.gz\n",
    "# -rwxrwxrwx 1 aki aki  63K Feb 22 12:02 enlarged_kidney.json.gz\n",
    "# -rwxrwxrwx 1 aki aki  63K Feb 22 12:02 abnormal_lymph_node_morphology.json.gz\n",
    "# -rwxrwxrwx 1 aki aki  58K Feb 22 12:02 small_kidney.json.gz"
   ]
  },
  {
   "cell_type": "code",
   "execution_count": null,
   "metadata": {},
   "outputs": [],
   "source": []
  },
  {
   "cell_type": "markdown",
   "metadata": {},
   "source": [
    "## 遺伝子ごとのネットワークを出力"
   ]
  },
  {
   "cell_type": "code",
   "execution_count": 50,
   "metadata": {},
   "outputs": [],
   "source": [
    "marker_mp_dict = dict(zip(marker_mp.marker_symbol, marker_mp.mp_term_name))"
   ]
  },
  {
   "cell_type": "code",
   "execution_count": 51,
   "metadata": {},
   "outputs": [
    {
     "name": "stdout",
     "output_type": "stream",
     "text": [
      "['0610010K14Rik', '0610040J01Rik', '1500009L16Rik']\n",
      "3242\n"
     ]
    }
   ],
   "source": [
    "gene_symbols = df_overlap.marker1.unique().tolist()\n",
    "gene_symbols += df_overlap.marker2.unique().tolist()\n",
    "gene_symbols = list(set(gene_symbols))\n",
    "gene_symbols.sort()  # 以下のfor文で、どこまで遺伝子が処理されたのか途中経過を見積もるためのソート\n",
    "P(gene_symbols[:3])\n",
    "P(len(gene_symbols))  # 6003"
   ]
  },
  {
   "cell_type": "code",
   "execution_count": 52,
   "metadata": {},
   "outputs": [],
   "source": [
    "output_dir = Path(\"data\", \"network\", \"gene_symbol\")\n",
    "# remove network directory\n",
    "if output_dir.exists():\n",
    "    shutil.rmtree(output_dir)\n",
    "\n",
    "output_dir.mkdir(exist_ok=True, parents=True)\n"
   ]
  },
  {
   "cell_type": "code",
   "execution_count": 53,
   "metadata": {},
   "outputs": [],
   "source": [
    "for gene_symbol in gene_symbols:\n",
    "    \"\"\"\n",
    "    ノードが多すぎるとWebページが描画できない問題を回避するため、\n",
    "    ノード数を200以下にするために最適なoverlap_ratioを求める\n",
    "    \"\"\"\n",
    "    # 今の処理\n",
    "    df_filtered = df_overlap[(df_overlap[\"marker1\"] == gene_symbol) | (df_overlap[\"marker2\"] == gene_symbol)]\n",
    "\n",
    "    G = nx.from_pandas_edgelist(df_filtered, \"marker1\", \"marker2\")\n",
    "\n",
    "    # ノードAと直接つながっているノードのみを取得\n",
    "    neighbors = list(G.neighbors(gene_symbol))\n",
    "    subgraph_nodes = [gene_symbol] + neighbors\n",
    "    subgraph = G.subgraph(subgraph_nodes)\n",
    "\n",
    "    target_number_of_nodes = 200\n",
    "    if len(subgraph.nodes) > target_number_of_nodes:\n",
    "        # 二分探索の範囲\n",
    "        low, high = df_filtered[\"overlap_ratio\"].min(), df_filtered[\"overlap_ratio\"].max()\n",
    "        best_overlap_ratio = None\n",
    "\n",
    "        while low <= high:\n",
    "            mid = (low + high) / 2\n",
    "\n",
    "            # overlap_ratio >= mid のデータをフィルタリング\n",
    "            df_mid = df_filtered[df_filtered[\"overlap_ratio\"] >= mid]\n",
    "\n",
    "            G = nx.from_pandas_edgelist(df_mid, \"marker1\", \"marker2\")\n",
    "            # ノードAと直接つながっているノードのみを取得\n",
    "            try:\n",
    "                neighbors = list(G.neighbors(gene_symbol))\n",
    "            except:\n",
    "                high = mid - 1e-6\n",
    "                continue\n",
    "            subgraph_nodes = [gene_symbol] + neighbors\n",
    "            subgraph = G.subgraph(subgraph_nodes)\n",
    "\n",
    "            row_count = len(subgraph.nodes)\n",
    "            # ターゲット列数に近い場合、結果を保存\n",
    "            if target_number_of_nodes - 25 < row_count < target_number_of_nodes + 25:\n",
    "                best_overlap_ratio = mid\n",
    "                break\n",
    "            elif row_count > target_number_of_nodes:\n",
    "                # 列数が多い場合、範囲を上げる\n",
    "                best_overlap_ratio = mid\n",
    "                low = mid + 1e-6\n",
    "            else:\n",
    "                # 列数が少ない場合、範囲を下げる\n",
    "                best_overlap_ratio = mid\n",
    "                high = mid - 1e-6\n",
    "\n",
    "        df_nodes = df_filtered[df_filtered[\"overlap_ratio\"] >= best_overlap_ratio]\n",
    "        G = nx.from_pandas_edgelist(df_nodes, \"marker1\", \"marker2\")\n",
    "        # ノードAと直接つながっているノードのみを取得\n",
    "        neighbors = list(G.neighbors(gene_symbol))\n",
    "        subgraph_nodes = [gene_symbol] + neighbors\n",
    "        subgraph = G.subgraph(subgraph_nodes)\n",
    "\n",
    "    # nodesを用意\n",
    "    node_json = []\n",
    "    for node in subgraph.nodes():\n",
    "        annotation = marker_mp_dict[node]\n",
    "        node_color = 1 if node == gene_symbol else 0\n",
    "        node_json.append({\"data\": {\"id\": node, \"label\": node, \"node_color\": node_color, \"annotation\": annotation}})\n",
    "\n",
    "    # edgesを用意\n",
    "    df_edge = df_overlap[\n",
    "        (df_overlap[\"marker1\"].isin(subgraph.nodes())) & (df_overlap[\"marker2\"].isin(subgraph.nodes()))\n",
    "    ]\n",
    "\n",
    "    edge_json = []\n",
    "    for edge in df_edge.itertuples():\n",
    "        edge_json.append(\n",
    "            {\n",
    "                \"data\": {\n",
    "                    \"source\": edge.marker1,\n",
    "                    \"target\": edge.marker2,\n",
    "                    \"edge_size\": edge.overlap_ratio,\n",
    "                    \"annotation\": edge.overlapped_mp,\n",
    "                }\n",
    "            }\n",
    "        )\n",
    "    network_json = node_json + edge_json\n",
    "\n",
    "    # Output as JSON\n",
    "    if network_json:\n",
    "        output_json = output_dir / f\"{gene_symbol}.json.gz\"\n",
    "        with gzip.open(output_json, \"wt\", encoding=\"utf-8\") as f:\n",
    "            json.dump(network_json, f, indent=4)\n",
    "\n",
    "# 4m"
   ]
  },
  {
   "cell_type": "code",
   "execution_count": 54,
   "metadata": {},
   "outputs": [
    {
     "name": "stdout",
     "output_type": "stream",
     "text": [
      "total 34M\n",
      "-rwxrwxrwx 1 kuno kuno 104K Apr  9 06:47 Uggt1.json.gz\n",
      "-rwxrwxrwx 1 kuno kuno  95K Apr  9 06:47 Traf3ip1.json.gz\n",
      "-rwxrwxrwx 1 kuno kuno  95K Apr  9 06:39 Sptan1.json.gz\n",
      "-rwxrwxrwx 1 kuno kuno  92K Apr  9 06:39 Pigq.json.gz\n"
     ]
    }
   ],
   "source": [
    "%%bash\n",
    "ls -lhS data/network/gene_symbol/ | head -n 5 # total 4.6G -> 133M → 975M"
   ]
  },
  {
   "cell_type": "code",
   "execution_count": 55,
   "metadata": {},
   "outputs": [
    {
     "name": "stdout",
     "output_type": "stream",
     "text": [
      "3242\n"
     ]
    }
   ],
   "source": [
    "Path(\"data/overlap/available_gene_symbols.txt\").write_text(\"\\n\".join(gene_symbols) + \"\\n\")\n",
    "print(len(gene_symbols))  # 4416 -> 4244 → 6003 → 4139"
   ]
  },
  {
   "cell_type": "code",
   "execution_count": 56,
   "metadata": {},
   "outputs": [
    {
     "name": "stdout",
     "output_type": "stream",
     "text": [
      "Linux think-x12-2024 5.15.167.4-microsoft-standard-WSL2 #1 SMP Tue Nov 5 00:21:55 UTC 2024 x86_64 x86_64 x86_64 GNU/Linux\n",
      "2025/04/09 06:47:54\n"
     ]
    }
   ],
   "source": [
    "%%bash\n",
    "\n",
    "uname -a # OS name\n",
    "date +\"%Y/%m/%d %H:%M:%S\" # Last update"
   ]
  },
  {
   "cell_type": "code",
   "execution_count": null,
   "metadata": {},
   "outputs": [],
   "source": []
  }
 ],
 "metadata": {
  "kernelspec": {
   "display_name": "env-tsumugi",
   "language": "python",
   "name": "python3"
  },
  "language_info": {
   "codemirror_mode": {
    "name": "ipython",
    "version": 3
   },
   "file_extension": ".py",
   "mimetype": "text/x-python",
   "name": "python",
   "nbconvert_exporter": "python",
   "pygments_lexer": "ipython3",
   "version": "3.12.9"
  }
 },
 "nbformat": 4,
 "nbformat_minor": 2
}

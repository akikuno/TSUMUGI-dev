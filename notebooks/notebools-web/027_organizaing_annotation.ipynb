{
 "cells": [
  {
   "cell_type": "markdown",
   "metadata": {},
   "source": [
    "# TSUMUGIに必要なアノテーション情報を整理する"
   ]
  },
  {
   "cell_type": "code",
   "execution_count": 1,
   "metadata": {},
   "outputs": [
    {
     "name": "stdout",
     "output_type": "stream",
     "text": [
      "/mnt/e/Research/TSUMUGI-dev/notebooks/notebools-web\n",
      "/mnt/e/Research/TSUMUGI-dev\n"
     ]
    }
   ],
   "source": [
    "# Move up to top directory\n",
    "import os\n",
    "from pathlib import Path\n",
    "\n",
    "print(os.getcwd())\n",
    "\n",
    "while not Path(\"LICENSE\").exists():\n",
    "    os.chdir('../')\n",
    "\n",
    "print(os.getcwd())"
   ]
  },
  {
   "cell_type": "code",
   "execution_count": 2,
   "metadata": {},
   "outputs": [],
   "source": [
    "from pathlib import Path\n",
    "from collections import defaultdict\n",
    "from itertools import combinations\n",
    "import csv\n",
    "import pandas as pd\n",
    "from matplotlib import pyplot as plt\n",
    "import pickle\n",
    "import json"
   ]
  },
  {
   "cell_type": "code",
   "execution_count": 3,
   "metadata": {},
   "outputs": [],
   "source": [
    "path_data = Path(\"data\", \"statistical_filtered.csv\")"
   ]
  },
  {
   "cell_type": "code",
   "execution_count": 4,
   "metadata": {},
   "outputs": [
    {
     "name": "stdout",
     "output_type": "stream",
     "text": [
      "54059\n"
     ]
    },
    {
     "name": "stderr",
     "output_type": "stream",
     "text": [
      "/tmp/ipykernel_123333/1284382592.py:1: DtypeWarning: Columns (25,60) have mixed types. Specify dtype option on import or set low_memory=False.\n",
      "  data = pd.read_csv(path_data)\n"
     ]
    }
   ],
   "source": [
    "data = pd.read_csv(path_data)\n",
    "print(len(data))\n",
    "# Release 22.0: 54059"
   ]
  },
  {
   "cell_type": "markdown",
   "metadata": {},
   "source": [
    "## 性特異的表現型をアノテーションする"
   ]
  },
  {
   "cell_type": "code",
   "execution_count": 5,
   "metadata": {},
   "outputs": [
    {
     "name": "stdout",
     "output_type": "stream",
     "text": [
      "sexdual_dimorphism\n",
      "male      4915\n",
      "female    4146\n",
      "Name: count, dtype: int64\n"
     ]
    }
   ],
   "source": [
    "import numpy as np\n",
    "\n",
    "threshold = 0.0001\n",
    "\n",
    "# 条件リスト\n",
    "conditions = [\n",
    "    (data[\"sex_effect_p_value\"] < threshold) & (data[\"female_ko_effect_p_value\"] < threshold) & (data[\"male_ko_effect_p_value\"] > threshold),\n",
    "    (data[\"sex_effect_p_value\"] < threshold) & (data[\"male_ko_effect_p_value\"] < threshold) & (data[\"female_ko_effect_p_value\"] > threshold)\n",
    "]\n",
    "\n",
    "# 条件に対応する値\n",
    "choices = [\"female\", \"male\"]\n",
    "\n",
    "# np.selectで列を設定\n",
    "data[\"sexdual_dimorphism\"] = np.select(conditions, choices, default=None)\n",
    "\n",
    "# 結果を確認\n",
    "print(data[\"sexdual_dimorphism\"].value_counts())\n"
   ]
  },
  {
   "cell_type": "code",
   "execution_count": 6,
   "metadata": {},
   "outputs": [
    {
     "data": {
      "text/html": [
       "<div>\n",
       "<style scoped>\n",
       "    .dataframe tbody tr th:only-of-type {\n",
       "        vertical-align: middle;\n",
       "    }\n",
       "\n",
       "    .dataframe tbody tr th {\n",
       "        vertical-align: top;\n",
       "    }\n",
       "\n",
       "    .dataframe thead th {\n",
       "        text-align: right;\n",
       "    }\n",
       "</style>\n",
       "<table border=\"1\" class=\"dataframe\">\n",
       "  <thead>\n",
       "    <tr style=\"text-align: right;\">\n",
       "      <th></th>\n",
       "      <th>p_value</th>\n",
       "      <th>sexdual_dimorphism</th>\n",
       "      <th>effect_size</th>\n",
       "      <th>genotype_effect_parameter_estimate</th>\n",
       "      <th>female_ko_parameter_estimate</th>\n",
       "      <th>male_ko_parameter_estimate</th>\n",
       "    </tr>\n",
       "  </thead>\n",
       "  <tbody>\n",
       "    <tr>\n",
       "      <th>7</th>\n",
       "      <td>2.473221e-01</td>\n",
       "      <td>male</td>\n",
       "      <td>-0.775659</td>\n",
       "      <td>-9.880265</td>\n",
       "      <td>-9.880265</td>\n",
       "      <td>-52.709552</td>\n",
       "    </tr>\n",
       "    <tr>\n",
       "      <th>9</th>\n",
       "      <td>9.323751e-02</td>\n",
       "      <td>male</td>\n",
       "      <td>0.637815</td>\n",
       "      <td>-407.079557</td>\n",
       "      <td>-434.647221</td>\n",
       "      <td>1362.539526</td>\n",
       "    </tr>\n",
       "    <tr>\n",
       "      <th>20</th>\n",
       "      <td>5.407602e-05</td>\n",
       "      <td>female</td>\n",
       "      <td>0.246786</td>\n",
       "      <td>12.886045</td>\n",
       "      <td>12.886045</td>\n",
       "      <td>2.852505</td>\n",
       "    </tr>\n",
       "    <tr>\n",
       "      <th>24</th>\n",
       "      <td>3.072703e-06</td>\n",
       "      <td>female</td>\n",
       "      <td>-1.242673</td>\n",
       "      <td>-74.143434</td>\n",
       "      <td>-91.529079</td>\n",
       "      <td>-61.885708</td>\n",
       "    </tr>\n",
       "    <tr>\n",
       "      <th>27</th>\n",
       "      <td>2.315925e-13</td>\n",
       "      <td>female</td>\n",
       "      <td>2.053221</td>\n",
       "      <td>1.424075</td>\n",
       "      <td>1.421448</td>\n",
       "      <td>0.715908</td>\n",
       "    </tr>\n",
       "    <tr>\n",
       "      <th>28</th>\n",
       "      <td>2.623063e-01</td>\n",
       "      <td>male</td>\n",
       "      <td>1.258237</td>\n",
       "      <td>0.286702</td>\n",
       "      <td>0.286702</td>\n",
       "      <td>1.119338</td>\n",
       "    </tr>\n",
       "    <tr>\n",
       "      <th>38</th>\n",
       "      <td>3.010097e-01</td>\n",
       "      <td>male</td>\n",
       "      <td>0.942703</td>\n",
       "      <td>0.364327</td>\n",
       "      <td>0.364327</td>\n",
       "      <td>1.333887</td>\n",
       "    </tr>\n",
       "    <tr>\n",
       "      <th>50</th>\n",
       "      <td>7.644770e-01</td>\n",
       "      <td>male</td>\n",
       "      <td>1.428011</td>\n",
       "      <td>0.047221</td>\n",
       "      <td>0.047221</td>\n",
       "      <td>0.976487</td>\n",
       "    </tr>\n",
       "    <tr>\n",
       "      <th>51</th>\n",
       "      <td>3.243832e-02</td>\n",
       "      <td>male</td>\n",
       "      <td>1.024187</td>\n",
       "      <td>450.500694</td>\n",
       "      <td>450.500694</td>\n",
       "      <td>1026.044584</td>\n",
       "    </tr>\n",
       "    <tr>\n",
       "      <th>54</th>\n",
       "      <td>4.852500e-06</td>\n",
       "      <td>male</td>\n",
       "      <td>0.063404</td>\n",
       "      <td>1.479369</td>\n",
       "      <td>1.109724</td>\n",
       "      <td>1.709209</td>\n",
       "    </tr>\n",
       "  </tbody>\n",
       "</table>\n",
       "</div>"
      ],
      "text/plain": [
       "         p_value sexdual_dimorphism  effect_size  \\\n",
       "7   2.473221e-01               male    -0.775659   \n",
       "9   9.323751e-02               male     0.637815   \n",
       "20  5.407602e-05             female     0.246786   \n",
       "24  3.072703e-06             female    -1.242673   \n",
       "27  2.315925e-13             female     2.053221   \n",
       "28  2.623063e-01               male     1.258237   \n",
       "38  3.010097e-01               male     0.942703   \n",
       "50  7.644770e-01               male     1.428011   \n",
       "51  3.243832e-02               male     1.024187   \n",
       "54  4.852500e-06               male     0.063404   \n",
       "\n",
       "    genotype_effect_parameter_estimate  female_ko_parameter_estimate  \\\n",
       "7                            -9.880265                     -9.880265   \n",
       "9                          -407.079557                   -434.647221   \n",
       "20                           12.886045                     12.886045   \n",
       "24                          -74.143434                    -91.529079   \n",
       "27                            1.424075                      1.421448   \n",
       "28                            0.286702                      0.286702   \n",
       "38                            0.364327                      0.364327   \n",
       "50                            0.047221                      0.047221   \n",
       "51                          450.500694                    450.500694   \n",
       "54                            1.479369                      1.109724   \n",
       "\n",
       "    male_ko_parameter_estimate  \n",
       "7                   -52.709552  \n",
       "9                  1362.539526  \n",
       "20                    2.852505  \n",
       "24                  -61.885708  \n",
       "27                    0.715908  \n",
       "28                    1.119338  \n",
       "38                    1.333887  \n",
       "50                    0.976487  \n",
       "51                 1026.044584  \n",
       "54                    1.709209  "
      ]
     },
     "execution_count": 6,
     "metadata": {},
     "output_type": "execute_result"
    }
   ],
   "source": [
    "filtered_data = data[data[\"sexdual_dimorphism\"].notna()]\n",
    "filtered_data[[\"p_value\", \"sexdual_dimorphism\", \"effect_size\", \"genotype_effect_parameter_estimate\", \"female_ko_parameter_estimate\", \"male_ko_parameter_estimate\"]].head(10)"
   ]
  },
  {
   "cell_type": "markdown",
   "metadata": {},
   "source": [
    "## 遺伝型をアノテーションする"
   ]
  },
  {
   "cell_type": "code",
   "execution_count": 7,
   "metadata": {},
   "outputs": [
    {
     "data": {
      "text/html": [
       "<div>\n",
       "<style scoped>\n",
       "    .dataframe tbody tr th:only-of-type {\n",
       "        vertical-align: middle;\n",
       "    }\n",
       "\n",
       "    .dataframe tbody tr th {\n",
       "        vertical-align: top;\n",
       "    }\n",
       "\n",
       "    .dataframe thead th {\n",
       "        text-align: right;\n",
       "    }\n",
       "</style>\n",
       "<table border=\"1\" class=\"dataframe\">\n",
       "  <thead>\n",
       "    <tr style=\"text-align: right;\">\n",
       "      <th></th>\n",
       "      <th>marker_symbol</th>\n",
       "      <th>mp_term_name</th>\n",
       "      <th>zygosity</th>\n",
       "      <th>sexdual_dimorphism</th>\n",
       "    </tr>\n",
       "  </thead>\n",
       "  <tbody>\n",
       "    <tr>\n",
       "      <th>0</th>\n",
       "      <td>Uap1</td>\n",
       "      <td>abnormal lens morphology</td>\n",
       "      <td>heterozygote</td>\n",
       "      <td>None</td>\n",
       "    </tr>\n",
       "    <tr>\n",
       "      <th>1</th>\n",
       "      <td>6430548M08Rik</td>\n",
       "      <td>enlarged kidney</td>\n",
       "      <td>homozygote</td>\n",
       "      <td>None</td>\n",
       "    </tr>\n",
       "    <tr>\n",
       "      <th>2</th>\n",
       "      <td>Stac</td>\n",
       "      <td>abnormal locomotor behavior</td>\n",
       "      <td>homozygote</td>\n",
       "      <td>None</td>\n",
       "    </tr>\n",
       "    <tr>\n",
       "      <th>3</th>\n",
       "      <td>Slc24a4</td>\n",
       "      <td>enlarged thymus</td>\n",
       "      <td>heterozygote</td>\n",
       "      <td>None</td>\n",
       "    </tr>\n",
       "    <tr>\n",
       "      <th>4</th>\n",
       "      <td>Uhrf2</td>\n",
       "      <td>female infertility</td>\n",
       "      <td>homozygote</td>\n",
       "      <td>None</td>\n",
       "    </tr>\n",
       "    <tr>\n",
       "      <th>...</th>\n",
       "      <td>...</td>\n",
       "      <td>...</td>\n",
       "      <td>...</td>\n",
       "      <td>...</td>\n",
       "    </tr>\n",
       "    <tr>\n",
       "      <th>54048</th>\n",
       "      <td>Lrrk1</td>\n",
       "      <td>abnormal joint morphology</td>\n",
       "      <td>homozygote</td>\n",
       "      <td>None</td>\n",
       "    </tr>\n",
       "    <tr>\n",
       "      <th>54051</th>\n",
       "      <td>Rtl5</td>\n",
       "      <td>abnormal kidney morphology</td>\n",
       "      <td>hemizygote</td>\n",
       "      <td>None</td>\n",
       "    </tr>\n",
       "    <tr>\n",
       "      <th>54052</th>\n",
       "      <td>Adcy3</td>\n",
       "      <td>increased total body fat amount</td>\n",
       "      <td>heterozygote</td>\n",
       "      <td>female</td>\n",
       "    </tr>\n",
       "    <tr>\n",
       "      <th>54055</th>\n",
       "      <td>Alg3</td>\n",
       "      <td>preweaning lethality, complete penetrance</td>\n",
       "      <td>homozygote</td>\n",
       "      <td>None</td>\n",
       "    </tr>\n",
       "    <tr>\n",
       "      <th>54057</th>\n",
       "      <td>Thoc3</td>\n",
       "      <td>embryonic lethality prior to organogenesis</td>\n",
       "      <td>homozygote</td>\n",
       "      <td>None</td>\n",
       "    </tr>\n",
       "  </tbody>\n",
       "</table>\n",
       "<p>41450 rows × 4 columns</p>\n",
       "</div>"
      ],
      "text/plain": [
       "       marker_symbol                                mp_term_name  \\\n",
       "0               Uap1                    abnormal lens morphology   \n",
       "1      6430548M08Rik                             enlarged kidney   \n",
       "2               Stac                 abnormal locomotor behavior   \n",
       "3            Slc24a4                             enlarged thymus   \n",
       "4              Uhrf2                          female infertility   \n",
       "...              ...                                         ...   \n",
       "54048          Lrrk1                   abnormal joint morphology   \n",
       "54051           Rtl5                  abnormal kidney morphology   \n",
       "54052          Adcy3             increased total body fat amount   \n",
       "54055           Alg3   preweaning lethality, complete penetrance   \n",
       "54057          Thoc3  embryonic lethality prior to organogenesis   \n",
       "\n",
       "           zygosity sexdual_dimorphism  \n",
       "0      heterozygote               None  \n",
       "1        homozygote               None  \n",
       "2        homozygote               None  \n",
       "3      heterozygote               None  \n",
       "4        homozygote               None  \n",
       "...             ...                ...  \n",
       "54048    homozygote               None  \n",
       "54051    hemizygote               None  \n",
       "54052  heterozygote             female  \n",
       "54055    homozygote               None  \n",
       "54057    homozygote               None  \n",
       "\n",
       "[41450 rows x 4 columns]"
      ]
     },
     "execution_count": 7,
     "metadata": {},
     "output_type": "execute_result"
    }
   ],
   "source": [
    "data_select = data[['marker_symbol', 'mp_term_name', 'zygosity', \"sexdual_dimorphism\"]].drop_duplicates()\n",
    "# data_select = data[['marker_symbol', 'marker_accession_id', 'mp_term_name', 'mp_term_id']].drop_duplicates()\n",
    "data_select"
   ]
  },
  {
   "cell_type": "code",
   "execution_count": 8,
   "metadata": {},
   "outputs": [
    {
     "data": {
      "text/plain": [
       "zygosity\n",
       "homozygote      31206\n",
       "heterozygote     9725\n",
       "hemizygote        519\n",
       "Name: count, dtype: int64"
      ]
     },
     "execution_count": 8,
     "metadata": {},
     "output_type": "execute_result"
    }
   ],
   "source": [
    "data_select[\"zygosity\"].value_counts()"
   ]
  },
  {
   "cell_type": "code",
   "execution_count": 9,
   "metadata": {},
   "outputs": [
    {
     "name": "stdout",
     "output_type": "stream",
     "text": [
      "['abnormal skin condition (Homo)', 'decreased circulating HDL cholesterol level (Homo, Male)', 'decreased circulating alkaline phosphatase level (Homo, Female)', 'decreased circulating cholesterol level (Homo, Male)', 'decreased circulating free fatty acids level (Homo)', 'decreased hemoglobin content (Homo, Male)', 'decreased mean corpuscular hemoglobin (Homo)', 'decreased mean corpuscular hemoglobin concentration (Homo)', 'decreased mean corpuscular volume (Homo)', 'increased exploration in new environment (Homo)']\n"
     ]
    }
   ],
   "source": [
    "data_dict = defaultdict(list)\n",
    "for index, row in data_select.iterrows():\n",
    "    if row['zygosity'] == 'homozygote':\n",
    "        annotate = \"Homo\"\n",
    "    elif row['zygosity'] == 'heterozygote':\n",
    "        annotate = \"Hetero\"\n",
    "    else:\n",
    "        annotate = \"Hemi\"\n",
    "\n",
    "    if row['sexdual_dimorphism'] == \"female\":\n",
    "        annotate = \", \".join([annotate, 'Female'])\n",
    "    if row['sexdual_dimorphism'] == \"male\":\n",
    "        annotate = \", \".join([annotate, 'Male'])\n",
    "\n",
    "    data_dict[row['marker_symbol']].append(f\"{row['mp_term_name']} ({annotate})\")\n",
    "\n",
    "for key in data_dict.keys():\n",
    "    data_dict[key].sort()\n",
    "\n",
    "print(data_dict[\"Rhd\"])"
   ]
  },
  {
   "cell_type": "code",
   "execution_count": 10,
   "metadata": {},
   "outputs": [],
   "source": [
    "Path(\"data/annotation\").mkdir(exist_ok=True, parents=True)\n",
    "file_path = \"data/annotation/symbol_mptermname.json\"\n",
    "json.dump(data_dict, open(file_path, \"w\"), indent=4, sort_keys=True)\n"
   ]
  },
  {
   "cell_type": "code",
   "execution_count": 11,
   "metadata": {},
   "outputs": [
    {
     "name": "stdout",
     "output_type": "stream",
     "text": [
      "Male: 4374\n",
      "Feale: 3392\n",
      "Homo: 31206\n",
      "Hetero: 9725\n",
      "Hemi: 519\n"
     ]
    }
   ],
   "source": [
    "%%bash\n",
    "\n",
    "grep -c \"Male\" data/annotation/symbol_mptermname.json | sed \"s|^|Male: |\"\n",
    "grep -c \"Female\" data/annotation/symbol_mptermname.json | sed \"s|^|Feale: |\"\n",
    "grep -c \"Homo\" data/annotation/symbol_mptermname.json | sed \"s|^|Homo: |\"\n",
    "grep -c \"Hetero\" data/annotation/symbol_mptermname.json | sed \"s|^|Hetero: |\"\n",
    "grep -c \"Hemi\" data/annotation/symbol_mptermname.json | sed \"s|^|Hemi: |\"\n",
    "\n",
    "# Male: 4374\n",
    "# Feale: 3392\n",
    "# Homo: 31206\n",
    "# Hetero: 9725\n",
    "# Hemi: 519\n"
   ]
  },
  {
   "cell_type": "markdown",
   "metadata": {},
   "source": [
    "## Connect mp_term_name to IMPC Phenotype URL"
   ]
  },
  {
   "cell_type": "code",
   "execution_count": 12,
   "metadata": {},
   "outputs": [
    {
     "data": {
      "text/html": [
       "<div>\n",
       "<style scoped>\n",
       "    .dataframe tbody tr th:only-of-type {\n",
       "        vertical-align: middle;\n",
       "    }\n",
       "\n",
       "    .dataframe tbody tr th {\n",
       "        vertical-align: top;\n",
       "    }\n",
       "\n",
       "    .dataframe thead th {\n",
       "        text-align: right;\n",
       "    }\n",
       "</style>\n",
       "<table border=\"1\" class=\"dataframe\">\n",
       "  <thead>\n",
       "    <tr style=\"text-align: right;\">\n",
       "      <th></th>\n",
       "      <th>mp_term_id</th>\n",
       "      <th>mp_term_name</th>\n",
       "    </tr>\n",
       "  </thead>\n",
       "  <tbody>\n",
       "    <tr>\n",
       "      <th>0</th>\n",
       "      <td>MP:0001303</td>\n",
       "      <td>abnormal lens morphology</td>\n",
       "    </tr>\n",
       "    <tr>\n",
       "      <th>1</th>\n",
       "      <td>MP:0003068</td>\n",
       "      <td>enlarged kidney</td>\n",
       "    </tr>\n",
       "    <tr>\n",
       "      <th>2</th>\n",
       "      <td>MP:0001392</td>\n",
       "      <td>abnormal locomotor behavior</td>\n",
       "    </tr>\n",
       "    <tr>\n",
       "      <th>3</th>\n",
       "      <td>MP:0000709</td>\n",
       "      <td>enlarged thymus</td>\n",
       "    </tr>\n",
       "    <tr>\n",
       "      <th>4</th>\n",
       "      <td>MP:0001926</td>\n",
       "      <td>female infertility</td>\n",
       "    </tr>\n",
       "    <tr>\n",
       "      <th>...</th>\n",
       "      <td>...</td>\n",
       "      <td>...</td>\n",
       "    </tr>\n",
       "    <tr>\n",
       "      <th>46204</th>\n",
       "      <td>MP:0004818</td>\n",
       "      <td>increased skeletal muscle mass</td>\n",
       "    </tr>\n",
       "    <tr>\n",
       "      <th>47247</th>\n",
       "      <td>MP:0005407</td>\n",
       "      <td>hyperalgesia</td>\n",
       "    </tr>\n",
       "    <tr>\n",
       "      <th>48663</th>\n",
       "      <td>MP:0003956</td>\n",
       "      <td>abnormal body size</td>\n",
       "    </tr>\n",
       "    <tr>\n",
       "      <th>51033</th>\n",
       "      <td>MP:0009477</td>\n",
       "      <td>small cecum</td>\n",
       "    </tr>\n",
       "    <tr>\n",
       "      <th>53143</th>\n",
       "      <td>MP:0012124</td>\n",
       "      <td>increased bronchoconstrictive response</td>\n",
       "    </tr>\n",
       "  </tbody>\n",
       "</table>\n",
       "<p>664 rows × 2 columns</p>\n",
       "</div>"
      ],
      "text/plain": [
       "       mp_term_id                            mp_term_name\n",
       "0      MP:0001303                abnormal lens morphology\n",
       "1      MP:0003068                         enlarged kidney\n",
       "2      MP:0001392             abnormal locomotor behavior\n",
       "3      MP:0000709                         enlarged thymus\n",
       "4      MP:0001926                      female infertility\n",
       "...           ...                                     ...\n",
       "46204  MP:0004818          increased skeletal muscle mass\n",
       "47247  MP:0005407                            hyperalgesia\n",
       "48663  MP:0003956                      abnormal body size\n",
       "51033  MP:0009477                             small cecum\n",
       "53143  MP:0012124  increased bronchoconstrictive response\n",
       "\n",
       "[664 rows x 2 columns]"
      ]
     },
     "execution_count": 12,
     "metadata": {},
     "output_type": "execute_result"
    }
   ],
   "source": [
    "data_select = data[['mp_term_id', 'mp_term_name']].drop_duplicates()\n",
    "# data_select = data[['marker_symbol', 'marker_accession_id', 'mp_term_name', 'mp_term_id']].drop_duplicates()\n",
    "data_select"
   ]
  },
  {
   "cell_type": "code",
   "execution_count": 13,
   "metadata": {},
   "outputs": [
    {
     "name": "stdout",
     "output_type": "stream",
     "text": [
      "https://www.mousephenotype.org/data/phenotypes/MP:0002217\n"
     ]
    }
   ],
   "source": [
    "data_dict_url = dict()\n",
    "for index, row in data_select.iterrows():\n",
    "    mp_tern_id = row['mp_term_id']\n",
    "    impc_url = f\"https://www.mousephenotype.org/data/phenotypes/{mp_tern_id}\"\n",
    "    mp_term_name = row['mp_term_name']\n",
    "    data_dict_url[mp_term_name] = impc_url\n",
    "\n",
    "print(data_dict_url[\"small lymph nodes\"])"
   ]
  },
  {
   "cell_type": "code",
   "execution_count": 14,
   "metadata": {},
   "outputs": [],
   "source": [
    "with open('data/annotation/mptermname_phenotypeurl.tsv', 'w') as f:\n",
    "    for term, url in data_dict_url.items():\n",
    "        f.write(f\"{term}\\t{url}\\n\")"
   ]
  },
  {
   "cell_type": "code",
   "execution_count": 15,
   "metadata": {},
   "outputs": [
    {
     "name": "stdout",
     "output_type": "stream",
     "text": [
      "abnormal lens morphology\thttps://www.mousephenotype.org/data/phenotypes/MP:0001303\n",
      "enlarged kidney\thttps://www.mousephenotype.org/data/phenotypes/MP:0003068\n",
      "abnormal locomotor behavior\thttps://www.mousephenotype.org/data/phenotypes/MP:0001392\n",
      "664 data/annotation/mptermname_phenotypeurl.tsv\n"
     ]
    }
   ],
   "source": [
    "%%bash\n",
    "\n",
    "head -n 3 data/annotation/mptermname_phenotypeurl.tsv\n",
    "wc -l data/annotation/mptermname_phenotypeurl.tsv # Release 22.0: 664 "
   ]
  },
  {
   "cell_type": "markdown",
   "metadata": {},
   "source": [
    "## Connect marker_symbol to accession_id"
   ]
  },
  {
   "cell_type": "code",
   "execution_count": 22,
   "metadata": {},
   "outputs": [
    {
     "data": {
      "text/html": [
       "<div>\n",
       "<style scoped>\n",
       "    .dataframe tbody tr th:only-of-type {\n",
       "        vertical-align: middle;\n",
       "    }\n",
       "\n",
       "    .dataframe tbody tr th {\n",
       "        vertical-align: top;\n",
       "    }\n",
       "\n",
       "    .dataframe thead th {\n",
       "        text-align: right;\n",
       "    }\n",
       "</style>\n",
       "<table border=\"1\" class=\"dataframe\">\n",
       "  <thead>\n",
       "    <tr style=\"text-align: right;\">\n",
       "      <th></th>\n",
       "      <th>marker_symbol</th>\n",
       "      <th>marker_accession_id</th>\n",
       "    </tr>\n",
       "  </thead>\n",
       "  <tbody>\n",
       "    <tr>\n",
       "      <th>0</th>\n",
       "      <td>Uap1</td>\n",
       "      <td>MGI:1334459</td>\n",
       "    </tr>\n",
       "    <tr>\n",
       "      <th>1</th>\n",
       "      <td>6430548M08Rik</td>\n",
       "      <td>MGI:2443793</td>\n",
       "    </tr>\n",
       "    <tr>\n",
       "      <th>2</th>\n",
       "      <td>Stac</td>\n",
       "      <td>MGI:1201400</td>\n",
       "    </tr>\n",
       "    <tr>\n",
       "      <th>3</th>\n",
       "      <td>Slc24a4</td>\n",
       "      <td>MGI:2447362</td>\n",
       "    </tr>\n",
       "    <tr>\n",
       "      <th>4</th>\n",
       "      <td>Uhrf2</td>\n",
       "      <td>MGI:1923718</td>\n",
       "    </tr>\n",
       "    <tr>\n",
       "      <th>...</th>\n",
       "      <td>...</td>\n",
       "      <td>...</td>\n",
       "    </tr>\n",
       "    <tr>\n",
       "      <th>53904</th>\n",
       "      <td>Tm9sf1</td>\n",
       "      <td>MGI:1921390</td>\n",
       "    </tr>\n",
       "    <tr>\n",
       "      <th>53963</th>\n",
       "      <td>Eci3</td>\n",
       "      <td>MGI:1916373</td>\n",
       "    </tr>\n",
       "    <tr>\n",
       "      <th>53987</th>\n",
       "      <td>Stambp</td>\n",
       "      <td>MGI:1917777</td>\n",
       "    </tr>\n",
       "    <tr>\n",
       "      <th>54006</th>\n",
       "      <td>Wdr45b</td>\n",
       "      <td>MGI:1914090</td>\n",
       "    </tr>\n",
       "    <tr>\n",
       "      <th>54055</th>\n",
       "      <td>Alg3</td>\n",
       "      <td>MGI:1098592</td>\n",
       "    </tr>\n",
       "  </tbody>\n",
       "</table>\n",
       "<p>7746 rows × 2 columns</p>\n",
       "</div>"
      ],
      "text/plain": [
       "       marker_symbol marker_accession_id\n",
       "0               Uap1         MGI:1334459\n",
       "1      6430548M08Rik         MGI:2443793\n",
       "2               Stac         MGI:1201400\n",
       "3            Slc24a4         MGI:2447362\n",
       "4              Uhrf2         MGI:1923718\n",
       "...              ...                 ...\n",
       "53904         Tm9sf1         MGI:1921390\n",
       "53963           Eci3         MGI:1916373\n",
       "53987         Stambp         MGI:1917777\n",
       "54006         Wdr45b         MGI:1914090\n",
       "54055           Alg3         MGI:1098592\n",
       "\n",
       "[7746 rows x 2 columns]"
      ]
     },
     "execution_count": 22,
     "metadata": {},
     "output_type": "execute_result"
    }
   ],
   "source": [
    "data_select = data[['marker_symbol', 'marker_accession_id']].drop_duplicates()\n",
    "# data_select = data[['marker_symbol', 'marker_accession_id', 'mp_term_name', 'mp_term_id']].drop_duplicates()\n",
    "data_select"
   ]
  },
  {
   "cell_type": "code",
   "execution_count": 23,
   "metadata": {},
   "outputs": [],
   "source": [
    "data_dict = dict()\n",
    "for index, row in data_select.iterrows():\n",
    "    data_dict[row['marker_symbol']] = row['marker_accession_id']"
   ]
  },
  {
   "cell_type": "code",
   "execution_count": 24,
   "metadata": {},
   "outputs": [
    {
     "data": {
      "text/plain": [
       "'MGI:97281'"
      ]
     },
     "execution_count": 24,
     "metadata": {},
     "output_type": "execute_result"
    }
   ],
   "source": [
    "data_dict[\"Ncam1\"]"
   ]
  },
  {
   "cell_type": "code",
   "execution_count": 25,
   "metadata": {},
   "outputs": [
    {
     "data": {
      "text/plain": [
       "140147"
      ]
     },
     "execution_count": 25,
     "metadata": {},
     "output_type": "execute_result"
    }
   ],
   "source": [
    "json.dump(data_dict, open(\"data/annotation/symbol_mgiid.json\", \"w\"), indent=4, sort_keys=True)\n",
    "Path(\"data/annotation/symbol_mgiid.tsv\").write_text(\"\\n\".join([f\"{k}\\t{v}\" for k, v in data_dict.items()]))"
   ]
  },
  {
   "cell_type": "code",
   "execution_count": 26,
   "metadata": {},
   "outputs": [
    {
     "name": "stdout",
     "output_type": "stream",
     "text": [
      "{\n",
      "    \"0610010K14Rik\": \"MGI:1915609\",\n",
      "    \"0610040J01Rik\": \"MGI:1923511\",\n",
      "Uap1\tMGI:1334459\n",
      "6430548M08Rik\tMGI:2443793\n",
      "Stac\tMGI:1201400\n"
     ]
    }
   ],
   "source": [
    "%%bash\n",
    "head -n 3 data/annotation/symbol_mgiid.json\n",
    "head -n 3 data/annotation/symbol_mgiid.tsv"
   ]
  },
  {
   "cell_type": "code",
   "execution_count": 27,
   "metadata": {},
   "outputs": [
    {
     "name": "stdout",
     "output_type": "stream",
     "text": [
      "2025/03/19 15:20:29\n"
     ]
    }
   ],
   "source": [
    "%%bash\n",
    "\n",
    "date +\"%Y/%m/%d %H:%M:%S\" # Last update"
   ]
  },
  {
   "cell_type": "code",
   "execution_count": null,
   "metadata": {},
   "outputs": [],
   "source": []
  }
 ],
 "metadata": {
  "kernelspec": {
   "display_name": "Python 3",
   "language": "python",
   "name": "python3"
  },
  "language_info": {
   "codemirror_mode": {
    "name": "ipython",
    "version": 3
   },
   "file_extension": ".py",
   "mimetype": "text/x-python",
   "name": "python",
   "nbconvert_exporter": "python",
   "pygments_lexer": "ipython3",
   "version": "3.10.15"
  }
 },
 "nbformat": 4,
 "nbformat_minor": 2
}

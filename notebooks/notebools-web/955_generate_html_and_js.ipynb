{
 "cells": [
  {
   "cell_type": "markdown",
   "metadata": {},
   "source": [
    "# template から HTML と JS を生成する\n"
   ]
  },
  {
   "cell_type": "code",
   "execution_count": 27,
   "metadata": {},
   "outputs": [],
   "source": [
    "import os\n",
    "from pathlib import Path\n",
    "import json\n",
    "import gzip\n",
    "from collections import defaultdict"
   ]
  },
  {
   "cell_type": "code",
   "execution_count": 28,
   "metadata": {},
   "outputs": [
    {
     "name": "stdout",
     "output_type": "stream",
     "text": [
      "/mnt/e/Research/TSUMUGI-dev\n",
      "/mnt/e/Research/TSUMUGI-dev\n"
     ]
    }
   ],
   "source": [
    "# Move up to top directory\n",
    "\n",
    "print(os.getcwd())\n",
    "\n",
    "while not Path(\"LICENSE\").exists():\n",
    "    os.chdir(\"../\")\n",
    "\n",
    "print(os.getcwd())"
   ]
  },
  {
   "cell_type": "markdown",
   "metadata": {},
   "source": [
    "# 古いファイルの消去\n"
   ]
  },
  {
   "cell_type": "code",
   "execution_count": 29,
   "metadata": {},
   "outputs": [],
   "source": [
    "%%bash\n",
    "\n",
    "rm -rf TSUMUGI/data\n",
    "rm -rf TSUMUGI/app\n",
    "# 10 sec"
   ]
  },
  {
   "cell_type": "code",
   "execution_count": 30,
   "metadata": {},
   "outputs": [],
   "source": [
    "%%bash\n",
    "\n",
    "mkdir -p TSUMUGI/data/phenotype\n",
    "mkdir -p TSUMUGI/data/genesymbol\n",
    "mkdir -p TSUMUGI/app/phenotype\n",
    "mkdir -p TSUMUGI/app/genesymbol\n",
    "mkdir -p TSUMUGI/app/genelist/\n",
    "\n",
    "cp -r TSUMUGI/template/css TSUMUGI/app/ # copy app's CSS\n",
    "cp -r TSUMUGI/template/js TSUMUGI/app/ # copy app's JS\n"
   ]
  },
  {
   "cell_type": "markdown",
   "metadata": {},
   "source": [
    "## index.html の描画に必要なファイルを生成する\n"
   ]
  },
  {
   "cell_type": "code",
   "execution_count": 31,
   "metadata": {},
   "outputs": [],
   "source": [
    "mp_terms = {}\n",
    "for path_mp_term in Path(\"data\", \"mp_term_name\").glob(\"*.csv\"):\n",
    "    mp_term = path_mp_term.stem\n",
    "    if not Path(\"data\", \"network\", \"mp_term_name\", f\"{mp_term}.json.gz\").exists():\n",
    "        continue\n",
    "    mp_term_name_space = mp_term.replace(\"_\", \" \")\n",
    "    mp_terms[mp_term_name_space] = mp_term"
   ]
  },
  {
   "cell_type": "code",
   "execution_count": 32,
   "metadata": {},
   "outputs": [
    {
     "name": "stdout",
     "output_type": "stream",
     "text": [
      "['abnormal abdominal wall morphology', 'abnormal adrenal gland morphology', 'abnormal allantois morphology']\n",
      "517\n"
     ]
    }
   ],
   "source": [
    "print(list(mp_terms)[:3])\n",
    "print(len(mp_terms))  # 515"
   ]
  },
  {
   "cell_type": "code",
   "execution_count": 33,
   "metadata": {},
   "outputs": [],
   "source": [
    "json.dump(mp_terms, open(\"data/overlap/available_mp_terms.json\", \"w\"), indent=2)"
   ]
  },
  {
   "cell_type": "code",
   "execution_count": 34,
   "metadata": {},
   "outputs": [],
   "source": [
    "%%bash\n",
    "\n",
    "cp data/overlap/available_mp_terms.json TSUMUGI/data/available_mp_terms.json\n",
    "cp data/overlap/available_gene_symbols.txt TSUMUGI/data/available_gene_symbols.txt\n",
    "cp data/annotation/symbol_mgiid.json TSUMUGI/data/marker_symbol_accession_id.json\n"
   ]
  },
  {
   "cell_type": "markdown",
   "metadata": {},
   "source": [
    "## index.html を生成\n"
   ]
  },
  {
   "cell_type": "code",
   "execution_count": 35,
   "metadata": {},
   "outputs": [],
   "source": [
    "%%bash\n",
    "\n",
    "grep -v \"REMOVE_THIS_LINE\" TSUMUGI/template/template_index.html > TSUMUGI/index.html"
   ]
  },
  {
   "cell_type": "markdown",
   "metadata": {},
   "source": [
    "# JSON のコピー\n"
   ]
  },
  {
   "cell_type": "code",
   "execution_count": 36,
   "metadata": {},
   "outputs": [],
   "source": [
    "%%bash\n",
    "\n",
    "cp -r data/network/mp_term_name/* TSUMUGI/data/phenotype\n",
    "cp -r data/network/gene_symbol/* TSUMUGI/data/genesymbol\n",
    "\n",
    "# 1m30s"
   ]
  },
  {
   "cell_type": "code",
   "execution_count": 37,
   "metadata": {},
   "outputs": [
    {
     "name": "stdout",
     "output_type": "stream",
     "text": [
      "517\n",
      "4139\n"
     ]
    }
   ],
   "source": [
    "%%bash\n",
    "\n",
    "ls TSUMUGI/data/phenotype | wc -l\n",
    "ls TSUMUGI/data/genesymbol | wc -l\n",
    "# TSUMUGI v0.1.3 (IMPC Release 22.0) 517, 4139\n",
    "# TSUMUGI v0.2.1 (IMPC Release 22.1) 517, 4139"
   ]
  },
  {
   "cell_type": "markdown",
   "metadata": {},
   "source": [
    "# Template から HTML と JS を生成\n"
   ]
  },
  {
   "cell_type": "code",
   "execution_count": 38,
   "metadata": {},
   "outputs": [
    {
     "name": "stdout",
     "output_type": "stream",
     "text": [
      "154\n",
      "['abnormal_abdominal_wall_morphology ', 'abnormal_adrenal_gland_morphology ', 'abnormal_allantois_morphology ']\n"
     ]
    },
    {
     "data": {
      "text/plain": [
       "3761"
      ]
     },
     "execution_count": 38,
     "metadata": {},
     "output_type": "execute_result"
    }
   ],
   "source": [
    "path_files = Path(\"TSUMUGI\", \"data\", \"phenotype\").glob(\"*.json.gz\")\n",
    "binary_phenotypes = []\n",
    "for path_file in path_files:\n",
    "    mp_term_name = path_file.name.replace(\".json.gz\", \" \")\n",
    "    with gzip.open(path_file, \"rt\") as f:\n",
    "        json_data: list[dict] = json.load(f)\n",
    "\n",
    "    count_node_color = defaultdict(int)\n",
    "    for data in json_data:\n",
    "        if \"node_color\" not in data[\"data\"]:\n",
    "            continue\n",
    "        count_node_color[data[\"data\"][\"node_color\"]] += 1\n",
    "    if len(count_node_color) == 1 and 1 in count_node_color:\n",
    "        binary_phenotypes.append(mp_term_name)\n",
    "\n",
    "print(len(binary_phenotypes))\n",
    "print(binary_phenotypes[:3])\n",
    "Path(\"data\", \"annotation\", \"binary_phenotypes.txt\").write_text(\"\\n\".join(binary_phenotypes))"
   ]
  },
  {
   "cell_type": "code",
   "execution_count": 39,
   "metadata": {},
   "outputs": [
    {
     "name": "stdout",
     "output_type": "stream",
     "text": [
      "'abnormal_anxiety-related_response' is skipped because there is no file in TSUMUGI/data/phenotype/\n",
      "'abnormal_blood_urea_nitrogen_level' is skipped because there is no file in TSUMUGI/data/phenotype/\n",
      "'abnormal_blood_uric_acid_level' is skipped because there is no file in TSUMUGI/data/phenotype/\n",
      "'abnormal_body_fat_mass' is skipped because there is no file in TSUMUGI/data/phenotype/\n",
      "'abnormal_body_length' is skipped because there is no file in TSUMUGI/data/phenotype/\n",
      "'abnormal_body_size' is skipped because there is no file in TSUMUGI/data/phenotype/\n",
      "'abnormal_bone_marrow_morphology' is skipped because there is no file in TSUMUGI/data/phenotype/\n",
      "'abnormal_circulating_alkaline_phosphatase_level' is skipped because there is no file in TSUMUGI/data/phenotype/\n",
      "'abnormal_circulating_bilirubin_level' is skipped because there is no file in TSUMUGI/data/phenotype/\n",
      "'abnormal_circulating_calcium_level' is skipped because there is no file in TSUMUGI/data/phenotype/\n",
      "'abnormal_circulating_glucose_level' is skipped because there is no file in TSUMUGI/data/phenotype/\n",
      "'abnormal_circulating_iron_level' is skipped because there is no file in TSUMUGI/data/phenotype/\n",
      "'abnormal_circulating_LDL_cholesterol_level' is skipped because there is no file in TSUMUGI/data/phenotype/\n",
      "'abnormal_circulating_phosphate_level' is skipped because there is no file in TSUMUGI/data/phenotype/\n",
      "'abnormal_defecation' is skipped because there is no file in TSUMUGI/data/phenotype/\n",
      "'abnormal_ear_position' is skipped because there is no file in TSUMUGI/data/phenotype/\n",
      "'abnormal_embryonic_autopod_plate_morphology' is skipped because there is no file in TSUMUGI/data/phenotype/\n",
      "'abnormal_external_female_genitalia_morphology' is skipped because there is no file in TSUMUGI/data/phenotype/\n",
      "'abnormal_eye_electrophysiology' is skipped because there is no file in TSUMUGI/data/phenotype/\n",
      "'abnormal_fasting_circulating_glucose_level' is skipped because there is no file in TSUMUGI/data/phenotype/\n",
      "'abnormal_female_genitalia_morphology' is skipped because there is no file in TSUMUGI/data/phenotype/\n",
      "'abnormal_foot_pad_morphology' is skipped because there is no file in TSUMUGI/data/phenotype/\n",
      "'abnormal_hair_texture' is skipped because there is no file in TSUMUGI/data/phenotype/\n",
      "'abnormal_heartbeat' is skipped because there is no file in TSUMUGI/data/phenotype/\n",
      "'abnormal_heart_position_or_orientation' is skipped because there is no file in TSUMUGI/data/phenotype/\n",
      "'abnormal_heart_weight' is skipped because there is no file in TSUMUGI/data/phenotype/\n",
      "'abnormal_iris_transillumination' is skipped because there is no file in TSUMUGI/data/phenotype/\n",
      "'abnormal_iron_homeostasis' is skipped because there is no file in TSUMUGI/data/phenotype/\n",
      "'abnormal_lean_body_mass' is skipped because there is no file in TSUMUGI/data/phenotype/\n",
      "'abnormal_limb_position' is skipped because there is no file in TSUMUGI/data/phenotype/\n",
      "'abnormal_lip_morphology' is skipped because there is no file in TSUMUGI/data/phenotype/\n",
      "'abnormal_lymphocyte_cell_number' is skipped because there is no file in TSUMUGI/data/phenotype/\n",
      "'abnormal_male_genitalia_morphology' is skipped because there is no file in TSUMUGI/data/phenotype/\n",
      "'abnormal_metabolism' is skipped because there is no file in TSUMUGI/data/phenotype/\n",
      "'abnormal_motor_learning' is skipped because there is no file in TSUMUGI/data/phenotype/\n",
      "'abnormal_mouth_morphology' is skipped because there is no file in TSUMUGI/data/phenotype/\n",
      "'abnormal_optic_nerve_morphology' is skipped because there is no file in TSUMUGI/data/phenotype/\n",
      "'abnormal_posture' is skipped because there is no file in TSUMUGI/data/phenotype/\n",
      "'abnormal_prostate_gland_morphology' is skipped because there is no file in TSUMUGI/data/phenotype/\n",
      "'abnormal_reproductive_system_morphology' is skipped because there is no file in TSUMUGI/data/phenotype/\n",
      "'abnormal_retina_blood_vessel_pattern' is skipped because there is no file in TSUMUGI/data/phenotype/\n",
      "'abnormal_righting_response' is skipped because there is no file in TSUMUGI/data/phenotype/\n",
      "'abnormal_salivary_gland_morphology' is skipped because there is no file in TSUMUGI/data/phenotype/\n",
      "'abnormal_sensory_capabilities_reflexes_nociception' is skipped because there is no file in TSUMUGI/data/phenotype/\n",
      "'abnormal_social_conspecific_interaction_behavior' is skipped because there is no file in TSUMUGI/data/phenotype/\n",
      "'abnormal_spatial_working_memory' is skipped because there is no file in TSUMUGI/data/phenotype/\n",
      "'abnormal_umbilical_cord_morphology' is skipped because there is no file in TSUMUGI/data/phenotype/\n",
      "'abnormal_whole-body_plethysmography' is skipped because there is no file in TSUMUGI/data/phenotype/\n",
      "'absent_adrenal_gland' is skipped because there is no file in TSUMUGI/data/phenotype/\n",
      "'absent_external_male_genitalia' is skipped because there is no file in TSUMUGI/data/phenotype/\n",
      "'absent_liver' is skipped because there is no file in TSUMUGI/data/phenotype/\n",
      "'absent_pancreas' is skipped because there is no file in TSUMUGI/data/phenotype/\n",
      "'absent_spleen' is skipped because there is no file in TSUMUGI/data/phenotype/\n",
      "'absent_stomach' is skipped because there is no file in TSUMUGI/data/phenotype/\n",
      "'absent_urinary_bladder' is skipped because there is no file in TSUMUGI/data/phenotype/\n",
      "'absent_uterus' is skipped because there is no file in TSUMUGI/data/phenotype/\n",
      "'alopecia' is skipped because there is no file in TSUMUGI/data/phenotype/\n",
      "'athymia' is skipped because there is no file in TSUMUGI/data/phenotype/\n",
      "'blind_uterus' is skipped because there is no file in TSUMUGI/data/phenotype/\n",
      "'cornea_ulcer' is skipped because there is no file in TSUMUGI/data/phenotype/\n",
      "'cryptorchism' is skipped because there is no file in TSUMUGI/data/phenotype/\n",
      "'decreased_B-1a_cell_number' is skipped because there is no file in TSUMUGI/data/phenotype/\n",
      "'decreased_circulating_creatine_kinase_level' is skipped because there is no file in TSUMUGI/data/phenotype/\n",
      "'decreased_circulating_insulin_level' is skipped because there is no file in TSUMUGI/data/phenotype/\n",
      "'decreased_circulating_lactate_dehydrogenase_level' is skipped because there is no file in TSUMUGI/data/phenotype/\n",
      "'decreased_circulating_thyroxine_level' is skipped because there is no file in TSUMUGI/data/phenotype/\n",
      "'decreased_circulating_unsaturated_transferrin_level' is skipped because there is no file in TSUMUGI/data/phenotype/\n",
      "'decreased_coping_response' is skipped because there is no file in TSUMUGI/data/phenotype/\n",
      "'decreased_cornea_thickness' is skipped because there is no file in TSUMUGI/data/phenotype/\n",
      "'decreased_defecation_amount' is skipped because there is no file in TSUMUGI/data/phenotype/\n",
      "'decreased_fluid_intake' is skipped because there is no file in TSUMUGI/data/phenotype/\n",
      "'decreased_glycosylated_hemoglobin_level' is skipped because there is no file in TSUMUGI/data/phenotype/\n",
      "'decreased_granulocyte_number' is skipped because there is no file in TSUMUGI/data/phenotype/\n",
      "'decreased_IgA_level' is skipped because there is no file in TSUMUGI/data/phenotype/\n",
      "'decreased_IgE_level' is skipped because there is no file in TSUMUGI/data/phenotype/\n",
      "'decreased_IgG1_level' is skipped because there is no file in TSUMUGI/data/phenotype/\n",
      "'decreased_IgG3_level' is skipped because there is no file in TSUMUGI/data/phenotype/\n",
      "'decreased_IgM_level' is skipped because there is no file in TSUMUGI/data/phenotype/\n",
      "'decreased_lumbar_vertebrae_number' is skipped because there is no file in TSUMUGI/data/phenotype/\n",
      "'decreased_lung_weight' is skipped because there is no file in TSUMUGI/data/phenotype/\n",
      "'decreased_macrophage_cell_number' is skipped because there is no file in TSUMUGI/data/phenotype/\n",
      "'decreased_marginal_zone_B_cell_number' is skipped because there is no file in TSUMUGI/data/phenotype/\n",
      "'decreased_plasmacytoid_dendritic_cell_number' is skipped because there is no file in TSUMUGI/data/phenotype/\n",
      "'decreased_skeletal_muscle_mass' is skipped because there is no file in TSUMUGI/data/phenotype/\n",
      "'decreased_thermal_nociceptive_threshold' is skipped because there is no file in TSUMUGI/data/phenotype/\n",
      "'decreased_thymus_weight' is skipped because there is no file in TSUMUGI/data/phenotype/\n",
      "'decreased_tidal_volume' is skipped because there is no file in TSUMUGI/data/phenotype/\n",
      "'decreased_transitional_stage_B_cell_number' is skipped because there is no file in TSUMUGI/data/phenotype/\n",
      "'decreased_urine_glucose_level' is skipped because there is no file in TSUMUGI/data/phenotype/\n",
      "'decreased_urine_microalbumin_level' is skipped because there is no file in TSUMUGI/data/phenotype/\n",
      "'enlarged_salivary_gland' is skipped because there is no file in TSUMUGI/data/phenotype/\n",
      "'excessive_tearing' is skipped because there is no file in TSUMUGI/data/phenotype/\n",
      "'exophthalmos' is skipped because there is no file in TSUMUGI/data/phenotype/\n",
      "'fused_phalanges' is skipped because there is no file in TSUMUGI/data/phenotype/\n",
      "'hyperalgesia' is skipped because there is no file in TSUMUGI/data/phenotype/\n",
      "'hypoalgesia' is skipped because there is no file in TSUMUGI/data/phenotype/\n",
      "'hyporesponsive_to_tactile_stimuli' is skipped because there is no file in TSUMUGI/data/phenotype/\n",
      "'increased_B-1a_cell_number' is skipped because there is no file in TSUMUGI/data/phenotype/\n",
      "'increased_B-2_B_cell_number' is skipped because there is no file in TSUMUGI/data/phenotype/\n",
      "'increased_blood_uric_acid_level' is skipped because there is no file in TSUMUGI/data/phenotype/\n",
      "'increased_body_temperature' is skipped because there is no file in TSUMUGI/data/phenotype/\n",
      "'increased_body_weight' is skipped because there is no file in TSUMUGI/data/phenotype/\n",
      "'increased_bronchoconstrictive_response' is skipped because there is no file in TSUMUGI/data/phenotype/\n",
      "'increased_cardiac_output' is skipped because there is no file in TSUMUGI/data/phenotype/\n",
      "'increased_CD11b-high_dendritic_cell_number' is skipped because there is no file in TSUMUGI/data/phenotype/\n",
      "'increased_CD4-negative,_CD25-positive_NK_T_cell_number' is skipped because there is no file in TSUMUGI/data/phenotype/\n",
      "'increased_CD4-negative_NK_T_cell_number' is skipped because there is no file in TSUMUGI/data/phenotype/\n",
      "'increased_CD4-positive,_CD25-positive_NK_T_cell_number' is skipped because there is no file in TSUMUGI/data/phenotype/\n",
      "'increased_CD8-positive,_CD25-positive_alpha-beta_T_cell_number' is skipped because there is no file in TSUMUGI/data/phenotype/\n",
      "'increased_cellular_hemoglobin_content' is skipped because there is no file in TSUMUGI/data/phenotype/\n",
      "'increased_circulating_thyroxine_level' is skipped because there is no file in TSUMUGI/data/phenotype/\n",
      "'increased_defecation_amount' is skipped because there is no file in TSUMUGI/data/phenotype/\n",
      "'increased_follicular_B_cell_number' is skipped because there is no file in TSUMUGI/data/phenotype/\n",
      "'increased_glycosylated_hemoglobin_level' is skipped because there is no file in TSUMUGI/data/phenotype/\n",
      "'increased_IgA_level' is skipped because there is no file in TSUMUGI/data/phenotype/\n",
      "'increased_IgG1_level' is skipped because there is no file in TSUMUGI/data/phenotype/\n",
      "'increased_IgG3_level' is skipped because there is no file in TSUMUGI/data/phenotype/\n",
      "'increased_IgM_level' is skipped because there is no file in TSUMUGI/data/phenotype/\n",
      "'increased_lumbar_vertebrae_number' is skipped because there is no file in TSUMUGI/data/phenotype/\n",
      "'increased_lung_weight' is skipped because there is no file in TSUMUGI/data/phenotype/\n",
      "'increased_Ly6C-positive_immature_NK_cell_number' is skipped because there is no file in TSUMUGI/data/phenotype/\n",
      "'increased_Ly6C-positive_mature_NK_cell_number' is skipped because there is no file in TSUMUGI/data/phenotype/\n",
      "'increased_Ly6C-positive_NK_T_cell_number' is skipped because there is no file in TSUMUGI/data/phenotype/\n",
      "'increased_marginal_zone_B_cell_number' is skipped because there is no file in TSUMUGI/data/phenotype/\n",
      "'increased_mature_B_cell_number' is skipped because there is no file in TSUMUGI/data/phenotype/\n",
      "'increased_mechanical_nociceptive_threshold' is skipped because there is no file in TSUMUGI/data/phenotype/\n",
      "'increased_memory-marker_CD4-negative_NK_T_cell_number' is skipped because there is no file in TSUMUGI/data/phenotype/\n",
      "'increased_NK_T_cell_number' is skipped because there is no file in TSUMUGI/data/phenotype/\n",
      "'increased_rib_number' is skipped because there is no file in TSUMUGI/data/phenotype/\n",
      "'increased_skeletal_muscle_mass' is skipped because there is no file in TSUMUGI/data/phenotype/\n",
      "'increased_thoracic_vertebrae_number' is skipped because there is no file in TSUMUGI/data/phenotype/\n",
      "'increased_thymus_weight' is skipped because there is no file in TSUMUGI/data/phenotype/\n",
      "'increased_urine_glucose_level' is skipped because there is no file in TSUMUGI/data/phenotype/\n",
      "'increased_urine_magnesium_level' is skipped because there is no file in TSUMUGI/data/phenotype/\n",
      "'increased_urine_microalbumin_level' is skipped because there is no file in TSUMUGI/data/phenotype/\n",
      "'oligodactyly' is skipped because there is no file in TSUMUGI/data/phenotype/\n",
      "'pale_placenta' is skipped because there is no file in TSUMUGI/data/phenotype/\n",
      "'prolonged_PQ_interval' is skipped because there is no file in TSUMUGI/data/phenotype/\n",
      "'scaly_skin' is skipped because there is no file in TSUMUGI/data/phenotype/\n",
      "'small_cecum' is skipped because there is no file in TSUMUGI/data/phenotype/\n",
      "'small_gallbladder' is skipped because there is no file in TSUMUGI/data/phenotype/\n",
      "'small_ovary' is skipped because there is no file in TSUMUGI/data/phenotype/\n",
      "'small_pancreas' is skipped because there is no file in TSUMUGI/data/phenotype/\n",
      "'small_prostate_gland' is skipped because there is no file in TSUMUGI/data/phenotype/\n",
      "'small_salivary_gland' is skipped because there is no file in TSUMUGI/data/phenotype/\n",
      "'thin_skin' is skipped because there is no file in TSUMUGI/data/phenotype/\n",
      "'thin_tail' is skipped because there is no file in TSUMUGI/data/phenotype/\n"
     ]
    }
   ],
   "source": [
    "%%bash\n",
    "\n",
    "########################################\n",
    "# Phenotype\n",
    "########################################\n",
    "\n",
    "\n",
    "find data/mp_term_name -type f |\n",
    "    sed \"s|data/mp_term_name/||\" |\n",
    "    sed \"s|.csv$||\" |\n",
    "    while read -r mp_term_name_underscore; do\n",
    "        mp_term_name_space=$(echo \"$mp_term_name_underscore\" | sed \"s|_| |g\")\n",
    "\n",
    "        # もしTSUMUGI/data/phenotype/にファイルがない場合はスキップ\n",
    "        if [ ! -e TSUMUGI/data/phenotype/\"$mp_term_name_underscore\".json.gz ]; then\n",
    "            echo \"'$mp_term_name_underscore' is skipped because there is no file in TSUMUGI/data/phenotype/\"\n",
    "            continue\n",
    "        fi\n",
    "\n",
    "        impc_url=$(awk -F \"\\t\" -v mp=\"$mp_term_name_space\" '$1 == mp {print $2}' data/annotation/mptermname_phenotypeurl.tsv)\n",
    "        escaped_url=$(echo \"$impc_url\" | sed 's/\\//\\\\\\//g')\n",
    "        # --------------------------\n",
    "        # HTML\n",
    "        # --------------------------\n",
    "        # すべての効果量が１の場合、表現型の重症度でのフィルターを削除\n",
    "        if grep -q \"^$mp_term_name_underscore\" data/annotation/binary_phenotypes.txt; then\n",
    "            cat TSUMUGI/template/phenotype/template_network_phenotype.html |\n",
    "                sed '/REMOVE_FROM_THIS_LINE/,/REMOVE_TO_THIS_LINE/d' |\n",
    "                grep -v \"REMOVE_THIS_LINE\" |\n",
    "                sed \"s|XXX_impc_url|${escaped_url}|g\" |\n",
    "                sed \"s|XXX_mp_term_name_space|${mp_term_name_space}|g\" |\n",
    "                sed \"s|XXX_mp_term_name_underscore|${mp_term_name_underscore}|g\" > TSUMUGI/app/phenotype/\"$mp_term_name_underscore\".html\n",
    "        else\n",
    "            cat TSUMUGI/template/phenotype/template_network_phenotype.html |\n",
    "                grep -v \"REMOVE_THIS_LINE\" |\n",
    "                sed \"s|XXX_impc_url|${escaped_url}|g\" |\n",
    "                sed \"s|XXX_mp_term_name_space|${mp_term_name_space}|g\" |\n",
    "                sed \"s|XXX_mp_term_name_underscore|${mp_term_name_underscore}|g\" > TSUMUGI/app/phenotype/\"$mp_term_name_underscore\".html\n",
    "        fi\n",
    "\n",
    "        # --------------------------\n",
    "        # Javascript\n",
    "        # --------------------------\n",
    "        # すべての効果量が１の場合、表現型の重症度でのスライダーを削除\n",
    "        if grep -q \"^$mp_term_name_underscore\" data/annotation/binary_phenotypes.txt; then\n",
    "            cat TSUMUGI/template/phenotype/template_network_phenotype.js |\n",
    "                sed '/REMOVE_FROM_THIS_LINE/,/REMOVE_TO_THIS_LINE/d' |\n",
    "                grep -v \"REMOVE_THIS_LINE\" |\n",
    "                sed \"s|XXX_mp_term_name_underscore|${mp_term_name_underscore}|g\" > TSUMUGI/app/phenotype/\"$mp_term_name_underscore\".js\n",
    "        else\n",
    "            cat TSUMUGI/template/phenotype/template_network_phenotype.js |\n",
    "                grep -v \"REMOVE_THIS_LINE\" |\n",
    "                sed \"s|XXX_mp_term_name_underscore|${mp_term_name_underscore}|g\" > TSUMUGI/app/phenotype/\"$mp_term_name_underscore\".js\n",
    "        fi\n",
    "\n",
    "    done\n",
    "# 24.4s"
   ]
  },
  {
   "cell_type": "code",
   "execution_count": null,
   "metadata": {},
   "outputs": [],
   "source": [
    "%%bash\n",
    "\n",
    "########################################\n",
    "# Gene Symbol\n",
    "########################################\n",
    "\n",
    "cat data/overlap/available_gene_symbols.txt |\n",
    "    while read gene_symbol; do\n",
    "        mgi_id=$(awk -F \"\\t\" -v key=\"$gene_symbol\" '$1 == key {print $2}' data/annotation/symbol_mgiid.tsv)\n",
    "        impc_url=\"https://www.mousephenotype.org/data/genes/\"${mgi_id}\n",
    "        escaped_url=$(echo \"$impc_url\" | sed 's/\\//\\\\\\//g')\n",
    "\n",
    "        # HTML\n",
    "        cat TSUMUGI/template/genesymbol/template_network_genesymbol.html |\n",
    "            grep -v \"REMOVE_THIS_LINE\" |\n",
    "            sed \"s|XXX_impc_url|${escaped_url}|g\" |\n",
    "            sed \"s|XXX_genesymbol|${gene_symbol}|g\" > TSUMUGI/app/genesymbol/\"$gene_symbol\".html\n",
    "\n",
    "        # Javascript\n",
    "        cat TSUMUGI/template/genesymbol/template_network_genesymbol.js |\n",
    "            sed '/REMOVE_FROM_THIS_LINE/,/REMOVE_TO_THIS_LINE/d' |\n",
    "            grep -v \"REMOVE_THIS_LINE\" |\n",
    "            sed \"s|XXX_genesymbol|${gene_symbol}|g\" > TSUMUGI/app/genesymbol/\"$gene_symbol\".js\n",
    "    done\n",
    "\n",
    "# 5 min"
   ]
  },
  {
   "cell_type": "code",
   "execution_count": null,
   "metadata": {},
   "outputs": [],
   "source": []
  },
  {
   "cell_type": "code",
   "execution_count": null,
   "metadata": {},
   "outputs": [],
   "source": [
    "%%bash\n",
    "\n",
    "########################################\n",
    "# Gene List\n",
    "########################################\n",
    "\n",
    "# HTML\n",
    "cat TSUMUGI/template/genelist/template_network_genelist.html |\n",
    "    sed '/REMOVE_FROM_THIS_LINE/,/REMOVE_TO_THIS_LINE/d' |\n",
    "    grep -v \"REMOVE_THIS_LINE\" > TSUMUGI/app/genelist/network_genelist.html\n",
    "\n",
    "# Javascript\n",
    "cat TSUMUGI/template/genelist/template_network_genelist.js |\n",
    "    sed '/REMOVE_FROM_THIS_LINE/,/REMOVE_TO_THIS_LINE/d' |\n",
    "    grep -v \"REMOVE_THIS_LINE\" > TSUMUGI/app/genelist/network_genelist.js\n"
   ]
  },
  {
   "cell_type": "markdown",
   "metadata": {},
   "source": [
    "## テスト用のデータを test-tsumugi にコピー\n"
   ]
  },
  {
   "cell_type": "code",
   "execution_count": null,
   "metadata": {},
   "outputs": [],
   "source": [
    "%%bash\n",
    "\n",
    "# Index HTML\n",
    "grep -v \"REMOVE_THIS_LINE\" TSUMUGI/template/template_index.html > TSUMUGI/index.html\n",
    "# CSS\n",
    "cp -r TSUMUGI/template/css TSUMUGI/app/\n",
    "# JS\n",
    "cp -r TSUMUGI/template/js TSUMUGI/app/"
   ]
  },
  {
   "cell_type": "code",
   "execution_count": null,
   "metadata": {},
   "outputs": [],
   "source": [
    "%%bash\n",
    "\n",
    "rm -rf test-tsumugi\n",
    "mkdir -p test-tsumugi/\n",
    "\n",
    "mkdir -p test-tsumugi/data/phenotype\n",
    "mkdir -p test-tsumugi/data/genesymbol\n",
    "mkdir -p test-tsumugi/app/phenotype\n",
    "mkdir -p test-tsumugi/app/genesymbol\n",
    "mkdir -p test-tsumugi/app/genelist/"
   ]
  },
  {
   "cell_type": "code",
   "execution_count": null,
   "metadata": {},
   "outputs": [],
   "source": [
    "%%bash\n",
    "\n",
    "cp -r TSUMUGI/index.html test-tsumugi/\n",
    "cp -r TSUMUGI/css test-tsumugi/\n",
    "cp -r TSUMUGI/js test-tsumugi/\n",
    "cp -r TSUMUGI/image test-tsumugi/\n",
    "cp -r TSUMUGI/template/css test-tsumugi/app/\n",
    "cp -r TSUMUGI/template/js test-tsumugi/app/\n",
    "\n",
    "cp -r TSUMUGI/data/*.txt test-tsumugi/data/\n",
    "cp -r TSUMUGI/data/*.json test-tsumugi/data/"
   ]
  },
  {
   "cell_type": "code",
   "execution_count": null,
   "metadata": {},
   "outputs": [
    {
     "name": "stdout",
     "output_type": "stream",
     "text": [
      "increased_fasting_circulating_glucose_level\n"
     ]
    },
    {
     "name": "stdout",
     "output_type": "stream",
     "text": [
      "male_infertility\n",
      "preweaning_lethality,_complete_penetrance\n",
      "preweaning_lethality,_incomplete_penetrance\n"
     ]
    }
   ],
   "source": [
    "%%bash\n",
    "\n",
    "########################################\n",
    "# Phenotype\n",
    "########################################\n",
    "\n",
    "find data/mp_term_name -type f |\n",
    "    sed \"s|data/mp_term_name/||\" |\n",
    "    sed \"s|.csv$||\" |\n",
    "    grep -e ^male_infertility -e ^increased_fasting -e \"^prewe\" | # <- ここで興味のあるphenotypeを選択\n",
    "    while read -r mp_term_name_underscore; do\n",
    "        echo $mp_term_name_underscore\n",
    "\n",
    "        # もしTSUMUGI/data/phenotype/にファイルがない場合はスキップ\n",
    "        if [ ! -e TSUMUGI/data/phenotype/\"$mp_term_name_underscore\".json.gz ]; then\n",
    "            continue\n",
    "        fi\n",
    "\n",
    "        mp_term_name_space=$(echo \"$mp_term_name_underscore\" | sed \"s|_| |g\")\n",
    "        impc_url=$(awk -F \"\\t\" -v mp=\"$mp_term_name_space\" '$1 == mp {print $2}' data/annotation/mptermname_phenotypeurl.tsv)\n",
    "        escaped_url=$(echo \"$impc_url\" | sed 's/\\//\\\\\\//g')\n",
    "\n",
    "        # --------------------------\n",
    "        # HTML\n",
    "        # --------------------------\n",
    "        # すべての効果量が１の場合、表現型の重症度でのフィルターを削除\n",
    "        if grep -q \"^$mp_term_name_underscore\" data/annotation/binary_phenotypes.txt; then\n",
    "            cat TSUMUGI/template/phenotype/template_network_phenotype.html |\n",
    "                sed '/REMOVE_FROM_THIS_LINE/,/REMOVE_TO_THIS_LINE/d' |\n",
    "                grep -v \"REMOVE_THIS_LINE\" |\n",
    "                sed \"s|XXX_impc_url|${escaped_url}|g\" |\n",
    "                sed \"s|XXX_mp_term_name_space|${mp_term_name_space}|g\" |\n",
    "                sed \"s|XXX_mp_term_name_underscore|${mp_term_name_underscore}|g\" > test-tsumugi/app/phenotype/\"$mp_term_name_underscore\".html\n",
    "        else\n",
    "            cat TSUMUGI/template/phenotype/template_network_phenotype.html |\n",
    "            grep -v \"REMOVE_THIS_LINE\" |\n",
    "            sed \"s|XXX_impc_url|${escaped_url}|g\" |\n",
    "            sed \"s|XXX_mp_term_name_space|${mp_term_name_space}|g\" |\n",
    "            sed \"s|XXX_mp_term_name_underscore|${mp_term_name_underscore}|g\" > test-tsumugi/app/phenotype/\"$mp_term_name_underscore\".html\n",
    "        fi\n",
    "\n",
    "        # --------------------------\n",
    "        # Javascript\n",
    "        # --------------------------\n",
    "        # すべての効果量が１の場合、表現型の重症度でのスライダーを削除\n",
    "        if grep -q \"^$mp_term_name_underscore\" data/annotation/binary_phenotypes.txt; then\n",
    "            cat TSUMUGI/template/phenotype/template_network_phenotype.js |\n",
    "                sed '/REMOVE_FROM_THIS_LINE/,/REMOVE_TO_THIS_LINE/d' |\n",
    "                grep -v \"REMOVE_THIS_LINE\" |\n",
    "                sed \"s|XXX_mp_term_name_underscore|${mp_term_name_underscore}|g\" > test-tsumugi/app/phenotype/\"$mp_term_name_underscore\".js\n",
    "        else\n",
    "            cat TSUMUGI/template/phenotype/template_network_phenotype.js |\n",
    "                grep -v \"REMOVE_THIS_LINE\" |\n",
    "                sed \"s|XXX_mp_term_name_underscore|${mp_term_name_underscore}|g\" > test-tsumugi/app/phenotype/\"$mp_term_name_underscore\".js\n",
    "        fi\n",
    "\n",
    "        # --------------------------\n",
    "        # Data\n",
    "        # --------------------------\n",
    "\n",
    "        cp TSUMUGI/data/phenotype/\"$mp_term_name_underscore\".json.gz test-tsumugi/data/phenotype/\n",
    "    done"
   ]
  },
  {
   "cell_type": "code",
   "execution_count": null,
   "metadata": {},
   "outputs": [
    {
     "name": "stdout",
     "output_type": "stream",
     "text": [
      "Asxl1\n",
      "Ddx46\n",
      "Rab10\n"
     ]
    }
   ],
   "source": [
    "%%bash\n",
    "\n",
    "########################################\n",
    "# Gene Symbol\n",
    "########################################\n",
    "\n",
    "cat data/overlap/available_gene_symbols.txt |\n",
    "    grep -e Rab10 -e Asxl1 -e Ddx46 | # <- ここで興味のあるgene symbolを選択\n",
    "    while read gene_symbol; do\n",
    "        echo $gene_symbol\n",
    "\n",
    "        mgi_id=$(awk -F \"\\t\" -v key=\"$gene_symbol\" '$1 == key {print $2}' data/annotation/symbol_mgiid.tsv)\n",
    "        impc_url=\"https://www.mousephenotype.org/data/genes/\"${mgi_id}\n",
    "        escaped_url=$(echo \"$impc_url\" | sed 's/\\//\\\\\\//g')\n",
    "\n",
    "        # HTML\n",
    "        cat TSUMUGI/template/genesymbol/template_network_genesymbol.html |\n",
    "        grep -v \"REMOVE_THIS_LINE\" |\n",
    "            sed \"s|XXX_impc_url|${escaped_url}|g\" |\n",
    "            sed \"s|XXX_genesymbol|${gene_symbol}|g\" > test-tsumugi/app/genesymbol/\"$gene_symbol\".html\n",
    "\n",
    "        # Javascript\n",
    "        cat TSUMUGI/template/genesymbol/template_network_genesymbol.js |\n",
    "            sed '/REMOVE_FROM_THIS_LINE/,/REMOVE_TO_THIS_LINE/d' |\n",
    "            grep -v \"REMOVE_THIS_LINE\" |\n",
    "            sed \"s|XXX_genesymbol|${gene_symbol}|g\" > test-tsumugi/app/genesymbol/\"$gene_symbol\".js\n",
    "\n",
    "        # Data\n",
    "        cp TSUMUGI/data/genesymbol/\"$gene_symbol\".json.gz test-tsumugi/data/genesymbol/\n",
    "\n",
    "    done"
   ]
  },
  {
   "cell_type": "code",
   "execution_count": null,
   "metadata": {},
   "outputs": [],
   "source": [
    "%%bash\n",
    "\n",
    "########################################\n",
    "# Gene List\n",
    "########################################\n",
    "\n",
    "# HTML\n",
    "cat TSUMUGI/template/genelist/template_network_genelist.html |\n",
    "    sed '/REMOVE_FROM_THIS_LINE/,/REMOVE_TO_THIS_LINE/d' |\n",
    "    grep -v \"REMOVE_THIS_LINE\" > test-tsumugi/app/genelist/network_genelist.html\n",
    "\n",
    "# Javascript\n",
    "cat TSUMUGI/template/genelist/template_network_genelist.js |\n",
    "    sed '/REMOVE_FROM_THIS_LINE/,/REMOVE_TO_THIS_LINE/d' |\n",
    "    grep -v \"REMOVE_THIS_LINE\" > test-tsumugi/app/genelist/network_genelist.js\n"
   ]
  },
  {
   "cell_type": "code",
   "execution_count": null,
   "metadata": {},
   "outputs": [
    {
     "name": "stdout",
     "output_type": "stream",
     "text": [
      "2025/03/21 17:59:07\n"
     ]
    }
   ],
   "source": [
    "%%bash\n",
    "\n",
    "date +\"%Y/%m/%d %H:%M:%S\" # Last update"
   ]
  },
  {
   "cell_type": "code",
   "execution_count": null,
   "metadata": {},
   "outputs": [],
   "source": []
  },
  {
   "cell_type": "code",
   "execution_count": null,
   "metadata": {},
   "outputs": [],
   "source": []
  }
 ],
 "metadata": {
  "kernelspec": {
   "display_name": "Python 3",
   "language": "python",
   "name": "python3"
  },
  "language_info": {
   "codemirror_mode": {
    "name": "ipython",
    "version": 3
   },
   "file_extension": ".py",
   "mimetype": "text/x-python",
   "name": "python",
   "nbconvert_exporter": "python",
   "pygments_lexer": "ipython3",
   "version": "3.10.15"
  }
 },
 "nbformat": 4,
 "nbformat_minor": 2
}

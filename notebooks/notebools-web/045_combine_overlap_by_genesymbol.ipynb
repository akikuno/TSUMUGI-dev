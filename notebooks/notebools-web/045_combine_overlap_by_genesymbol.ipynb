{
 "cells": [
  {
   "cell_type": "markdown",
   "metadata": {},
   "source": [
    "# ネットワークを遺伝子単位で出力する\n"
   ]
  },
  {
   "cell_type": "code",
   "execution_count": 2,
   "metadata": {},
   "outputs": [
    {
     "name": "stdout",
     "output_type": "stream",
     "text": [
      "/mnt/e/Research/TSUMUGI-dev\n",
      "/mnt/e/Research/TSUMUGI-dev\n"
     ]
    }
   ],
   "source": [
    "# Move up to top directory\n",
    "import os\n",
    "from pathlib import Path\n",
    "\n",
    "print(os.getcwd())\n",
    "\n",
    "while not Path(\"LICENSE\").exists():\n",
    "    os.chdir(\"../\")\n",
    "\n",
    "print(os.getcwd())"
   ]
  },
  {
   "cell_type": "code",
   "execution_count": 3,
   "metadata": {},
   "outputs": [],
   "source": [
    "P = print\n",
    "from pprint import pprint as PP\n",
    "from collections import Counter as C\n",
    "from pathlib import Path\n",
    "from collections import defaultdict\n",
    "from itertools import combinations\n",
    "import csv\n",
    "import json\n",
    "import pickle\n",
    "import networkx as nx\n",
    "import shutil\n",
    "import gzip\n",
    "\n",
    "import pandas as pd\n",
    "import matplotlib.pyplot as plt\n",
    "import seaborn as sns"
   ]
  },
  {
   "cell_type": "code",
   "execution_count": null,
   "metadata": {},
   "outputs": [],
   "source": []
  },
  {
   "cell_type": "code",
   "execution_count": 4,
   "metadata": {},
   "outputs": [
    {
     "data": {
      "text/html": [
       "<div>\n",
       "<style scoped>\n",
       "    .dataframe tbody tr th:only-of-type {\n",
       "        vertical-align: middle;\n",
       "    }\n",
       "\n",
       "    .dataframe tbody tr th {\n",
       "        vertical-align: top;\n",
       "    }\n",
       "\n",
       "    .dataframe thead th {\n",
       "        text-align: right;\n",
       "    }\n",
       "</style>\n",
       "<table border=\"1\" class=\"dataframe\">\n",
       "  <thead>\n",
       "    <tr style=\"text-align: right;\">\n",
       "      <th></th>\n",
       "      <th>marker1</th>\n",
       "      <th>marker2</th>\n",
       "      <th>overlap_ratio</th>\n",
       "      <th>overlapped_mp_number</th>\n",
       "      <th>overlapped_mp</th>\n",
       "    </tr>\n",
       "  </thead>\n",
       "  <tbody>\n",
       "    <tr>\n",
       "      <th>0</th>\n",
       "      <td>0610010K14Rik</td>\n",
       "      <td>4933427D14Rik</td>\n",
       "      <td>0.500</td>\n",
       "      <td>3</td>\n",
       "      <td>[embryonic lethality prior to organogenesis (H...</td>\n",
       "    </tr>\n",
       "    <tr>\n",
       "      <th>1</th>\n",
       "      <td>0610010K14Rik</td>\n",
       "      <td>Acvr1</td>\n",
       "      <td>0.600</td>\n",
       "      <td>3</td>\n",
       "      <td>[embryonic lethality prior to organogenesis (H...</td>\n",
       "    </tr>\n",
       "    <tr>\n",
       "      <th>2</th>\n",
       "      <td>0610010K14Rik</td>\n",
       "      <td>Adss2</td>\n",
       "      <td>0.375</td>\n",
       "      <td>3</td>\n",
       "      <td>[embryonic lethality prior to organogenesis (H...</td>\n",
       "    </tr>\n",
       "    <tr>\n",
       "      <th>3</th>\n",
       "      <td>0610010K14Rik</td>\n",
       "      <td>Ahcy</td>\n",
       "      <td>0.500</td>\n",
       "      <td>3</td>\n",
       "      <td>[embryonic lethality prior to organogenesis (H...</td>\n",
       "    </tr>\n",
       "    <tr>\n",
       "      <th>4</th>\n",
       "      <td>0610010K14Rik</td>\n",
       "      <td>Anapc4</td>\n",
       "      <td>0.750</td>\n",
       "      <td>3</td>\n",
       "      <td>[embryonic lethality prior to organogenesis (H...</td>\n",
       "    </tr>\n",
       "    <tr>\n",
       "      <th>...</th>\n",
       "      <td>...</td>\n",
       "      <td>...</td>\n",
       "      <td>...</td>\n",
       "      <td>...</td>\n",
       "      <td>...</td>\n",
       "    </tr>\n",
       "    <tr>\n",
       "      <th>133276</th>\n",
       "      <td>Zfp503</td>\n",
       "      <td>Zwilch</td>\n",
       "      <td>0.208</td>\n",
       "      <td>5</td>\n",
       "      <td>[abnormal embryo size (Homo), abnormal placent...</td>\n",
       "    </tr>\n",
       "    <tr>\n",
       "      <th>133277</th>\n",
       "      <td>Zfp512</td>\n",
       "      <td>Zpld1</td>\n",
       "      <td>0.429</td>\n",
       "      <td>3</td>\n",
       "      <td>[abnormal behavior (Homo), decreased thigmotax...</td>\n",
       "    </tr>\n",
       "    <tr>\n",
       "      <th>133278</th>\n",
       "      <td>Zfp612</td>\n",
       "      <td>Zfp641</td>\n",
       "      <td>0.500</td>\n",
       "      <td>3</td>\n",
       "      <td>[decreased mean corpuscular volume (Homo), hyp...</td>\n",
       "    </tr>\n",
       "    <tr>\n",
       "      <th>133279</th>\n",
       "      <td>Zfp638</td>\n",
       "      <td>Znhit2</td>\n",
       "      <td>0.429</td>\n",
       "      <td>3</td>\n",
       "      <td>[embryonic lethality prior to organogenesis (H...</td>\n",
       "    </tr>\n",
       "    <tr>\n",
       "      <th>133280</th>\n",
       "      <td>Zfp871</td>\n",
       "      <td>Zwilch</td>\n",
       "      <td>0.231</td>\n",
       "      <td>3</td>\n",
       "      <td>[abnormal embryo size (Homo), embryonic growth...</td>\n",
       "    </tr>\n",
       "  </tbody>\n",
       "</table>\n",
       "<p>133281 rows × 5 columns</p>\n",
       "</div>"
      ],
      "text/plain": [
       "              marker1        marker2  overlap_ratio  overlapped_mp_number  \\\n",
       "0       0610010K14Rik  4933427D14Rik          0.500                     3   \n",
       "1       0610010K14Rik          Acvr1          0.600                     3   \n",
       "2       0610010K14Rik          Adss2          0.375                     3   \n",
       "3       0610010K14Rik           Ahcy          0.500                     3   \n",
       "4       0610010K14Rik         Anapc4          0.750                     3   \n",
       "...               ...            ...            ...                   ...   \n",
       "133276         Zfp503         Zwilch          0.208                     5   \n",
       "133277         Zfp512          Zpld1          0.429                     3   \n",
       "133278         Zfp612         Zfp641          0.500                     3   \n",
       "133279         Zfp638         Znhit2          0.429                     3   \n",
       "133280         Zfp871         Zwilch          0.231                     3   \n",
       "\n",
       "                                            overlapped_mp  \n",
       "0       [embryonic lethality prior to organogenesis (H...  \n",
       "1       [embryonic lethality prior to organogenesis (H...  \n",
       "2       [embryonic lethality prior to organogenesis (H...  \n",
       "3       [embryonic lethality prior to organogenesis (H...  \n",
       "4       [embryonic lethality prior to organogenesis (H...  \n",
       "...                                                   ...  \n",
       "133276  [abnormal embryo size (Homo), abnormal placent...  \n",
       "133277  [abnormal behavior (Homo), decreased thigmotax...  \n",
       "133278  [decreased mean corpuscular volume (Homo), hyp...  \n",
       "133279  [embryonic lethality prior to organogenesis (H...  \n",
       "133280  [abnormal embryo size (Homo), embryonic growth...  \n",
       "\n",
       "[133281 rows x 5 columns]"
      ]
     },
     "execution_count": 4,
     "metadata": {},
     "output_type": "execute_result"
    }
   ],
   "source": [
    "overlap = pickle.load(open(\"data/overlap/overlapped_ratios_filtered.pkl\", \"rb\"))\n",
    "df_overlap = pd.DataFrame(\n",
    "    overlap, columns=[\"marker1\", \"marker2\", \"overlap_ratio\", \"overlapped_mp_number\", \"overlapped_mp\"]\n",
    ")\n",
    "df_overlap  # 133281 rows × 5 columns"
   ]
  },
  {
   "cell_type": "code",
   "execution_count": 5,
   "metadata": {},
   "outputs": [],
   "source": [
    "marker_mp = json.load(open(\"data/annotation/symbol_mptermname.json\"))\n",
    "marker_mp = pd.DataFrame(marker_mp.items(), columns=[\"marker_symbol\", \"mp_term_name\"])\n",
    "marker_mp  # 7746 rows × 2 columns\n",
    "# DFをdictに変換\n",
    "marker_mp_dict = dict(zip(marker_mp.marker_symbol, marker_mp.mp_term_name))"
   ]
  },
  {
   "cell_type": "code",
   "execution_count": null,
   "metadata": {},
   "outputs": [],
   "source": []
  },
  {
   "cell_type": "markdown",
   "metadata": {},
   "source": [
    "## ひとつの遺伝子をハンドルする\n"
   ]
  },
  {
   "cell_type": "code",
   "execution_count": 6,
   "metadata": {},
   "outputs": [],
   "source": [
    "gene_symbol = \"Rab10\""
   ]
  },
  {
   "cell_type": "code",
   "execution_count": 7,
   "metadata": {},
   "outputs": [
    {
     "name": "stdout",
     "output_type": "stream",
     "text": [
      "13\n",
      "29\n"
     ]
    }
   ],
   "source": [
    "P(sum(df_overlap.marker1 == gene_symbol))\n",
    "P(sum(df_overlap.marker2 == gene_symbol))"
   ]
  },
  {
   "cell_type": "code",
   "execution_count": 8,
   "metadata": {},
   "outputs": [],
   "source": [
    "import networkx as nx"
   ]
  },
  {
   "cell_type": "code",
   "execution_count": 9,
   "metadata": {},
   "outputs": [],
   "source": [
    "G = nx.from_pandas_edgelist(df_overlap, \"marker1\", \"marker2\")"
   ]
  },
  {
   "cell_type": "code",
   "execution_count": 10,
   "metadata": {},
   "outputs": [
    {
     "name": "stdout",
     "output_type": "stream",
     "text": [
      "Graph with 43 nodes and 365 edges\n",
      "43\n"
     ]
    }
   ],
   "source": [
    "# ノードAと直接つながっているノードのみを取得\n",
    "neighbors = list(G.neighbors(gene_symbol))\n",
    "subgraph_nodes = [gene_symbol] + neighbors\n",
    "subgraph = G.subgraph(subgraph_nodes)\n",
    "\n",
    "P(subgraph)\n",
    "P(len(subgraph.nodes))"
   ]
  },
  {
   "cell_type": "code",
   "execution_count": 11,
   "metadata": {},
   "outputs": [
    {
     "data": {
      "text/html": [
       "<div>\n",
       "<style scoped>\n",
       "    .dataframe tbody tr th:only-of-type {\n",
       "        vertical-align: middle;\n",
       "    }\n",
       "\n",
       "    .dataframe tbody tr th {\n",
       "        vertical-align: top;\n",
       "    }\n",
       "\n",
       "    .dataframe thead th {\n",
       "        text-align: right;\n",
       "    }\n",
       "</style>\n",
       "<table border=\"1\" class=\"dataframe\">\n",
       "  <thead>\n",
       "    <tr style=\"text-align: right;\">\n",
       "      <th></th>\n",
       "      <th>marker1</th>\n",
       "      <th>marker2</th>\n",
       "      <th>overlap_ratio</th>\n",
       "      <th>overlapped_mp_number</th>\n",
       "      <th>overlapped_mp</th>\n",
       "    </tr>\n",
       "  </thead>\n",
       "  <tbody>\n",
       "    <tr>\n",
       "      <th>0</th>\n",
       "      <td>0610010K14Rik</td>\n",
       "      <td>4933427D14Rik</td>\n",
       "      <td>0.500</td>\n",
       "      <td>3</td>\n",
       "      <td>[embryonic lethality prior to organogenesis (H...</td>\n",
       "    </tr>\n",
       "    <tr>\n",
       "      <th>1</th>\n",
       "      <td>0610010K14Rik</td>\n",
       "      <td>Acvr1</td>\n",
       "      <td>0.600</td>\n",
       "      <td>3</td>\n",
       "      <td>[embryonic lethality prior to organogenesis (H...</td>\n",
       "    </tr>\n",
       "    <tr>\n",
       "      <th>2</th>\n",
       "      <td>0610010K14Rik</td>\n",
       "      <td>Adss2</td>\n",
       "      <td>0.375</td>\n",
       "      <td>3</td>\n",
       "      <td>[embryonic lethality prior to organogenesis (H...</td>\n",
       "    </tr>\n",
       "    <tr>\n",
       "      <th>3</th>\n",
       "      <td>0610010K14Rik</td>\n",
       "      <td>Ahcy</td>\n",
       "      <td>0.500</td>\n",
       "      <td>3</td>\n",
       "      <td>[embryonic lethality prior to organogenesis (H...</td>\n",
       "    </tr>\n",
       "    <tr>\n",
       "      <th>4</th>\n",
       "      <td>0610010K14Rik</td>\n",
       "      <td>Anapc4</td>\n",
       "      <td>0.750</td>\n",
       "      <td>3</td>\n",
       "      <td>[embryonic lethality prior to organogenesis (H...</td>\n",
       "    </tr>\n",
       "    <tr>\n",
       "      <th>...</th>\n",
       "      <td>...</td>\n",
       "      <td>...</td>\n",
       "      <td>...</td>\n",
       "      <td>...</td>\n",
       "      <td>...</td>\n",
       "    </tr>\n",
       "    <tr>\n",
       "      <th>133276</th>\n",
       "      <td>Zfp503</td>\n",
       "      <td>Zwilch</td>\n",
       "      <td>0.208</td>\n",
       "      <td>5</td>\n",
       "      <td>[abnormal embryo size (Homo), abnormal placent...</td>\n",
       "    </tr>\n",
       "    <tr>\n",
       "      <th>133277</th>\n",
       "      <td>Zfp512</td>\n",
       "      <td>Zpld1</td>\n",
       "      <td>0.429</td>\n",
       "      <td>3</td>\n",
       "      <td>[abnormal behavior (Homo), decreased thigmotax...</td>\n",
       "    </tr>\n",
       "    <tr>\n",
       "      <th>133278</th>\n",
       "      <td>Zfp612</td>\n",
       "      <td>Zfp641</td>\n",
       "      <td>0.500</td>\n",
       "      <td>3</td>\n",
       "      <td>[decreased mean corpuscular volume (Homo), hyp...</td>\n",
       "    </tr>\n",
       "    <tr>\n",
       "      <th>133279</th>\n",
       "      <td>Zfp638</td>\n",
       "      <td>Znhit2</td>\n",
       "      <td>0.429</td>\n",
       "      <td>3</td>\n",
       "      <td>[embryonic lethality prior to organogenesis (H...</td>\n",
       "    </tr>\n",
       "    <tr>\n",
       "      <th>133280</th>\n",
       "      <td>Zfp871</td>\n",
       "      <td>Zwilch</td>\n",
       "      <td>0.231</td>\n",
       "      <td>3</td>\n",
       "      <td>[abnormal embryo size (Homo), embryonic growth...</td>\n",
       "    </tr>\n",
       "  </tbody>\n",
       "</table>\n",
       "<p>133281 rows × 5 columns</p>\n",
       "</div>"
      ],
      "text/plain": [
       "              marker1        marker2  overlap_ratio  overlapped_mp_number  \\\n",
       "0       0610010K14Rik  4933427D14Rik          0.500                     3   \n",
       "1       0610010K14Rik          Acvr1          0.600                     3   \n",
       "2       0610010K14Rik          Adss2          0.375                     3   \n",
       "3       0610010K14Rik           Ahcy          0.500                     3   \n",
       "4       0610010K14Rik         Anapc4          0.750                     3   \n",
       "...               ...            ...            ...                   ...   \n",
       "133276         Zfp503         Zwilch          0.208                     5   \n",
       "133277         Zfp512          Zpld1          0.429                     3   \n",
       "133278         Zfp612         Zfp641          0.500                     3   \n",
       "133279         Zfp638         Znhit2          0.429                     3   \n",
       "133280         Zfp871         Zwilch          0.231                     3   \n",
       "\n",
       "                                            overlapped_mp  \n",
       "0       [embryonic lethality prior to organogenesis (H...  \n",
       "1       [embryonic lethality prior to organogenesis (H...  \n",
       "2       [embryonic lethality prior to organogenesis (H...  \n",
       "3       [embryonic lethality prior to organogenesis (H...  \n",
       "4       [embryonic lethality prior to organogenesis (H...  \n",
       "...                                                   ...  \n",
       "133276  [abnormal embryo size (Homo), abnormal placent...  \n",
       "133277  [abnormal behavior (Homo), decreased thigmotax...  \n",
       "133278  [decreased mean corpuscular volume (Homo), hyp...  \n",
       "133279  [embryonic lethality prior to organogenesis (H...  \n",
       "133280  [abnormal embryo size (Homo), embryonic growth...  \n",
       "\n",
       "[133281 rows x 5 columns]"
      ]
     },
     "execution_count": 11,
     "metadata": {},
     "output_type": "execute_result"
    }
   ],
   "source": [
    "df_overlap"
   ]
  },
  {
   "cell_type": "code",
   "execution_count": 12,
   "metadata": {},
   "outputs": [
    {
     "name": "stdout",
     "output_type": "stream",
     "text": [
      "0.026 0.26949850000000003 0.2694995 0.2694995 26\n",
      "0.026 0.14774825000000003 0.14774925000000003 0.14774925000000003 43\n",
      "0.026 0.08687312500000001 0.08687412500000001 0.08687412500000001 43\n",
      "0.026 0.0564355625 0.0564365625 0.0564365625 43\n",
      "0.026 0.04121678125 0.04121778125 0.04121778125 43\n",
      "0.026 0.033607390625 0.033608390625 0.033608390625 43\n",
      "0.026 0.029802695312499995 0.029803695312499996 0.029803695312499996 43\n",
      "0.026 0.027900347656249998 0.02790134765625 0.02790134765625 43\n",
      "0.026 0.026949173828125 0.026950173828125 0.026950173828125 43\n",
      "0.026 0.0264735869140625 0.0264745869140625 0.0264745869140625 43\n",
      "0.026 0.026235793457031246 0.026236793457031247 0.026236793457031247 43\n",
      "0.026 0.026116896728515623 0.026117896728515624 0.026117896728515624 43\n",
      "0.026 0.02605744836425781 0.02605844836425781 0.02605844836425781 43\n",
      "0.026 0.026027724182128904 0.026028724182128905 0.026028724182128905 43\n",
      "0.026 0.026012862091064452 0.026013862091064453 0.026013862091064453 43\n",
      "0.026 0.026005431045532226 0.026006431045532227 0.026006431045532227 43\n",
      "0.026 0.02600171552276611 0.02600271552276611 0.02600271552276611 43\n",
      "0.026 0.025999857761383055 0.026000857761383056 0.026000857761383056 43\n"
     ]
    }
   ],
   "source": [
    "\"\"\"\n",
    "ノードが多すぎるとWebページが描画できない問題を回避するため、\n",
    "ノード数を500以下にするために最適なoverlap_ratioを求める\n",
    "\"\"\"\n",
    "target_columns = 500\n",
    "# 二分探索の範囲\n",
    "low, high = df_overlap[\"overlap_ratio\"].min(), df_overlap[\"overlap_ratio\"].max()\n",
    "best_overlap_ratio = None\n",
    "\n",
    "while low <= high:\n",
    "    mid = (low + high) / 2\n",
    "\n",
    "    # overlap_ratio >= mid のデータをフィルタリング\n",
    "    df_mid = df_overlap[df_overlap[\"overlap_ratio\"] >= mid]\n",
    "\n",
    "    G = nx.from_pandas_edgelist(df_mid, \"marker1\", \"marker2\")\n",
    "    # ノードAと直接つながっているノードのみを取得\n",
    "    try:\n",
    "        neighbors = list(G.neighbors(gene_symbol))\n",
    "    except:\n",
    "        high = mid - 1e-6\n",
    "        continue\n",
    "    subgraph_nodes = [gene_symbol] + neighbors\n",
    "    subgraph = G.subgraph(subgraph_nodes)\n",
    "\n",
    "    row_count = len(subgraph.nodes)\n",
    "    # ターゲット列数に近い場合、結果を保存\n",
    "    if row_count == target_columns:\n",
    "        best_overlap_ratio = mid\n",
    "        break\n",
    "    elif row_count > target_columns:\n",
    "        # 列数が多い場合、範囲を上げる\n",
    "        best_overlap_ratio = mid\n",
    "        low = mid + 1e-6\n",
    "    else:\n",
    "        # 列数が少ない場合、範囲を下げる\n",
    "        best_overlap_ratio = mid\n",
    "        high = mid - 1e-6\n",
    "    print(low, high, mid, best_overlap_ratio, row_count)\n",
    "\n",
    "df_overlap = df_overlap[df_overlap[\"overlap_ratio\"] >= best_overlap_ratio]\n"
   ]
  },
  {
   "cell_type": "code",
   "execution_count": 13,
   "metadata": {},
   "outputs": [
    {
     "name": "stdout",
     "output_type": "stream",
     "text": [
      "['Asxl1', 'Ccdc59', 'Tfrc', 'Cct3', 'Atp6v1b2', 'Gtpbp4', 'Clptm1', 'Prpf39', 'Sptb', 'Mcmbp', 'Srprb', 'Mccc2', 'Ebna1bp2', 'Dnm2', 'Med28', 'Rnaseh2a', 'Ppie', 'U2af1', 'Fbxo5', 'Dhx15', 'Ints8', 'Tomm22', 'Ints3', 'Med10', 'Wee1', 'Atp2b1', 'Scfd1', 'Rpain', 'U2af2', 'Haus4', 'Chp1', 'Ddx46', 'Thoc3', 'Cdca5', 'Btf3', 'Atl2', 'Rab10', 'Med25', 'Osbp', 'Trappc11', 'Hars2', 'Tomm40', 'Lmbrd1']\n"
     ]
    }
   ],
   "source": [
    "P(subgraph.nodes())"
   ]
  },
  {
   "cell_type": "code",
   "execution_count": 14,
   "metadata": {},
   "outputs": [
    {
     "name": "stdout",
     "output_type": "stream",
     "text": [
      "{'data': {'id': 'Asxl1', 'label': 'Asxl1', 'node_color': 0, 'annotation': ['abnormal cornea morphology (Hetero)', 'cornea opacity (Hetero)', 'decreased circulating glucose level (Hetero, Female)', 'decreased circulating iron level (Hetero, Female)', 'decreased hematocrit (Hetero, Female)', 'decreased hemoglobin content (Hetero)', 'decreased mean corpuscular hemoglobin (Hetero)', 'decreased mean corpuscular volume (Hetero)', 'decreased sacral vertebrae number (Hetero)', 'hyperactivity (Hetero)', 'impaired pupillary reflex (Hetero)', 'increased blood uric acid level (Hetero, Male)', 'increased bone mineral content (Hetero)', 'increased lumbar vertebrae number (Hetero)', 'preweaning lethality, complete penetrance (Homo)', 'vertebral fusion (Hetero)']}}\n"
     ]
    }
   ],
   "source": [
    "# nodesを用意\n",
    "\n",
    "node_json = []\n",
    "for node in subgraph.nodes():\n",
    "    annotation = marker_mp_dict[node]\n",
    "    node_color = 1 if node == gene_symbol else 0\n",
    "    node_json.append({\"data\": {\"id\": node, \"label\": node, \"node_color\": node_color, \"annotation\": annotation}})\n",
    "\n",
    "P(node_json[0])"
   ]
  },
  {
   "cell_type": "code",
   "execution_count": 15,
   "metadata": {},
   "outputs": [
    {
     "name": "stdout",
     "output_type": "stream",
     "text": [
      "[{'data': {'source': 'Asxl1', 'target': 'Atp6v1b2', 'edge_size': 0.13, 'annotation': ['decreased hemoglobin content (Hetero)', 'decreased mean corpuscular hemoglobin (Hetero)', 'preweaning lethality, complete penetrance (Homo)']}}, {'data': {'source': 'Asxl1', 'target': 'Btf3', 'edge_size': 0.125, 'annotation': ['decreased mean corpuscular hemoglobin (Hetero)', 'decreased mean corpuscular volume (Hetero)', 'preweaning lethality, complete penetrance (Homo)']}}, {'data': {'source': 'Asxl1', 'target': 'Chp1', 'edge_size': 0.136, 'annotation': ['decreased mean corpuscular hemoglobin (Hetero)', 'decreased mean corpuscular volume (Hetero)', 'preweaning lethality, complete penetrance (Homo)']}}]\n"
     ]
    },
    {
     "name": "stderr",
     "output_type": "stream",
     "text": [
      "/tmp/ipykernel_2977632/1419414854.py:2: SettingWithCopyWarning: \n",
      "A value is trying to be set on a copy of a slice from a DataFrame.\n",
      "Try using .loc[row_indexer,col_indexer] = value instead\n",
      "\n",
      "See the caveats in the documentation: https://pandas.pydata.org/pandas-docs/stable/user_guide/indexing.html#returning-a-view-versus-a-copy\n",
      "  df_overlap[\"id\"] = df_overlap.apply(lambda row: \"-\".join(sorted([row[\"marker1\"], row[\"marker2\"]])), axis=1)\n"
     ]
    }
   ],
   "source": [
    "# edgesを用意\n",
    "df_overlap[\"id\"] = df_overlap.apply(lambda row: \"-\".join(sorted([row[\"marker1\"], row[\"marker2\"]])), axis=1)\n",
    "\n",
    "edge_info = pd.DataFrame({\"id\": [\"-\".join(sorted([a, b])) for a, b in subgraph.edges()]}).merge(df_overlap, on=\"id\")\n",
    "edge_json = []\n",
    "for edge in edge_info.itertuples():\n",
    "    edge_json.append(\n",
    "        {\n",
    "            \"data\": {\n",
    "                \"source\": edge.marker1,\n",
    "                \"target\": edge.marker2,\n",
    "                \"edge_size\": edge.overlap_ratio,\n",
    "                \"annotation\": edge.overlapped_mp,\n",
    "            }\n",
    "        }\n",
    "    )\n",
    "P(edge_json[:3])"
   ]
  },
  {
   "cell_type": "code",
   "execution_count": 16,
   "metadata": {},
   "outputs": [],
   "source": [
    "# Cytoscape.js用のJSON形式に変換\n",
    "cytoscape_data = node_json + edge_json"
   ]
  },
  {
   "cell_type": "code",
   "execution_count": 17,
   "metadata": {},
   "outputs": [
    {
     "name": "stdout",
     "output_type": "stream",
     "text": [
      "[\n",
      " \n"
     ]
    }
   ],
   "source": [
    "# JSONに変換\n",
    "cytoscape_json = json.dumps(cytoscape_data, indent=2)\n",
    "print(cytoscape_json[:3])"
   ]
  },
  {
   "cell_type": "code",
   "execution_count": 18,
   "metadata": {},
   "outputs": [],
   "source": [
    "# Path(\"Rab10.json\").write_text(cytoscape_json)"
   ]
  },
  {
   "cell_type": "markdown",
   "metadata": {},
   "source": [
    "## 一括処理\n"
   ]
  },
  {
   "cell_type": "code",
   "execution_count": 19,
   "metadata": {},
   "outputs": [
    {
     "name": "stdout",
     "output_type": "stream",
     "text": [
      "133281\n"
     ]
    }
   ],
   "source": [
    "overlap = pickle.load(open(\"data/overlap/overlapped_ratios_filtered.pkl\", \"rb\"))\n",
    "df_overlap = pd.DataFrame(\n",
    "    overlap, columns=[\"marker1\", \"marker2\", \"overlap_ratio\", \"overlapped_mp_number\", \"overlapped_mp\"]\n",
    ")\n",
    "P(len(df_overlap))  # 133281 rows × 5 columns"
   ]
  },
  {
   "cell_type": "code",
   "execution_count": 20,
   "metadata": {},
   "outputs": [
    {
     "name": "stdout",
     "output_type": "stream",
     "text": [
      "['0610010K14Rik', '0610040J01Rik', '1500009L16Rik']\n",
      "4139\n"
     ]
    }
   ],
   "source": [
    "gene_symbols = df_overlap.marker1.unique().tolist()\n",
    "gene_symbols += df_overlap.marker2.unique().tolist()\n",
    "gene_symbols = list(set(gene_symbols))\n",
    "gene_symbols.sort()  # 以下のfor文で、どこまで遺伝子が処理されたのか途中経過を見積もるためのソート\n",
    "P(gene_symbols[:3])\n",
    "P(len(gene_symbols))  # 6003"
   ]
  },
  {
   "cell_type": "code",
   "execution_count": 21,
   "metadata": {},
   "outputs": [],
   "source": [
    "output_dir = Path(\"data\", \"network\", \"gene_symbol\")\n",
    "# remove network directory\n",
    "if output_dir.exists():\n",
    "    shutil.rmtree(output_dir)\n",
    "\n",
    "output_dir.mkdir(exist_ok=True, parents=True)\n"
   ]
  },
  {
   "cell_type": "code",
   "execution_count": 22,
   "metadata": {},
   "outputs": [],
   "source": [
    "for gene_symbol in gene_symbols:\n",
    "    \"\"\"\n",
    "    ノードが多すぎるとWebページが描画できない問題を回避するため、\n",
    "    ノード数を200以下にするために最適なoverlap_ratioを求める\n",
    "    \"\"\"\n",
    "    # 今の処理\n",
    "    df_filtered = df_overlap[(df_overlap[\"marker1\"] == gene_symbol) | (df_overlap[\"marker2\"] == gene_symbol)]\n",
    "\n",
    "    G = nx.from_pandas_edgelist(df_filtered, \"marker1\", \"marker2\")\n",
    "\n",
    "    # ノードAと直接つながっているノードのみを取得\n",
    "    neighbors = list(G.neighbors(gene_symbol))\n",
    "    subgraph_nodes = [gene_symbol] + neighbors\n",
    "    subgraph = G.subgraph(subgraph_nodes)\n",
    "\n",
    "    target_number_of_nodes = 200\n",
    "    if len(subgraph.nodes) > target_number_of_nodes:\n",
    "        # 二分探索の範囲\n",
    "        low, high = df_filtered[\"overlap_ratio\"].min(), df_filtered[\"overlap_ratio\"].max()\n",
    "        best_overlap_ratio = None\n",
    "\n",
    "        while low <= high:\n",
    "            mid = (low + high) / 2\n",
    "\n",
    "            # overlap_ratio >= mid のデータをフィルタリング\n",
    "            df_mid = df_filtered[df_filtered[\"overlap_ratio\"] >= mid]\n",
    "\n",
    "            G = nx.from_pandas_edgelist(df_mid, \"marker1\", \"marker2\")\n",
    "            # ノードAと直接つながっているノードのみを取得\n",
    "            try:\n",
    "                neighbors = list(G.neighbors(gene_symbol))\n",
    "            except:\n",
    "                high = mid - 1e-6\n",
    "                continue\n",
    "            subgraph_nodes = [gene_symbol] + neighbors\n",
    "            subgraph = G.subgraph(subgraph_nodes)\n",
    "\n",
    "            row_count = len(subgraph.nodes)\n",
    "            # ターゲット列数に近い場合、結果を保存\n",
    "            if target_number_of_nodes - 25 < row_count < target_number_of_nodes + 25:\n",
    "                best_overlap_ratio = mid\n",
    "                break\n",
    "            elif row_count > target_number_of_nodes:\n",
    "                # 列数が多い場合、範囲を上げる\n",
    "                best_overlap_ratio = mid\n",
    "                low = mid + 1e-6\n",
    "            else:\n",
    "                # 列数が少ない場合、範囲を下げる\n",
    "                best_overlap_ratio = mid\n",
    "                high = mid - 1e-6\n",
    "\n",
    "        df_nodes = df_filtered[df_filtered[\"overlap_ratio\"] >= best_overlap_ratio]\n",
    "        G = nx.from_pandas_edgelist(df_nodes, \"marker1\", \"marker2\")\n",
    "        # ノードAと直接つながっているノードのみを取得\n",
    "        neighbors = list(G.neighbors(gene_symbol))\n",
    "        subgraph_nodes = [gene_symbol] + neighbors\n",
    "        subgraph = G.subgraph(subgraph_nodes)\n",
    "\n",
    "    # nodesを用意\n",
    "    node_json = []\n",
    "    for node in subgraph.nodes():\n",
    "        annotation = marker_mp_dict[node]\n",
    "        node_color = 1 if node == gene_symbol else 0\n",
    "        node_json.append({\"data\": {\"id\": node, \"label\": node, \"node_color\": node_color, \"annotation\": annotation}})\n",
    "\n",
    "    # edgesを用意\n",
    "    df_edge = df_overlap[\n",
    "        (df_overlap[\"marker1\"].isin(subgraph.nodes())) & (df_overlap[\"marker2\"].isin(subgraph.nodes()))\n",
    "    ]\n",
    "\n",
    "    edge_json = []\n",
    "    for edge in df_edge.itertuples():\n",
    "        edge_json.append(\n",
    "            {\n",
    "                \"data\": {\n",
    "                    \"source\": edge.marker1,\n",
    "                    \"target\": edge.marker2,\n",
    "                    \"edge_size\": edge.overlap_ratio,\n",
    "                    \"annotation\": edge.overlapped_mp,\n",
    "                }\n",
    "            }\n",
    "        )\n",
    "    network_json = node_json + edge_json\n",
    "\n",
    "    # Output as JSON\n",
    "    if network_json:\n",
    "        output_json = output_dir / f\"{gene_symbol}.json.gz\"\n",
    "        with gzip.open(output_json, \"wt\", encoding=\"utf-8\") as f:\n",
    "            json.dump(network_json, f, indent=4)\n",
    "\n",
    "# 4m"
   ]
  },
  {
   "cell_type": "code",
   "execution_count": 23,
   "metadata": {},
   "outputs": [
    {
     "name": "stdout",
     "output_type": "stream",
     "text": [
      "total 118M\n",
      "-rwxrwxrwx 1 kuno kuno 198K Mar  6 09:50 Pabir2.json.gz\n",
      "-rwxrwxrwx 1 kuno kuno 198K Mar  6 09:49 Fam161b.json.gz\n",
      "-rwxrwxrwx 1 kuno kuno 185K Mar  6 09:49 Lrrc17.json.gz\n",
      "-rwxrwxrwx 1 kuno kuno 182K Mar  6 09:48 Cer1.json.gz\n"
     ]
    }
   ],
   "source": [
    "%%bash\n",
    "ls -lhS data/network/gene_symbol/ | head -n 5 # total 4.6G -> 133M → 975M\n",
    "# total 118M\n",
    "# -rwxrwxrwx 1 kuno kuno 198K Jan 25 10:31 Fam161b.json.gz\n",
    "# -rwxrwxrwx 1 kuno kuno 198K Jan 25 10:32 Pabir2.json.gz\n",
    "# -rwxrwxrwx 1 kuno kuno 185K Jan 25 10:31 Lrrc17.json.gz\n",
    "# -rwxrwxrwx 1 kuno kuno 182K Jan 25 10:30 Cer1.json.gz"
   ]
  },
  {
   "cell_type": "code",
   "execution_count": 24,
   "metadata": {},
   "outputs": [
    {
     "name": "stdout",
     "output_type": "stream",
     "text": [
      "4139\n"
     ]
    }
   ],
   "source": [
    "Path(\"data/overlap/available_gene_symbols.txt\").write_text(\"\\n\".join(gene_symbols) + \"\\n\")\n",
    "print(len(gene_symbols))  # 4416 -> 4244 → 6003 → 4139"
   ]
  },
  {
   "cell_type": "code",
   "execution_count": 25,
   "metadata": {},
   "outputs": [
    {
     "name": "stdout",
     "output_type": "stream",
     "text": [
      "2025/03/06 09:51:55\n"
     ]
    }
   ],
   "source": [
    "%%bash\n",
    "\n",
    "date +\"%Y/%m/%d %H:%M:%S\" # Last update"
   ]
  },
  {
   "cell_type": "markdown",
   "metadata": {},
   "source": [
    "# Debug\n",
    "\n"
   ]
  },
  {
   "cell_type": "markdown",
   "metadata": {},
   "source": [
    "## 一つの遺伝子のみ取り扱う"
   ]
  },
  {
   "cell_type": "code",
   "execution_count": 26,
   "metadata": {},
   "outputs": [
    {
     "data": {
      "text/html": [
       "<div>\n",
       "<style scoped>\n",
       "    .dataframe tbody tr th:only-of-type {\n",
       "        vertical-align: middle;\n",
       "    }\n",
       "\n",
       "    .dataframe tbody tr th {\n",
       "        vertical-align: top;\n",
       "    }\n",
       "\n",
       "    .dataframe thead th {\n",
       "        text-align: right;\n",
       "    }\n",
       "</style>\n",
       "<table border=\"1\" class=\"dataframe\">\n",
       "  <thead>\n",
       "    <tr style=\"text-align: right;\">\n",
       "      <th></th>\n",
       "      <th>marker1</th>\n",
       "      <th>marker2</th>\n",
       "      <th>overlap_ratio</th>\n",
       "      <th>overlapped_mp_number</th>\n",
       "      <th>overlapped_mp</th>\n",
       "    </tr>\n",
       "  </thead>\n",
       "  <tbody>\n",
       "    <tr>\n",
       "      <th>0</th>\n",
       "      <td>0610010K14Rik</td>\n",
       "      <td>4933427D14Rik</td>\n",
       "      <td>0.500</td>\n",
       "      <td>3</td>\n",
       "      <td>[embryonic lethality prior to organogenesis (H...</td>\n",
       "    </tr>\n",
       "    <tr>\n",
       "      <th>1</th>\n",
       "      <td>0610010K14Rik</td>\n",
       "      <td>Acvr1</td>\n",
       "      <td>0.600</td>\n",
       "      <td>3</td>\n",
       "      <td>[embryonic lethality prior to organogenesis (H...</td>\n",
       "    </tr>\n",
       "    <tr>\n",
       "      <th>2</th>\n",
       "      <td>0610010K14Rik</td>\n",
       "      <td>Adss2</td>\n",
       "      <td>0.375</td>\n",
       "      <td>3</td>\n",
       "      <td>[embryonic lethality prior to organogenesis (H...</td>\n",
       "    </tr>\n",
       "    <tr>\n",
       "      <th>3</th>\n",
       "      <td>0610010K14Rik</td>\n",
       "      <td>Ahcy</td>\n",
       "      <td>0.500</td>\n",
       "      <td>3</td>\n",
       "      <td>[embryonic lethality prior to organogenesis (H...</td>\n",
       "    </tr>\n",
       "    <tr>\n",
       "      <th>4</th>\n",
       "      <td>0610010K14Rik</td>\n",
       "      <td>Anapc4</td>\n",
       "      <td>0.750</td>\n",
       "      <td>3</td>\n",
       "      <td>[embryonic lethality prior to organogenesis (H...</td>\n",
       "    </tr>\n",
       "    <tr>\n",
       "      <th>...</th>\n",
       "      <td>...</td>\n",
       "      <td>...</td>\n",
       "      <td>...</td>\n",
       "      <td>...</td>\n",
       "      <td>...</td>\n",
       "    </tr>\n",
       "    <tr>\n",
       "      <th>133276</th>\n",
       "      <td>Zfp503</td>\n",
       "      <td>Zwilch</td>\n",
       "      <td>0.208</td>\n",
       "      <td>5</td>\n",
       "      <td>[abnormal embryo size (Homo), abnormal placent...</td>\n",
       "    </tr>\n",
       "    <tr>\n",
       "      <th>133277</th>\n",
       "      <td>Zfp512</td>\n",
       "      <td>Zpld1</td>\n",
       "      <td>0.429</td>\n",
       "      <td>3</td>\n",
       "      <td>[abnormal behavior (Homo), decreased thigmotax...</td>\n",
       "    </tr>\n",
       "    <tr>\n",
       "      <th>133278</th>\n",
       "      <td>Zfp612</td>\n",
       "      <td>Zfp641</td>\n",
       "      <td>0.500</td>\n",
       "      <td>3</td>\n",
       "      <td>[decreased mean corpuscular volume (Homo), hyp...</td>\n",
       "    </tr>\n",
       "    <tr>\n",
       "      <th>133279</th>\n",
       "      <td>Zfp638</td>\n",
       "      <td>Znhit2</td>\n",
       "      <td>0.429</td>\n",
       "      <td>3</td>\n",
       "      <td>[embryonic lethality prior to organogenesis (H...</td>\n",
       "    </tr>\n",
       "    <tr>\n",
       "      <th>133280</th>\n",
       "      <td>Zfp871</td>\n",
       "      <td>Zwilch</td>\n",
       "      <td>0.231</td>\n",
       "      <td>3</td>\n",
       "      <td>[abnormal embryo size (Homo), embryonic growth...</td>\n",
       "    </tr>\n",
       "  </tbody>\n",
       "</table>\n",
       "<p>133281 rows × 5 columns</p>\n",
       "</div>"
      ],
      "text/plain": [
       "              marker1        marker2  overlap_ratio  overlapped_mp_number  \\\n",
       "0       0610010K14Rik  4933427D14Rik          0.500                     3   \n",
       "1       0610010K14Rik          Acvr1          0.600                     3   \n",
       "2       0610010K14Rik          Adss2          0.375                     3   \n",
       "3       0610010K14Rik           Ahcy          0.500                     3   \n",
       "4       0610010K14Rik         Anapc4          0.750                     3   \n",
       "...               ...            ...            ...                   ...   \n",
       "133276         Zfp503         Zwilch          0.208                     5   \n",
       "133277         Zfp512          Zpld1          0.429                     3   \n",
       "133278         Zfp612         Zfp641          0.500                     3   \n",
       "133279         Zfp638         Znhit2          0.429                     3   \n",
       "133280         Zfp871         Zwilch          0.231                     3   \n",
       "\n",
       "                                            overlapped_mp  \n",
       "0       [embryonic lethality prior to organogenesis (H...  \n",
       "1       [embryonic lethality prior to organogenesis (H...  \n",
       "2       [embryonic lethality prior to organogenesis (H...  \n",
       "3       [embryonic lethality prior to organogenesis (H...  \n",
       "4       [embryonic lethality prior to organogenesis (H...  \n",
       "...                                                   ...  \n",
       "133276  [abnormal embryo size (Homo), abnormal placent...  \n",
       "133277  [abnormal behavior (Homo), decreased thigmotax...  \n",
       "133278  [decreased mean corpuscular volume (Homo), hyp...  \n",
       "133279  [embryonic lethality prior to organogenesis (H...  \n",
       "133280  [abnormal embryo size (Homo), embryonic growth...  \n",
       "\n",
       "[133281 rows x 5 columns]"
      ]
     },
     "execution_count": 26,
     "metadata": {},
     "output_type": "execute_result"
    }
   ],
   "source": [
    "overlap = pickle.load(open(\"data/overlap/overlapped_ratios_filtered.pkl\", \"rb\"))\n",
    "df_overlap = pd.DataFrame(\n",
    "    overlap, columns=[\"marker1\", \"marker2\", \"overlap_ratio\", \"overlapped_mp_number\", \"overlapped_mp\"]\n",
    ")\n",
    "df_overlap  # 133281 rows × 5 columns"
   ]
  },
  {
   "cell_type": "code",
   "execution_count": 27,
   "metadata": {},
   "outputs": [],
   "source": [
    "marker_mp = json.load(open(\"data/annotation/symbol_mptermname.json\"))\n",
    "marker_mp = pd.DataFrame(marker_mp.items(), columns=[\"marker_symbol\", \"mp_term_name\"])\n",
    "marker_mp  # 7746 rows × 2 columns\n",
    "# DFをdictに変換\n",
    "marker_mp_dict = dict(zip(marker_mp.marker_symbol, marker_mp.mp_term_name))"
   ]
  },
  {
   "cell_type": "code",
   "execution_count": 28,
   "metadata": {},
   "outputs": [],
   "source": [
    "gene_symbol = \"Rhd\""
   ]
  },
  {
   "cell_type": "code",
   "execution_count": null,
   "metadata": {},
   "outputs": [],
   "source": []
  },
  {
   "cell_type": "code",
   "execution_count": 29,
   "metadata": {},
   "outputs": [],
   "source": [
    "# 今の処理\n",
    "df_filtered = df_overlap[(df_overlap[\"marker1\"] == gene_symbol) | (df_overlap[\"marker2\"] == gene_symbol)]\n",
    "\n",
    "G = nx.from_pandas_edgelist(df_filtered, \"marker1\", \"marker2\")\n",
    "\n",
    "# ノードAと直接つながっているノードのみを取得\n",
    "neighbors = list(G.neighbors(gene_symbol))\n",
    "subgraph_nodes = [gene_symbol] + neighbors\n",
    "subgraph = G.subgraph(subgraph_nodes)\n",
    "if len(subgraph.nodes) > 500:\n",
    "    target_columns = 500\n",
    "    # 二分探索の範囲\n",
    "    low, high = df_filtered[\"overlap_ratio\"].min(), df_filtered[\"overlap_ratio\"].max()\n",
    "    best_overlap_ratio = None\n",
    "\n",
    "    while low <= high:\n",
    "        mid = (low + high) / 2\n",
    "\n",
    "        # overlap_ratio >= mid のデータをフィルタリング\n",
    "        df_mid = df_filtered[df_filtered[\"overlap_ratio\"] >= mid]\n",
    "\n",
    "        G = nx.from_pandas_edgelist(df_mid, \"marker1\", \"marker2\")\n",
    "        # ノードAと直接つながっているノードのみを取得\n",
    "        try:\n",
    "            neighbors = list(G.neighbors(gene_symbol))\n",
    "        except:\n",
    "            high = mid - 1e-6\n",
    "            continue\n",
    "        subgraph_nodes = [gene_symbol] + neighbors\n",
    "        subgraph = G.subgraph(subgraph_nodes)\n",
    "\n",
    "        row_count = len(subgraph.nodes)\n",
    "        # ターゲット列数に近い場合、結果を保存\n",
    "        if row_count == target_columns:\n",
    "            best_overlap_ratio = mid\n",
    "            break\n",
    "        elif row_count > target_columns:\n",
    "            # 列数が多い場合、範囲を上げる\n",
    "            best_overlap_ratio = mid\n",
    "            low = mid + 1e-6\n",
    "        else:\n",
    "            # 列数が少ない場合、範囲を下げる\n",
    "            best_overlap_ratio = mid\n",
    "            high = mid - 1e-6\n",
    "    df_results = df_filtered[df_filtered[\"overlap_ratio\"] >= best_overlap_ratio]\n",
    "    G = nx.from_pandas_edgelist(df_results, \"marker1\", \"marker2\")\n",
    "    # ノードAと直接つながっているノードのみを取得\n",
    "    neighbors = list(G.neighbors(gene_symbol))\n",
    "    subgraph_nodes = [gene_symbol] + neighbors\n",
    "    subgraph = G.subgraph(subgraph_nodes)\n",
    "else:\n",
    "    df_results = df_filtered\n",
    "\n",
    "# nodesを用意\n",
    "node_json = []\n",
    "for node in subgraph.nodes():\n",
    "    annotation = marker_mp_dict[node]\n",
    "    node_color = 1 if node == gene_symbol else 0\n",
    "    node_json.append({\"data\": {\"id\": node, \"label\": node, \"node_color\": node_color, \"annotation\": annotation}})\n",
    "# 0.0s"
   ]
  },
  {
   "cell_type": "code",
   "execution_count": 30,
   "metadata": {},
   "outputs": [
    {
     "name": "stdout",
     "output_type": "stream",
     "text": [
      "20\n",
      "{'data': {'annotation': ['abnormal behavior (Homo)',\n",
      "                         'abnormal cholesterol homeostasis (Homo, Female)',\n",
      "                         'abnormal coat appearance (Hetero)',\n",
      "                         'abnormal coat appearance (Homo)',\n",
      "                         'abnormal freezing behavior (Homo)',\n",
      "                         'abnormal inspiratory capacity (Homo)',\n",
      "                         'abnormal kidney morphology (Homo)',\n",
      "                         'abnormal lens morphology (Homo)',\n",
      "                         'abnormal retina inner nuclear layer morphology '\n",
      "                         '(Homo)',\n",
      "                         'abnormal sinus arrhythmia (Homo)',\n",
      "                         'abnormal sleep behavior (Hetero, Female)',\n",
      "                         'abnormal sleep behavior (Homo)',\n",
      "                         'abnormal sleep behavior (Homo, Female)',\n",
      "                         'abnormal sleep behavior (Homo, Male)',\n",
      "                         'abnormal spleen morphology (Homo)',\n",
      "                         'abnormal testis morphology (Homo)',\n",
      "                         'abnormal vertebrae morphology (Homo)',\n",
      "                         'abnormal vertebral arch morphology (Homo)',\n",
      "                         'cardiovascular system phenotype (Homo)',\n",
      "                         'decreased anxiety-related response (Homo)',\n",
      "                         'decreased cardiac output (Homo, Female)',\n",
      "                         'decreased circulating alanine transaminase level '\n",
      "                         '(Homo)',\n",
      "                         'decreased circulating chloride level (Homo, Female)',\n",
      "                         'decreased circulating creatinine level (Homo)',\n",
      "                         'decreased circulating free fatty acids level (Homo)',\n",
      "                         'decreased circulating glucose level (Hetero)',\n",
      "                         'decreased circulating glucose level (Homo, Male)',\n",
      "                         'decreased circulating serum albumin level (Homo, '\n",
      "                         'Male)',\n",
      "                         'decreased circulating total protein level (Homo)',\n",
      "                         'decreased circulating triglyceride level (Homo)',\n",
      "                         'decreased exploration in new environment (Homo)',\n",
      "                         'decreased grip strength (Homo)',\n",
      "                         'decreased grip strength (Homo, Female)',\n",
      "                         'decreased heart rate (Homo)',\n",
      "                         'decreased heart rate variability (Homo)',\n",
      "                         'decreased locomotor activity (Homo)',\n",
      "                         'decreased mean corpuscular hemoglobin (Homo)',\n",
      "                         'decreased mean corpuscular hemoglobin (Homo, Female)',\n",
      "                         'decreased mean corpuscular hemoglobin concentration '\n",
      "                         '(Homo)',\n",
      "                         'decreased mean corpuscular volume (Homo)',\n",
      "                         'decreased respiratory quotient (Homo)',\n",
      "                         'decreased thigmotaxis (Homo)',\n",
      "                         'decreased total body fat amount (Homo)',\n",
      "                         'decreased total body fat amount (Homo, Male)',\n",
      "                         'decreased total retina thickness (Homo)',\n",
      "                         'decreased vertical activity (Homo)',\n",
      "                         'enlarged lymph nodes (Homo)',\n",
      "                         'enlarged spleen (Homo)',\n",
      "                         'hyperactivity (Homo)',\n",
      "                         'hyperactivity (Homo, Male)',\n",
      "                         'impaired contextual conditioning behavior (Homo)',\n",
      "                         'increased bone mineral content (Homo)',\n",
      "                         'increased bone mineral content (Homo, Male)',\n",
      "                         'increased bone mineral density (Homo, Male)',\n",
      "                         'increased cardiac muscle contractility (Homo)',\n",
      "                         'increased circulating alkaline phosphatase level '\n",
      "                         '(Homo)',\n",
      "                         'increased circulating alkaline phosphatase level '\n",
      "                         '(Homo, Female)',\n",
      "                         'increased circulating amylase level (Homo, Male)',\n",
      "                         'increased circulating aspartate transaminase level '\n",
      "                         '(Homo)',\n",
      "                         'increased circulating creatine kinase level (Homo)',\n",
      "                         'increased circulating free fatty acids level '\n",
      "                         '(Hetero)',\n",
      "                         'increased circulating sodium level (Hetero)',\n",
      "                         'increased exploration in new environment (Homo)',\n",
      "                         'increased fasting circulating glucose level (Homo)',\n",
      "                         'increased grip strength (Homo, Female)',\n",
      "                         'increased heart weight (Homo)',\n",
      "                         'increased hematocrit (Homo, Male)',\n",
      "                         'increased hemoglobin content (Homo)',\n",
      "                         'increased kidney weight (Homo)',\n",
      "                         'increased kidney weight (Homo, Male)',\n",
      "                         'increased lean body mass (Homo)',\n",
      "                         'increased lean body mass (Homo, Male)',\n",
      "                         'increased lung compliance (Homo)',\n",
      "                         'increased lung compliance (Homo, Male)',\n",
      "                         'increased prepulse inhibition (Homo)',\n",
      "                         'increased red blood cell distribution width (Homo)',\n",
      "                         'increased startle reflex (Homo)',\n",
      "                         'increased startle reflex (Homo, Female)',\n",
      "                         'limb grasping (Homo)',\n",
      "                         'small testis (Homo)',\n",
      "                         'unresponsive to tactile stimuli (Hetero)',\n",
      "                         'unresponsive to tactile stimuli (Homo)'],\n",
      "          'id': 'Ap4e1',\n",
      "          'label': 'Ap4e1',\n",
      "          'node_color': 0}}\n"
     ]
    }
   ],
   "source": [
    "P(len(subgraph.nodes))  # 91\n",
    "PP(node_json[0])"
   ]
  },
  {
   "cell_type": "code",
   "execution_count": 31,
   "metadata": {},
   "outputs": [
    {
     "name": "stdout",
     "output_type": "stream",
     "text": [
      "95\n"
     ]
    }
   ],
   "source": [
    "# edgesを用意\n",
    "df_edge = df_overlap[(df_overlap[\"marker1\"].isin(subgraph.nodes())) & (df_overlap[\"marker2\"].isin(subgraph.nodes()))]\n",
    "\n",
    "edge_json = []\n",
    "for edge in df_edge.itertuples():\n",
    "    edge_json.append(\n",
    "        {\n",
    "            \"data\": {\n",
    "                \"source\": edge.marker1,\n",
    "                \"target\": edge.marker2,\n",
    "                \"edge_size\": edge.overlap_ratio,\n",
    "                \"annotation\": edge.overlapped_mp,\n",
    "            }\n",
    "        }\n",
    "    )\n",
    "P(len(edge_json))  # 91"
   ]
  },
  {
   "cell_type": "code",
   "execution_count": 32,
   "metadata": {},
   "outputs": [
    {
     "data": {
      "text/plain": [
       "{'data': {'source': 'Ap4e1',\n",
       "  'target': 'Rhd',\n",
       "  'edge_size': 0.057,\n",
       "  'annotation': ['decreased circulating free fatty acids level (Homo)',\n",
       "   'decreased mean corpuscular hemoglobin (Homo)',\n",
       "   'decreased mean corpuscular hemoglobin concentration (Homo)',\n",
       "   'decreased mean corpuscular volume (Homo)',\n",
       "   'increased exploration in new environment (Homo)']}}"
      ]
     },
     "execution_count": 32,
     "metadata": {},
     "output_type": "execute_result"
    }
   ],
   "source": [
    "edge_json[10]"
   ]
  },
  {
   "cell_type": "code",
   "execution_count": 33,
   "metadata": {},
   "outputs": [],
   "source": [
    "df_edge = df_overlap[(df_overlap[\"marker1\"].isin(subgraph.nodes())) & (df_overlap[\"marker2\"].isin(subgraph.nodes()))]"
   ]
  },
  {
   "cell_type": "code",
   "execution_count": 34,
   "metadata": {},
   "outputs": [
    {
     "data": {
      "text/html": [
       "<div>\n",
       "<style scoped>\n",
       "    .dataframe tbody tr th:only-of-type {\n",
       "        vertical-align: middle;\n",
       "    }\n",
       "\n",
       "    .dataframe tbody tr th {\n",
       "        vertical-align: top;\n",
       "    }\n",
       "\n",
       "    .dataframe thead th {\n",
       "        text-align: right;\n",
       "    }\n",
       "</style>\n",
       "<table border=\"1\" class=\"dataframe\">\n",
       "  <thead>\n",
       "    <tr style=\"text-align: right;\">\n",
       "      <th></th>\n",
       "      <th>marker1</th>\n",
       "      <th>marker2</th>\n",
       "      <th>overlap_ratio</th>\n",
       "      <th>overlapped_mp_number</th>\n",
       "      <th>overlapped_mp</th>\n",
       "    </tr>\n",
       "  </thead>\n",
       "  <tbody>\n",
       "  </tbody>\n",
       "</table>\n",
       "</div>"
      ],
      "text/plain": [
       "Empty DataFrame\n",
       "Columns: [marker1, marker2, overlap_ratio, overlapped_mp_number, overlapped_mp]\n",
       "Index: []"
      ]
     },
     "execution_count": 34,
     "metadata": {},
     "output_type": "execute_result"
    }
   ],
   "source": [
    "df_edge[df_edge[\"marker1\"] == \"Anapc7\"]\n"
   ]
  },
  {
   "cell_type": "code",
   "execution_count": 35,
   "metadata": {},
   "outputs": [
    {
     "data": {
      "text/html": [
       "<div>\n",
       "<style scoped>\n",
       "    .dataframe tbody tr th:only-of-type {\n",
       "        vertical-align: middle;\n",
       "    }\n",
       "\n",
       "    .dataframe tbody tr th {\n",
       "        vertical-align: top;\n",
       "    }\n",
       "\n",
       "    .dataframe thead th {\n",
       "        text-align: right;\n",
       "    }\n",
       "</style>\n",
       "<table border=\"1\" class=\"dataframe\">\n",
       "  <thead>\n",
       "    <tr style=\"text-align: right;\">\n",
       "      <th></th>\n",
       "      <th>marker1</th>\n",
       "      <th>marker2</th>\n",
       "      <th>overlap_ratio</th>\n",
       "      <th>overlapped_mp_number</th>\n",
       "      <th>overlapped_mp</th>\n",
       "    </tr>\n",
       "  </thead>\n",
       "  <tbody>\n",
       "  </tbody>\n",
       "</table>\n",
       "</div>"
      ],
      "text/plain": [
       "Empty DataFrame\n",
       "Columns: [marker1, marker2, overlap_ratio, overlapped_mp_number, overlapped_mp]\n",
       "Index: []"
      ]
     },
     "execution_count": 35,
     "metadata": {},
     "output_type": "execute_result"
    }
   ],
   "source": [
    "df_edge[df_edge[\"marker2\"] == \"Anapc7\"]\n"
   ]
  },
  {
   "cell_type": "code",
   "execution_count": 36,
   "metadata": {},
   "outputs": [],
   "source": [
    "# 昔の処理\n",
    "\n",
    "G = nx.from_pandas_edgelist(df_overlap, \"marker1\", \"marker2\")\n",
    "df_overlap = df_overlap.copy()\n",
    "df_overlap[\"id\"] = df_overlap.apply(lambda row: \"-\".join(sorted([row[\"marker1\"], row[\"marker2\"]])), axis=1)\n",
    "\n",
    "# ノードAと直接つながっているノードのみを取得\n",
    "neighbors = list(G.neighbors(gene_symbol))\n",
    "subgraph_nodes = [gene_symbol] + neighbors\n",
    "subgraph = G.subgraph(subgraph_nodes)\n",
    "if len(subgraph.nodes) <= 500:\n",
    "    df_filtered = df_overlap\n",
    "else:\n",
    "    target_columns = 500\n",
    "    # 二分探索の範囲\n",
    "    low, high = df_overlap[\"overlap_ratio\"].min(), df_overlap[\"overlap_ratio\"].max()\n",
    "    best_overlap_ratio = None\n",
    "\n",
    "    while low <= high:\n",
    "        mid = (low + high) / 2\n",
    "\n",
    "        # overlap_ratio >= mid のデータをフィルタリング\n",
    "        df_mid = df_overlap[df_overlap[\"overlap_ratio\"] >= mid]\n",
    "\n",
    "        G = nx.from_pandas_edgelist(df_mid, \"marker1\", \"marker2\")\n",
    "        # ノードAと直接つながっているノードのみを取得\n",
    "        try:\n",
    "            neighbors = list(G.neighbors(gene_symbol))\n",
    "        except:\n",
    "            high = mid - 1e-6\n",
    "            continue\n",
    "        subgraph_nodes = [gene_symbol] + neighbors\n",
    "        subgraph = G.subgraph(subgraph_nodes)\n",
    "\n",
    "        row_count = len(subgraph.nodes)\n",
    "        # ターゲット列数に近い場合、結果を保存\n",
    "        if row_count == target_columns:\n",
    "            best_overlap_ratio = mid\n",
    "            break\n",
    "        elif row_count > target_columns:\n",
    "            # 列数が多い場合、範囲を上げる\n",
    "            best_overlap_ratio = mid\n",
    "            low = mid + 1e-6\n",
    "        else:\n",
    "            # 列数が少ない場合、範囲を下げる\n",
    "            best_overlap_ratio = mid\n",
    "            high = mid - 1e-6\n",
    "\n",
    "    df_filtered = df_overlap[df_overlap[\"overlap_ratio\"] >= best_overlap_ratio]\n",
    "\n",
    "# 前処理\n",
    "G = nx.from_pandas_edgelist(df_filtered, \"marker1\", \"marker2\")\n",
    "df_filtered = df_filtered.copy()\n",
    "df_filtered[\"id\"] = df_filtered.apply(lambda row: \"-\".join(sorted([row[\"marker1\"], row[\"marker2\"]])), axis=1)\n",
    "\n",
    "# ノードAと直接つながっているノードのみを取得\n",
    "neighbors = list(G.neighbors(gene_symbol))\n",
    "subgraph_nodes = [gene_symbol] + neighbors\n",
    "subgraph = G.subgraph(subgraph_nodes)\n",
    "# nodesを用意\n",
    "node_json = []\n",
    "for node in subgraph.nodes():\n",
    "    annotation = marker_mp_dict[node]\n",
    "    node_color = 1 if node == gene_symbol else 0\n",
    "    node_json.append({\"data\": {\"id\": node, \"label\": node, \"node_color\": node_color, \"annotation\": annotation}})\n",
    "\n",
    "# 5.8s"
   ]
  },
  {
   "cell_type": "code",
   "execution_count": 37,
   "metadata": {},
   "outputs": [
    {
     "name": "stdout",
     "output_type": "stream",
     "text": [
      "20\n",
      "[{'data': {'annotation': ['decreased circulating HDL cholesterol level (Homo, '\n",
      "                          'Male)',\n",
      "                          'decreased circulating cholesterol level (Homo, '\n",
      "                          'Male)',\n",
      "                          'decreased circulating triglyceride level (Homo, '\n",
      "                          'Male)',\n",
      "                          'decreased hemoglobin content (Homo, Male)',\n",
      "                          'increased circulating bilirubin level (Homo)',\n",
      "                          'increased mean platelet volume (Homo)',\n",
      "                          'increased red blood cell distribution width (Homo, '\n",
      "                          'Male)'],\n",
      "           'id': 'C2cd4b',\n",
      "           'label': 'C2cd4b',\n",
      "           'node_color': 0}},\n",
      " {'data': {'annotation': ['abnormal skin condition (Homo)',\n",
      "                          'decreased circulating HDL cholesterol level (Homo, '\n",
      "                          'Male)',\n",
      "                          'decreased circulating alkaline phosphatase level '\n",
      "                          '(Homo, Female)',\n",
      "                          'decreased circulating cholesterol level (Homo, '\n",
      "                          'Male)',\n",
      "                          'decreased circulating free fatty acids level (Homo)',\n",
      "                          'decreased hemoglobin content (Homo, Male)',\n",
      "                          'decreased mean corpuscular hemoglobin (Homo)',\n",
      "                          'decreased mean corpuscular hemoglobin concentration '\n",
      "                          '(Homo)',\n",
      "                          'decreased mean corpuscular volume (Homo)',\n",
      "                          'increased exploration in new environment (Homo)'],\n",
      "           'id': 'Rhd',\n",
      "           'label': 'Rhd',\n",
      "           'node_color': 1}},\n",
      " {'data': {'annotation': ['abnormal behavior (Homo)',\n",
      "                          'abnormal cholesterol homeostasis (Homo, Female)',\n",
      "                          'abnormal coat appearance (Hetero)',\n",
      "                          'abnormal coat appearance (Homo)',\n",
      "                          'abnormal freezing behavior (Homo)',\n",
      "                          'abnormal inspiratory capacity (Homo)',\n",
      "                          'abnormal kidney morphology (Homo)',\n",
      "                          'abnormal lens morphology (Homo)',\n",
      "                          'abnormal retina inner nuclear layer morphology '\n",
      "                          '(Homo)',\n",
      "                          'abnormal sinus arrhythmia (Homo)',\n",
      "                          'abnormal sleep behavior (Hetero, Female)',\n",
      "                          'abnormal sleep behavior (Homo)',\n",
      "                          'abnormal sleep behavior (Homo, Female)',\n",
      "                          'abnormal sleep behavior (Homo, Male)',\n",
      "                          'abnormal spleen morphology (Homo)',\n",
      "                          'abnormal testis morphology (Homo)',\n",
      "                          'abnormal vertebrae morphology (Homo)',\n",
      "                          'abnormal vertebral arch morphology (Homo)',\n",
      "                          'cardiovascular system phenotype (Homo)',\n",
      "                          'decreased anxiety-related response (Homo)',\n",
      "                          'decreased cardiac output (Homo, Female)',\n",
      "                          'decreased circulating alanine transaminase level '\n",
      "                          '(Homo)',\n",
      "                          'decreased circulating chloride level (Homo, Female)',\n",
      "                          'decreased circulating creatinine level (Homo)',\n",
      "                          'decreased circulating free fatty acids level (Homo)',\n",
      "                          'decreased circulating glucose level (Hetero)',\n",
      "                          'decreased circulating glucose level (Homo, Male)',\n",
      "                          'decreased circulating serum albumin level (Homo, '\n",
      "                          'Male)',\n",
      "                          'decreased circulating total protein level (Homo)',\n",
      "                          'decreased circulating triglyceride level (Homo)',\n",
      "                          'decreased exploration in new environment (Homo)',\n",
      "                          'decreased grip strength (Homo)',\n",
      "                          'decreased grip strength (Homo, Female)',\n",
      "                          'decreased heart rate (Homo)',\n",
      "                          'decreased heart rate variability (Homo)',\n",
      "                          'decreased locomotor activity (Homo)',\n",
      "                          'decreased mean corpuscular hemoglobin (Homo)',\n",
      "                          'decreased mean corpuscular hemoglobin (Homo, '\n",
      "                          'Female)',\n",
      "                          'decreased mean corpuscular hemoglobin concentration '\n",
      "                          '(Homo)',\n",
      "                          'decreased mean corpuscular volume (Homo)',\n",
      "                          'decreased respiratory quotient (Homo)',\n",
      "                          'decreased thigmotaxis (Homo)',\n",
      "                          'decreased total body fat amount (Homo)',\n",
      "                          'decreased total body fat amount (Homo, Male)',\n",
      "                          'decreased total retina thickness (Homo)',\n",
      "                          'decreased vertical activity (Homo)',\n",
      "                          'enlarged lymph nodes (Homo)',\n",
      "                          'enlarged spleen (Homo)',\n",
      "                          'hyperactivity (Homo)',\n",
      "                          'hyperactivity (Homo, Male)',\n",
      "                          'impaired contextual conditioning behavior (Homo)',\n",
      "                          'increased bone mineral content (Homo)',\n",
      "                          'increased bone mineral content (Homo, Male)',\n",
      "                          'increased bone mineral density (Homo, Male)',\n",
      "                          'increased cardiac muscle contractility (Homo)',\n",
      "                          'increased circulating alkaline phosphatase level '\n",
      "                          '(Homo)',\n",
      "                          'increased circulating alkaline phosphatase level '\n",
      "                          '(Homo, Female)',\n",
      "                          'increased circulating amylase level (Homo, Male)',\n",
      "                          'increased circulating aspartate transaminase level '\n",
      "                          '(Homo)',\n",
      "                          'increased circulating creatine kinase level (Homo)',\n",
      "                          'increased circulating free fatty acids level '\n",
      "                          '(Hetero)',\n",
      "                          'increased circulating sodium level (Hetero)',\n",
      "                          'increased exploration in new environment (Homo)',\n",
      "                          'increased fasting circulating glucose level (Homo)',\n",
      "                          'increased grip strength (Homo, Female)',\n",
      "                          'increased heart weight (Homo)',\n",
      "                          'increased hematocrit (Homo, Male)',\n",
      "                          'increased hemoglobin content (Homo)',\n",
      "                          'increased kidney weight (Homo)',\n",
      "                          'increased kidney weight (Homo, Male)',\n",
      "                          'increased lean body mass (Homo)',\n",
      "                          'increased lean body mass (Homo, Male)',\n",
      "                          'increased lung compliance (Homo)',\n",
      "                          'increased lung compliance (Homo, Male)',\n",
      "                          'increased prepulse inhibition (Homo)',\n",
      "                          'increased red blood cell distribution width (Homo)',\n",
      "                          'increased startle reflex (Homo)',\n",
      "                          'increased startle reflex (Homo, Female)',\n",
      "                          'limb grasping (Homo)',\n",
      "                          'small testis (Homo)',\n",
      "                          'unresponsive to tactile stimuli (Hetero)',\n",
      "                          'unresponsive to tactile stimuli (Homo)'],\n",
      "           'id': 'Ap4e1',\n",
      "           'label': 'Ap4e1',\n",
      "           'node_color': 0}}]\n"
     ]
    }
   ],
   "source": [
    "P(len(subgraph.nodes))  # 91\n",
    "PP(node_json[:3])"
   ]
  },
  {
   "cell_type": "code",
   "execution_count": 38,
   "metadata": {},
   "outputs": [],
   "source": [
    "old_nodes = {s for s in subgraph.nodes()}"
   ]
  },
  {
   "cell_type": "code",
   "execution_count": 39,
   "metadata": {},
   "outputs": [
    {
     "ename": "NameError",
     "evalue": "name 'new_nodes' is not defined",
     "output_type": "error",
     "traceback": [
      "\u001b[0;31m---------------------------------------------------------------------------\u001b[0m",
      "\u001b[0;31mNameError\u001b[0m                                 Traceback (most recent call last)",
      "Cell \u001b[0;32mIn[39], line 1\u001b[0m\n\u001b[0;32m----> 1\u001b[0m \u001b[43mnew_nodes\u001b[49m \u001b[38;5;241m-\u001b[39m old_nodes\n",
      "\u001b[0;31mNameError\u001b[0m: name 'new_nodes' is not defined"
     ]
    }
   ],
   "source": [
    "new_nodes - old_nodes"
   ]
  },
  {
   "cell_type": "code",
   "execution_count": null,
   "metadata": {},
   "outputs": [],
   "source": []
  }
 ],
 "metadata": {
  "kernelspec": {
   "display_name": "Python 3",
   "language": "python",
   "name": "python3"
  },
  "language_info": {
   "codemirror_mode": {
    "name": "ipython",
    "version": 3
   },
   "file_extension": ".py",
   "mimetype": "text/x-python",
   "name": "python",
   "nbconvert_exporter": "python",
   "pygments_lexer": "ipython3",
   "version": "3.10.15"
  }
 },
 "nbformat": 4,
 "nbformat_minor": 2
}

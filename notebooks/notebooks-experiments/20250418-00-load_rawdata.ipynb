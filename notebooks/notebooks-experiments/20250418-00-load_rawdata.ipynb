{
 "cells": [
  {
   "cell_type": "markdown",
   "metadata": {},
   "source": [
    "# Raw dataを読むときに、最終列をリスト型に変換するコードを書く"
   ]
  },
  {
   "cell_type": "markdown",
   "metadata": {},
   "source": [
    "# セットアップ"
   ]
  },
  {
   "cell_type": "code",
   "execution_count": null,
   "metadata": {},
   "outputs": [],
   "source": [
    "# Move up to top directory\n",
    "import os\n",
    "from pathlib import Path\n",
    "\n",
    "print(os.getcwd())\n",
    "\n",
    "while not Path(\"LICENSE\").exists():\n",
    "    os.chdir('../')\n",
    "\n",
    "print(os.getcwd())"
   ]
  },
  {
   "cell_type": "code",
   "execution_count": null,
   "metadata": {},
   "outputs": [],
   "source": [
    "from pathlib import Path\n",
    "from pprint import pprint\n",
    "from collections import defaultdict, Counter\n",
    "from itertools import combinations\n",
    "import csv\n",
    "import pandas as pd\n",
    "from matplotlib import pyplot as plt\n",
    "import seaborn as sns\n",
    "\n",
    "P = print\n",
    "PP = pprint\n",
    "C = Counter\n"
   ]
  },
  {
   "cell_type": "markdown",
   "metadata": {},
   "source": [
    "# 実験"
   ]
  },
  {
   "cell_type": "code",
   "execution_count": null,
   "metadata": {},
   "outputs": [],
   "source": [
    "import pandas as pd\n",
    "import ast\n",
    "\n",
    "df = pd.read_csv(\n",
    "    \"data/TSUMUGI_raw_data.csv.gz\",\n",
    "    converters={\"Overlapped phenotype\": ast.literal_eval}\n",
    ")"
   ]
  },
  {
   "cell_type": "code",
   "execution_count": null,
   "metadata": {},
   "outputs": [],
   "source": [
    "df[[\"Overlapped phenotype\"]]"
   ]
  },
  {
   "cell_type": "code",
   "execution_count": null,
   "metadata": {},
   "outputs": [],
   "source": [
    "# Overlapped phenotypeのなかに、\"male\"または\"female\"が含まれているものを抽出する\n",
    "df_similarity_with_sexual_dimorphism = df_similarity_with_phenotype[\n",
    "    df_similarity_with_phenotype['Overlapped phenotype'].str.contains('male|female')\n",
    "]\n",
    "df_similarity_with_sexual_dimorphism # 63494 row"
   ]
  },
  {
   "cell_type": "code",
   "execution_count": null,
   "metadata": {},
   "outputs": [],
   "source": [
    "# Overlapeed phenotypeの中で、maleとfemaleを含むものを抽出する\n",
    "overlapped_phenotype = df_similarity_with_sexual_dimorphism['Overlapped phenotype'].tolist()\n",
    "\n",
    "import ast\n",
    "\n",
    "# 各文字列をパースしてリストに変換\n",
    "parsed_lists = [ast.literal_eval(item) for item in overlapped_phenotype]\n",
    "\n",
    "# 全てのリストを結合\n",
    "flattened_list = []\n",
    "for sublist in parsed_lists:\n",
    "    flattened_list.extend(sublist)\n",
    "\n",
    "P(flattened_list[:5])"
   ]
  },
  {
   "cell_type": "code",
   "execution_count": null,
   "metadata": {},
   "outputs": [],
   "source": [
    "\n",
    "phenotype_with_sexual_dimorphism = [p for p in flattened_list if \"Male\" in p or \"Female\" in p]\n",
    "\n",
    "P(phenotype_with_sexual_dimorphism[:5])"
   ]
  },
  {
   "cell_type": "code",
   "execution_count": null,
   "metadata": {},
   "outputs": [],
   "source": [
    "Counter(phenotype_with_sexual_dimorphism).most_common(100)"
   ]
  },
  {
   "cell_type": "code",
   "execution_count": null,
   "metadata": {},
   "outputs": [],
   "source": []
  }
 ],
 "metadata": {
  "kernelspec": {
   "display_name": "Python 3",
   "language": "python",
   "name": "python3"
  },
  "language_info": {
   "codemirror_mode": {
    "name": "ipython",
    "version": 3
   },
   "file_extension": ".py",
   "mimetype": "text/x-python",
   "name": "python",
   "nbconvert_exporter": "python",
   "pygments_lexer": "ipython3",
   "version": "3.10.15"
  }
 },
 "nbformat": 4,
 "nbformat_minor": 2
}

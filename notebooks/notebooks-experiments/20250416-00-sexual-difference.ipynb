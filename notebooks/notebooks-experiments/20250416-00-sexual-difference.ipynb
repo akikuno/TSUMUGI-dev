{
 "cells": [
  {
   "cell_type": "markdown",
   "metadata": {},
   "source": [
    "# 各表現型について、表現型に類似性があり、性差が異なる遺伝子リストを取得する"
   ]
  },
  {
   "cell_type": "markdown",
   "metadata": {},
   "source": [
    "# セットアップ"
   ]
  },
  {
   "cell_type": "code",
   "execution_count": null,
   "metadata": {},
   "outputs": [],
   "source": [
    "# Move up to top directory\n",
    "import os\n",
    "from pathlib import Path\n",
    "\n",
    "print(os.getcwd())\n",
    "\n",
    "while not Path(\"LICENSE\").exists():\n",
    "    os.chdir(\"../\")\n",
    "\n",
    "print(os.getcwd())"
   ]
  },
  {
   "cell_type": "code",
   "execution_count": null,
   "metadata": {},
   "outputs": [],
   "source": [
    "from pathlib import Path\n",
    "from pprint import pprint\n",
    "from collections import Counter\n",
    "import pandas as pd\n",
    "\n",
    "P = print\n",
    "PP = pprint\n",
    "C = Counter"
   ]
  },
  {
   "cell_type": "markdown",
   "metadata": {},
   "source": [
    "# 実験"
   ]
  },
  {
   "cell_type": "code",
   "execution_count": null,
   "metadata": {},
   "outputs": [],
   "source": [
    "df_similarity = pd.read_csv(\"data/TSUMUGI_raw_data.csv.gz\")\n",
    "# 15 sec"
   ]
  },
  {
   "cell_type": "code",
   "execution_count": null,
   "metadata": {},
   "outputs": [],
   "source": [
    "conditions = (df_similarity[\"Number of overlapped phenotype\"] > 0) & (\n",
    "    df_similarity[\"Jaccard Similarity\"] > 0.1\n",
    ")\n",
    "df_similarity_with_phenotype = df_similarity[conditions]\n",
    "df_similarity_with_phenotype  # 1779355 row"
   ]
  },
  {
   "cell_type": "code",
   "execution_count": null,
   "metadata": {},
   "outputs": [],
   "source": [
    "# Overlapped phenotypeのなかに、\"male\"または\"female\"が含まれているものを抽出する\n",
    "df_similarity_with_sexual_dimorphism = df_similarity_with_phenotype[\n",
    "    df_similarity_with_phenotype[\"Overlapped phenotype\"].str.contains(\"male|female\")\n",
    "]\n",
    "df_similarity_with_sexual_dimorphism  # 63494 row"
   ]
  },
  {
   "cell_type": "code",
   "execution_count": null,
   "metadata": {},
   "outputs": [],
   "source": [
    "# Overlapeed phenotypeの中で、maleとfemaleを含むものを抽出する\n",
    "overlapped_phenotype = df_similarity_with_sexual_dimorphism[\n",
    "    \"Overlapped phenotype\"\n",
    "].tolist()\n",
    "\n",
    "import ast\n",
    "\n",
    "# 各文字列をパースしてリストに変換\n",
    "parsed_lists = [ast.literal_eval(item) for item in overlapped_phenotype]\n",
    "\n",
    "# 全てのリストを結合\n",
    "flattened_list = []\n",
    "for sublist in parsed_lists:\n",
    "    flattened_list.extend(sublist)\n",
    "\n",
    "P(flattened_list[:5])"
   ]
  },
  {
   "cell_type": "code",
   "execution_count": null,
   "metadata": {},
   "outputs": [],
   "source": [
    "phenotype_with_sexual_dimorphism = [\n",
    "    p for p in flattened_list if \"Male\" in p or \"Female\" in p\n",
    "]\n",
    "\n",
    "P(phenotype_with_sexual_dimorphism[:5])"
   ]
  },
  {
   "cell_type": "code",
   "execution_count": null,
   "metadata": {},
   "outputs": [],
   "source": [
    "Counter(phenotype_with_sexual_dimorphism).most_common(100)"
   ]
  },
  {
   "cell_type": "code",
   "execution_count": null,
   "metadata": {},
   "outputs": [],
   "source": []
  }
 ],
 "metadata": {
  "kernelspec": {
   "display_name": "Python 3",
   "language": "python",
   "name": "python3"
  },
  "language_info": {
   "codemirror_mode": {
    "name": "ipython",
    "version": 3
   },
   "file_extension": ".py",
   "mimetype": "text/x-python",
   "name": "python",
   "nbconvert_exporter": "python",
   "pygments_lexer": "ipython3",
   "version": "3.10.15"
  }
 },
 "nbformat": 4,
 "nbformat_minor": 2
}

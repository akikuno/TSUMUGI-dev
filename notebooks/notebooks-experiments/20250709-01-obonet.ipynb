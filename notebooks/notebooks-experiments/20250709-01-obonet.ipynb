{
 "cells": [
  {
   "cell_type": "markdown",
   "metadata": {},
   "source": [
    "# 情報量計算において、親 < 子 のスコアとなっているか確認\n",
    "\n",
    "- Issue: #114"
   ]
  },
  {
   "cell_type": "markdown",
   "metadata": {},
   "source": [
    "# セットアップ"
   ]
  },
  {
   "cell_type": "code",
   "execution_count": null,
   "metadata": {},
   "outputs": [],
   "source": [
    "# Move up to top directory\n",
    "import os\n",
    "from pathlib import Path\n",
    "\n",
    "print(os.getcwd())\n",
    "\n",
    "while not Path(\"LICENSE\").exists():\n",
    "    os.chdir(\"../\")\n",
    "\n",
    "print(os.getcwd())"
   ]
  },
  {
   "cell_type": "code",
   "execution_count": null,
   "metadata": {},
   "outputs": [],
   "source": [
    "from pathlib import Path\n",
    "from pprint import pprint\n",
    "from collections import Counter\n",
    "\n",
    "import pandas as pd\n",
    "\n",
    "P = print\n",
    "PP = pprint\n",
    "C = Counter"
   ]
  },
  {
   "cell_type": "markdown",
   "metadata": {},
   "source": [
    "# 実験"
   ]
  },
  {
   "cell_type": "code",
   "execution_count": null,
   "metadata": {},
   "outputs": [],
   "source": [
    "import obonet\n",
    "import json\n",
    "graph = obonet.read_obo(\"data/ontology/mp.obo\")\n",
    "\n",
    "symbol_mptermname = json.load(open(\"data/annotation/symbol_mptermname.json\"))"
   ]
  },
  {
   "cell_type": "code",
   "execution_count": null,
   "metadata": {},
   "outputs": [],
   "source": [
    "def parse_obo_file(file_path: str) -> dict[str, dict]:\n",
    "    \"\"\"Parse OBO file and extract term information.\"\"\"\n",
    "    terms = {}\n",
    "    current_term = None\n",
    "\n",
    "    with open(file_path, \"r\", encoding=\"utf-8\") as f:\n",
    "        for line in f:\n",
    "            line = line.strip()\n",
    "\n",
    "            if line == \"[Term]\":\n",
    "                current_term = {}\n",
    "                continue\n",
    "\n",
    "            if line.startswith(\"[\") and line.endswith(\"]\") and line != \"[Term]\":\n",
    "                current_term = None\n",
    "                continue\n",
    "\n",
    "            if current_term is None:\n",
    "                continue\n",
    "\n",
    "            if \":\" in line:\n",
    "                key, value = line.split(\":\", 1)\n",
    "                key = key.strip()\n",
    "                value = value.strip()\n",
    "\n",
    "                if key == \"id\":\n",
    "                    current_term[\"id\"] = value\n",
    "                elif key == \"name\":\n",
    "                    current_term[\"name\"] = value\n",
    "                elif key == \"is_a\":\n",
    "                    if \"is_a\" not in current_term:\n",
    "                        current_term[\"is_a\"] = []\n",
    "                    parent_id = value.split(\"!\")[0].strip()\n",
    "                    current_term[\"is_a\"].append(parent_id)\n",
    "                elif key == \"is_obsolete\":\n",
    "                    current_term[\"is_obsolete\"] = value.lower() == \"true\"\n",
    "\n",
    "            if line == \"\" and current_term and \"id\" in current_term:\n",
    "                if not current_term.get(\"is_obsolete\", False):\n",
    "                    terms[current_term[\"id\"]] = current_term\n",
    "                current_term = None\n",
    "\n",
    "    return terms"
   ]
  },
  {
   "cell_type": "code",
   "execution_count": null,
   "metadata": {},
   "outputs": [],
   "source": [
    "obo = parse_obo_file(\"data/ontology/mp.obo\")\n",
    "print(list(obo.items())[:3])"
   ]
  },
  {
   "cell_type": "code",
   "execution_count": null,
   "metadata": {},
   "outputs": [],
   "source": [
    "from collections import defaultdict\n",
    "\n",
    "direct_count = defaultdict(int)\n",
    "for mp_names in symbol_mptermname.values():\n",
    "    for mp_name in mp_names:\n",
    "        mp_name = mp_name.split('(')[0].strip()\n",
    "        direct_count[mp_name] += 1\n",
    "\n",
    "direct_count = dict(direct_count)\n",
    "print(list(direct_count.items())[:3])"
   ]
  },
  {
   "cell_type": "code",
   "execution_count": null,
   "metadata": {},
   "outputs": [],
   "source": [
    "print(direct_count.get(\"mammalian phenotype\", 0))\n",
    "print(direct_count.get(\"abnormal testis morphology\", 0))\n",
    "print(direct_count[\"small testis\"])"
   ]
  },
  {
   "cell_type": "code",
   "execution_count": null,
   "metadata": {},
   "outputs": [],
   "source": [
    "from collections import defaultdict, deque\n",
    "\n",
    "def propagate_frequencies(obo: dict, direct_count: dict) -> dict:\n",
    "    \"\"\"\n",
    "    Propagate frequencies from child terms to parent terms using the 'is_a' hierarchy in obo.\n",
    "\n",
    "    Parameters:\n",
    "        obo (dict): Parsed OBO dictionary (term_id → term_info).\n",
    "        direct_count (dict): Direct annotation frequencies (term_name → count).\n",
    "\n",
    "    Returns:\n",
    "        dict: propagated_count (term_name → cumulative count).\n",
    "    \"\"\"\n",
    "    # 1. term_name → term_id の逆引き辞書\n",
    "    name_to_id = {v[\"name\"]: k for k, v in obo.items()}\n",
    "\n",
    "    # 2. 初期化（term_idベースでカウントする）\n",
    "    propagated_count = defaultdict(int)\n",
    "\n",
    "    # 3. direct_count の name → id 変換\n",
    "    for name, count in direct_count.items():\n",
    "        if name not in name_to_id:\n",
    "            continue  # 無視する（未登録のMP名）\n",
    "        term_id = name_to_id[name]\n",
    "        propagated_count[term_id] += count\n",
    "\n",
    "    # 4. トポロジカルソート準備（子 → 親方向）\n",
    "    #    各ノードの「親リスト」「子の数（入次数）」を構築\n",
    "    children_map = defaultdict(list)\n",
    "    in_degree = defaultdict(int)\n",
    "\n",
    "    for term_id, info in obo.items():\n",
    "        for parent_id in info.get(\"is_a\", []):\n",
    "            children_map[parent_id].append(term_id)\n",
    "            in_degree[term_id] += 1\n",
    "\n",
    "    # 入次数が0のノード（ルート）からキューに積む\n",
    "    queue = deque([term for term in obo if in_degree[term] == 0])\n",
    "\n",
    "    # 5. トポロジカル順に伝播（子 → 親の順に処理）\n",
    "    while queue:\n",
    "        parent_id = queue.popleft()\n",
    "        for child_id in children_map[parent_id]:\n",
    "            propagated_count[parent_id] += propagated_count[child_id]\n",
    "            in_degree[child_id] -= 1\n",
    "            if in_degree[child_id] == 0:\n",
    "                queue.append(child_id)\n",
    "\n",
    "    # 6. term_id → name に戻して返す\n",
    "    id_to_name = {v[\"id\"]: v[\"name\"] for v in obo.values()}\n",
    "    propagated_count_named = {\n",
    "        id_to_name[tid]: count for tid, count in propagated_count.items() if tid in id_to_name\n",
    "    }\n",
    "\n",
    "    return propagated_count_named\n"
   ]
  },
  {
   "cell_type": "code",
   "execution_count": null,
   "metadata": {},
   "outputs": [],
   "source": [
    "propagated_count = propagate_frequencies(obo, direct_count)"
   ]
  },
  {
   "cell_type": "code",
   "execution_count": null,
   "metadata": {},
   "outputs": [],
   "source": [
    "print(propagated_count.get(\"mammalian phenotype\", 0))\n",
    "print(propagated_count.get(\"abnormal testis morphology\", 0))\n",
    "print(propagated_count.get(\"abnormal testis size\", 0))\n",
    "print(propagated_count[\"small testis\"])"
   ]
  },
  {
   "cell_type": "code",
   "execution_count": null,
   "metadata": {},
   "outputs": [],
   "source": [
    "def check_propagation_monotonicity(obo: dict, propagated_count: dict) -> list[tuple[str, str, int, int]]:\n",
    "    \"\"\"\n",
    "    Check that for all parent-child relationships, propagated_count[parent] ≥ propagated_count[child].\n",
    "\n",
    "    Parameters:\n",
    "        obo (dict): Parsed OBO dictionary.\n",
    "        propagated_count (dict): Term name → propagated count.\n",
    "\n",
    "    Returns:\n",
    "        List of violations: [(parent_name, child_name, parent_count, child_count), ...]\n",
    "    \"\"\"\n",
    "    id_to_name = {v[\"id\"]: v[\"name\"] for v in obo.values()}\n",
    "    name_to_count = propagated_count\n",
    "    violations = []\n",
    "\n",
    "    for child_id, info in obo.items():\n",
    "        child_name = id_to_name.get(child_id)\n",
    "        if child_name not in name_to_count:\n",
    "            continue\n",
    "\n",
    "        child_count = name_to_count[child_name]\n",
    "\n",
    "        for parent_id in info.get(\"is_a\", []):\n",
    "            parent_name = id_to_name.get(parent_id)\n",
    "            if parent_name is None or parent_name not in name_to_count:\n",
    "                continue\n",
    "            parent_count = name_to_count[parent_name]\n",
    "\n",
    "            if parent_count < child_count:\n",
    "                violations.append((parent_name, child_name, parent_count, child_count))\n",
    "\n",
    "    return violations\n",
    "\n",
    "\n",
    "# 使用例\n",
    "violations = check_propagation_monotonicity(obo, propagated_count)\n",
    "\n",
    "# 表示（Pandasで表に）\n",
    "import pandas as pd\n",
    "violations_df = pd.DataFrame(violations, columns=[\"Parent\", \"Child\", \"Parent_Count\", \"Child_Count\"])\n",
    "print(violations_df)"
   ]
  },
  {
   "cell_type": "code",
   "execution_count": null,
   "metadata": {},
   "outputs": [],
   "source": [
    "# effect_sizeが1のもの（評価がバイナリのものを除外）\n",
    "df_impc_filtered = df_impc[df_impc[\"effect_size\"].abs() != 1]"
   ]
  },
  {
   "cell_type": "code",
   "execution_count": null,
   "metadata": {},
   "outputs": [],
   "source": [
    "# Plot the distribution of effect size values\n",
    "df_impc_filtered[\"effect_size\"].abs().dropna().plot.hist(bins=1000)"
   ]
  },
  {
   "cell_type": "code",
   "execution_count": null,
   "metadata": {},
   "outputs": [],
   "source": [
    "df_impc_filtered[df_impc_filtered[\"effect_size\"].abs() < 20][\"effect_size\"].abs().dropna().plot.hist(bins=100)\n"
   ]
  },
  {
   "cell_type": "code",
   "execution_count": null,
   "metadata": {},
   "outputs": [],
   "source": [
    "df_impc_filtered_eps = df_impc_filtered[\"effect_size\"] + 1e-6\n"
   ]
  },
  {
   "cell_type": "code",
   "execution_count": null,
   "metadata": {},
   "outputs": [],
   "source": [
    "# 対数変換してPlot\n",
    "import numpy as np\n",
    "df_impc_filtered_eps[df_impc_filtered_eps.abs() < 20].apply(lambda x: np.log10(x)).dropna().plot.hist(bins=100)"
   ]
  },
  {
   "cell_type": "markdown",
   "metadata": {},
   "source": [
    "- 効果量は対数変換したほうが良さそう"
   ]
  },
  {
   "cell_type": "markdown",
   "metadata": {},
   "source": [
    "## 表現型類似度"
   ]
  },
  {
   "cell_type": "code",
   "execution_count": null,
   "metadata": {},
   "outputs": [],
   "source": [
    "df_similarity = pd.read_parquet(\"data/TSUMUGI_RawData/TSUMUGI_v1.0.0_raw_data.parquet\")"
   ]
  },
  {
   "cell_type": "code",
   "execution_count": null,
   "metadata": {},
   "outputs": [],
   "source": [
    "df_similarity[\"Phenodigm Score\"].plot.hist(bins=100)"
   ]
  },
  {
   "cell_type": "code",
   "execution_count": null,
   "metadata": {},
   "outputs": [],
   "source": [
    "df_similarity[df_similarity[\"Phenodigm Score\"] > 0][\"Phenodigm Score\"].plot.hist(bins=100)"
   ]
  },
  {
   "cell_type": "code",
   "execution_count": null,
   "metadata": {},
   "outputs": [],
   "source": [
    "df_similarity[df_similarity[\"Phenodigm Score\"] > 0][\"Phenodigm Score\"].apply(lambda x: np.log10(x)).dropna().plot.hist(bins=100)"
   ]
  },
  {
   "cell_type": "code",
   "execution_count": null,
   "metadata": {},
   "outputs": [],
   "source": [
    "# Phenodigmスコアを対数変換\n",
    "pheno_log = np.log1p(df_similarity[\"Phenodigm Score\"])\n",
    "pheno_log[pheno_log > 0].plot.hist(bins=100)"
   ]
  },
  {
   "cell_type": "markdown",
   "metadata": {},
   "source": [
    "* 表現型類似度も対数変換すると良さそう"
   ]
  },
  {
   "cell_type": "markdown",
   "metadata": {},
   "source": []
  }
 ],
 "metadata": {
  "kernelspec": {
   "display_name": "env-tsumugi",
   "language": "python",
   "name": "python3"
  },
  "language_info": {
   "codemirror_mode": {
    "name": "ipython",
    "version": 3
   },
   "file_extension": ".py",
   "mimetype": "text/x-python",
   "name": "python",
   "nbconvert_exporter": "python",
   "pygments_lexer": "ipython3",
   "version": "3.12.8"
  }
 },
 "nbformat": 4,
 "nbformat_minor": 2
}

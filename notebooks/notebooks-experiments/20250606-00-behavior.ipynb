{
 "cells": [
  {
   "cell_type": "markdown",
   "metadata": {},
   "source": [
    "# IMPCの表現型リストのうち、行動に関わるものを抽出する\n",
    "\n",
    "- 基礎活動パターン、概日／非概日活動リズム\n",
    "- 記憶・学習、行動の柔軟性\n",
    "- 抑うつ傾向（動機・意思決定の変化、行動の単調性）\n",
    "- 不安傾向（新奇性に対する抵抗）\n",
    "- 衝動性、注意機能、作業記憶\n",
    "- 限局的行動（常同的行動）、固執性\n",
    "- 集団内における社会性行動"
   ]
  },
  {
   "cell_type": "markdown",
   "metadata": {},
   "source": [
    "# セットアップ"
   ]
  },
  {
   "cell_type": "code",
   "execution_count": null,
   "metadata": {},
   "outputs": [],
   "source": [
    "# Move up to top directory\n",
    "import os\n",
    "from pathlib import Path\n",
    "\n",
    "print(os.getcwd())\n",
    "\n",
    "while not Path(\"LICENSE\").exists():\n",
    "    os.chdir(\"../\")\n",
    "\n",
    "print(os.getcwd())"
   ]
  },
  {
   "cell_type": "code",
   "execution_count": null,
   "metadata": {},
   "outputs": [],
   "source": [
    "from pathlib import Path\n",
    "from pprint import pprint\n",
    "from collections import defaultdict, Counter\n",
    "from itertools import combinations\n",
    "import re\n",
    "import csv\n",
    "import json\n",
    "\n",
    "import numpy as np\n",
    "import pandas as pd\n",
    "import polars as pl\n",
    "from matplotlib import pyplot as plt\n",
    "import seaborn as sns\n",
    "import networkx as nx\n",
    "\n",
    "P = print\n",
    "PP = pprint\n",
    "C = Counter"
   ]
  },
  {
   "cell_type": "markdown",
   "metadata": {},
   "source": [
    "# 実験"
   ]
  },
  {
   "cell_type": "code",
   "execution_count": null,
   "metadata": {},
   "outputs": [],
   "source": [
    "df_impc = pd.read_csv(\"data/impc/statistical-results-ALL-23.0.csv\")"
   ]
  },
  {
   "cell_type": "code",
   "execution_count": null,
   "metadata": {},
   "outputs": [],
   "source": [
    "df_impc.columns"
   ]
  },
  {
   "cell_type": "code",
   "execution_count": null,
   "metadata": {},
   "outputs": [],
   "source": [
    "P(len(df_impc))\n",
    "df_impc = df_impc[df_impc[\"allele_symbol\"].notna()]\n",
    "df_impc_mp = df_impc[df_impc[\"mp_term_name\"].notna()]\n",
    "df_impc_mp = df_impc[df_impc[\"mp_term_name\"].notna()]\n",
    "\n",
    "P(len(df_impc))\n",
    "P(len(df_impc_mp))\n",
    "df_impc_phenotype = df_impc_mp[\n",
    "    [\"parameter_name\", \"procedure_name\", \"mp_term_name\"]\n",
    "].drop_duplicates()\n",
    "P(len(df_impc_phenotype))"
   ]
  },
  {
   "cell_type": "code",
   "execution_count": null,
   "metadata": {},
   "outputs": [],
   "source": [
    "print(\"Export IMPC phenotype data to CSV\")\n",
    "df_impc_phenotype.to_csv(\"data/experiments/impc-phenotype.csv\", index=False)"
   ]
  },
  {
   "cell_type": "code",
   "execution_count": null,
   "metadata": {},
   "outputs": [],
   "source": [
    "# リストを正規化（大小文字・ハイフンの揺れを統一）\n",
    "target_procedures = [\n",
    "    \"Open Field\",\n",
    "    \"Open Field - centre start\",\n",
    "    \"Open-field\",\n",
    "    \"Holeboard (GMC)\",\n",
    "    \"Light-Dark Test\",\n",
    "    \"Dark-Light Test\",\n",
    "    \"Modified SHIRPA\",\n",
    "    \"Combined SHIRPA and Dysmorphology\",\n",
    "    \"Y-maze\",\n",
    "    \"Fear Conditioning\",\n",
    "    \"Rotarod\",\n",
    "    \"Electrocardiogram (ECG)\",\n",
    "]\n",
    "\n",
    "# procedure_name が target_procedures に含まれている行を抽出\n",
    "df_filtered = df_impc_mp[df_impc_mp[\"procedure_name\"].isin(target_procedures)]"
   ]
  },
  {
   "cell_type": "code",
   "execution_count": null,
   "metadata": {},
   "outputs": [],
   "source": [
    "P(len(df_impc_mp))\n",
    "P(len(df_filtered))"
   ]
  },
  {
   "cell_type": "code",
   "execution_count": null,
   "metadata": {},
   "outputs": [],
   "source": [
    "9403 / 53097 * 100"
   ]
  },
  {
   "cell_type": "markdown",
   "metadata": {},
   "source": [
    "- Open Field\n",
    "- Open Field - centre start\n",
    "- Holeboard (GMC)\n",
    "- Light-Dark Test\n",
    "- Dark-Light Test\n",
    "- Modified SHIRPA\n",
    "- Combined SHIRPA and Dysmorphology\n",
    "- Y-maze\n",
    "- Fear Conditioning\n",
    "- Rotarod\n",
    "\n",
    "該当するMP termは、以下:\n",
    "\n",
    "- abnormal anxiety-related response\n",
    "- abnormal locomotor activation\n",
    "- abnormal locomotor behavior\n",
    "- abnormal motor learning\n",
    "- abnormal social/conspecific interaction behavior\n",
    "- abnormal spatial working memory\n",
    "- decreased anxiety-related response\n",
    "- decreased locomotor activity\n",
    "- decreased vertical activity\n",
    "- hyperactivity\n",
    "- increased aggression\n",
    "- increased anxiety-related response\n",
    "- increased vertical activity\n",
    "- stereotypic behavior"
   ]
  },
  {
   "cell_type": "markdown",
   "metadata": {},
   "source": []
  }
 ],
 "metadata": {
  "kernelspec": {
   "display_name": "env-tsumugi",
   "language": "python",
   "name": "python3"
  },
  "language_info": {
   "codemirror_mode": {
    "name": "ipython",
    "version": 3
   },
   "file_extension": ".py",
   "mimetype": "text/x-python",
   "name": "python",
   "nbconvert_exporter": "python",
   "pygments_lexer": "ipython3",
   "version": "3.12.10"
  }
 },
 "nbformat": 4,
 "nbformat_minor": 2
}

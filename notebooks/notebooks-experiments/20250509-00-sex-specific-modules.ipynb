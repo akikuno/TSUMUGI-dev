{
 "cells": [
  {
   "cell_type": "markdown",
   "metadata": {},
   "source": [
    "# 性特異的な遺伝子モジュールを探索する"
   ]
  },
  {
   "cell_type": "markdown",
   "metadata": {},
   "source": [
    "# セットアップ"
   ]
  },
  {
   "cell_type": "code",
   "execution_count": 1,
   "metadata": {},
   "outputs": [
    {
     "name": "stdout",
     "output_type": "stream",
     "text": [
      "/mnt/e/Research/TSUMUGI-dev-main/notebooks/notebooks-experiments\n",
      "/mnt/e/Research/TSUMUGI-dev-main\n"
     ]
    }
   ],
   "source": [
    "# Move up to top directory\n",
    "import os\n",
    "from pathlib import Path\n",
    "\n",
    "print(os.getcwd())\n",
    "\n",
    "while not Path(\"LICENSE\").exists():\n",
    "    os.chdir('../')\n",
    "\n",
    "print(os.getcwd())"
   ]
  },
  {
   "cell_type": "code",
   "execution_count": 4,
   "metadata": {},
   "outputs": [],
   "source": [
    "from pathlib import Path\n",
    "from pprint import pprint\n",
    "from collections import defaultdict, Counter\n",
    "from itertools import combinations\n",
    "import csv\n",
    "import pandas as pd\n",
    "import polars as pl\n",
    "from matplotlib import pyplot as plt\n",
    "import seaborn as sns\n",
    "\n",
    "P = print\n",
    "PP = pprint\n",
    "C = Counter\n"
   ]
  },
  {
   "cell_type": "markdown",
   "metadata": {},
   "source": [
    "# 実験"
   ]
  },
  {
   "cell_type": "code",
   "execution_count": null,
   "metadata": {},
   "outputs": [],
   "source": []
  },
  {
   "cell_type": "code",
   "execution_count": null,
   "metadata": {},
   "outputs": [
    {
     "data": {
      "text/html": [
       "<div><style>\n",
       ".dataframe > thead > tr,\n",
       ".dataframe > tbody > tr {\n",
       "  text-align: right;\n",
       "  white-space: pre-wrap;\n",
       "}\n",
       "</style>\n",
       "<small>shape: (29_996_385, 5)</small><table border=\"1\" class=\"dataframe\"><thead><tr><th>Gene1</th><th>Gene2</th><th>Jaccard Similarity</th><th>Number of shared phenotype</th><th>List of shared phenotypes</th></tr><tr><td>str</td><td>str</td><td>f64</td><td>i64</td><td>str</td></tr></thead><tbody><tr><td>&quot;0610010K14Rik&quot;</td><td>&quot;0610040J01Rik&quot;</td><td>0.0</td><td>0</td><td>&quot;[]&quot;</td></tr><tr><td>&quot;0610010K14Rik&quot;</td><td>&quot;1110059G10Rik&quot;</td><td>0.0</td><td>0</td><td>&quot;[]&quot;</td></tr><tr><td>&quot;0610010K14Rik&quot;</td><td>&quot;1500009L16Rik&quot;</td><td>0.0</td><td>0</td><td>&quot;[]&quot;</td></tr><tr><td>&quot;0610010K14Rik&quot;</td><td>&quot;1600014C10Rik&quot;</td><td>0.0</td><td>0</td><td>&quot;[]&quot;</td></tr><tr><td>&quot;0610010K14Rik&quot;</td><td>&quot;1600029I14Rik&quot;</td><td>0.0</td><td>0</td><td>&quot;[]&quot;</td></tr><tr><td>&hellip;</td><td>&hellip;</td><td>&hellip;</td><td>&hellip;</td><td>&hellip;</td></tr><tr><td>&quot;Zyg11b&quot;</td><td>&quot;Zzz3&quot;</td><td>0.0</td><td>0</td><td>&quot;[]&quot;</td></tr><tr><td>&quot;Zyg11b&quot;</td><td>&quot;a&quot;</td><td>0.0</td><td>0</td><td>&quot;[]&quot;</td></tr><tr><td>&quot;Zzef1&quot;</td><td>&quot;Zzz3&quot;</td><td>0.0</td><td>0</td><td>&quot;[]&quot;</td></tr><tr><td>&quot;Zzef1&quot;</td><td>&quot;a&quot;</td><td>0.05</td><td>1</td><td>&quot;[&quot;abnormal kidney morphology (…</td></tr><tr><td>&quot;Zzz3&quot;</td><td>&quot;a&quot;</td><td>0.0</td><td>0</td><td>&quot;[]&quot;</td></tr></tbody></table></div>"
      ],
      "text/plain": [
       "shape: (29_996_385, 5)\n",
       "┌───────────────┬───────────────┬────────────────────┬──────────────────┬───────────────────┐\n",
       "│ Gene1         ┆ Gene2         ┆ Jaccard Similarity ┆ Number of shared ┆ List of shared    │\n",
       "│ ---           ┆ ---           ┆ ---                ┆ phenotype        ┆ phenotypes        │\n",
       "│ str           ┆ str           ┆ f64                ┆ ---              ┆ ---               │\n",
       "│               ┆               ┆                    ┆ i64              ┆ str               │\n",
       "╞═══════════════╪═══════════════╪════════════════════╪══════════════════╪═══════════════════╡\n",
       "│ 0610010K14Rik ┆ 0610040J01Rik ┆ 0.0                ┆ 0                ┆ []                │\n",
       "│ 0610010K14Rik ┆ 1110059G10Rik ┆ 0.0                ┆ 0                ┆ []                │\n",
       "│ 0610010K14Rik ┆ 1500009L16Rik ┆ 0.0                ┆ 0                ┆ []                │\n",
       "│ 0610010K14Rik ┆ 1600014C10Rik ┆ 0.0                ┆ 0                ┆ []                │\n",
       "│ 0610010K14Rik ┆ 1600029I14Rik ┆ 0.0                ┆ 0                ┆ []                │\n",
       "│ …             ┆ …             ┆ …                  ┆ …                ┆ …                 │\n",
       "│ Zyg11b        ┆ Zzz3          ┆ 0.0                ┆ 0                ┆ []                │\n",
       "│ Zyg11b        ┆ a             ┆ 0.0                ┆ 0                ┆ []                │\n",
       "│ Zzef1         ┆ Zzz3          ┆ 0.0                ┆ 0                ┆ []                │\n",
       "│ Zzef1         ┆ a             ┆ 0.05               ┆ 1                ┆ [\"abnormal kidney │\n",
       "│               ┆               ┆                    ┆                  ┆ morphology (…     │\n",
       "│ Zzz3          ┆ a             ┆ 0.0                ┆ 0                ┆ []                │\n",
       "└───────────────┴───────────────┴────────────────────┴──────────────────┴───────────────────┘"
      ]
     },
     "execution_count": 8,
     "metadata": {},
     "output_type": "execute_result"
    }
   ],
   "source": [
    "df_raw = pl.read_csv(\"data/TSUMUGI_raw_data.csv.gz\")\n",
    "\n",
    "df_raw\n",
    "# 3.3 s"
   ]
  },
  {
   "cell_type": "code",
   "execution_count": 9,
   "metadata": {},
   "outputs": [
    {
     "data": {
      "text/html": [
       "<div><style>\n",
       ".dataframe > thead > tr,\n",
       ".dataframe > tbody > tr {\n",
       "  text-align: right;\n",
       "  white-space: pre-wrap;\n",
       "}\n",
       "</style>\n",
       "<small>shape: (403_052, 5)</small><table border=\"1\" class=\"dataframe\"><thead><tr><th>Gene1</th><th>Gene2</th><th>Jaccard Similarity</th><th>Number of shared phenotype</th><th>List of shared phenotypes</th></tr><tr><td>str</td><td>str</td><td>f64</td><td>i64</td><td>str</td></tr></thead><tbody><tr><td>&quot;0610010K14Rik&quot;</td><td>&quot;4933427D14Rik&quot;</td><td>0.5</td><td>3</td><td>&quot;[&quot;embryonic lethality prior to…</td></tr><tr><td>&quot;0610010K14Rik&quot;</td><td>&quot;Aamp&quot;</td><td>0.5</td><td>2</td><td>&quot;[&quot;embryonic lethality prior to…</td></tr><tr><td>&quot;0610010K14Rik&quot;</td><td>&quot;Aasdhppt&quot;</td><td>0.286</td><td>2</td><td>&quot;[&quot;embryonic lethality prior to…</td></tr><tr><td>&quot;0610010K14Rik&quot;</td><td>&quot;Aatf&quot;</td><td>0.4</td><td>2</td><td>&quot;[&quot;embryonic lethality prior to…</td></tr><tr><td>&quot;0610010K14Rik&quot;</td><td>&quot;Abce1&quot;</td><td>0.182</td><td>2</td><td>&quot;[&quot;embryonic lethality prior to…</td></tr><tr><td>&hellip;</td><td>&hellip;</td><td>&hellip;</td><td>&hellip;</td><td>&hellip;</td></tr><tr><td>&quot;Znhit1&quot;</td><td>&quot;Znhit6&quot;</td><td>0.154</td><td>2</td><td>&quot;[&quot;embryonic lethality prior to…</td></tr><tr><td>&quot;Znhit1&quot;</td><td>&quot;Zwint&quot;</td><td>0.25</td><td>2</td><td>&quot;[&quot;embryonic lethality prior to…</td></tr><tr><td>&quot;Znhit2&quot;</td><td>&quot;Znhit6&quot;</td><td>0.154</td><td>2</td><td>&quot;[&quot;embryonic lethality prior to…</td></tr><tr><td>&quot;Znhit2&quot;</td><td>&quot;Zwint&quot;</td><td>0.25</td><td>2</td><td>&quot;[&quot;embryonic lethality prior to…</td></tr><tr><td>&quot;Znhit6&quot;</td><td>&quot;Zwint&quot;</td><td>0.182</td><td>2</td><td>&quot;[&quot;embryonic lethality prior to…</td></tr></tbody></table></div>"
      ],
      "text/plain": [
       "shape: (403_052, 5)\n",
       "┌───────────────┬───────────────┬────────────────────┬──────────────────┬───────────────────────┐\n",
       "│ Gene1         ┆ Gene2         ┆ Jaccard Similarity ┆ Number of shared ┆ List of shared        │\n",
       "│ ---           ┆ ---           ┆ ---                ┆ phenotype        ┆ phenotypes            │\n",
       "│ str           ┆ str           ┆ f64                ┆ ---              ┆ ---                   │\n",
       "│               ┆               ┆                    ┆ i64              ┆ str                   │\n",
       "╞═══════════════╪═══════════════╪════════════════════╪══════════════════╪═══════════════════════╡\n",
       "│ 0610010K14Rik ┆ 4933427D14Rik ┆ 0.5                ┆ 3                ┆ [\"embryonic lethality │\n",
       "│               ┆               ┆                    ┆                  ┆ prior to…             │\n",
       "│ 0610010K14Rik ┆ Aamp          ┆ 0.5                ┆ 2                ┆ [\"embryonic lethality │\n",
       "│               ┆               ┆                    ┆                  ┆ prior to…             │\n",
       "│ 0610010K14Rik ┆ Aasdhppt      ┆ 0.286              ┆ 2                ┆ [\"embryonic lethality │\n",
       "│               ┆               ┆                    ┆                  ┆ prior to…             │\n",
       "│ 0610010K14Rik ┆ Aatf          ┆ 0.4                ┆ 2                ┆ [\"embryonic lethality │\n",
       "│               ┆               ┆                    ┆                  ┆ prior to…             │\n",
       "│ 0610010K14Rik ┆ Abce1         ┆ 0.182              ┆ 2                ┆ [\"embryonic lethality │\n",
       "│               ┆               ┆                    ┆                  ┆ prior to…             │\n",
       "│ …             ┆ …             ┆ …                  ┆ …                ┆ …                     │\n",
       "│ Znhit1        ┆ Znhit6        ┆ 0.154              ┆ 2                ┆ [\"embryonic lethality │\n",
       "│               ┆               ┆                    ┆                  ┆ prior to…             │\n",
       "│ Znhit1        ┆ Zwint         ┆ 0.25               ┆ 2                ┆ [\"embryonic lethality │\n",
       "│               ┆               ┆                    ┆                  ┆ prior to…             │\n",
       "│ Znhit2        ┆ Znhit6        ┆ 0.154              ┆ 2                ┆ [\"embryonic lethality │\n",
       "│               ┆               ┆                    ┆                  ┆ prior to…             │\n",
       "│ Znhit2        ┆ Zwint         ┆ 0.25               ┆ 2                ┆ [\"embryonic lethality │\n",
       "│               ┆               ┆                    ┆                  ┆ prior to…             │\n",
       "│ Znhit6        ┆ Zwint         ┆ 0.182              ┆ 2                ┆ [\"embryonic lethality │\n",
       "│               ┆               ┆                    ┆                  ┆ prior to…             │\n",
       "└───────────────┴───────────────┴────────────────────┴──────────────────┴───────────────────────┘"
      ]
     },
     "execution_count": 9,
     "metadata": {},
     "output_type": "execute_result"
    }
   ],
   "source": [
    "df_filter = df_raw.filter((pl.col(\"Jaccard Similarity\") > 0.1) & (pl.col(\"Number of shared phenotype\") > 1))\n",
    "\n",
    "df_filter"
   ]
  },
  {
   "cell_type": "code",
   "execution_count": 13,
   "metadata": {},
   "outputs": [
    {
     "data": {
      "text/html": [
       "<div><style>\n",
       ".dataframe > thead > tr,\n",
       ".dataframe > tbody > tr {\n",
       "  text-align: right;\n",
       "  white-space: pre-wrap;\n",
       "}\n",
       "</style>\n",
       "<small>shape: (403_052, 5)</small><table border=\"1\" class=\"dataframe\"><thead><tr><th>Gene1</th><th>Gene2</th><th>Jaccard Similarity</th><th>Number of shared phenotype</th><th>List of shared phenotypes</th></tr><tr><td>str</td><td>str</td><td>f64</td><td>i64</td><td>list[str]</td></tr></thead><tbody><tr><td>&quot;0610010K14Rik&quot;</td><td>&quot;4933427D14Rik&quot;</td><td>0.5</td><td>3</td><td>[&quot;embryonic lethality prior to organogenesis (Homo, Embryo)&quot;, &quot;embryonic lethality prior to tooth bud stage (Homo, Embryo)&quot;, &quot;preweaning lethality, complete penetrance (Homo, Early)&quot;]</td></tr><tr><td>&quot;0610010K14Rik&quot;</td><td>&quot;Aamp&quot;</td><td>0.5</td><td>2</td><td>[&quot;embryonic lethality prior to organogenesis (Homo, Embryo)&quot;, &quot;preweaning lethality, complete penetrance (Homo, Early)&quot;]</td></tr><tr><td>&quot;0610010K14Rik&quot;</td><td>&quot;Aasdhppt&quot;</td><td>0.286</td><td>2</td><td>[&quot;embryonic lethality prior to organogenesis (Homo, Embryo)&quot;, &quot;preweaning lethality, complete penetrance (Homo, Early)&quot;]</td></tr><tr><td>&quot;0610010K14Rik&quot;</td><td>&quot;Aatf&quot;</td><td>0.4</td><td>2</td><td>[&quot;embryonic lethality prior to organogenesis (Homo, Embryo)&quot;, &quot;preweaning lethality, complete penetrance (Homo, Early)&quot;]</td></tr><tr><td>&quot;0610010K14Rik&quot;</td><td>&quot;Abce1&quot;</td><td>0.182</td><td>2</td><td>[&quot;embryonic lethality prior to organogenesis (Homo, Embryo)&quot;, &quot;preweaning lethality, complete penetrance (Homo, Early)&quot;]</td></tr><tr><td>&hellip;</td><td>&hellip;</td><td>&hellip;</td><td>&hellip;</td><td>&hellip;</td></tr><tr><td>&quot;Znhit1&quot;</td><td>&quot;Znhit6&quot;</td><td>0.154</td><td>2</td><td>[&quot;embryonic lethality prior to organogenesis (Homo, Embryo)&quot;, &quot;preweaning lethality, complete penetrance (Homo, Early)&quot;]</td></tr><tr><td>&quot;Znhit1&quot;</td><td>&quot;Zwint&quot;</td><td>0.25</td><td>2</td><td>[&quot;embryonic lethality prior to organogenesis (Homo, Embryo)&quot;, &quot;preweaning lethality, complete penetrance (Homo, Early)&quot;]</td></tr><tr><td>&quot;Znhit2&quot;</td><td>&quot;Znhit6&quot;</td><td>0.154</td><td>2</td><td>[&quot;embryonic lethality prior to organogenesis (Homo, Embryo)&quot;, &quot;preweaning lethality, complete penetrance (Homo, Early)&quot;]</td></tr><tr><td>&quot;Znhit2&quot;</td><td>&quot;Zwint&quot;</td><td>0.25</td><td>2</td><td>[&quot;embryonic lethality prior to organogenesis (Homo, Embryo)&quot;, &quot;preweaning lethality, complete penetrance (Homo, Early)&quot;]</td></tr><tr><td>&quot;Znhit6&quot;</td><td>&quot;Zwint&quot;</td><td>0.182</td><td>2</td><td>[&quot;embryonic lethality prior to organogenesis (Homo, Embryo)&quot;, &quot;preweaning lethality, complete penetrance (Homo, Early)&quot;]</td></tr></tbody></table></div>"
      ],
      "text/plain": [
       "shape: (403_052, 5)\n",
       "┌───────────────┬───────────────┬────────────────────┬──────────────────┬───────────────────────┐\n",
       "│ Gene1         ┆ Gene2         ┆ Jaccard Similarity ┆ Number of shared ┆ List of shared        │\n",
       "│ ---           ┆ ---           ┆ ---                ┆ phenotype        ┆ phenotypes            │\n",
       "│ str           ┆ str           ┆ f64                ┆ ---              ┆ ---                   │\n",
       "│               ┆               ┆                    ┆ i64              ┆ list[str]             │\n",
       "╞═══════════════╪═══════════════╪════════════════════╪══════════════════╪═══════════════════════╡\n",
       "│ 0610010K14Rik ┆ 4933427D14Rik ┆ 0.5                ┆ 3                ┆ [\"embryonic lethality │\n",
       "│               ┆               ┆                    ┆                  ┆ prior to…             │\n",
       "│ 0610010K14Rik ┆ Aamp          ┆ 0.5                ┆ 2                ┆ [\"embryonic lethality │\n",
       "│               ┆               ┆                    ┆                  ┆ prior to…             │\n",
       "│ 0610010K14Rik ┆ Aasdhppt      ┆ 0.286              ┆ 2                ┆ [\"embryonic lethality │\n",
       "│               ┆               ┆                    ┆                  ┆ prior to…             │\n",
       "│ 0610010K14Rik ┆ Aatf          ┆ 0.4                ┆ 2                ┆ [\"embryonic lethality │\n",
       "│               ┆               ┆                    ┆                  ┆ prior to…             │\n",
       "│ 0610010K14Rik ┆ Abce1         ┆ 0.182              ┆ 2                ┆ [\"embryonic lethality │\n",
       "│               ┆               ┆                    ┆                  ┆ prior to…             │\n",
       "│ …             ┆ …             ┆ …                  ┆ …                ┆ …                     │\n",
       "│ Znhit1        ┆ Znhit6        ┆ 0.154              ┆ 2                ┆ [\"embryonic lethality │\n",
       "│               ┆               ┆                    ┆                  ┆ prior to…             │\n",
       "│ Znhit1        ┆ Zwint         ┆ 0.25               ┆ 2                ┆ [\"embryonic lethality │\n",
       "│               ┆               ┆                    ┆                  ┆ prior to…             │\n",
       "│ Znhit2        ┆ Znhit6        ┆ 0.154              ┆ 2                ┆ [\"embryonic lethality │\n",
       "│               ┆               ┆                    ┆                  ┆ prior to…             │\n",
       "│ Znhit2        ┆ Zwint         ┆ 0.25               ┆ 2                ┆ [\"embryonic lethality │\n",
       "│               ┆               ┆                    ┆                  ┆ prior to…             │\n",
       "│ Znhit6        ┆ Zwint         ┆ 0.182              ┆ 2                ┆ [\"embryonic lethality │\n",
       "│               ┆               ┆                    ┆                  ┆ prior to…             │\n",
       "└───────────────┴───────────────┴────────────────────┴──────────────────┴───────────────────────┘"
      ]
     },
     "execution_count": 13,
     "metadata": {},
     "output_type": "execute_result"
    }
   ],
   "source": [
    "df_filter = df_filter.with_columns([\n",
    "    pl.col(\"List of shared phenotypes\").str.json_decode().alias(\"List of shared phenotypes\")\n",
    "  ])\n",
    "\n",
    "df_filter"
   ]
  },
  {
   "cell_type": "code",
   "execution_count": 12,
   "metadata": {},
   "outputs": [
    {
     "data": {
      "text/plain": [
       "1.3436685787304037"
      ]
     },
     "execution_count": 12,
     "metadata": {},
     "output_type": "execute_result"
    }
   ],
   "source": [
    "len(df_filter)/ len(df_raw) * 100"
   ]
  },
  {
   "cell_type": "code",
   "execution_count": 17,
   "metadata": {},
   "outputs": [
    {
     "name": "stdout",
     "output_type": "stream",
     "text": [
      "['decreased bone mineral content (Homo, Female)', 'decreased bone mineral density (Homo)', 'decreased bone mineral content (Homo, Female)', 'decreased bone mineral content (Homo, Female)', 'decreased bone mineral content (Homo, Female)']\n"
     ]
    }
   ],
   "source": [
    "# Overlapeed phenotypeの中で、maleとfemaleを含むものを抽出する\n",
    "overlapped_phenotype = df_similarity_with_sexual_dimorphism['Overlapped phenotype'].tolist()\n",
    "\n",
    "import ast\n",
    "\n",
    "# 各文字列をパースしてリストに変換\n",
    "parsed_lists = [ast.literal_eval(item) for item in overlapped_phenotype]\n",
    "\n",
    "# 全てのリストを結合\n",
    "flattened_list = []\n",
    "for sublist in parsed_lists:\n",
    "    flattened_list.extend(sublist)\n",
    "\n",
    "P(flattened_list[:5])"
   ]
  },
  {
   "cell_type": "code",
   "execution_count": 18,
   "metadata": {},
   "outputs": [
    {
     "name": "stdout",
     "output_type": "stream",
     "text": [
      "['decreased bone mineral content (Homo, Female)', 'decreased bone mineral content (Homo, Female)', 'decreased bone mineral content (Homo, Female)', 'decreased bone mineral content (Homo, Female)', 'decreased bone mineral content (Homo, Female)']\n"
     ]
    }
   ],
   "source": [
    "\n",
    "phenotype_with_sexual_dimorphism = [p for p in flattened_list if \"Male\" in p or \"Female\" in p]\n",
    "\n",
    "P(phenotype_with_sexual_dimorphism[:5])"
   ]
  },
  {
   "cell_type": "code",
   "execution_count": 20,
   "metadata": {},
   "outputs": [
    {
     "data": {
      "text/plain": [
       "[('hyperactivity (Homo, Female)', 13781),\n",
       " ('increased circulating alkaline phosphatase level (Homo, Female)', 3981),\n",
       " ('decreased bone mineral content (Homo, Female)', 3132),\n",
       " ('decreased grip strength (Homo, Female)', 2839),\n",
       " ('increased grip strength (Homo, Female)', 1835),\n",
       " ('decreased locomotor activity (Homo, Female)', 1821),\n",
       " ('hyperactivity (Hetero, Female)', 1246),\n",
       " ('decreased bone mineral density (Homo, Female)', 1208),\n",
       " ('increased total body fat amount (Homo, Female)', 917),\n",
       " ('abnormal bone structure (Homo, Female)', 809),\n",
       " ('increased fasting circulating glucose level (Homo, Female)', 682),\n",
       " ('increased circulating alkaline phosphatase level (Hetero, Female)', 612),\n",
       " ('increased bone mineral content (Homo, Female)', 572),\n",
       " ('decreased lean body mass (Homo, Female)', 525),\n",
       " ('increased grip strength (Hetero, Female)', 509),\n",
       " ('decreased grip strength (Hetero, Female)', 434),\n",
       " ('decreased exploration in new environment (Homo, Female)', 292),\n",
       " ('decreased body length (Homo, Female)', 284),\n",
       " ('decreased mean corpuscular hemoglobin (Homo, Female)', 256),\n",
       " ('increased circulating creatinine level (Homo, Female)', 238),\n",
       " ('decreased locomotor activity (Hetero, Female)', 217),\n",
       " ('abnormal behavior (Homo, Female)', 207),\n",
       " ('decreased thigmotaxis (Homo, Female)', 197),\n",
       " ('decreased bone mineral content (Hetero, Female)', 180),\n",
       " ('impaired glucose tolerance (Homo, Female)', 163),\n",
       " ('increased mean corpuscular hemoglobin (Homo, Female)', 160),\n",
       " ('hyperactivity (Homo, Male)', 149),\n",
       " ('decreased total body fat amount (Homo, Male)', 143),\n",
       " ('increased bone mineral content (Hetero, Female)', 137),\n",
       " ('abnormal cholesterol homeostasis (Homo, Female)', 131),\n",
       " ('increased total body fat amount (Hetero, Female)', 129),\n",
       " ('increased lean body mass (Homo, Male)', 127),\n",
       " ('decreased circulating serum albumin level (Homo, Female)', 113),\n",
       " ('decreased circulating alkaline phosphatase level (Homo, Female)', 110),\n",
       " ('decreased lean body mass (Hetero, Female)', 104),\n",
       " ('decreased mean corpuscular volume (Homo, Female)', 102),\n",
       " ('abnormal bone structure (Hetero, Female)', 97),\n",
       " ('decreased fasting circulating glucose level (Homo, Female)', 96),\n",
       " ('increased leukocyte cell number (Homo, Female)', 93),\n",
       " ('increased circulating iron level (Homo, Female)', 84),\n",
       " ('increased mean corpuscular volume (Homo, Female)', 81),\n",
       " ('increased spleen weight (Homo, Female)', 79),\n",
       " ('increased circulating amylase level (Homo, Female)', 74),\n",
       " ('short tibia (Homo, Female)', 73),\n",
       " ('decreased anxiety-related response (Homo, Female)', 72),\n",
       " ('increased fasting circulating glucose level (Hetero, Female)', 72),\n",
       " ('decreased circulating alkaline phosphatase level (Hetero, Female)', 70),\n",
       " ('decreased body weight (Homo, Female)', 66),\n",
       " ('abnormal eye anterior chamber depth (Homo, Female)', 64),\n",
       " ('increased startle reflex (Homo, Female)', 63),\n",
       " ('increased grip strength (Homo, Male)', 63),\n",
       " ('decreased circulating creatinine level (Homo, Female)', 61),\n",
       " ('increased circulating HDL cholesterol level (Homo, Female)', 59),\n",
       " ('increased circulating HDL cholesterol level (Hetero, Female)', 55),\n",
       " ('decreased circulating cholesterol level (Homo, Male)', 52),\n",
       " ('increased mean corpuscular hemoglobin (Hetero, Female)', 49),\n",
       " ('decreased bone mineral density (Hetero, Female)', 48),\n",
       " ('increased circulating phosphate level (Homo, Female)', 47),\n",
       " ('increased bone mineral content (Homo, Male)', 47),\n",
       " ('increased circulating cholesterol level (Homo, Female)', 47),\n",
       " ('abnormal cholesterol homeostasis (Hetero, Female)', 46),\n",
       " ('decreased mean corpuscular hemoglobin (Hetero, Female)', 46),\n",
       " ('increased circulating creatinine level (Hetero, Female)', 44),\n",
       " ('abnormal sleep behavior (Homo, Female)', 43),\n",
       " ('improved glucose tolerance (Homo, Female)', 40),\n",
       " ('increased monocyte cell number (Homo, Female)', 40),\n",
       " ('increased circulating sodium level (Homo, Female)', 39),\n",
       " ('decreased grip strength (Homo, Male)', 39),\n",
       " ('prolonged RR interval (Homo, Female)', 38),\n",
       " ('decreased circulating serum albumin level (Homo, Male)', 36),\n",
       " ('increased mean corpuscular hemoglobin concentration (Homo, Female)', 36),\n",
       " ('decreased circulating HDL cholesterol level (Homo, Male)', 36),\n",
       " ('decreased mean corpuscular hemoglobin concentration (Homo, Female)', 35),\n",
       " ('increased heart weight (Homo, Female)', 35),\n",
       " ('increased circulating alanine transaminase level (Homo, Female)', 35),\n",
       " ('decreased hemoglobin content (Homo, Female)', 35),\n",
       " ('increased total body fat amount (Homo, Male)', 34),\n",
       " ('impaired glucose tolerance (Hetero, Female)', 34),\n",
       " ('decreased circulating iron level (Homo, Female)', 33),\n",
       " ('increased mean corpuscular hemoglobin concentration (Hetero, Female)', 33),\n",
       " ('decreased body length (Hetero, Female)', 32),\n",
       " ('decreased lean body mass (Homo, Male)', 30),\n",
       " ('increased blood urea nitrogen level (Homo, Female)', 30),\n",
       " ('increased exploration in new environment (Homo, Female)', 29),\n",
       " ('decreased circulating creatinine level (Hetero, Female)', 28),\n",
       " ('abnormal retina outer nuclear layer morphology (Homo, Female)', 28),\n",
       " ('improved glucose tolerance (Homo, Male)', 27),\n",
       " ('increased red blood cell distribution width (Homo, Female)', 26),\n",
       " ('decreased erythrocyte cell number (Homo, Female)', 26),\n",
       " ('decreased exploration in new environment (Hetero, Female)', 26),\n",
       " ('increased circulating potassium level (Homo, Female)', 25),\n",
       " ('increased mean corpuscular volume (Hetero, Female)', 25),\n",
       " ('increased circulating serum albumin level (Homo, Female)', 25),\n",
       " ('increased circulating sodium level (Hetero, Female)', 25),\n",
       " ('impaired glucose tolerance (Homo, Male)', 24),\n",
       " ('decreased prepulse inhibition (Homo, Female)', 24),\n",
       " ('decreased mean corpuscular volume (Hetero, Female)', 24),\n",
       " ('increased circulating cholesterol level (Homo, Male)', 24),\n",
       " ('increased circulating alkaline phosphatase level (Homo, Male)', 24),\n",
       " ('increased lean body mass (Homo, Female)', 23)]"
      ]
     },
     "execution_count": 20,
     "metadata": {},
     "output_type": "execute_result"
    }
   ],
   "source": [
    "Counter(phenotype_with_sexual_dimorphism).most_common(100)"
   ]
  },
  {
   "cell_type": "code",
   "execution_count": null,
   "metadata": {},
   "outputs": [],
   "source": []
  }
 ],
 "metadata": {
  "kernelspec": {
   "display_name": "env-tsumugi",
   "language": "python",
   "name": "python3"
  },
  "language_info": {
   "codemirror_mode": {
    "name": "ipython",
    "version": 3
   },
   "file_extension": ".py",
   "mimetype": "text/x-python",
   "name": "python",
   "nbconvert_exporter": "python",
   "pygments_lexer": "ipython3",
   "version": "3.12.10"
  }
 },
 "nbformat": 4,
 "nbformat_minor": 2
}

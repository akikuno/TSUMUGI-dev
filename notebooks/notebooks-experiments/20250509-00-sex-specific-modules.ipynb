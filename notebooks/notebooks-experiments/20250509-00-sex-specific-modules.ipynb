{
 "cells": [
  {
   "cell_type": "markdown",
   "metadata": {},
   "source": [
    "# 性特異的な遺伝子モジュールを探索する"
   ]
  },
  {
   "cell_type": "markdown",
   "metadata": {},
   "source": [
    "# セットアップ"
   ]
  },
  {
   "cell_type": "code",
   "execution_count": null,
   "metadata": {},
   "outputs": [],
   "source": [
    "# Move up to top directory\n",
    "import os\n",
    "from pathlib import Path\n",
    "\n",
    "print(os.getcwd())\n",
    "\n",
    "while not Path(\"LICENSE\").exists():\n",
    "    os.chdir('../')\n",
    "\n",
    "print(os.getcwd())"
   ]
  },
  {
   "cell_type": "code",
   "execution_count": null,
   "metadata": {},
   "outputs": [],
   "source": [
    "from pathlib import Path\n",
    "from pprint import pprint\n",
    "from collections import defaultdict, Counter\n",
    "from itertools import combinations\n",
    "import csv\n",
    "import numpy as np\n",
    "import pandas as pd\n",
    "import polars as pl\n",
    "from matplotlib import pyplot as plt\n",
    "import seaborn as sns\n",
    "import networkx as nx\n",
    "\n",
    "P = print\n",
    "PP = pprint\n",
    "C = Counter\n"
   ]
  },
  {
   "cell_type": "markdown",
   "metadata": {},
   "source": [
    "# 実験"
   ]
  },
  {
   "cell_type": "code",
   "execution_count": null,
   "metadata": {},
   "outputs": [],
   "source": [
    "import json\n",
    "import pandas as pd\n",
    "df_tsumugi = pd.read_csv(\"data/TSUMUGI_raw_data.csv.gz\",\n",
    "    converters={\"List of shared phenotypes\": json.loads})\n",
    "\n",
    "# 45 seconds"
   ]
  },
  {
   "cell_type": "code",
   "execution_count": null,
   "metadata": {},
   "outputs": [],
   "source": [
    "df_tsumugi_filtered = df_tsumugi[\n",
    "    (df_tsumugi[\"Jaccard Similarity\"] > 0.1) &\n",
    "    (df_tsumugi[\"Number of shared phenotype\"] > 2)\n",
    "]"
   ]
  },
  {
   "cell_type": "code",
   "execution_count": null,
   "metadata": {},
   "outputs": [],
   "source": [
    "df_tsumugi_filtered"
   ]
  },
  {
   "cell_type": "code",
   "execution_count": null,
   "metadata": {},
   "outputs": [],
   "source": [
    "import pandas as pd\n",
    "import re\n",
    "\n",
    "# explode して行展開\n",
    "df_long = df_tsumugi_filtered.explode(\"List of shared phenotypes\").dropna(subset=[\"List of shared phenotypes\"])\n",
    "\n",
    "# phenotype と sex を抽出する関数\n",
    "def extract_phenotype_and_sex(entry):\n",
    "    match = re.match(r\"^(.*?) \\((.*?)\\)$\", entry)\n",
    "    if match:\n",
    "        phenotype_part, annotation_part = match.groups()\n",
    "        parts = [p.strip() for p in annotation_part.split(\",\")]\n",
    "        for p in parts:\n",
    "            if p in {\"Male\", \"Female\"}:\n",
    "                return {\"Phenotype\": phenotype_part.strip(), \"Sex\": p}\n",
    "    return None\n",
    "\n",
    "# .apply()して辞書を返し、Noneを除外\n",
    "extracted = df_long[\"List of shared phenotypes\"].apply(extract_phenotype_and_sex)\n",
    "df_extracted = df_long[extracted.notnull()].copy()\n",
    "\n",
    "# 抽出した辞書を DataFrame 化し、元と連結\n",
    "df_extracted = pd.concat([df_extracted.reset_index(drop=True), pd.DataFrame(extracted.dropna().tolist()).reset_index(drop=True)], axis=1)\n",
    "\n",
    "# 最終整形\n",
    "df_result = df_extracted[[\"Gene1\", \"Gene2\", \"Phenotype\", \"Sex\"]]\n",
    "\n",
    "# 表示（例）\n",
    "print(df_result.head())\n"
   ]
  },
  {
   "cell_type": "code",
   "execution_count": null,
   "metadata": {},
   "outputs": [],
   "source": [
    "# def extract_phenotype_and_sex(entry):\n",
    "#     entry = entry.strip()  # ← 空白や改行を除去\n",
    "#     match = re.match(r\"^(.*?)\\s*\\((.*?)\\)$\", entry)\n",
    "#     if match:\n",
    "#         phenotype_part, annotation_part = match.groups()\n",
    "#         parts = [p.strip() for p in annotation_part.split(\",\")]\n",
    "#         for p in parts:\n",
    "#             if p in {\"Male\", \"Female\"}:\n",
    "#                 return {\"Phenotype\": phenotype_part.strip(), \"Sex\": p}\n",
    "#     return None\n",
    "\n",
    "# entry = \"increased total body fat amount (Homo, Female, Early)\"\n",
    "# extract_phenotype_and_sex(entry)"
   ]
  },
  {
   "cell_type": "code",
   "execution_count": null,
   "metadata": {},
   "outputs": [],
   "source": [
    "df_result[\"Sex\"].value_counts()"
   ]
  },
  {
   "cell_type": "code",
   "execution_count": null,
   "metadata": {},
   "outputs": [],
   "source": [
    "# モジュールを格納する辞書\n",
    "modules = defaultdict(list)\n",
    "\n",
    "# Phenotype × Sex specificity ごとにグラフを構築\n",
    "for (phenotype, sex), group in df_result.groupby(['Phenotype', 'Sex']):\n",
    "    G = nx.Graph()\n",
    "    G.add_edges_from(group[['Gene1', 'Gene2']].values)\n",
    "\n",
    "    # 連結成分（モジュール）を抽出\n",
    "    for component in nx.connected_components(G):\n",
    "        if len(component) > 1:  # 単独ノードは除外\n",
    "            modules[(phenotype, sex)].append(sorted(component))\n",
    "\n",
    "modules = dict(modules)\n",
    "# # 結果の表示\n",
    "# for (phenotype, sex), comps in modules.items():\n",
    "#     print(f\"\\n[Phenotype: {phenotype}, Sex: {sex}]\")\n",
    "#     for i, comp in enumerate(comps, 1):\n",
    "#         print(f\"  Module {i}: {comp}\")"
   ]
  },
  {
   "cell_type": "code",
   "execution_count": null,
   "metadata": {},
   "outputs": [],
   "source": [
    "len(modules)"
   ]
  },
  {
   "cell_type": "code",
   "execution_count": null,
   "metadata": {},
   "outputs": [],
   "source": [
    "P(modules)"
   ]
  },
  {
   "cell_type": "code",
   "execution_count": null,
   "metadata": {},
   "outputs": [],
   "source": [
    "# 結果の表示\n",
    "for (phenotype, sex), comps in modules.items():\n",
    "    print(f\"\\n[Phenotype: {phenotype}, Sex: {sex}]\")\n",
    "    for i, comp in enumerate(comps, 1):\n",
    "        print(f\"  Module {i}: {comp}\")\n",
    "    break"
   ]
  },
  {
   "cell_type": "markdown",
   "metadata": {},
   "source": [
    "## ✅ 目的\n",
    "\n",
    "各表現型における雌雄特異的な遺伝子モジュールの数をプロットする"
   ]
  },
  {
   "cell_type": "code",
   "execution_count": null,
   "metadata": {},
   "outputs": [],
   "source": [
    "from plotnine import ggplot, aes, geom_bar, labs, theme, element_text, position_stack, coord_flip, ggsave\n"
   ]
  },
  {
   "cell_type": "code",
   "execution_count": null,
   "metadata": {},
   "outputs": [],
   "source": [
    "# Use full `modules` dictionary input from earlier\n",
    "# Step 1: Flatten the data to get count of modules for each (phenotype, sex)\n",
    "phenotype_module_counts = defaultdict(lambda: {'Male': 0, 'Female': 0})\n",
    "\n",
    "for (phenotype, sex), mod_lists in modules.items():\n",
    "    phenotype_module_counts[phenotype][sex] += len(mod_lists)\n",
    "\n",
    "# Step 2: Convert to DataFrame and long format\n",
    "df = pd.DataFrame.from_dict(phenotype_module_counts, orient='index').fillna(0).reset_index()\n",
    "df = df.rename(columns={'index': 'Phenotype'})\n",
    "df_long = df.melt(id_vars='Phenotype', var_name='Sex', value_name='Module Count')\n",
    "\n",
    "# Step 3: Compute total count and sort\n",
    "df_long['Total'] = df_long.groupby('Phenotype')['Module Count'].transform('sum')\n",
    "df_sorted = df_long.sort_values(by='Total', ascending=False)\n",
    "\n",
    "# Top 10 phenotypes by total module count\n",
    "top10_phenotypes = df_sorted.groupby('Phenotype')['Total'].max().nlargest(10).index\n",
    "df_top10 = df_sorted[df_sorted['Phenotype'].isin(top10_phenotypes)]\n",
    "# Plot using plotnine (ggplot2-style)\n",
    "plot = (\n",
    "    ggplot(df_top10, aes(x='reorder(Phenotype, Total)', y='Module Count', fill='Sex')) +\n",
    "    geom_bar(stat='identity', position=position_stack()) +\n",
    "    coord_flip() +\n",
    "    labs(x='Phenotype', y='Number of Gene Modules', title='Gene Modules per Phenotype by Sex') +\n",
    "    theme(axis_text_y=element_text(ha='right'))\n",
    ")\n",
    "ggsave(plot, filename=\"notebooks/data/number_of_sex_specific_modules.svg\")"
   ]
  },
  {
   "cell_type": "code",
   "execution_count": null,
   "metadata": {},
   "outputs": [],
   "source": [
    "plot"
   ]
  },
  {
   "cell_type": "markdown",
   "metadata": {},
   "source": [
    "## ✅ 目的\n",
    "\n",
    "以下の条件をすべて満たすペアを抽出したい：\n",
    "\n",
    "* 同じ遺伝子群の一部（≧3遺伝子） を含む2つのモジュール間で、\n",
    "* 片方がMale、もう片方がFemale\n",
    "* 表現型（Phenotype）が異なる\n",
    "\n",
    "つまり：\n",
    "\n",
    "“同じ遺伝子群が、性別によって異なる表現型に関与している” ことを示唆する遺伝子モジュールペアを抽出したい。"
   ]
  },
  {
   "cell_type": "code",
   "execution_count": null,
   "metadata": {},
   "outputs": [],
   "source": [
    "from itertools import combinations\n",
    "from collections import defaultdict\n",
    "\n",
    "def find_sex_diff_phenotype_modules(modules, min_shared_genes=3):\n",
    "    \"\"\"\n",
    "    modules: dict of (phenotype, sex) → list of list of genes\n",
    "    \"\"\"\n",
    "    result = []\n",
    "\n",
    "    # フラット化: (phenotype, sex, gene_set)\n",
    "    flat_modules = []\n",
    "    for (phenotype, sex), mod_lists in modules.items():\n",
    "        for genes in mod_lists:\n",
    "            flat_modules.append((phenotype, sex, set(genes)))\n",
    "\n",
    "    # すべてのペアを比較\n",
    "    for (ph1, sex1, genes1), (ph2, sex2, genes2) in combinations(flat_modules, 2):\n",
    "        if sex1 == sex2:\n",
    "            continue  # 両方ともMaleやFemaleならスキップ\n",
    "        if ph1 == ph2:\n",
    "            continue  # 表現型が同じならスキップ\n",
    "\n",
    "        shared = genes1 & genes2\n",
    "        if len(shared) >= min_shared_genes:\n",
    "            result.append({\n",
    "                'shared_genes': sorted(shared),\n",
    "                'module1': {'phenotype': ph1, 'sex': sex1, 'genes': sorted(genes1)},\n",
    "                'module2': {'phenotype': ph2, 'sex': sex2, 'genes': sorted(genes2)},\n",
    "            })\n",
    "\n",
    "    return result\n",
    "\n",
    "# 使用例\n",
    "test_modules = {(\"hoge\", \"Male\"): [[\"A\", \"B\", \"C\", \"D\"]], (\"fuga\", \"Female\"): [[\"A\", \"B\", \"C\"]],}\n",
    "\n",
    "interesting_pairs = find_sex_diff_phenotype_modules(test_modules)\n",
    "\n",
    "# 表示例\n",
    "for i, pair in enumerate(interesting_pairs, 1):\n",
    "    print(f\"\\n=== Match {i} ===\")\n",
    "    print(\"Shared genes:\", pair['shared_genes'])\n",
    "    print(\"→ Module 1:\", pair['module1']['phenotype'], \"/\", pair['module1']['sex'])\n",
    "    print(\"   Genes:\", pair['module1']['genes'])\n",
    "    print(\"→ Module 2:\", pair['module2']['phenotype'], \"/\", pair['module2']['sex'])\n",
    "    print(\"   Genes:\", pair['module2']['genes'])\n"
   ]
  },
  {
   "cell_type": "code",
   "execution_count": null,
   "metadata": {},
   "outputs": [],
   "source": [
    "interesting_pairs = find_sex_diff_phenotype_modules(modules)\n",
    "\n",
    "# 表示例\n",
    "for i, pair in enumerate(interesting_pairs, 1):  # 最初の5件だけ表示\n",
    "    if pair['module1']['phenotype'] == \"abnormal behavior\":\n",
    "        continue\n",
    "    if pair['module2']['phenotype'] == \"abnormal behavior\":\n",
    "        continue\n",
    "    print(f\"\\n=== Match {i} ===\")\n",
    "    print(\"Shared genes:\", pair['shared_genes'])\n",
    "    print(\"→ Module 1:\", pair['module1']['phenotype'], \"/\", pair['module1']['sex'])\n",
    "    print(\"   Genes:\", pair['module1']['genes'])\n",
    "    print(\"→ Module 2:\", pair['module2']['phenotype'], \"/\", pair['module2']['sex'])\n",
    "    print(\"   Genes:\", pair['module2']['genes'])"
   ]
  },
  {
   "cell_type": "code",
   "execution_count": null,
   "metadata": {},
   "outputs": [],
   "source": [
    "len(interesting_pairs)"
   ]
  },
  {
   "cell_type": "code",
   "execution_count": null,
   "metadata": {},
   "outputs": [],
   "source": [
    "interesting_pairs"
   ]
  },
  {
   "cell_type": "code",
   "execution_count": null,
   "metadata": {},
   "outputs": [],
   "source": []
  },
  {
   "cell_type": "code",
   "execution_count": null,
   "metadata": {},
   "outputs": [],
   "source": []
  },
  {
   "cell_type": "code",
   "execution_count": null,
   "metadata": {},
   "outputs": [],
   "source": [
    "df = pl.read_csv(\"data/TSUMUGI_raw_data.csv.gz\")\n",
    "\n",
    "df = df.with_columns([\n",
    "    pl.col(\"List of shared phenotypes\").str.json_decode().alias(\"List of shared phenotypes\")\n",
    "  ])"
   ]
  },
  {
   "cell_type": "code",
   "execution_count": null,
   "metadata": {},
   "outputs": [],
   "source": [
    "df"
   ]
  },
  {
   "cell_type": "code",
   "execution_count": null,
   "metadata": {},
   "outputs": [],
   "source": []
  },
  {
   "cell_type": "code",
   "execution_count": null,
   "metadata": {},
   "outputs": [],
   "source": [
    "RELEASE = 22.1"
   ]
  },
  {
   "cell_type": "code",
   "execution_count": null,
   "metadata": {},
   "outputs": [],
   "source": [
    "path_data = Path(\"data\", \"impc\", f\"statistical-results-ALL-{RELEASE}.csv\")\n",
    "data = pd.read_csv(path_data)\n",
    "# 30 seconds"
   ]
  },
  {
   "cell_type": "code",
   "execution_count": null,
   "metadata": {},
   "outputs": [],
   "source": [
    "columns = [\"marker_symbol\", \"mp_term_name\", \"p_value\", \"sex_effect_p_value\", \"female_ko_effect_p_value\", \"male_ko_effect_p_value\", \"zygosity\", \"effect_size\",]\n",
    "\n",
    "\n",
    "data = data[columns]\n",
    "\n",
    "# Filter by p_value < 0.0001\n",
    "threshold = 0.0001\n",
    "filter_pvalue = data[\"p_value\"] < threshold\n",
    "filter_female_ko_pvalue = data[\"female_ko_effect_p_value\"] < threshold\n",
    "filter_male_ko_pvalue = data[\"male_ko_effect_p_value\"] < threshold\n",
    "\n",
    "data_filtered = data[filter_pvalue | filter_male_ko_pvalue | filter_male_ko_pvalue]\n",
    "\n",
    "# Filter by mp_term_id and mp_term_name are not NaN\n",
    "data_filtered = data_filtered.dropna(subset=[\"mp_term_name\"])\n",
    "\n",
    "# Filter by effect_size is not NaN\n",
    "data_filtered = data_filtered.dropna(subset=[\"effect_size\"])\n",
    "\n",
    "data_filtered"
   ]
  },
  {
   "cell_type": "code",
   "execution_count": null,
   "metadata": {},
   "outputs": [],
   "source": [
    "data_annotated = data_filtered.copy()\n",
    "\n",
    "threshold = 0.0001\n",
    "\n",
    "# 条件リスト\n",
    "conditions = [\n",
    "    (data_annotated[\"sex_effect_p_value\"] < threshold) & (data_annotated[\"female_ko_effect_p_value\"] < threshold) & (data_annotated[\"male_ko_effect_p_value\"] > threshold),\n",
    "    (data_annotated[\"sex_effect_p_value\"] < threshold) & (data_annotated[\"male_ko_effect_p_value\"] < threshold) & (data_annotated[\"female_ko_effect_p_value\"] > threshold)\n",
    "]\n",
    "\n",
    "# 条件に対応する値\n",
    "choices = [\"female\", \"male\"]\n",
    "\n",
    "# np.selectで列を設定\n",
    "data_annotated[\"sex\"] = np.select(conditions, choices, default=None)\n",
    "data_annotated = data_annotated.reset_index(drop=True)\n",
    "\n",
    "# 結果を確認\n",
    "print(RELEASE)\n",
    "print(data_annotated[\"sex\"].value_counts())"
   ]
  },
  {
   "cell_type": "code",
   "execution_count": null,
   "metadata": {},
   "outputs": [],
   "source": [
    "data_annotated"
   ]
  },
  {
   "cell_type": "code",
   "execution_count": null,
   "metadata": {},
   "outputs": [],
   "source": [
    "columns_sex = [\"marker_symbol\", \"mp_term_name\", \"sex\"]\n",
    "data_sex = data_annotated[columns_sex]\n",
    "P(len(data_sex))"
   ]
  },
  {
   "cell_type": "code",
   "execution_count": null,
   "metadata": {},
   "outputs": [],
   "source": [
    "data_sex_filtered = data_sex[data_sex[\"sex\"].notna()]\n",
    "P(len(data_sex_filtered))"
   ]
  },
  {
   "cell_type": "code",
   "execution_count": null,
   "metadata": {},
   "outputs": [],
   "source": [
    "data_sex_filtered"
   ]
  },
  {
   "cell_type": "code",
   "execution_count": null,
   "metadata": {},
   "outputs": [],
   "source": [
    "from itertools import combinations\n",
    "import networkx as nx\n",
    "\n",
    "df = data_sex_filtered.copy()\n",
    "\n",
    "# モジュールを記録\n",
    "modules = defaultdict(list)\n",
    "\n",
    "# phenotypes per sex\n",
    "for (phenotype, sex), group in df.groupby(['mp_term_name', 'sex']):\n",
    "    genes = group['marker_symbol'].unique()\n",
    "\n",
    "    if len(genes) < 2:\n",
    "        continue  # モジュールにならない単一遺伝子はスキップ\n",
    "\n",
    "    G = nx.Graph()\n",
    "    G.add_nodes_from(genes)\n",
    "    G.add_edges_from(combinations(genes, 2))  # 完全グラフ：同じ表現型に属する遺伝子を接続\n",
    "\n",
    "    for comp in nx.connected_components(G):\n",
    "        modules[(phenotype, sex)].append(sorted(comp))\n",
    "\n",
    "# 結果表示\n",
    "for (phenotype, sex), comps in modules.items():\n",
    "    print(f\"\\n[Phenotype: {phenotype}, Sex: {sex}]\")\n",
    "    for i, comp in enumerate(comps, 1):\n",
    "        print(f\"  Module {i}: {comp}\")"
   ]
  },
  {
   "cell_type": "code",
   "execution_count": null,
   "metadata": {},
   "outputs": [],
   "source": []
  },
  {
   "cell_type": "code",
   "execution_count": null,
   "metadata": {},
   "outputs": [],
   "source": []
  }
 ],
 "metadata": {
  "kernelspec": {
   "display_name": "env-tsumugi",
   "language": "python",
   "name": "python3"
  },
  "language_info": {
   "codemirror_mode": {
    "name": "ipython",
    "version": 3
   },
   "file_extension": ".py",
   "mimetype": "text/x-python",
   "name": "python",
   "nbconvert_exporter": "python",
   "pygments_lexer": "ipython3",
   "version": "3.12.8"
  }
 },
 "nbformat": 4,
 "nbformat_minor": 2
}

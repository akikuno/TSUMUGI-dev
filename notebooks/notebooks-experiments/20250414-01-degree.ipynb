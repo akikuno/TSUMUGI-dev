{
 "cells": [
  {
   "cell_type": "markdown",
   "metadata": {},
   "source": [
    "# ノードと類似度指数の次数を計算する"
   ]
  },
  {
   "cell_type": "markdown",
   "metadata": {},
   "source": [
    "## セットアップ"
   ]
  },
  {
   "cell_type": "code",
   "execution_count": null,
   "metadata": {},
   "outputs": [],
   "source": [
    "# Move up to top directory\n",
    "import os\n",
    "from pathlib import Path\n",
    "\n",
    "print(os.getcwd())\n",
    "\n",
    "while not Path(\"LICENSE\").exists():\n",
    "    os.chdir(\"../\")\n",
    "\n",
    "print(os.getcwd())"
   ]
  },
  {
   "cell_type": "code",
   "execution_count": null,
   "metadata": {},
   "outputs": [],
   "source": [
    "from pathlib import Path\n",
    "from pprint import pprint\n",
    "from collections import defaultdict, Counter\n",
    "from itertools import combinations\n",
    "import csv\n",
    "import pandas as pd\n",
    "from matplotlib import pyplot as plt\n",
    "import seaborn as sns\n",
    "import pickle\n",
    "import networkx as nx\n",
    "\n",
    "P = print\n",
    "PP = pprint\n",
    "C = Counter"
   ]
  },
  {
   "cell_type": "markdown",
   "metadata": {},
   "source": [
    "# 実験"
   ]
  },
  {
   "cell_type": "code",
   "execution_count": null,
   "metadata": {},
   "outputs": [],
   "source": [
    "df_similarity = pd.read_csv(\"data/TSUMUGI_raw_data.csv.gz\")\n",
    "# 15 sec"
   ]
  },
  {
   "cell_type": "code",
   "execution_count": null,
   "metadata": {},
   "outputs": [],
   "source": [
    "conditions = (df_similarity[\"Number of overlapped phenotype\"] > 0) & (\n",
    "    df_similarity[\"Jaccard Similarity\"] > 0.1\n",
    ")\n",
    "df_similarity_with_phenotype = df_similarity[conditions]\n",
    "df_similarity_with_phenotype  # 1779355 row"
   ]
  },
  {
   "cell_type": "code",
   "execution_count": null,
   "metadata": {},
   "outputs": [],
   "source": [
    "# 次数をプロット\n",
    "\n",
    "df = df_similarity_with_phenotype\n",
    "\n",
    "# 無向グラフを作成\n",
    "G = nx.Graph()\n",
    "G.add_edges_from(zip(df[\"Gene1\"], df[\"Gene2\"]))\n",
    "\n",
    "# 各ノードの次数を取得\n",
    "degree_dict = dict(G.degree())\n",
    "\n",
    "# DataFrameに変換\n",
    "degree_df = pd.DataFrame(\n",
    "    list(degree_dict.items()), columns=[\"Gene\", \"Degree\"]\n",
    ").sort_values(by=\"Degree\", ascending=False)"
   ]
  },
  {
   "cell_type": "code",
   "execution_count": null,
   "metadata": {},
   "outputs": [],
   "source": [
    "# プロット\n",
    "plt.figure(figsize=(10, 6))\n",
    "plt.bar(degree_df[\"Gene\"], degree_df[\"Degree\"])\n",
    "plt.xticks(rotation=90)\n",
    "plt.xlabel(\"Gene Symbol\")\n",
    "plt.ylabel(\"Degree\")\n",
    "plt.title(\"Degree of Each Gene in the Similarity Graph\")\n",
    "plt.tight_layout()\n",
    "plt.show()"
   ]
  },
  {
   "cell_type": "code",
   "execution_count": null,
   "metadata": {},
   "outputs": [],
   "source": [
    "df_similarity_with_phenotype[\"Jaccard Similarity\"].hist(bins=100)"
   ]
  },
  {
   "cell_type": "code",
   "execution_count": null,
   "metadata": {},
   "outputs": [],
   "source": []
  }
 ],
 "metadata": {
  "kernelspec": {
   "display_name": "Python 3",
   "language": "python",
   "name": "python3"
  },
  "language_info": {
   "codemirror_mode": {
    "name": "ipython",
    "version": 3
   },
   "file_extension": ".py",
   "mimetype": "text/x-python",
   "name": "python",
   "nbconvert_exporter": "python",
   "pygments_lexer": "ipython3",
   "version": "3.10.15"
  }
 },
 "nbformat": 4,
 "nbformat_minor": 2
}

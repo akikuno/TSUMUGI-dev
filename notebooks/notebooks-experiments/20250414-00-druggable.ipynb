{
 "cells": [
  {
   "cell_type": "markdown",
   "metadata": {},
   "source": [
    "# 創薬対象となりえる遺伝子リストを取得する"
   ]
  },
  {
   "cell_type": "markdown",
   "metadata": {},
   "source": [
    "# セットアップ"
   ]
  },
  {
   "cell_type": "code",
   "execution_count": null,
   "metadata": {},
   "outputs": [],
   "source": [
    "# Move up to top directory\n",
    "import os\n",
    "from pathlib import Path\n",
    "\n",
    "print(os.getcwd())\n",
    "\n",
    "while not Path(\"LICENSE\").exists():\n",
    "    os.chdir(\"../\")\n",
    "\n",
    "print(os.getcwd())"
   ]
  },
  {
   "cell_type": "code",
   "execution_count": null,
   "metadata": {},
   "outputs": [],
   "source": [
    "from pathlib import Path\n",
    "from pprint import pprint\n",
    "from collections import defaultdict, Counter\n",
    "from itertools import combinations\n",
    "import csv\n",
    "import pandas as pd\n",
    "from matplotlib import pyplot as plt\n",
    "import seaborn as sns\n",
    "\n",
    "P = print\n",
    "PP = pprint\n",
    "C = Counter"
   ]
  },
  {
   "cell_type": "markdown",
   "metadata": {},
   "source": [
    "# 実験\n",
    "\n",
    "- DGIdb 5.0\n",
    "\n",
    "https://academic.oup.com/nar/article/52/D1/D1227/7416371"
   ]
  },
  {
   "cell_type": "code",
   "execution_count": null,
   "metadata": {},
   "outputs": [],
   "source": [
    "url = \"https://dgidb.org/data/2024-Dec/interactions.tsv\"\n",
    "df_interactions = pd.read_csv(url, sep=\"\\t\", comment=\"#\")\n",
    "df_interactions  # 98920 rows"
   ]
  },
  {
   "cell_type": "code",
   "execution_count": null,
   "metadata": {},
   "outputs": [],
   "source": [
    "print(df_interactions[[\"interaction_score\"]].describe())\n",
    "df_interactions[[\"interaction_score\"]].plot.hist(bins=1000)"
   ]
  },
  {
   "cell_type": "code",
   "execution_count": null,
   "metadata": {},
   "outputs": [],
   "source": [
    "print(print(df_interactions[[\"evidence_score\"]].describe()))\n",
    "df_interactions[[\"evidence_score\"]].plot.hist(bins=1000)"
   ]
  },
  {
   "cell_type": "code",
   "execution_count": null,
   "metadata": {},
   "outputs": [],
   "source": [
    "df_interactions_approved = df_interactions[df_interactions[\"drug_is_approved\"] == True]\n",
    "df_interactions_approved  # 38483 rows"
   ]
  },
  {
   "cell_type": "code",
   "execution_count": null,
   "metadata": {},
   "outputs": [],
   "source": [
    "df_interactions_approved_high_eveidence = df_interactions_approved[\n",
    "    df_interactions_approved[\"evidence_score\"] >= 2\n",
    "]\n",
    "df_interactions_approved_high_eveidence  # 20452 rows"
   ]
  },
  {
   "cell_type": "code",
   "execution_count": null,
   "metadata": {},
   "outputs": [],
   "source": [
    "druggable_genes = df_interactions_approved_high_eveidence[\"gene_name\"].unique()\n",
    "print(len(druggable_genes))  # 2265"
   ]
  },
  {
   "cell_type": "code",
   "execution_count": null,
   "metadata": {},
   "outputs": [],
   "source": [
    "# ソートして出力\n",
    "\n",
    "Path(\"data/experiments/\").mkdir(parents=True, exist_ok=True)\n",
    "druggable_genes = sorted(druggable_genes)\n",
    "with open(\"data/experiments/druggable_genes.txt\", \"w\") as f:\n",
    "    for gene in druggable_genes:\n",
    "        f.write(gene + \"\\n\")"
   ]
  },
  {
   "cell_type": "markdown",
   "metadata": {},
   "source": [
    "## ヒトからマウスの遺伝子シンボルに変換"
   ]
  },
  {
   "cell_type": "code",
   "execution_count": null,
   "metadata": {},
   "outputs": [],
   "source": [
    "url = \"https://www.informatics.jax.org/downloads/reports/HOM_MouseHumanSequence.rpt\"\n",
    "\n",
    "df_mouse_human = pd.read_csv(url, sep=\"\\t\", comment=\"#\")\n",
    "df_mouse_human  # 1081 rows"
   ]
  },
  {
   "cell_type": "code",
   "execution_count": null,
   "metadata": {},
   "outputs": [],
   "source": [
    "# 種名から 'mouse' or 'human' を抽出\n",
    "df_mouse_human[\"Organism\"] = df_mouse_human[\"Common Organism Name\"].str.extract(\n",
    "    r\"(mouse|human)\", expand=False\n",
    ")\n",
    "df = df_mouse_human[[\"DB Class Key\", \"Organism\", \"Symbol\"]]\n",
    "df"
   ]
  },
  {
   "cell_type": "code",
   "execution_count": null,
   "metadata": {},
   "outputs": [],
   "source": [
    "# human/mouseごとの Symbol を分けて抽出\n",
    "human_df = df[df[\"Organism\"] == \"human\"][[\"DB Class Key\", \"Symbol\"]].rename(\n",
    "    columns={\"Symbol\": \"human\"}\n",
    ")\n",
    "mouse_df = df[df[\"Organism\"] == \"mouse\"][[\"DB Class Key\", \"Symbol\"]].rename(\n",
    "    columns={\"Symbol\": \"mouse\"}\n",
    ")"
   ]
  },
  {
   "cell_type": "code",
   "execution_count": null,
   "metadata": {},
   "outputs": [],
   "source": [
    "df_merged = pd.merge(human_df, mouse_df, on=\"DB Class Key\", how=\"left\").reset_index(\n",
    "    drop=True\n",
    ")\n",
    "df_merged[[\"human\", \"mouse\"]].drop_duplicates().to_csv(\n",
    "    \"data/experiments/human_mouse_genes.txt\", sep=\"\\t\", index=False\n",
    ")"
   ]
  },
  {
   "cell_type": "code",
   "execution_count": null,
   "metadata": {},
   "outputs": [],
   "source": [
    "df_merged[df_merged[\"DB Class Key\"] == 48820152]"
   ]
  },
  {
   "cell_type": "code",
   "execution_count": null,
   "metadata": {},
   "outputs": [],
   "source": []
  },
  {
   "cell_type": "markdown",
   "metadata": {},
   "source": [
    "## マウスにおけるDruggable genesのリストを作成"
   ]
  },
  {
   "cell_type": "code",
   "execution_count": null,
   "metadata": {},
   "outputs": [],
   "source": [
    "druggable_genes[:10]"
   ]
  },
  {
   "cell_type": "code",
   "execution_count": null,
   "metadata": {},
   "outputs": [],
   "source": [
    "human_mouse = {\n",
    "    df_merged.iloc[i][\"human\"]: df_merged.iloc[i][\"mouse\"]\n",
    "    for i in range(len(df_merged))\n",
    "}\n",
    "human_mouse[\"TP53\"]  # Trp53"
   ]
  },
  {
   "cell_type": "code",
   "execution_count": null,
   "metadata": {},
   "outputs": [],
   "source": [
    "druggable_genes_mouse = []\n",
    "for gene in druggable_genes:\n",
    "    if gene in human_mouse:\n",
    "        druggable_genes_mouse.append(human_mouse[gene])\n",
    "\n",
    "druggable_genes_mouse = sorted(druggable_genes_mouse)\n",
    "with open(\"data/experiments/druggable_genes_mouse.txt\", \"w\") as f:\n",
    "    for gene in druggable_genes_mouse:\n",
    "        f.write(gene + \"\\n\")\n",
    "print(len(druggable_genes))\n",
    "print(len(druggable_genes_mouse))  # 2189"
   ]
  },
  {
   "cell_type": "code",
   "execution_count": null,
   "metadata": {},
   "outputs": [],
   "source": []
  }
 ],
 "metadata": {
  "kernelspec": {
   "display_name": "Python 3",
   "language": "python",
   "name": "python3"
  },
  "language_info": {
   "codemirror_mode": {
    "name": "ipython",
    "version": 3
   },
   "file_extension": ".py",
   "mimetype": "text/x-python",
   "name": "python",
   "nbconvert_exporter": "python",
   "pygments_lexer": "ipython3",
   "version": "3.10.15"
  }
 },
 "nbformat": 4,
 "nbformat_minor": 2
}

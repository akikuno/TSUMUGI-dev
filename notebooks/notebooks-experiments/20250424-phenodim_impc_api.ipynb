{
 "cells": [
  {
   "cell_type": "markdown",
   "metadata": {},
   "source": [
    "# IMPC_APIを用いてPhenodiデータを取得する"
   ]
  },
  {
   "cell_type": "markdown",
   "metadata": {},
   "source": [
    "# セットアップ"
   ]
  },
  {
   "cell_type": "code",
   "execution_count": 1,
   "metadata": {},
   "outputs": [
    {
     "name": "stdout",
     "output_type": "stream",
     "text": [
      "/mnt/e/Research/TSUMUGI-dev-main/notebooks/notebooks-experiments\n",
      "/mnt/e/Research/TSUMUGI-dev-main\n"
     ]
    }
   ],
   "source": [
    "# Move up to top directory\n",
    "import os\n",
    "from pathlib import Path\n",
    "\n",
    "print(os.getcwd())\n",
    "\n",
    "while not Path(\"LICENSE\").exists():\n",
    "    os.chdir('../')\n",
    "\n",
    "print(os.getcwd())"
   ]
  },
  {
   "cell_type": "code",
   "execution_count": 2,
   "metadata": {},
   "outputs": [],
   "source": [
    "from pathlib import Path\n",
    "from pprint import pprint\n",
    "from collections import defaultdict, Counter\n",
    "from itertools import combinations\n",
    "import csv\n",
    "import pandas as pd\n",
    "from matplotlib import pyplot as plt\n",
    "import seaborn as sns\n",
    "\n",
    "P = print\n",
    "PP = pprint\n",
    "C = Counter\n"
   ]
  },
  {
   "cell_type": "markdown",
   "metadata": {},
   "source": [
    "# 実験"
   ]
  },
  {
   "cell_type": "code",
   "execution_count": 3,
   "metadata": {},
   "outputs": [],
   "source": [
    "from impc_api import solr_request, batch_solr_request\n"
   ]
  },
  {
   "cell_type": "code",
   "execution_count": 7,
   "metadata": {},
   "outputs": [
    {
     "name": "stdout",
     "output_type": "stream",
     "text": [
      "\n",
      "Your request:\n",
      "https://www.ebi.ac.uk/mi/impc/solr/genotype-phenotype/select?q=%2A%3A%2A&rows=0&facet=on&facet.field=zygosity&facet.limit=15&facet.mincount=1\n",
      "\n",
      "Number of found documents: 69489\n",
      "\n"
     ]
    },
    {
     "data": {
      "text/html": [
       "<div>\n",
       "<style scoped>\n",
       "    .dataframe tbody tr th:only-of-type {\n",
       "        vertical-align: middle;\n",
       "    }\n",
       "\n",
       "    .dataframe tbody tr th {\n",
       "        vertical-align: top;\n",
       "    }\n",
       "\n",
       "    .dataframe thead th {\n",
       "        text-align: right;\n",
       "    }\n",
       "</style>\n",
       "<table border=\"1\" class=\"dataframe\">\n",
       "  <thead>\n",
       "    <tr style=\"text-align: right;\">\n",
       "      <th></th>\n",
       "      <th>zygosity</th>\n",
       "      <th>count_per_category</th>\n",
       "    </tr>\n",
       "  </thead>\n",
       "  <tbody>\n",
       "    <tr>\n",
       "      <th>0</th>\n",
       "      <td>homozygote</td>\n",
       "      <td>54170</td>\n",
       "    </tr>\n",
       "    <tr>\n",
       "      <th>1</th>\n",
       "      <td>heterozygote</td>\n",
       "      <td>14551</td>\n",
       "    </tr>\n",
       "    <tr>\n",
       "      <th>2</th>\n",
       "      <td>hemizygote</td>\n",
       "      <td>768</td>\n",
       "    </tr>\n",
       "  </tbody>\n",
       "</table>\n",
       "</div>"
      ],
      "text/plain": [
       "       zygosity  count_per_category\n",
       "0    homozygote               54170\n",
       "1  heterozygote               14551\n",
       "2    hemizygote                 768"
      ]
     },
     "metadata": {},
     "output_type": "display_data"
    },
    {
     "data": {
      "text/html": [
       "<div>\n",
       "<style scoped>\n",
       "    .dataframe tbody tr th:only-of-type {\n",
       "        vertical-align: middle;\n",
       "    }\n",
       "\n",
       "    .dataframe tbody tr th {\n",
       "        vertical-align: top;\n",
       "    }\n",
       "\n",
       "    .dataframe thead th {\n",
       "        text-align: right;\n",
       "    }\n",
       "</style>\n",
       "<table border=\"1\" class=\"dataframe\">\n",
       "  <thead>\n",
       "    <tr style=\"text-align: right;\">\n",
       "      <th></th>\n",
       "      <th>zygosity</th>\n",
       "      <th>count_per_category</th>\n",
       "    </tr>\n",
       "  </thead>\n",
       "  <tbody>\n",
       "    <tr>\n",
       "      <th>0</th>\n",
       "      <td>homozygote</td>\n",
       "      <td>54170</td>\n",
       "    </tr>\n",
       "    <tr>\n",
       "      <th>1</th>\n",
       "      <td>heterozygote</td>\n",
       "      <td>14551</td>\n",
       "    </tr>\n",
       "    <tr>\n",
       "      <th>2</th>\n",
       "      <td>hemizygote</td>\n",
       "      <td>768</td>\n",
       "    </tr>\n",
       "  </tbody>\n",
       "</table>\n",
       "</div>"
      ],
      "text/plain": [
       "       zygosity  count_per_category\n",
       "0    homozygote               54170\n",
       "1  heterozygote               14551\n",
       "2    hemizygote                 768"
      ]
     },
     "execution_count": 7,
     "metadata": {},
     "output_type": "execute_result"
    }
   ],
   "source": [
    "num_found, df = solr_request(\n",
    "    core=\"genotype-phenotype\",\n",
    "    params={\n",
    "         \"q\": \"*:*\",\n",
    "         \"rows\": 0,\n",
    "         \"facet\": \"on\",\n",
    "         \"facet.field\": \"zygosity\",\n",
    "         \"facet.limit\": 15,\n",
    "         \"facet.mincount\": 1,\n",
    "    }\n",
    ")\n",
    "df"
   ]
  },
  {
   "cell_type": "code",
   "execution_count": 8,
   "metadata": {},
   "outputs": [
    {
     "name": "stdout",
     "output_type": "stream",
     "text": [
      "\n",
      "Your request:\n",
      "https://www.ebi.ac.uk/mi/impc/solr/phenodigm/select?q=%2A%3A%2A&rows=10\n",
      "\n",
      "Number of found documents: 10152848\n",
      "\n"
     ]
    },
    {
     "data": {
      "text/html": [
       "<div>\n",
       "<style scoped>\n",
       "    .dataframe tbody tr th:only-of-type {\n",
       "        vertical-align: middle;\n",
       "    }\n",
       "\n",
       "    .dataframe tbody tr th {\n",
       "        vertical-align: top;\n",
       "    }\n",
       "\n",
       "    .dataframe thead th {\n",
       "        text-align: right;\n",
       "    }\n",
       "</style>\n",
       "<table border=\"1\" class=\"dataframe\">\n",
       "  <thead>\n",
       "    <tr style=\"text-align: right;\">\n",
       "      <th></th>\n",
       "      <th>type</th>\n",
       "      <th>gene_id</th>\n",
       "      <th>hgnc_gene_id</th>\n",
       "    </tr>\n",
       "  </thead>\n",
       "  <tbody>\n",
       "    <tr>\n",
       "      <th>0</th>\n",
       "      <td>gene_gene</td>\n",
       "      <td>MGI:102498</td>\n",
       "      <td>HGNC:7459</td>\n",
       "    </tr>\n",
       "    <tr>\n",
       "      <th>1</th>\n",
       "      <td>gene_gene</td>\n",
       "      <td>MGI:102500</td>\n",
       "      <td>HGNC:7456</td>\n",
       "    </tr>\n",
       "    <tr>\n",
       "      <th>2</th>\n",
       "      <td>gene_gene</td>\n",
       "      <td>MGI:99927</td>\n",
       "      <td>HGNC:7414</td>\n",
       "    </tr>\n",
       "    <tr>\n",
       "      <th>3</th>\n",
       "      <td>gene_gene</td>\n",
       "      <td>MGI:102501</td>\n",
       "      <td>HGNC:7427</td>\n",
       "    </tr>\n",
       "    <tr>\n",
       "      <th>4</th>\n",
       "      <td>gene_gene</td>\n",
       "      <td>MGI:102496</td>\n",
       "      <td>HGNC:7461</td>\n",
       "    </tr>\n",
       "    <tr>\n",
       "      <th>5</th>\n",
       "      <td>gene_gene</td>\n",
       "      <td>MGI:102497</td>\n",
       "      <td>HGNC:7460</td>\n",
       "    </tr>\n",
       "    <tr>\n",
       "      <th>6</th>\n",
       "      <td>gene_gene</td>\n",
       "      <td>MGI:102502</td>\n",
       "      <td>HGNC:7422</td>\n",
       "    </tr>\n",
       "    <tr>\n",
       "      <th>7</th>\n",
       "      <td>gene_gene</td>\n",
       "      <td>MGI:102499</td>\n",
       "      <td>HGNC:7458</td>\n",
       "    </tr>\n",
       "    <tr>\n",
       "      <th>8</th>\n",
       "      <td>gene_gene</td>\n",
       "      <td>MGI:102495</td>\n",
       "      <td>HGNC:7462</td>\n",
       "    </tr>\n",
       "    <tr>\n",
       "      <th>9</th>\n",
       "      <td>gene_gene</td>\n",
       "      <td>MGI:102504</td>\n",
       "      <td>HGNC:7419</td>\n",
       "    </tr>\n",
       "  </tbody>\n",
       "</table>\n",
       "</div>"
      ],
      "text/plain": [
       "        type     gene_id hgnc_gene_id\n",
       "0  gene_gene  MGI:102498    HGNC:7459\n",
       "1  gene_gene  MGI:102500    HGNC:7456\n",
       "2  gene_gene   MGI:99927    HGNC:7414\n",
       "3  gene_gene  MGI:102501    HGNC:7427\n",
       "4  gene_gene  MGI:102496    HGNC:7461\n",
       "5  gene_gene  MGI:102497    HGNC:7460\n",
       "6  gene_gene  MGI:102502    HGNC:7422\n",
       "7  gene_gene  MGI:102499    HGNC:7458\n",
       "8  gene_gene  MGI:102495    HGNC:7462\n",
       "9  gene_gene  MGI:102504    HGNC:7419"
      ]
     },
     "metadata": {},
     "output_type": "display_data"
    }
   ],
   "source": [
    "num_found, df = solr_request(\n",
    "    core='phenodigm', \n",
    "    params={\n",
    "        'q': '*:*',\n",
    "        'rows': 10, \n",
    "    }\n",
    ")"
   ]
  },
  {
   "cell_type": "code",
   "execution_count": 17,
   "metadata": {},
   "outputs": [
    {
     "name": "stdout",
     "output_type": "stream",
     "text": [
      "['decreased bone mineral content (Homo, Female)', 'decreased bone mineral density (Homo)', 'decreased bone mineral content (Homo, Female)', 'decreased bone mineral content (Homo, Female)', 'decreased bone mineral content (Homo, Female)']\n"
     ]
    }
   ],
   "source": [
    "# Overlapeed phenotypeの中で、maleとfemaleを含むものを抽出する\n",
    "overlapped_phenotype = df_similarity_with_sexual_dimorphism['Overlapped phenotype'].tolist()\n",
    "\n",
    "import ast\n",
    "\n",
    "# 各文字列をパースしてリストに変換\n",
    "parsed_lists = [ast.literal_eval(item) for item in overlapped_phenotype]\n",
    "\n",
    "# 全てのリストを結合\n",
    "flattened_list = []\n",
    "for sublist in parsed_lists:\n",
    "    flattened_list.extend(sublist)\n",
    "\n",
    "P(flattened_list[:5])"
   ]
  },
  {
   "cell_type": "code",
   "execution_count": 18,
   "metadata": {},
   "outputs": [
    {
     "name": "stdout",
     "output_type": "stream",
     "text": [
      "['decreased bone mineral content (Homo, Female)', 'decreased bone mineral content (Homo, Female)', 'decreased bone mineral content (Homo, Female)', 'decreased bone mineral content (Homo, Female)', 'decreased bone mineral content (Homo, Female)']\n"
     ]
    }
   ],
   "source": [
    "\n",
    "phenotype_with_sexual_dimorphism = [p for p in flattened_list if \"Male\" in p or \"Female\" in p]\n",
    "\n",
    "P(phenotype_with_sexual_dimorphism[:5])"
   ]
  },
  {
   "cell_type": "code",
   "execution_count": 20,
   "metadata": {},
   "outputs": [
    {
     "data": {
      "text/plain": [
       "[('hyperactivity (Homo, Female)', 13781),\n",
       " ('increased circulating alkaline phosphatase level (Homo, Female)', 3981),\n",
       " ('decreased bone mineral content (Homo, Female)', 3132),\n",
       " ('decreased grip strength (Homo, Female)', 2839),\n",
       " ('increased grip strength (Homo, Female)', 1835),\n",
       " ('decreased locomotor activity (Homo, Female)', 1821),\n",
       " ('hyperactivity (Hetero, Female)', 1246),\n",
       " ('decreased bone mineral density (Homo, Female)', 1208),\n",
       " ('increased total body fat amount (Homo, Female)', 917),\n",
       " ('abnormal bone structure (Homo, Female)', 809),\n",
       " ('increased fasting circulating glucose level (Homo, Female)', 682),\n",
       " ('increased circulating alkaline phosphatase level (Hetero, Female)', 612),\n",
       " ('increased bone mineral content (Homo, Female)', 572),\n",
       " ('decreased lean body mass (Homo, Female)', 525),\n",
       " ('increased grip strength (Hetero, Female)', 509),\n",
       " ('decreased grip strength (Hetero, Female)', 434),\n",
       " ('decreased exploration in new environment (Homo, Female)', 292),\n",
       " ('decreased body length (Homo, Female)', 284),\n",
       " ('decreased mean corpuscular hemoglobin (Homo, Female)', 256),\n",
       " ('increased circulating creatinine level (Homo, Female)', 238),\n",
       " ('decreased locomotor activity (Hetero, Female)', 217),\n",
       " ('abnormal behavior (Homo, Female)', 207),\n",
       " ('decreased thigmotaxis (Homo, Female)', 197),\n",
       " ('decreased bone mineral content (Hetero, Female)', 180),\n",
       " ('impaired glucose tolerance (Homo, Female)', 163),\n",
       " ('increased mean corpuscular hemoglobin (Homo, Female)', 160),\n",
       " ('hyperactivity (Homo, Male)', 149),\n",
       " ('decreased total body fat amount (Homo, Male)', 143),\n",
       " ('increased bone mineral content (Hetero, Female)', 137),\n",
       " ('abnormal cholesterol homeostasis (Homo, Female)', 131),\n",
       " ('increased total body fat amount (Hetero, Female)', 129),\n",
       " ('increased lean body mass (Homo, Male)', 127),\n",
       " ('decreased circulating serum albumin level (Homo, Female)', 113),\n",
       " ('decreased circulating alkaline phosphatase level (Homo, Female)', 110),\n",
       " ('decreased lean body mass (Hetero, Female)', 104),\n",
       " ('decreased mean corpuscular volume (Homo, Female)', 102),\n",
       " ('abnormal bone structure (Hetero, Female)', 97),\n",
       " ('decreased fasting circulating glucose level (Homo, Female)', 96),\n",
       " ('increased leukocyte cell number (Homo, Female)', 93),\n",
       " ('increased circulating iron level (Homo, Female)', 84),\n",
       " ('increased mean corpuscular volume (Homo, Female)', 81),\n",
       " ('increased spleen weight (Homo, Female)', 79),\n",
       " ('increased circulating amylase level (Homo, Female)', 74),\n",
       " ('short tibia (Homo, Female)', 73),\n",
       " ('decreased anxiety-related response (Homo, Female)', 72),\n",
       " ('increased fasting circulating glucose level (Hetero, Female)', 72),\n",
       " ('decreased circulating alkaline phosphatase level (Hetero, Female)', 70),\n",
       " ('decreased body weight (Homo, Female)', 66),\n",
       " ('abnormal eye anterior chamber depth (Homo, Female)', 64),\n",
       " ('increased startle reflex (Homo, Female)', 63),\n",
       " ('increased grip strength (Homo, Male)', 63),\n",
       " ('decreased circulating creatinine level (Homo, Female)', 61),\n",
       " ('increased circulating HDL cholesterol level (Homo, Female)', 59),\n",
       " ('increased circulating HDL cholesterol level (Hetero, Female)', 55),\n",
       " ('decreased circulating cholesterol level (Homo, Male)', 52),\n",
       " ('increased mean corpuscular hemoglobin (Hetero, Female)', 49),\n",
       " ('decreased bone mineral density (Hetero, Female)', 48),\n",
       " ('increased circulating phosphate level (Homo, Female)', 47),\n",
       " ('increased bone mineral content (Homo, Male)', 47),\n",
       " ('increased circulating cholesterol level (Homo, Female)', 47),\n",
       " ('abnormal cholesterol homeostasis (Hetero, Female)', 46),\n",
       " ('decreased mean corpuscular hemoglobin (Hetero, Female)', 46),\n",
       " ('increased circulating creatinine level (Hetero, Female)', 44),\n",
       " ('abnormal sleep behavior (Homo, Female)', 43),\n",
       " ('improved glucose tolerance (Homo, Female)', 40),\n",
       " ('increased monocyte cell number (Homo, Female)', 40),\n",
       " ('increased circulating sodium level (Homo, Female)', 39),\n",
       " ('decreased grip strength (Homo, Male)', 39),\n",
       " ('prolonged RR interval (Homo, Female)', 38),\n",
       " ('decreased circulating serum albumin level (Homo, Male)', 36),\n",
       " ('increased mean corpuscular hemoglobin concentration (Homo, Female)', 36),\n",
       " ('decreased circulating HDL cholesterol level (Homo, Male)', 36),\n",
       " ('decreased mean corpuscular hemoglobin concentration (Homo, Female)', 35),\n",
       " ('increased heart weight (Homo, Female)', 35),\n",
       " ('increased circulating alanine transaminase level (Homo, Female)', 35),\n",
       " ('decreased hemoglobin content (Homo, Female)', 35),\n",
       " ('increased total body fat amount (Homo, Male)', 34),\n",
       " ('impaired glucose tolerance (Hetero, Female)', 34),\n",
       " ('decreased circulating iron level (Homo, Female)', 33),\n",
       " ('increased mean corpuscular hemoglobin concentration (Hetero, Female)', 33),\n",
       " ('decreased body length (Hetero, Female)', 32),\n",
       " ('decreased lean body mass (Homo, Male)', 30),\n",
       " ('increased blood urea nitrogen level (Homo, Female)', 30),\n",
       " ('increased exploration in new environment (Homo, Female)', 29),\n",
       " ('decreased circulating creatinine level (Hetero, Female)', 28),\n",
       " ('abnormal retina outer nuclear layer morphology (Homo, Female)', 28),\n",
       " ('improved glucose tolerance (Homo, Male)', 27),\n",
       " ('increased red blood cell distribution width (Homo, Female)', 26),\n",
       " ('decreased erythrocyte cell number (Homo, Female)', 26),\n",
       " ('decreased exploration in new environment (Hetero, Female)', 26),\n",
       " ('increased circulating potassium level (Homo, Female)', 25),\n",
       " ('increased mean corpuscular volume (Hetero, Female)', 25),\n",
       " ('increased circulating serum albumin level (Homo, Female)', 25),\n",
       " ('increased circulating sodium level (Hetero, Female)', 25),\n",
       " ('impaired glucose tolerance (Homo, Male)', 24),\n",
       " ('decreased prepulse inhibition (Homo, Female)', 24),\n",
       " ('decreased mean corpuscular volume (Hetero, Female)', 24),\n",
       " ('increased circulating cholesterol level (Homo, Male)', 24),\n",
       " ('increased circulating alkaline phosphatase level (Homo, Male)', 24),\n",
       " ('increased lean body mass (Homo, Female)', 23)]"
      ]
     },
     "execution_count": 20,
     "metadata": {},
     "output_type": "execute_result"
    }
   ],
   "source": [
    "Counter(phenotype_with_sexual_dimorphism).most_common(100)"
   ]
  },
  {
   "cell_type": "code",
   "execution_count": null,
   "metadata": {},
   "outputs": [],
   "source": []
  }
 ],
 "metadata": {
  "kernelspec": {
   "display_name": "env-tsumugi",
   "language": "python",
   "name": "python3"
  },
  "language_info": {
   "codemirror_mode": {
    "name": "ipython",
    "version": 3
   },
   "file_extension": ".py",
   "mimetype": "text/x-python",
   "name": "python",
   "nbconvert_exporter": "python",
   "pygments_lexer": "ipython3",
   "version": "3.12.10"
  }
 },
 "nbformat": 4,
 "nbformat_minor": 2
}

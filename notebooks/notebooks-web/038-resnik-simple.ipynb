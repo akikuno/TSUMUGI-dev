{
 "cells": [
  {
   "cell_type": "markdown",
   "metadata": {},
   "source": [
    "# Resnik Similarity Implementation\n",
    "\n",
    "This notebook implements Resnik similarity calculation for MP ontology terms using the mp.obo file."
   ]
  },
  {
   "cell_type": "code",
   "execution_count": 1,
   "metadata": {},
   "outputs": [],
   "source": [
    "import re\n",
    "import math\n",
    "from collections import defaultdict"
   ]
  },
  {
   "cell_type": "code",
   "execution_count": 2,
   "metadata": {},
   "outputs": [
    {
     "name": "stdout",
     "output_type": "stream",
     "text": [
      "Current directory: /mnt/c/Users/akihi/Documents/GitHub/TSUMUGI-dev/notebooks/notebooks-web\n",
      "Project root: /mnt/c/Users/akihi/Documents/GitHub/TSUMUGI-dev\n"
     ]
    }
   ],
   "source": [
    "# プロジェクトルートに移動\n",
    "import os\n",
    "from pathlib import Path\n",
    "\n",
    "print(f\"Current directory: {os.getcwd()}\")\n",
    "\n",
    "while not Path(\"LICENSE\").exists():\n",
    "    os.chdir(\"../\")\n",
    "\n",
    "print(f\"Project root: {os.getcwd()}\")"
   ]
  },
  {
   "cell_type": "code",
   "execution_count": 3,
   "metadata": {},
   "outputs": [],
   "source": [
    "def parse_obo_file(file_path: str) -> dict[str, dict]:\n",
    "    \"\"\"Parse OBO file and extract term information.\"\"\"\n",
    "    terms = {}\n",
    "    current_term = None\n",
    "\n",
    "    with open(file_path, \"r\", encoding=\"utf-8\") as f:\n",
    "        for line in f:\n",
    "            line = line.strip()\n",
    "\n",
    "            if line == \"[Term]\":\n",
    "                current_term = {}\n",
    "                continue\n",
    "\n",
    "            if line.startswith(\"[\") and line.endswith(\"]\") and line != \"[Term]\":\n",
    "                current_term = None\n",
    "                continue\n",
    "\n",
    "            if current_term is None:\n",
    "                continue\n",
    "\n",
    "            if \":\" in line:\n",
    "                key, value = line.split(\":\", 1)\n",
    "                key = key.strip()\n",
    "                value = value.strip()\n",
    "\n",
    "                if key == \"id\":\n",
    "                    current_term[\"id\"] = value\n",
    "                elif key == \"name\":\n",
    "                    current_term[\"name\"] = value\n",
    "                elif key == \"is_a\":\n",
    "                    if \"is_a\" not in current_term:\n",
    "                        current_term[\"is_a\"] = []\n",
    "                    parent_id = value.split(\"!\")[0].strip()\n",
    "                    current_term[\"is_a\"].append(parent_id)\n",
    "                elif key == \"is_obsolete\":\n",
    "                    current_term[\"is_obsolete\"] = value.lower() == \"true\"\n",
    "\n",
    "            if line == \"\" and current_term and \"id\" in current_term:\n",
    "                if not current_term.get(\"is_obsolete\", False):\n",
    "                    terms[current_term[\"id\"]] = current_term\n",
    "                current_term = None\n",
    "\n",
    "    return terms"
   ]
  },
  {
   "cell_type": "code",
   "execution_count": 4,
   "metadata": {},
   "outputs": [],
   "source": [
    "def build_parent_child_relations(\n",
    "    terms: dict[str, dict],\n",
    ") -> tuple[dict[str, list[str]], dict[str, list[str]]]:\n",
    "    \"\"\"Build parent-child relationships from terms.\"\"\"\n",
    "    parents = defaultdict(list)  # term_id -> [parent_ids]\n",
    "    children = defaultdict(list)  # term_id -> [child_ids]\n",
    "\n",
    "    for term_id, term_data in terms.items():\n",
    "        if \"is_a\" in term_data:\n",
    "            for parent_id in term_data[\"is_a\"]:\n",
    "                parents[term_id].append(parent_id)\n",
    "                children[parent_id].append(term_id)\n",
    "\n",
    "    return dict(parents), dict(children)"
   ]
  },
  {
   "cell_type": "code",
   "execution_count": 5,
   "metadata": {},
   "outputs": [],
   "source": [
    "def get_all_ancestors(term_id: str, parents: dict[str, list[str]]) -> set[str]:\n",
    "    \"\"\"Get all ancestor terms for a given term.\"\"\"\n",
    "    ancestors = set()\n",
    "    queue = [term_id]\n",
    "\n",
    "    while queue:\n",
    "        current = queue.pop(0)\n",
    "        if current in parents:\n",
    "            for parent in parents[current]:\n",
    "                if parent not in ancestors:\n",
    "                    ancestors.add(parent)\n",
    "                    queue.append(parent)\n",
    "\n",
    "    return ancestors"
   ]
  },
  {
   "cell_type": "code",
   "execution_count": 6,
   "metadata": {},
   "outputs": [],
   "source": [
    "def get_all_descendants(term_id: str, children: dict[str, list[str]]) -> set[str]:\n",
    "    \"\"\"Get all descendant terms for a given term.\"\"\"\n",
    "    descendants = set()\n",
    "    queue = [term_id]\n",
    "\n",
    "    while queue:\n",
    "        current = queue.pop(0)\n",
    "        if current in children:\n",
    "            for child in children[current]:\n",
    "                if child not in descendants:\n",
    "                    descendants.add(child)\n",
    "                    queue.append(child)\n",
    "\n",
    "    return descendants"
   ]
  },
  {
   "cell_type": "code",
   "execution_count": 7,
   "metadata": {},
   "outputs": [],
   "source": [
    "def calculate_information_content(\n",
    "    term_id: str, children: dict[str, list[str]], total_terms: int\n",
    ") -> float:\n",
    "    \"\"\"Calculate information content for a term based on its descendants.\"\"\"\n",
    "    descendants = get_all_descendants(term_id, children)\n",
    "    # Include the term itself in the count\n",
    "    term_count = len(descendants) + 1\n",
    "    probability = term_count / total_terms\n",
    "    return -math.log(probability)"
   ]
  },
  {
   "cell_type": "code",
   "execution_count": 8,
   "metadata": {},
   "outputs": [],
   "source": [
    "def find_common_ancestors(\n",
    "    term1_id: str, term2_id: str, parents: dict[str, list[str]]\n",
    ") -> set[str]:\n",
    "    \"\"\"Find common ancestors of two terms.\"\"\"\n",
    "    ancestors1 = get_all_ancestors(term1_id, parents)\n",
    "    ancestors1.add(term1_id)  # Include the term itself\n",
    "\n",
    "    ancestors2 = get_all_ancestors(term2_id, parents)\n",
    "    ancestors2.add(term2_id)  # Include the term itself\n",
    "\n",
    "    return ancestors1.intersection(ancestors2)"
   ]
  },
  {
   "cell_type": "code",
   "execution_count": 9,
   "metadata": {},
   "outputs": [],
   "source": [
    "def resnik_similarity(\n",
    "    term1_id: str,\n",
    "    term2_id: str,\n",
    "    parents: dict[str, list[str]],\n",
    "    children: dict[str, list[str]],\n",
    "    total_terms: int,\n",
    ") -> float:\n",
    "    \"\"\"Calculate Resnik similarity between two terms.\"\"\"\n",
    "    if term1_id == term2_id:\n",
    "        return calculate_information_content(term1_id, children, total_terms)\n",
    "\n",
    "    common_ancestors = find_common_ancestors(term1_id, term2_id, parents)\n",
    "\n",
    "    if not common_ancestors:\n",
    "        return 0.0\n",
    "\n",
    "    # Find the most informative common ancestor (MICA)\n",
    "    max_ic = 0.0\n",
    "    for ancestor in common_ancestors:\n",
    "        ic = calculate_information_content(ancestor, children, total_terms)\n",
    "        max_ic = max(max_ic, ic)\n",
    "\n",
    "    return max_ic"
   ]
  },
  {
   "cell_type": "code",
   "execution_count": 10,
   "metadata": {},
   "outputs": [],
   "source": [
    "def find_term_by_name(name: str, terms: dict[str, dict]) -> str | None:\n",
    "    \"\"\"Find term ID by name.\"\"\"\n",
    "    for term_id, term_data in terms.items():\n",
    "        if term_data.get(\"name\") == name:\n",
    "            return term_id\n",
    "    return None"
   ]
  },
  {
   "cell_type": "code",
   "execution_count": 11,
   "metadata": {},
   "outputs": [
    {
     "name": "stdout",
     "output_type": "stream",
     "text": [
      "Loaded 14379 terms\n",
      "Built relationships for 14378 terms with parents\n",
      "Built relationships for 5823 terms with children\n"
     ]
    }
   ],
   "source": [
    "# Load and parse the ontology\n",
    "obo_file = \"./data/ontology/mp.obo\"\n",
    "terms = parse_obo_file(obo_file)\n",
    "print(f\"Loaded {len(terms)} terms\")\n",
    "\n",
    "# Build relationships\n",
    "parents, children = build_parent_child_relations(terms)\n",
    "total_terms = len(terms)\n",
    "\n",
    "print(f\"Built relationships for {len(parents)} terms with parents\")\n",
    "print(f\"Built relationships for {len(children)} terms with children\")"
   ]
  },
  {
   "cell_type": "code",
   "execution_count": 12,
   "metadata": {},
   "outputs": [
    {
     "name": "stdout",
     "output_type": "stream",
     "text": [
      "Term 1: preweaning lethality, complete penetrance -> MP:0011100\n",
      "Term 2: preweaning lethality -> MP:0010770\n",
      "Term 1 data: {'id': 'MP:0011100', 'name': 'preweaning lethality, complete penetrance', 'is_a': ['MP:0010770']}\n",
      "Term 2 data: {'id': 'MP:0010770', 'name': 'preweaning lethality', 'is_a': ['MP:0010769']}\n"
     ]
    }
   ],
   "source": [
    "# Find the target terms\n",
    "term1_name = \"preweaning lethality, complete penetrance\"\n",
    "term2_name = \"preweaning lethality\"\n",
    "\n",
    "term1_id = find_term_by_name(term1_name, terms)\n",
    "term2_id = find_term_by_name(term2_name, terms)\n",
    "\n",
    "print(f\"Term 1: {term1_name} -> {term1_id}\")\n",
    "print(f\"Term 2: {term2_name} -> {term2_id}\")\n",
    "\n",
    "if term1_id:\n",
    "    print(f\"Term 1 data: {terms[term1_id]}\")\n",
    "if term2_id:\n",
    "    print(f\"Term 2 data: {terms[term2_id]}\")"
   ]
  },
  {
   "cell_type": "code",
   "execution_count": 13,
   "metadata": {},
   "outputs": [
    {
     "name": "stdout",
     "output_type": "stream",
     "text": [
      "\n",
      "Resnik similarity between 'preweaning lethality, complete penetrance' and 'preweaning lethality': 5.6417\n",
      "Information content of 'preweaning lethality, complete penetrance': 6.7403\n",
      "Information content of 'preweaning lethality': 5.6417\n",
      "\n",
      "Common ancestors: 4\n",
      "  MP:0000001: mammalian phenotype (IC: -0.0000)\n",
      "  MP:0010768: mortality/aging (IC: 4.7137)\n",
      "  MP:0010769: abnormal survival (IC: 5.3839)\n",
      "  MP:0010770: preweaning lethality (IC: 5.6417)\n"
     ]
    }
   ],
   "source": [
    "# Calculate Resnik similarity\n",
    "if term1_id and term2_id:\n",
    "    similarity = resnik_similarity(term1_id, term2_id, parents, children, total_terms)\n",
    "    print(\n",
    "        f\"\\nResnik similarity between '{term1_name}' and '{term2_name}': {similarity:.4f}\"\n",
    "    )\n",
    "\n",
    "    # Also calculate individual information content\n",
    "    ic1 = calculate_information_content(term1_id, children, total_terms)\n",
    "    ic2 = calculate_information_content(term2_id, children, total_terms)\n",
    "\n",
    "    print(f\"Information content of '{term1_name}': {ic1:.4f}\")\n",
    "    print(f\"Information content of '{term2_name}': {ic2:.4f}\")\n",
    "\n",
    "    # Show common ancestors\n",
    "    common_ancestors = find_common_ancestors(term1_id, term2_id, parents)\n",
    "    print(f\"\\nCommon ancestors: {len(common_ancestors)}\")\n",
    "    for ancestor in sorted(common_ancestors):\n",
    "        ancestor_name = terms[ancestor].get(\"name\", \"Unknown\")\n",
    "        ancestor_ic = calculate_information_content(ancestor, children, total_terms)\n",
    "        print(f\"  {ancestor}: {ancestor_name} (IC: {ancestor_ic:.4f})\")\n",
    "else:\n",
    "    print(\"Could not find one or both terms in the ontology\")"
   ]
  },
  {
   "cell_type": "code",
   "execution_count": null,
   "metadata": {},
   "outputs": [],
   "source": []
  }
 ],
 "metadata": {
  "kernelspec": {
   "display_name": "env-tsumugi",
   "language": "python",
   "name": "python3"
  },
  "language_info": {
   "codemirror_mode": {
    "name": "ipython",
    "version": 3
   },
   "file_extension": ".py",
   "mimetype": "text/x-python",
   "name": "python",
   "nbconvert_exporter": "python",
   "pygments_lexer": "ipython3",
   "version": "3.12.9"
  }
 },
 "nbformat": 4,
 "nbformat_minor": 4
}

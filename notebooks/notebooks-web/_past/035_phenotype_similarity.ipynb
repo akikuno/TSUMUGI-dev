{
 "cells": [
  {
   "cell_type": "markdown",
   "metadata": {},
   "source": [
    "# 表現型の類似度を求める"
   ]
  },
  {
   "cell_type": "code",
   "execution_count": null,
   "metadata": {},
   "outputs": [],
   "source": [
    "# Move up to top directory\n",
    "import os\n",
    "from pathlib import Path\n",
    "\n",
    "print(os.getcwd())\n",
    "\n",
    "while not Path(\"LICENSE\").exists():\n",
    "    os.chdir(\"../\")\n",
    "\n",
    "print(os.getcwd())"
   ]
  },
  {
   "cell_type": "code",
   "execution_count": null,
   "metadata": {},
   "outputs": [],
   "source": [
    "from pathlib import Path\n",
    "from collections import defaultdict\n",
    "from itertools import combinations\n",
    "import csv\n",
    "import pandas as pd\n",
    "from matplotlib import pyplot as plt\n",
    "import pickle\n",
    "import json"
   ]
  },
  {
   "cell_type": "code",
   "execution_count": null,
   "metadata": {},
   "outputs": [],
   "source": [
    "path_data = Path(\"data\", \"statistical_filtered.csv\")"
   ]
  },
  {
   "cell_type": "code",
   "execution_count": null,
   "metadata": {},
   "outputs": [],
   "source": [
    "data = pd.read_csv(path_data)\n",
    "\n",
    "print(len(data))  # 54059"
   ]
  },
  {
   "cell_type": "code",
   "execution_count": null,
   "metadata": {},
   "outputs": [],
   "source": [
    "file_path = Path(\"data\", \"annotation\", \"symbol_mptermname.json\")\n",
    "\n",
    "symbol_mptermname = json.load(open(file_path))"
   ]
  },
  {
   "cell_type": "code",
   "execution_count": null,
   "metadata": {},
   "outputs": [],
   "source": [
    "print(symbol_mptermname[\"Dpf2\"])"
   ]
  },
  {
   "cell_type": "code",
   "execution_count": null,
   "metadata": {},
   "outputs": [],
   "source": [
    "symbol_mptermname = {k: set(v) for k, v in symbol_mptermname.items() if v}\n",
    "print(symbol_mptermname[\"Dpf2\"])"
   ]
  },
  {
   "cell_type": "code",
   "execution_count": null,
   "metadata": {},
   "outputs": [],
   "source": [
    "# with open(\"data/overlap_ratios.csv\", \"w\") as f_all, open(\"data/overlap_ratios_filtered.csv\", \"w\") as f_filtered:\n",
    "#     writer_all = csv.writer(f_all)\n",
    "#     writer_filtered = csv.writer(f_filtered)\n",
    "#     writer_all.writerow([\"marker1\", \"marker2\", \"overlap_ratio\", \"overlapped_mp_number\", \"overlapped_mp\"])\n",
    "#     writer_filtered.writerow([\"marker1\", \"marker2\", \"overlap_ratio\", \"overlapped_mp_number\", \"overlapped_mp\"])\n",
    "#     for a, b in combinations(symbol_mptermname, 2):\n",
    "#         overlapped_mp = symbol_mptermname[a] & symbol_mptermname[b]\n",
    "#         overlapped_mp_number = len(overlapped_mp)\n",
    "#         union_mp_number = len(symbol_mptermname[a] | symbol_mptermname[b])\n",
    "#         overlap_ratio = overlapped_mp_number / union_mp_number\n",
    "\n",
    "#         overlapped_mp = \",\".join(map(str, sorted(overlapped_mp)))\n",
    "\n",
    "#         if overlapped_mp_number > 0:\n",
    "#             writer_all.writerow([a, b, round(overlap_ratio, 3), overlapped_mp_number, overlapped_mp])\n",
    "#         if overlapped_mp_number > 2:\n",
    "#             writer_filtered.writerow([a, b, round(overlap_ratio, 3), overlapped_mp_number, overlapped_mp])\n",
    "\n",
    "# # 30s\n"
   ]
  },
  {
   "cell_type": "code",
   "execution_count": null,
   "metadata": {},
   "outputs": [],
   "source": [
    "# Jaccard係数で集合の類似度を計算\n",
    "\n",
    "overlapped_ratios_all = []\n",
    "\n",
    "for a, b in combinations(symbol_mptermname, 2):\n",
    "    overlapped_mp = sorted(symbol_mptermname[a] & symbol_mptermname[b])\n",
    "    overlapped_mp_number = len(overlapped_mp)\n",
    "    union_mp_number = len(symbol_mptermname[a] | symbol_mptermname[b])\n",
    "    overlap_ratio = overlapped_mp_number / union_mp_number\n",
    "\n",
    "    overlapped_ratios_all.append(\n",
    "        [a, b, round(overlap_ratio, 3), overlapped_mp_number, overlapped_mp]\n",
    "    )\n",
    "\n",
    "## 46s"
   ]
  },
  {
   "cell_type": "code",
   "execution_count": null,
   "metadata": {},
   "outputs": [],
   "source": [
    "print(len(overlapped_ratios_all))  # 29996385\n",
    "print(overlapped_ratios_all[:3])"
   ]
  },
  {
   "cell_type": "code",
   "execution_count": null,
   "metadata": {},
   "outputs": [],
   "source": [
    "num_overlapped_mp = 3\n",
    "\n",
    "overlapped_ratios_filtered = []\n",
    "for record in overlapped_ratios_all:\n",
    "    if record[3] >= num_overlapped_mp:\n",
    "        overlapped_ratios_filtered.append(record)"
   ]
  },
  {
   "cell_type": "code",
   "execution_count": null,
   "metadata": {},
   "outputs": [],
   "source": [
    "print(len(overlapped_ratios_filtered))\n",
    "# Release 21.1: 134880\n",
    "# Release 22.0: 133281 <- Homo/Hetero/Hemiおよび♂・♀の完全一致を考慮するようになったため、減少\n",
    "# Phenotypeのfilterの閾値を3以上から2以上: 580458\n",
    "print(overlapped_ratios_filtered[:3])"
   ]
  },
  {
   "cell_type": "code",
   "execution_count": null,
   "metadata": {},
   "outputs": [],
   "source": [
    "Path(\"data\", \"overlap\").mkdir(exist_ok=True, parents=True)\n",
    "pickle.dump(overlapped_ratios_all, open(\"data/overlap/overlapped_ratios_all.pkl\", \"wb\"))\n",
    "pickle.dump(\n",
    "    overlapped_ratios_filtered,\n",
    "    open(\"data/overlap/overlapped_ratios_filtered.pkl\", \"wb\"),\n",
    ")\n",
    "\n",
    "# 18 sec"
   ]
  },
  {
   "cell_type": "code",
   "execution_count": null,
   "metadata": {},
   "outputs": [],
   "source": [
    "df_overlap = pd.DataFrame(overlapped_ratios_all)"
   ]
  },
  {
   "cell_type": "code",
   "execution_count": null,
   "metadata": {},
   "outputs": [],
   "source": [
    "df_overlap.columns = [\n",
    "    \"Gene1\",\n",
    "    \"Gene2\",\n",
    "    \"Jaccard Similarity\",\n",
    "    \"Number of overlapped phenotype\",\n",
    "    \"Overlapped phenotype\",\n",
    "]\n",
    "df_overlap.reindex(\n",
    "    columns=[\n",
    "        \"Gene1\",\n",
    "        \"Gene2\",\n",
    "        \"Number of overlapped phenotype\",\n",
    "        \"Jaccard Similarity\",\n",
    "        \"Overlapped phenotype\",\n",
    "    ]\n",
    ")\n",
    "df_overlap"
   ]
  },
  {
   "cell_type": "code",
   "execution_count": null,
   "metadata": {},
   "outputs": [],
   "source": [
    "df_overlap.to_csv(\n",
    "    \"data/TSUMUGI_raw_data.csv.gz\", index=False, compression=\"gzip\", lineterminator=\"\\n\"\n",
    ")\n",
    "# 3 min"
   ]
  },
  {
   "cell_type": "code",
   "execution_count": null,
   "metadata": {},
   "outputs": [],
   "source": [
    "num_overlapped_mp = 1\n",
    "\n",
    "overlapped_ratios_filtered = []\n",
    "for record in overlapped_ratios_all:\n",
    "    if record[3] >= num_overlapped_mp:\n",
    "        overlapped_ratios_filtered.append(record)"
   ]
  },
  {
   "cell_type": "code",
   "execution_count": null,
   "metadata": {},
   "outputs": [],
   "source": [
    "df_overlap_filtered = pd.DataFrame(overlapped_ratios_filtered)\n",
    "df_overlap_filtered.columns = [\n",
    "    \"Gene1\",\n",
    "    \"Gene2\",\n",
    "    \"Jaccard Similarity\",\n",
    "    \"Number of overlapped phenotype\",\n",
    "    \"Overlapped phenotype\",\n",
    "]\n",
    "df_overlap_filtered.reindex(\n",
    "    columns=[\n",
    "        \"Gene1\",\n",
    "        \"Gene2\",\n",
    "        \"Number of overlapped phenotype\",\n",
    "        \"Jaccard Similarity\",\n",
    "        \"Overlapped phenotype\",\n",
    "    ]\n",
    ")\n",
    "df_overlap_filtered"
   ]
  },
  {
   "cell_type": "code",
   "execution_count": null,
   "metadata": {},
   "outputs": [],
   "source": [
    "df_overlap_filtered.to_csv(\n",
    "    \"data/TSUMUGI_filtered_data.csv.gz\",\n",
    "    index=False,\n",
    "    compression=\"gzip\",\n",
    "    lineterminator=\"\\n\",\n",
    ")\n",
    "df_overlap_filtered.to_json(\n",
    "    \"data/TSUMUGI_filtered_data.json.gz\", index=False, compression=\"gzip\", indent=2\n",
    ")\n",
    "# 1 min"
   ]
  },
  {
   "cell_type": "code",
   "execution_count": null,
   "metadata": {},
   "outputs": [],
   "source": [
    "%%bash\n",
    "\n",
    "ls -lh data/TSUMUGI_raw_data.csv.gz # 100M\n",
    "zcat data/TSUMUGI_raw_data.csv.gz | head | od -c | head | grep '\\n'"
   ]
  },
  {
   "cell_type": "code",
   "execution_count": null,
   "metadata": {},
   "outputs": [],
   "source": [
    "%%bash\n",
    "\n",
    "ls -lh data/TSUMUGI_filtered_data.csv.gz # 21M\n",
    "zcat data/TSUMUGI_filtered_data.csv.gz | head | od -c | head | grep '\\n'"
   ]
  },
  {
   "cell_type": "code",
   "execution_count": null,
   "metadata": {},
   "outputs": [],
   "source": [
    "%%bash\n",
    "\n",
    "ls -lh data/TSUMUGI_filtered_data.json.gz # \n",
    "zcat data/TSUMUGI_filtered_data.json.gz | head\n",
    "zcat data/TSUMUGI_filtered_data.json.gz | head | od -c | head | grep '\\n'"
   ]
  },
  {
   "cell_type": "code",
   "execution_count": null,
   "metadata": {},
   "outputs": [],
   "source": [
    "# with open(\"data/overlap_ratios.csv\", \"a\") as f:\n",
    "#     writer = csv.writer(f)\n",
    "#     for a in symbol_mptermname:\n",
    "#         intersect_count = 0\n",
    "#         union_count = 0\n",
    "#         overlap = 0\n",
    "#         writer.writerow([a, a, intersect_count, union_count, overlap])\n",
    "\n"
   ]
  },
  {
   "cell_type": "code",
   "execution_count": null,
   "metadata": {},
   "outputs": [],
   "source": [
    "%%bash\n",
    "\n",
    "date +\"%Y/%m/%d %H:%M:%S\"  # Last update"
   ]
  },
  {
   "cell_type": "markdown",
   "metadata": {},
   "source": [
    "## Experiment🧑‍🔬: Visualize the number of intersects\n",
    "\n",
    "- [ ] ひとつの遺伝子において何個くらいの表現形が共通しているのか"
   ]
  },
  {
   "cell_type": "code",
   "execution_count": null,
   "metadata": {},
   "outputs": [],
   "source": [
    "overlapped_ratios_all = pickle.load(open(\"data/overlapped_ratios_all.pkl\", \"rb\"))  # 24s"
   ]
  },
  {
   "cell_type": "code",
   "execution_count": null,
   "metadata": {},
   "outputs": [],
   "source": [
    "print(overlapped_ratios_all[:3])"
   ]
  },
  {
   "cell_type": "code",
   "execution_count": null,
   "metadata": {},
   "outputs": [],
   "source": [
    "counts = defaultdict(int)\n",
    "for record in overlapped_ratios_all:\n",
    "    counts[record[0]] += 0\n",
    "    counts[record[1]] += 0\n",
    "    if record[3] > 0:\n",
    "        counts[record[0]] += 1\n",
    "        counts[record[1]] += 1"
   ]
  },
  {
   "cell_type": "code",
   "execution_count": null,
   "metadata": {},
   "outputs": [],
   "source": [
    "sort_counts = dict(sorted(counts.items(), key=lambda x: x[1], reverse=True))"
   ]
  },
  {
   "cell_type": "code",
   "execution_count": null,
   "metadata": {},
   "outputs": [],
   "source": [
    "print(sort_counts[\"Rhd\"])"
   ]
  },
  {
   "cell_type": "code",
   "execution_count": null,
   "metadata": {},
   "outputs": [],
   "source": [
    "print(len(sort_counts))  # 7626"
   ]
  },
  {
   "cell_type": "code",
   "execution_count": null,
   "metadata": {},
   "outputs": [],
   "source": [
    "import seaborn as sns\n",
    "\n",
    "# Seabornを使ってバーグラフを作成\n",
    "plt.figure(figsize=(10, 6))\n",
    "sns.barplot(x=list(sort_counts.keys()), y=list(sort_counts.values()), color=\"orange\")\n",
    "\n",
    "# X軸ラベルを表示しない\n",
    "plt.xlabel(\"Gene Symbols (7626)\")\n",
    "plt.ylabel(\"Number of Genes Sharing Phenotypes\")\n",
    "plt.xticks([])  # X軸ラベルを非表示にする\n",
    "plt.grid(axis=\"y\")\n",
    "\n",
    "# プロットを表示\n",
    "plt.show()"
   ]
  },
  {
   "cell_type": "code",
   "execution_count": null,
   "metadata": {},
   "outputs": [],
   "source": [
    "# # Sort the data by keys to ensure the plot is ordered numerically\n",
    "# sorted_data = dict(sorted(count_intersect.items(), key=lambda item: int(item[0])))\n",
    "\n",
    "# # Create a bar plot\n",
    "# plt.figure(figsize=(10, 6))\n",
    "# plt.bar(sorted_data.keys(), sorted_data.values(), color=\"skyblue\")\n",
    "# plt.xlabel(\"Number of Shared Significant Phenotypes\")\n",
    "# plt.ylabel(\"Number of Gene Symbol Pairs\")\n",
    "# plt.xticks(rotation=45)\n",
    "# plt.grid(axis=\"y\")\n",
    "\n",
    "# # Show the plot\n",
    "# plt.show()\n"
   ]
  },
  {
   "cell_type": "markdown",
   "metadata": {},
   "source": [
    "- A single interaction accounts for 85%.\n",
    "  - If the network you are visualizing is messy, it might be a good idea to exclude this one interaction.\n"
   ]
  },
  {
   "cell_type": "markdown",
   "metadata": {},
   "source": [
    "## Experiment🧑‍🔬: Visualize the overlaps"
   ]
  },
  {
   "cell_type": "code",
   "execution_count": null,
   "metadata": {},
   "outputs": [],
   "source": [
    "path_results = Path(\"data\", \"overlap_ratios_py.csv\")\n",
    "with open(path_results, \"r\") as f:\n",
    "    reader = csv.reader(f)\n",
    "    header = next(reader)\n",
    "    count_overlap = defaultdict(int)\n",
    "    for row in reader:\n",
    "        marker1, marker2, intersect_count, union_count, overlap_ratio = row\n",
    "        count_overlap[float(overlap_ratio)] += 1"
   ]
  },
  {
   "cell_type": "code",
   "execution_count": null,
   "metadata": {},
   "outputs": [],
   "source": [
    "# Sort the data by keys to ensure the plot is ordered numerically\n",
    "sorted_data = dict(sorted(count_overlap.items(), key=lambda item: item[0]))\n",
    "\n",
    "# Create a bar plot\n",
    "plt.figure(figsize=(10, 6))\n",
    "plt.bar(sorted_data.keys(), sorted_data.values(), color=\"skyblue\")\n",
    "plt.xlabel(\"Category\")\n",
    "plt.ylabel(\"Frequency\")\n",
    "plt.title(\"Bar Plot of Frequency Data\")\n",
    "plt.xticks(rotation=45)\n",
    "plt.grid(axis=\"y\")\n",
    "\n",
    "# Show the plot\n",
    "plt.show()"
   ]
  },
  {
   "cell_type": "code",
   "execution_count": null,
   "metadata": {},
   "outputs": [],
   "source": [
    "sorted_data"
   ]
  },
  {
   "cell_type": "code",
   "execution_count": null,
   "metadata": {},
   "outputs": [],
   "source": [
    "count_overlap"
   ]
  },
  {
   "cell_type": "code",
   "execution_count": null,
   "metadata": {},
   "outputs": [],
   "source": [
    "# データをリストに変換\n",
    "x = list(count_overlap.keys())\n",
    "y = list(count_overlap.values())\n",
    "\n",
    "# 散布図を作成\n",
    "plt.figure(figsize=(10, 8))\n",
    "plt.scatter(y, x)\n",
    "plt.xlabel(\"Values\")\n",
    "plt.ylabel(\"Keys\")\n",
    "plt.title(\"Scatter plot of defaultdict values\")\n",
    "plt.show()"
   ]
  },
  {
   "cell_type": "code",
   "execution_count": null,
   "metadata": {},
   "outputs": [],
   "source": []
  }
 ],
 "metadata": {
  "kernelspec": {
   "display_name": "env-tsumugi",
   "language": "python",
   "name": "python3"
  },
  "language_info": {
   "codemirror_mode": {
    "name": "ipython",
    "version": 3
   },
   "file_extension": ".py",
   "mimetype": "text/x-python",
   "name": "python",
   "nbconvert_exporter": "python",
   "pygments_lexer": "ipython3",
   "version": "3.12.8"
  }
 },
 "nbformat": 4,
 "nbformat_minor": 2
}

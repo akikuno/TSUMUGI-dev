{
 "cells": [
  {
   "cell_type": "markdown",
   "metadata": {},
   "source": [
    "# Download IMPC dataset (release-22.1)\n"
   ]
  },
  {
   "cell_type": "code",
   "execution_count": null,
   "metadata": {},
   "outputs": [],
   "source": [
    "# Move up to top directory\n",
    "import os\n",
    "from pathlib import Path\n",
    "\n",
    "print(os.getcwd())\n",
    "\n",
    "while not Path(\"LICENSE\").exists():\n",
    "    os.chdir(\"../\")\n",
    "\n",
    "print(os.getcwd())"
   ]
  },
  {
   "cell_type": "code",
   "execution_count": null,
   "metadata": {},
   "outputs": [],
   "source": [
    "%%bash\n",
    "pwd"
   ]
  },
  {
   "cell_type": "code",
   "execution_count": null,
   "metadata": {},
   "outputs": [],
   "source": [
    "%%bash\n",
    "\n",
    "RELEASE=22.1\n",
    "DATE=$(date '+%Y-%m-%d')\n",
    "\n",
    "mkdir -p data/impc\n",
    "if ! [ -f data/impc/statistical-results-ALL-\"$RELEASE\".csv ]; then\n",
    "    wget -cq https://ftp.ebi.ac.uk/pub/databases/impc/all-data-releases/release-\"$RELEASE\"/results/statistical-results-ALL.csv.gz -O - | gzip -dc > data/impc/statistical-results-ALL-\"$RELEASE\".csv\n",
    "fi\n",
    "\n",
    "cat << EOF | tee data/impc/README.md\n",
    "Fetch date: ${DATE}\n",
    "IMPC release ${RELEASE}\n",
    "EOF"
   ]
  },
  {
   "cell_type": "code",
   "execution_count": null,
   "metadata": {},
   "outputs": [],
   "source": [
    "%%bash\n",
    "\n",
    "RELEASE=22.1\n",
    "wc -l data/impc/statistical-results-ALL-\"$RELEASE\".csv\n",
    "# 2062773 rows (v21.1)\n",
    "# 3165335 rows (v22.0)\n",
    "# 3165335 rows (v22.1)"
   ]
  }
 ],
 "metadata": {
  "kernelspec": {
   "display_name": "env-tsumugi",
   "language": "python",
   "name": "python3"
  },
  "language_info": {
   "codemirror_mode": {
    "name": "ipython",
    "version": 3
   },
   "file_extension": ".py",
   "mimetype": "text/x-python",
   "name": "python",
   "nbconvert_exporter": "python",
   "pygments_lexer": "ipython3",
   "version": "3.12.8"
  }
 },
 "nbformat": 4,
 "nbformat_minor": 2
}
